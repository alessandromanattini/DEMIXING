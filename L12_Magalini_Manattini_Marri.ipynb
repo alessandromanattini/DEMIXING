{
 "cells": [
  {
   "cell_type": "markdown",
   "metadata": {},
   "source": [
    "# Progressive Inference for Music Demixing ID: L12\n",
    "Description: Using denoising diffusion approaches to train music demixing (MDX) models is\n",
    "promising but requires retraining large and carefully tuned neural networks (Plaja-Roglans,\n",
    "2022). Instead, we will explore a related yet different approach: can we improve separation\n",
    "quality solely by scheduling the inference process using a diffusion-inspired strategy even\n",
    "without retraining? By experimenting with existing MDX models (Spleeter by Deezer,Meta’s Demucs, ByteDance’s BS-Roformer, etc.), this project offers an exciting opportunity\n",
    "to explore and possibly enhance the performance of state-of-the-art AI techniques."
   ]
  },
  {
   "cell_type": "markdown",
   "metadata": {},
   "source": [
    "**Resources**\n",
    "\n",
    "\n",
    "(Plaja-Roglans, 2022) https://ismir2022program.ismir.net/poster_262.html\n",
    "Denoising Diffusion Probabilistic Models: https://arxiv.org/abs/2006.11239\n",
    "MDX Challenge 2021: https://arxiv.org/abs/2108.13559\n",
    "MDX Challenge 2023: https://arxiv.org/abs/2308.06979\n",
    "Overview of state-of-the-art MDX models:\n",
    "https://paperswithcode.com/sota/music-source-separation-on-musdb18-hq"
   ]
  },
  {
   "cell_type": "markdown",
   "metadata": {},
   "source": [
    "## Preliminary step: Install and Import Libraries."
   ]
  },
  {
   "cell_type": "code",
   "execution_count": 47,
   "metadata": {},
   "outputs": [
    {
     "name": "stdout",
     "output_type": "stream",
     "text": [
      "Requirement already satisfied: IPython in /opt/miniconda3/envs/MAE_Capstone/lib/python3.13/site-packages (from -r requirements.txt (line 1)) (9.1.0)\n",
      "Requirement already satisfied: torch in /opt/miniconda3/envs/MAE_Capstone/lib/python3.13/site-packages (from -r requirements.txt (line 2)) (2.6.0)\n",
      "Requirement already satisfied: torchaudio in /opt/miniconda3/envs/MAE_Capstone/lib/python3.13/site-packages (from -r requirements.txt (line 3)) (2.6.0)\n",
      "Requirement already satisfied: tqdm in /opt/miniconda3/envs/MAE_Capstone/lib/python3.13/site-packages (from -r requirements.txt (line 4)) (4.67.1)\n",
      "Requirement already satisfied: numpy in /opt/miniconda3/envs/MAE_Capstone/lib/python3.13/site-packages (from -r requirements.txt (line 5)) (2.2.4)\n",
      "Requirement already satisfied: matplotlib in /opt/miniconda3/envs/MAE_Capstone/lib/python3.13/site-packages (from -r requirements.txt (line 6)) (3.10.1)\n",
      "Requirement already satisfied: librosa in /opt/miniconda3/envs/MAE_Capstone/lib/python3.13/site-packages (from -r requirements.txt (line 7)) (0.11.0)\n",
      "Requirement already satisfied: torchmetrics in /opt/miniconda3/envs/MAE_Capstone/lib/python3.13/site-packages (from -r requirements.txt (line 8)) (1.7.1)\n",
      "Requirement already satisfied: norbert in /opt/miniconda3/envs/MAE_Capstone/lib/python3.13/site-packages (from -r requirements.txt (line 9)) (0.2.1)\n",
      "Requirement already satisfied: decorator in /opt/miniconda3/envs/MAE_Capstone/lib/python3.13/site-packages (from IPython->-r requirements.txt (line 1)) (5.2.1)\n",
      "Requirement already satisfied: ipython-pygments-lexers in /opt/miniconda3/envs/MAE_Capstone/lib/python3.13/site-packages (from IPython->-r requirements.txt (line 1)) (1.1.1)\n",
      "Requirement already satisfied: jedi>=0.16 in /opt/miniconda3/envs/MAE_Capstone/lib/python3.13/site-packages (from IPython->-r requirements.txt (line 1)) (0.19.2)\n",
      "Requirement already satisfied: matplotlib-inline in /opt/miniconda3/envs/MAE_Capstone/lib/python3.13/site-packages (from IPython->-r requirements.txt (line 1)) (0.1.7)\n",
      "Requirement already satisfied: pexpect>4.3 in /opt/miniconda3/envs/MAE_Capstone/lib/python3.13/site-packages (from IPython->-r requirements.txt (line 1)) (4.9.0)\n",
      "Requirement already satisfied: prompt_toolkit<3.1.0,>=3.0.41 in /opt/miniconda3/envs/MAE_Capstone/lib/python3.13/site-packages (from IPython->-r requirements.txt (line 1)) (3.0.50)\n",
      "Requirement already satisfied: pygments>=2.4.0 in /opt/miniconda3/envs/MAE_Capstone/lib/python3.13/site-packages (from IPython->-r requirements.txt (line 1)) (2.19.1)\n",
      "Requirement already satisfied: stack_data in /opt/miniconda3/envs/MAE_Capstone/lib/python3.13/site-packages (from IPython->-r requirements.txt (line 1)) (0.6.3)\n",
      "Requirement already satisfied: traitlets>=5.13.0 in /opt/miniconda3/envs/MAE_Capstone/lib/python3.13/site-packages (from IPython->-r requirements.txt (line 1)) (5.14.3)\n",
      "Requirement already satisfied: filelock in /opt/miniconda3/envs/MAE_Capstone/lib/python3.13/site-packages (from torch->-r requirements.txt (line 2)) (3.18.0)\n",
      "Requirement already satisfied: typing-extensions>=4.10.0 in /opt/miniconda3/envs/MAE_Capstone/lib/python3.13/site-packages (from torch->-r requirements.txt (line 2)) (4.13.1)\n",
      "Requirement already satisfied: networkx in /opt/miniconda3/envs/MAE_Capstone/lib/python3.13/site-packages (from torch->-r requirements.txt (line 2)) (3.4.2)\n",
      "Requirement already satisfied: jinja2 in /opt/miniconda3/envs/MAE_Capstone/lib/python3.13/site-packages (from torch->-r requirements.txt (line 2)) (3.1.6)\n",
      "Requirement already satisfied: fsspec in /opt/miniconda3/envs/MAE_Capstone/lib/python3.13/site-packages (from torch->-r requirements.txt (line 2)) (2025.3.2)\n",
      "Requirement already satisfied: setuptools in /opt/miniconda3/envs/MAE_Capstone/lib/python3.13/site-packages (from torch->-r requirements.txt (line 2)) (75.8.0)\n",
      "Requirement already satisfied: sympy==1.13.1 in /opt/miniconda3/envs/MAE_Capstone/lib/python3.13/site-packages (from torch->-r requirements.txt (line 2)) (1.13.1)\n",
      "Requirement already satisfied: mpmath<1.4,>=1.1.0 in /opt/miniconda3/envs/MAE_Capstone/lib/python3.13/site-packages (from sympy==1.13.1->torch->-r requirements.txt (line 2)) (1.3.0)\n",
      "Requirement already satisfied: contourpy>=1.0.1 in /opt/miniconda3/envs/MAE_Capstone/lib/python3.13/site-packages (from matplotlib->-r requirements.txt (line 6)) (1.3.1)\n",
      "Requirement already satisfied: cycler>=0.10 in /opt/miniconda3/envs/MAE_Capstone/lib/python3.13/site-packages (from matplotlib->-r requirements.txt (line 6)) (0.12.1)\n",
      "Requirement already satisfied: fonttools>=4.22.0 in /opt/miniconda3/envs/MAE_Capstone/lib/python3.13/site-packages (from matplotlib->-r requirements.txt (line 6)) (4.57.0)\n",
      "Requirement already satisfied: kiwisolver>=1.3.1 in /opt/miniconda3/envs/MAE_Capstone/lib/python3.13/site-packages (from matplotlib->-r requirements.txt (line 6)) (1.4.8)\n",
      "Requirement already satisfied: packaging>=20.0 in /opt/miniconda3/envs/MAE_Capstone/lib/python3.13/site-packages (from matplotlib->-r requirements.txt (line 6)) (24.2)\n",
      "Requirement already satisfied: pillow>=8 in /opt/miniconda3/envs/MAE_Capstone/lib/python3.13/site-packages (from matplotlib->-r requirements.txt (line 6)) (11.1.0)\n",
      "Requirement already satisfied: pyparsing>=2.3.1 in /opt/miniconda3/envs/MAE_Capstone/lib/python3.13/site-packages (from matplotlib->-r requirements.txt (line 6)) (3.2.3)\n",
      "Requirement already satisfied: python-dateutil>=2.7 in /opt/miniconda3/envs/MAE_Capstone/lib/python3.13/site-packages (from matplotlib->-r requirements.txt (line 6)) (2.9.0.post0)\n",
      "Requirement already satisfied: audioread>=2.1.9 in /opt/miniconda3/envs/MAE_Capstone/lib/python3.13/site-packages (from librosa->-r requirements.txt (line 7)) (3.0.1)\n",
      "Requirement already satisfied: numba>=0.51.0 in /opt/miniconda3/envs/MAE_Capstone/lib/python3.13/site-packages (from librosa->-r requirements.txt (line 7)) (0.61.2)\n",
      "Requirement already satisfied: scipy>=1.6.0 in /opt/miniconda3/envs/MAE_Capstone/lib/python3.13/site-packages (from librosa->-r requirements.txt (line 7)) (1.15.2)\n",
      "Requirement already satisfied: scikit-learn>=1.1.0 in /opt/miniconda3/envs/MAE_Capstone/lib/python3.13/site-packages (from librosa->-r requirements.txt (line 7)) (1.6.1)\n",
      "Requirement already satisfied: joblib>=1.0 in /opt/miniconda3/envs/MAE_Capstone/lib/python3.13/site-packages (from librosa->-r requirements.txt (line 7)) (1.4.2)\n",
      "Requirement already satisfied: soundfile>=0.12.1 in /opt/miniconda3/envs/MAE_Capstone/lib/python3.13/site-packages (from librosa->-r requirements.txt (line 7)) (0.13.1)\n",
      "Requirement already satisfied: pooch>=1.1 in /opt/miniconda3/envs/MAE_Capstone/lib/python3.13/site-packages (from librosa->-r requirements.txt (line 7)) (1.8.2)\n",
      "Requirement already satisfied: soxr>=0.3.2 in /opt/miniconda3/envs/MAE_Capstone/lib/python3.13/site-packages (from librosa->-r requirements.txt (line 7)) (0.5.0.post1)\n",
      "Requirement already satisfied: lazy_loader>=0.1 in /opt/miniconda3/envs/MAE_Capstone/lib/python3.13/site-packages (from librosa->-r requirements.txt (line 7)) (0.4)\n",
      "Requirement already satisfied: msgpack>=1.0 in /opt/miniconda3/envs/MAE_Capstone/lib/python3.13/site-packages (from librosa->-r requirements.txt (line 7)) (1.1.0)\n",
      "Requirement already satisfied: standard-aifc in /opt/miniconda3/envs/MAE_Capstone/lib/python3.13/site-packages (from librosa->-r requirements.txt (line 7)) (3.13.0)\n",
      "Requirement already satisfied: standard-sunau in /opt/miniconda3/envs/MAE_Capstone/lib/python3.13/site-packages (from librosa->-r requirements.txt (line 7)) (3.13.0)\n",
      "Requirement already satisfied: lightning-utilities>=0.8.0 in /opt/miniconda3/envs/MAE_Capstone/lib/python3.13/site-packages (from torchmetrics->-r requirements.txt (line 8)) (0.14.3)\n",
      "Requirement already satisfied: parso<0.9.0,>=0.8.4 in /opt/miniconda3/envs/MAE_Capstone/lib/python3.13/site-packages (from jedi>=0.16->IPython->-r requirements.txt (line 1)) (0.8.4)\n",
      "Requirement already satisfied: llvmlite<0.45,>=0.44.0dev0 in /opt/miniconda3/envs/MAE_Capstone/lib/python3.13/site-packages (from numba>=0.51.0->librosa->-r requirements.txt (line 7)) (0.44.0)\n",
      "Requirement already satisfied: ptyprocess>=0.5 in /opt/miniconda3/envs/MAE_Capstone/lib/python3.13/site-packages (from pexpect>4.3->IPython->-r requirements.txt (line 1)) (0.7.0)\n",
      "Requirement already satisfied: platformdirs>=2.5.0 in /opt/miniconda3/envs/MAE_Capstone/lib/python3.13/site-packages (from pooch>=1.1->librosa->-r requirements.txt (line 7)) (4.3.7)\n",
      "Requirement already satisfied: requests>=2.19.0 in /opt/miniconda3/envs/MAE_Capstone/lib/python3.13/site-packages (from pooch>=1.1->librosa->-r requirements.txt (line 7)) (2.32.3)\n",
      "Requirement already satisfied: wcwidth in /opt/miniconda3/envs/MAE_Capstone/lib/python3.13/site-packages (from prompt_toolkit<3.1.0,>=3.0.41->IPython->-r requirements.txt (line 1)) (0.2.13)\n",
      "Requirement already satisfied: six>=1.5 in /opt/miniconda3/envs/MAE_Capstone/lib/python3.13/site-packages (from python-dateutil>=2.7->matplotlib->-r requirements.txt (line 6)) (1.17.0)\n",
      "Requirement already satisfied: threadpoolctl>=3.1.0 in /opt/miniconda3/envs/MAE_Capstone/lib/python3.13/site-packages (from scikit-learn>=1.1.0->librosa->-r requirements.txt (line 7)) (3.6.0)\n",
      "Requirement already satisfied: cffi>=1.0 in /opt/miniconda3/envs/MAE_Capstone/lib/python3.13/site-packages (from soundfile>=0.12.1->librosa->-r requirements.txt (line 7)) (1.17.1)\n",
      "Requirement already satisfied: MarkupSafe>=2.0 in /opt/miniconda3/envs/MAE_Capstone/lib/python3.13/site-packages (from jinja2->torch->-r requirements.txt (line 2)) (3.0.2)\n",
      "Requirement already satisfied: executing>=1.2.0 in /opt/miniconda3/envs/MAE_Capstone/lib/python3.13/site-packages (from stack_data->IPython->-r requirements.txt (line 1)) (2.1.0)\n",
      "Requirement already satisfied: asttokens>=2.1.0 in /opt/miniconda3/envs/MAE_Capstone/lib/python3.13/site-packages (from stack_data->IPython->-r requirements.txt (line 1)) (3.0.0)\n",
      "Requirement already satisfied: pure_eval in /opt/miniconda3/envs/MAE_Capstone/lib/python3.13/site-packages (from stack_data->IPython->-r requirements.txt (line 1)) (0.2.3)\n",
      "Requirement already satisfied: standard-chunk in /opt/miniconda3/envs/MAE_Capstone/lib/python3.13/site-packages (from standard-aifc->librosa->-r requirements.txt (line 7)) (3.13.0)\n",
      "Requirement already satisfied: audioop-lts in /opt/miniconda3/envs/MAE_Capstone/lib/python3.13/site-packages (from standard-aifc->librosa->-r requirements.txt (line 7)) (0.2.1)\n",
      "Requirement already satisfied: pycparser in /opt/miniconda3/envs/MAE_Capstone/lib/python3.13/site-packages (from cffi>=1.0->soundfile>=0.12.1->librosa->-r requirements.txt (line 7)) (2.22)\n",
      "Requirement already satisfied: charset-normalizer<4,>=2 in /opt/miniconda3/envs/MAE_Capstone/lib/python3.13/site-packages (from requests>=2.19.0->pooch>=1.1->librosa->-r requirements.txt (line 7)) (3.4.1)\n",
      "Requirement already satisfied: idna<4,>=2.5 in /opt/miniconda3/envs/MAE_Capstone/lib/python3.13/site-packages (from requests>=2.19.0->pooch>=1.1->librosa->-r requirements.txt (line 7)) (3.10)\n",
      "Requirement already satisfied: urllib3<3,>=1.21.1 in /opt/miniconda3/envs/MAE_Capstone/lib/python3.13/site-packages (from requests>=2.19.0->pooch>=1.1->librosa->-r requirements.txt (line 7)) (2.3.0)\n",
      "Requirement already satisfied: certifi>=2017.4.17 in /opt/miniconda3/envs/MAE_Capstone/lib/python3.13/site-packages (from requests>=2.19.0->pooch>=1.1->librosa->-r requirements.txt (line 7)) (2025.1.31)\n",
      "Note: you may need to restart the kernel to use updated packages.\n"
     ]
    }
   ],
   "source": [
    "%pip install -r requirements.txt"
   ]
  },
  {
   "cell_type": "code",
   "execution_count": 7,
   "metadata": {},
   "outputs": [],
   "source": [
    "import IPython.display as ipd\n",
    "import torch\n",
    "import torchaudio\n",
    "import os\n",
    "from tqdm import tqdm\n",
    "import numpy as np\n",
    "import matplotlib.pyplot as plt\n",
    "import librosa\n",
    "from torchmetrics.audio import ScaleInvariantSignalDistortionRatio\n",
    "import norbert"
   ]
  },
  {
   "cell_type": "markdown",
   "metadata": {},
   "source": [
    "## Loading of the Model and Device Selection"
   ]
  },
  {
   "cell_type": "code",
   "execution_count": 8,
   "metadata": {},
   "outputs": [
    {
     "data": {
      "text/plain": [
       "HDemucs(\n",
       "  (freq_encoder): ModuleList(\n",
       "    (0): _HEncLayer(\n",
       "      (conv): Conv2d(4, 48, kernel_size=(8, 1), stride=(4, 1), padding=(2, 0))\n",
       "      (norm1): Identity()\n",
       "      (rewrite): Conv2d(48, 96, kernel_size=(1, 1), stride=(1, 1))\n",
       "      (norm2): Identity()\n",
       "      (dconv): _DConv(\n",
       "        (layers): ModuleList(\n",
       "          (0): Sequential(\n",
       "            (0): Conv1d(48, 12, kernel_size=(3,), stride=(1,), padding=(1,))\n",
       "            (1): GroupNorm(1, 12, eps=1e-05, affine=True)\n",
       "            (2): GELU(approximate='none')\n",
       "            (3): Conv1d(12, 96, kernel_size=(1,), stride=(1,))\n",
       "            (4): GroupNorm(1, 96, eps=1e-05, affine=True)\n",
       "            (5): GLU(dim=1)\n",
       "            (6): _LayerScale()\n",
       "          )\n",
       "          (1): Sequential(\n",
       "            (0): Conv1d(48, 12, kernel_size=(3,), stride=(1,), padding=(2,), dilation=(2,))\n",
       "            (1): GroupNorm(1, 12, eps=1e-05, affine=True)\n",
       "            (2): GELU(approximate='none')\n",
       "            (3): Conv1d(12, 96, kernel_size=(1,), stride=(1,))\n",
       "            (4): GroupNorm(1, 96, eps=1e-05, affine=True)\n",
       "            (5): GLU(dim=1)\n",
       "            (6): _LayerScale()\n",
       "          )\n",
       "        )\n",
       "      )\n",
       "    )\n",
       "    (1): _HEncLayer(\n",
       "      (conv): Conv2d(48, 96, kernel_size=(8, 1), stride=(4, 1), padding=(2, 0))\n",
       "      (norm1): Identity()\n",
       "      (rewrite): Conv2d(96, 192, kernel_size=(1, 1), stride=(1, 1))\n",
       "      (norm2): Identity()\n",
       "      (dconv): _DConv(\n",
       "        (layers): ModuleList(\n",
       "          (0): Sequential(\n",
       "            (0): Conv1d(96, 24, kernel_size=(3,), stride=(1,), padding=(1,))\n",
       "            (1): GroupNorm(1, 24, eps=1e-05, affine=True)\n",
       "            (2): GELU(approximate='none')\n",
       "            (3): Conv1d(24, 192, kernel_size=(1,), stride=(1,))\n",
       "            (4): GroupNorm(1, 192, eps=1e-05, affine=True)\n",
       "            (5): GLU(dim=1)\n",
       "            (6): _LayerScale()\n",
       "          )\n",
       "          (1): Sequential(\n",
       "            (0): Conv1d(96, 24, kernel_size=(3,), stride=(1,), padding=(2,), dilation=(2,))\n",
       "            (1): GroupNorm(1, 24, eps=1e-05, affine=True)\n",
       "            (2): GELU(approximate='none')\n",
       "            (3): Conv1d(24, 192, kernel_size=(1,), stride=(1,))\n",
       "            (4): GroupNorm(1, 192, eps=1e-05, affine=True)\n",
       "            (5): GLU(dim=1)\n",
       "            (6): _LayerScale()\n",
       "          )\n",
       "        )\n",
       "      )\n",
       "    )\n",
       "    (2): _HEncLayer(\n",
       "      (conv): Conv2d(96, 192, kernel_size=(8, 1), stride=(4, 1), padding=(2, 0))\n",
       "      (norm1): Identity()\n",
       "      (rewrite): Conv2d(192, 384, kernel_size=(1, 1), stride=(1, 1))\n",
       "      (norm2): Identity()\n",
       "      (dconv): _DConv(\n",
       "        (layers): ModuleList(\n",
       "          (0): Sequential(\n",
       "            (0): Conv1d(192, 48, kernel_size=(3,), stride=(1,), padding=(1,))\n",
       "            (1): GroupNorm(1, 48, eps=1e-05, affine=True)\n",
       "            (2): GELU(approximate='none')\n",
       "            (3): Conv1d(48, 384, kernel_size=(1,), stride=(1,))\n",
       "            (4): GroupNorm(1, 384, eps=1e-05, affine=True)\n",
       "            (5): GLU(dim=1)\n",
       "            (6): _LayerScale()\n",
       "          )\n",
       "          (1): Sequential(\n",
       "            (0): Conv1d(192, 48, kernel_size=(3,), stride=(1,), padding=(2,), dilation=(2,))\n",
       "            (1): GroupNorm(1, 48, eps=1e-05, affine=True)\n",
       "            (2): GELU(approximate='none')\n",
       "            (3): Conv1d(48, 384, kernel_size=(1,), stride=(1,))\n",
       "            (4): GroupNorm(1, 384, eps=1e-05, affine=True)\n",
       "            (5): GLU(dim=1)\n",
       "            (6): _LayerScale()\n",
       "          )\n",
       "        )\n",
       "      )\n",
       "    )\n",
       "    (3): _HEncLayer(\n",
       "      (conv): Conv2d(192, 384, kernel_size=(8, 1), stride=(4, 1), padding=(2, 0))\n",
       "      (norm1): Identity()\n",
       "      (rewrite): Conv2d(384, 768, kernel_size=(1, 1), stride=(1, 1))\n",
       "      (norm2): Identity()\n",
       "      (dconv): _DConv(\n",
       "        (layers): ModuleList(\n",
       "          (0): Sequential(\n",
       "            (0): Conv1d(384, 96, kernel_size=(3,), stride=(1,), padding=(1,))\n",
       "            (1): GroupNorm(1, 96, eps=1e-05, affine=True)\n",
       "            (2): GELU(approximate='none')\n",
       "            (3): Conv1d(96, 768, kernel_size=(1,), stride=(1,))\n",
       "            (4): GroupNorm(1, 768, eps=1e-05, affine=True)\n",
       "            (5): GLU(dim=1)\n",
       "            (6): _LayerScale()\n",
       "          )\n",
       "          (1): Sequential(\n",
       "            (0): Conv1d(384, 96, kernel_size=(3,), stride=(1,), padding=(2,), dilation=(2,))\n",
       "            (1): GroupNorm(1, 96, eps=1e-05, affine=True)\n",
       "            (2): GELU(approximate='none')\n",
       "            (3): Conv1d(96, 768, kernel_size=(1,), stride=(1,))\n",
       "            (4): GroupNorm(1, 768, eps=1e-05, affine=True)\n",
       "            (5): GLU(dim=1)\n",
       "            (6): _LayerScale()\n",
       "          )\n",
       "        )\n",
       "      )\n",
       "    )\n",
       "    (4): _HEncLayer(\n",
       "      (conv): Conv2d(384, 768, kernel_size=(8, 1), stride=(4, 1))\n",
       "      (norm1): GroupNorm(4, 768, eps=1e-05, affine=True)\n",
       "      (rewrite): Conv2d(768, 1536, kernel_size=(1, 1), stride=(1, 1))\n",
       "      (norm2): GroupNorm(4, 1536, eps=1e-05, affine=True)\n",
       "      (dconv): _DConv(\n",
       "        (layers): ModuleList(\n",
       "          (0): Sequential(\n",
       "            (0): Conv1d(768, 192, kernel_size=(3,), stride=(1,), padding=(1,))\n",
       "            (1): GroupNorm(1, 192, eps=1e-05, affine=True)\n",
       "            (2): GELU(approximate='none')\n",
       "            (3): _BLSTM(\n",
       "              (lstm): LSTM(192, 192, num_layers=2, bidirectional=True)\n",
       "              (linear): Linear(in_features=384, out_features=192, bias=True)\n",
       "            )\n",
       "            (4): _LocalState(\n",
       "              (content): Conv1d(192, 192, kernel_size=(1,), stride=(1,))\n",
       "              (query): Conv1d(192, 192, kernel_size=(1,), stride=(1,))\n",
       "              (key): Conv1d(192, 192, kernel_size=(1,), stride=(1,))\n",
       "              (query_decay): Conv1d(192, 16, kernel_size=(1,), stride=(1,))\n",
       "              (proj): Conv1d(192, 192, kernel_size=(1,), stride=(1,))\n",
       "            )\n",
       "            (5): Conv1d(192, 1536, kernel_size=(1,), stride=(1,))\n",
       "            (6): GroupNorm(1, 1536, eps=1e-05, affine=True)\n",
       "            (7): GLU(dim=1)\n",
       "            (8): _LayerScale()\n",
       "          )\n",
       "          (1): Sequential(\n",
       "            (0): Conv1d(768, 192, kernel_size=(3,), stride=(1,), padding=(2,), dilation=(2,))\n",
       "            (1): GroupNorm(1, 192, eps=1e-05, affine=True)\n",
       "            (2): GELU(approximate='none')\n",
       "            (3): _BLSTM(\n",
       "              (lstm): LSTM(192, 192, num_layers=2, bidirectional=True)\n",
       "              (linear): Linear(in_features=384, out_features=192, bias=True)\n",
       "            )\n",
       "            (4): _LocalState(\n",
       "              (content): Conv1d(192, 192, kernel_size=(1,), stride=(1,))\n",
       "              (query): Conv1d(192, 192, kernel_size=(1,), stride=(1,))\n",
       "              (key): Conv1d(192, 192, kernel_size=(1,), stride=(1,))\n",
       "              (query_decay): Conv1d(192, 16, kernel_size=(1,), stride=(1,))\n",
       "              (proj): Conv1d(192, 192, kernel_size=(1,), stride=(1,))\n",
       "            )\n",
       "            (5): Conv1d(192, 1536, kernel_size=(1,), stride=(1,))\n",
       "            (6): GroupNorm(1, 1536, eps=1e-05, affine=True)\n",
       "            (7): GLU(dim=1)\n",
       "            (8): _LayerScale()\n",
       "          )\n",
       "        )\n",
       "      )\n",
       "    )\n",
       "    (5): _HEncLayer(\n",
       "      (conv): Conv1d(768, 1536, kernel_size=(4,), stride=(2,), padding=(1,))\n",
       "      (norm1): GroupNorm(4, 1536, eps=1e-05, affine=True)\n",
       "      (rewrite): Conv1d(1536, 3072, kernel_size=(1,), stride=(1,))\n",
       "      (norm2): GroupNorm(4, 3072, eps=1e-05, affine=True)\n",
       "      (dconv): _DConv(\n",
       "        (layers): ModuleList(\n",
       "          (0): Sequential(\n",
       "            (0): Conv1d(1536, 384, kernel_size=(3,), stride=(1,), padding=(1,))\n",
       "            (1): GroupNorm(1, 384, eps=1e-05, affine=True)\n",
       "            (2): GELU(approximate='none')\n",
       "            (3): _BLSTM(\n",
       "              (lstm): LSTM(384, 384, num_layers=2, bidirectional=True)\n",
       "              (linear): Linear(in_features=768, out_features=384, bias=True)\n",
       "            )\n",
       "            (4): _LocalState(\n",
       "              (content): Conv1d(384, 384, kernel_size=(1,), stride=(1,))\n",
       "              (query): Conv1d(384, 384, kernel_size=(1,), stride=(1,))\n",
       "              (key): Conv1d(384, 384, kernel_size=(1,), stride=(1,))\n",
       "              (query_decay): Conv1d(384, 16, kernel_size=(1,), stride=(1,))\n",
       "              (proj): Conv1d(384, 384, kernel_size=(1,), stride=(1,))\n",
       "            )\n",
       "            (5): Conv1d(384, 3072, kernel_size=(1,), stride=(1,))\n",
       "            (6): GroupNorm(1, 3072, eps=1e-05, affine=True)\n",
       "            (7): GLU(dim=1)\n",
       "            (8): _LayerScale()\n",
       "          )\n",
       "          (1): Sequential(\n",
       "            (0): Conv1d(1536, 384, kernel_size=(3,), stride=(1,), padding=(2,), dilation=(2,))\n",
       "            (1): GroupNorm(1, 384, eps=1e-05, affine=True)\n",
       "            (2): GELU(approximate='none')\n",
       "            (3): _BLSTM(\n",
       "              (lstm): LSTM(384, 384, num_layers=2, bidirectional=True)\n",
       "              (linear): Linear(in_features=768, out_features=384, bias=True)\n",
       "            )\n",
       "            (4): _LocalState(\n",
       "              (content): Conv1d(384, 384, kernel_size=(1,), stride=(1,))\n",
       "              (query): Conv1d(384, 384, kernel_size=(1,), stride=(1,))\n",
       "              (key): Conv1d(384, 384, kernel_size=(1,), stride=(1,))\n",
       "              (query_decay): Conv1d(384, 16, kernel_size=(1,), stride=(1,))\n",
       "              (proj): Conv1d(384, 384, kernel_size=(1,), stride=(1,))\n",
       "            )\n",
       "            (5): Conv1d(384, 3072, kernel_size=(1,), stride=(1,))\n",
       "            (6): GroupNorm(1, 3072, eps=1e-05, affine=True)\n",
       "            (7): GLU(dim=1)\n",
       "            (8): _LayerScale()\n",
       "          )\n",
       "        )\n",
       "      )\n",
       "    )\n",
       "  )\n",
       "  (freq_decoder): ModuleList(\n",
       "    (0): _HDecLayer(\n",
       "      (conv_tr): ConvTranspose1d(1536, 768, kernel_size=(4,), stride=(2,))\n",
       "      (norm2): GroupNorm(4, 768, eps=1e-05, affine=True)\n",
       "      (rewrite): Conv1d(1536, 3072, kernel_size=(3,), stride=(1,), padding=(1,))\n",
       "      (norm1): GroupNorm(4, 3072, eps=1e-05, affine=True)\n",
       "    )\n",
       "    (1): _HDecLayer(\n",
       "      (conv_tr): ConvTranspose2d(768, 384, kernel_size=(8, 1), stride=(4, 1))\n",
       "      (norm2): GroupNorm(4, 384, eps=1e-05, affine=True)\n",
       "      (rewrite): Conv2d(768, 1536, kernel_size=(3, 3), stride=(1, 1), padding=(1, 1))\n",
       "      (norm1): GroupNorm(4, 1536, eps=1e-05, affine=True)\n",
       "    )\n",
       "    (2): _HDecLayer(\n",
       "      (conv_tr): ConvTranspose2d(384, 192, kernel_size=(8, 1), stride=(4, 1))\n",
       "      (norm2): Identity()\n",
       "      (rewrite): Conv2d(384, 768, kernel_size=(3, 3), stride=(1, 1), padding=(1, 1))\n",
       "      (norm1): Identity()\n",
       "    )\n",
       "    (3): _HDecLayer(\n",
       "      (conv_tr): ConvTranspose2d(192, 96, kernel_size=(8, 1), stride=(4, 1))\n",
       "      (norm2): Identity()\n",
       "      (rewrite): Conv2d(192, 384, kernel_size=(3, 3), stride=(1, 1), padding=(1, 1))\n",
       "      (norm1): Identity()\n",
       "    )\n",
       "    (4): _HDecLayer(\n",
       "      (conv_tr): ConvTranspose2d(96, 48, kernel_size=(8, 1), stride=(4, 1))\n",
       "      (norm2): Identity()\n",
       "      (rewrite): Conv2d(96, 192, kernel_size=(3, 3), stride=(1, 1), padding=(1, 1))\n",
       "      (norm1): Identity()\n",
       "    )\n",
       "    (5): _HDecLayer(\n",
       "      (conv_tr): ConvTranspose2d(48, 16, kernel_size=(8, 1), stride=(4, 1))\n",
       "      (norm2): Identity()\n",
       "      (rewrite): Conv2d(48, 96, kernel_size=(3, 3), stride=(1, 1), padding=(1, 1))\n",
       "      (norm1): Identity()\n",
       "    )\n",
       "  )\n",
       "  (time_encoder): ModuleList(\n",
       "    (0): _HEncLayer(\n",
       "      (conv): Conv1d(2, 48, kernel_size=(8,), stride=(4,), padding=(2,))\n",
       "      (norm1): Identity()\n",
       "      (rewrite): Conv1d(48, 96, kernel_size=(1,), stride=(1,))\n",
       "      (norm2): Identity()\n",
       "      (dconv): _DConv(\n",
       "        (layers): ModuleList(\n",
       "          (0): Sequential(\n",
       "            (0): Conv1d(48, 12, kernel_size=(3,), stride=(1,), padding=(1,))\n",
       "            (1): GroupNorm(1, 12, eps=1e-05, affine=True)\n",
       "            (2): GELU(approximate='none')\n",
       "            (3): Conv1d(12, 96, kernel_size=(1,), stride=(1,))\n",
       "            (4): GroupNorm(1, 96, eps=1e-05, affine=True)\n",
       "            (5): GLU(dim=1)\n",
       "            (6): _LayerScale()\n",
       "          )\n",
       "          (1): Sequential(\n",
       "            (0): Conv1d(48, 12, kernel_size=(3,), stride=(1,), padding=(2,), dilation=(2,))\n",
       "            (1): GroupNorm(1, 12, eps=1e-05, affine=True)\n",
       "            (2): GELU(approximate='none')\n",
       "            (3): Conv1d(12, 96, kernel_size=(1,), stride=(1,))\n",
       "            (4): GroupNorm(1, 96, eps=1e-05, affine=True)\n",
       "            (5): GLU(dim=1)\n",
       "            (6): _LayerScale()\n",
       "          )\n",
       "        )\n",
       "      )\n",
       "    )\n",
       "    (1): _HEncLayer(\n",
       "      (conv): Conv1d(48, 96, kernel_size=(8,), stride=(4,), padding=(2,))\n",
       "      (norm1): Identity()\n",
       "      (rewrite): Conv1d(96, 192, kernel_size=(1,), stride=(1,))\n",
       "      (norm2): Identity()\n",
       "      (dconv): _DConv(\n",
       "        (layers): ModuleList(\n",
       "          (0): Sequential(\n",
       "            (0): Conv1d(96, 24, kernel_size=(3,), stride=(1,), padding=(1,))\n",
       "            (1): GroupNorm(1, 24, eps=1e-05, affine=True)\n",
       "            (2): GELU(approximate='none')\n",
       "            (3): Conv1d(24, 192, kernel_size=(1,), stride=(1,))\n",
       "            (4): GroupNorm(1, 192, eps=1e-05, affine=True)\n",
       "            (5): GLU(dim=1)\n",
       "            (6): _LayerScale()\n",
       "          )\n",
       "          (1): Sequential(\n",
       "            (0): Conv1d(96, 24, kernel_size=(3,), stride=(1,), padding=(2,), dilation=(2,))\n",
       "            (1): GroupNorm(1, 24, eps=1e-05, affine=True)\n",
       "            (2): GELU(approximate='none')\n",
       "            (3): Conv1d(24, 192, kernel_size=(1,), stride=(1,))\n",
       "            (4): GroupNorm(1, 192, eps=1e-05, affine=True)\n",
       "            (5): GLU(dim=1)\n",
       "            (6): _LayerScale()\n",
       "          )\n",
       "        )\n",
       "      )\n",
       "    )\n",
       "    (2): _HEncLayer(\n",
       "      (conv): Conv1d(96, 192, kernel_size=(8,), stride=(4,), padding=(2,))\n",
       "      (norm1): Identity()\n",
       "      (rewrite): Conv1d(192, 384, kernel_size=(1,), stride=(1,))\n",
       "      (norm2): Identity()\n",
       "      (dconv): _DConv(\n",
       "        (layers): ModuleList(\n",
       "          (0): Sequential(\n",
       "            (0): Conv1d(192, 48, kernel_size=(3,), stride=(1,), padding=(1,))\n",
       "            (1): GroupNorm(1, 48, eps=1e-05, affine=True)\n",
       "            (2): GELU(approximate='none')\n",
       "            (3): Conv1d(48, 384, kernel_size=(1,), stride=(1,))\n",
       "            (4): GroupNorm(1, 384, eps=1e-05, affine=True)\n",
       "            (5): GLU(dim=1)\n",
       "            (6): _LayerScale()\n",
       "          )\n",
       "          (1): Sequential(\n",
       "            (0): Conv1d(192, 48, kernel_size=(3,), stride=(1,), padding=(2,), dilation=(2,))\n",
       "            (1): GroupNorm(1, 48, eps=1e-05, affine=True)\n",
       "            (2): GELU(approximate='none')\n",
       "            (3): Conv1d(48, 384, kernel_size=(1,), stride=(1,))\n",
       "            (4): GroupNorm(1, 384, eps=1e-05, affine=True)\n",
       "            (5): GLU(dim=1)\n",
       "            (6): _LayerScale()\n",
       "          )\n",
       "        )\n",
       "      )\n",
       "    )\n",
       "    (3): _HEncLayer(\n",
       "      (conv): Conv1d(192, 384, kernel_size=(8,), stride=(4,), padding=(2,))\n",
       "      (norm1): Identity()\n",
       "      (rewrite): Conv1d(384, 768, kernel_size=(1,), stride=(1,))\n",
       "      (norm2): Identity()\n",
       "      (dconv): _DConv(\n",
       "        (layers): ModuleList(\n",
       "          (0): Sequential(\n",
       "            (0): Conv1d(384, 96, kernel_size=(3,), stride=(1,), padding=(1,))\n",
       "            (1): GroupNorm(1, 96, eps=1e-05, affine=True)\n",
       "            (2): GELU(approximate='none')\n",
       "            (3): Conv1d(96, 768, kernel_size=(1,), stride=(1,))\n",
       "            (4): GroupNorm(1, 768, eps=1e-05, affine=True)\n",
       "            (5): GLU(dim=1)\n",
       "            (6): _LayerScale()\n",
       "          )\n",
       "          (1): Sequential(\n",
       "            (0): Conv1d(384, 96, kernel_size=(3,), stride=(1,), padding=(2,), dilation=(2,))\n",
       "            (1): GroupNorm(1, 96, eps=1e-05, affine=True)\n",
       "            (2): GELU(approximate='none')\n",
       "            (3): Conv1d(96, 768, kernel_size=(1,), stride=(1,))\n",
       "            (4): GroupNorm(1, 768, eps=1e-05, affine=True)\n",
       "            (5): GLU(dim=1)\n",
       "            (6): _LayerScale()\n",
       "          )\n",
       "        )\n",
       "      )\n",
       "    )\n",
       "    (4): _HEncLayer(\n",
       "      (conv): Conv1d(384, 768, kernel_size=(8,), stride=(4,), padding=(2,))\n",
       "      (norm1): GroupNorm(4, 768, eps=1e-05, affine=True)\n",
       "      (rewrite): Identity()\n",
       "      (norm2): Identity()\n",
       "      (dconv): Identity()\n",
       "    )\n",
       "  )\n",
       "  (time_decoder): ModuleList(\n",
       "    (0): _HDecLayer(\n",
       "      (conv_tr): ConvTranspose1d(768, 384, kernel_size=(8,), stride=(4,))\n",
       "      (norm2): GroupNorm(4, 384, eps=1e-05, affine=True)\n",
       "      (rewrite): Identity()\n",
       "      (norm1): Identity()\n",
       "    )\n",
       "    (1): _HDecLayer(\n",
       "      (conv_tr): ConvTranspose1d(384, 192, kernel_size=(8,), stride=(4,))\n",
       "      (norm2): Identity()\n",
       "      (rewrite): Conv1d(384, 768, kernel_size=(3,), stride=(1,), padding=(1,))\n",
       "      (norm1): Identity()\n",
       "    )\n",
       "    (2): _HDecLayer(\n",
       "      (conv_tr): ConvTranspose1d(192, 96, kernel_size=(8,), stride=(4,))\n",
       "      (norm2): Identity()\n",
       "      (rewrite): Conv1d(192, 384, kernel_size=(3,), stride=(1,), padding=(1,))\n",
       "      (norm1): Identity()\n",
       "    )\n",
       "    (3): _HDecLayer(\n",
       "      (conv_tr): ConvTranspose1d(96, 48, kernel_size=(8,), stride=(4,))\n",
       "      (norm2): Identity()\n",
       "      (rewrite): Conv1d(96, 192, kernel_size=(3,), stride=(1,), padding=(1,))\n",
       "      (norm1): Identity()\n",
       "    )\n",
       "    (4): _HDecLayer(\n",
       "      (conv_tr): ConvTranspose1d(48, 8, kernel_size=(8,), stride=(4,))\n",
       "      (norm2): Identity()\n",
       "      (rewrite): Conv1d(48, 96, kernel_size=(3,), stride=(1,), padding=(1,))\n",
       "      (norm1): Identity()\n",
       "    )\n",
       "  )\n",
       "  (freq_emb): _ScaledEmbedding(\n",
       "    (embedding): Embedding(512, 48)\n",
       "  )\n",
       ")"
      ]
     },
     "execution_count": 8,
     "metadata": {},
     "output_type": "execute_result"
    }
   ],
   "source": [
    "bundle = torchaudio.pipelines.HDEMUCS_HIGH_MUSDB_PLUS\n",
    "model = bundle.get_model()\n",
    "sample_rate = bundle.sample_rate\n",
    "\n",
    "cpu_device = torch.device(\"cpu\")\n",
    "device = torch.device(\"cuda:0\" if torch.cuda.is_available() else \"cpu\") # windows\n",
    "device = torch.device(\"mps\" if torch.backends.mps.is_available() else \"cpu\") # macOS\n",
    "model.to(device)"
   ]
  },
  {
   "cell_type": "markdown",
   "metadata": {},
   "source": [
    "Device Check:"
   ]
  },
  {
   "cell_type": "code",
   "execution_count": 9,
   "metadata": {},
   "outputs": [
    {
     "data": {
      "text/plain": [
       "device(type='mps')"
      ]
     },
     "execution_count": 9,
     "metadata": {},
     "output_type": "execute_result"
    }
   ],
   "source": [
    "device"
   ]
  },
  {
   "cell_type": "markdown",
   "metadata": {},
   "source": [
    "## Loading of the Dataset and Dataset Preparation"
   ]
  },
  {
   "cell_type": "markdown",
   "metadata": {},
   "source": [
    "Download the dataset at: https://zenodo.org/records/3338373"
   ]
  },
  {
   "cell_type": "markdown",
   "metadata": {},
   "source": [
    "Global variables:"
   ]
  },
  {
   "cell_type": "code",
   "execution_count": 12,
   "metadata": {},
   "outputs": [],
   "source": [
    "SEGMENT_LENGTH = 30  # 30 seconds of audio from each song\n",
    "DATASET_FOLDER =  \"./musdb18hq/test\" # dataset should be inside the project folder\n",
    "DATASET_FOLDER_TRIMMED = \"./musdb18hq_trimmed\" # trimmed dataset will be saved here"
   ]
  },
  {
   "cell_type": "markdown",
   "metadata": {},
   "source": [
    "Dictionary creation\n",
    "\n",
    "(Dataset Structure: `{track_folder -> {stem_name -> waveform}`)\n"
   ]
  },
  {
   "cell_type": "code",
   "execution_count": 13,
   "metadata": {},
   "outputs": [],
   "source": [
    "def get_max_non_silence_start(song):\n",
    "    \"\"\"\n",
    "    Given a song (dictionary of stem names -> waveform),\n",
    "    use librosa.effects.trim to find the starting index of non-silent \n",
    "    segments for each stem and return the highest start index.\n",
    "    \"\"\"\n",
    "    max_start = 0\n",
    "    for stem, waveform in song.items():\n",
    "        # Convert tensor waveform to numpy if necessary\n",
    "        if hasattr(waveform, \"detach\"):\n",
    "            waveform_np = waveform.detach().cpu().numpy()\n",
    "        else:\n",
    "            waveform_np = waveform\n",
    "        \n",
    "        # If waveform is multi-channel (shape: channels x samples)\n",
    "        if waveform_np.ndim > 1:\n",
    "            # Convert to mono using librosa.to_mono\n",
    "            waveform_np = librosa.to_mono(waveform_np)\n",
    "        else:\n",
    "            waveform_np = waveform_np.squeeze()\n",
    "\n",
    "        # Trim leading and trailing silence\n",
    "        # trim returns a tuple (trimmed_audio, (start, end))\n",
    "        trimmed, indices = librosa.effects.trim(waveform_np)\n",
    "        if indices.size and indices[0] > max_start:\n",
    "            max_start = indices[0]\n",
    "            \n",
    "    return max_start\n",
    "def is_stem_silent(waveform, threshold=1e-4):\n",
    "    \"\"\"\n",
    "    Determines if a given song stem is not silent.\n",
    "    \n",
    "    Args:\n",
    "        waveform (torch.Tensor or np.ndarray): The audio waveform of the stem.\n",
    "        threshold (float): The amplitude threshold below which the stem is considered silent.\n",
    "    \n",
    "    Returns:\n",
    "        bool: True if the stem is not silent, False otherwise.\n",
    "    \"\"\"\n",
    "    # Convert tensor waveform to numpy if necessary\n",
    "    if hasattr(waveform, \"detach\"):\n",
    "        waveform = waveform.detach().cpu().numpy()\n",
    "    \n",
    "    # If waveform is multi-channel (shape: channels x samples), convert to mono\n",
    "    if waveform.ndim > 1:\n",
    "        waveform = librosa.to_mono(waveform)\n",
    "    \n",
    "    # Check if the maximum absolute amplitude exceeds the threshold\n",
    "    return np.max(np.abs(waveform)) < threshold\n",
    "def load_and_process_dataset():\n",
    "    \"\"\"\n",
    "    Load the dataset from the specified folder.\n",
    "    Each subfolder in the dataset corresponds to a song.\n",
    "    Each song contains multiple stems (e.g., mixture, drums, bass, etc.).\n",
    "    Returns:\n",
    "        dataset_dict (dict): A dictionary where keys are track folders and values are dictionaries of stems.\n",
    "    \"\"\"\n",
    "\n",
    "    # sorted list of folders in the dataset\n",
    "    track_folders = sorted(\n",
    "        folder for folder in os.listdir(DATASET_FOLDER)\n",
    "        if os.path.isdir(os.path.join(DATASET_FOLDER, folder))\n",
    "    )\n",
    "\n",
    "    # Dictionary to store {track_folder -> {stem_name -> waveform}}\n",
    "    dataset_dict = {}\n",
    "\n",
    "    # Each subfolder in musdb18hq/test corresponds to a song\n",
    "    for track_folder in tqdm(track_folders):\n",
    "        track_path = os.path.join(DATASET_FOLDER, track_folder)\n",
    "        if not os.path.isdir(track_path):\n",
    "            continue\n",
    "\n",
    "        # Prepare a sub-dictionary for this song\n",
    "        stems_dict = {}\n",
    "        stem_names = [\"mixture\", \"drums\", \"bass\", \"vocals\", \"other\"]\n",
    "        \n",
    "        for stem_name in stem_names:\n",
    "            file_path = os.path.abspath(os.path.join(track_path, f\"{stem_name}.wav\"))\n",
    "            \n",
    "            if not os.path.isfile(file_path):\n",
    "                print(f\"Warning: file not found {file_path}\")\n",
    "                continue\n",
    "\n",
    "            # Load full audio\n",
    "            # print(f\"Loading {track_folder}\" + f\" - {stem_name}\")\n",
    "            waveform, sr = torchaudio.load(file_path)\n",
    "\n",
    "            stems_dict[stem_name] = waveform\n",
    "        \n",
    "        max_start = get_max_non_silence_start(stems_dict)\n",
    "\n",
    "        # If the stem is silent, remove it from the dictionary else trim it\n",
    "        for stem_name, waveform in stems_dict.items():\n",
    "            if is_stem_silent(waveform) or waveform.shape[1] < SEGMENT_LENGTH * sample_rate + max_start:\n",
    "                print(f\"Removing silent stem: {stem_name}\")\n",
    "                del stems_dict[stem_name]\n",
    "            else:\n",
    "                # Trim the waveform to the max_start to segment samples\n",
    "                duration = SEGMENT_LENGTH * sample_rate + max_start\n",
    "                stems_dict[stem_name] = waveform[:, max_start:duration]\n",
    "\n",
    "        dataset_dict[track_folder] = stems_dict\n",
    "\n",
    "    return dataset_dict\n",
    "\n",
    "\n",
    "def load_dataset():\n",
    "    \"\"\"\n",
    "    Load the dataset from the DATASET_FOLDER_TRIMMED folder.\n",
    "    Each subfolder in the dataset corresponds to a song.\n",
    "    Each song contains multiple stems (e.g., mixture, drums, bass, etc.).\n",
    "    Returns:\n",
    "        dataset_dict (dict): A dictionary where keys are track folders and values are dictionaries of stems.\n",
    "    \"\"\"\n",
    "    dataset_dict = {}\n",
    "\n",
    "    for track_folder in tqdm(os.listdir(DATASET_FOLDER_TRIMMED)):\n",
    "        track_path = os.path.join(DATASET_FOLDER_TRIMMED, track_folder)\n",
    "        if not os.path.isdir(track_path):\n",
    "            continue\n",
    "\n",
    "        # Prepare a sub-dictionary for this song\n",
    "        stems_dict = {}\n",
    "        \n",
    "        for stem_name in [\"mixture\", \"drums\", \"bass\", \"vocals\", \"other\", \"new_mixture\"]:\n",
    "            file_path = os.path.abspath(os.path.join(track_path, f\"{stem_name}.wav\"))\n",
    "            \n",
    "            if not os.path.isfile(file_path):\n",
    "                print(f\"Warning: file not found {file_path}\")\n",
    "                continue\n",
    "\n",
    "            # Load full audio\n",
    "            waveform, sr = torchaudio.load(file_path)\n",
    "\n",
    "            stems_dict[stem_name] = waveform\n",
    "            \n",
    "        dataset_dict[track_folder] = stems_dict\n",
    "        \n",
    "    return dataset_dict\n",
    "\n",
    "def create_dataset(dataset_dict):\n",
    "    \"\"\"\n",
    "    Create a dataset of trimmed audio files from the musdb18hq dataset.\n",
    "    The dataset is saved in the DATASET_FOLDER_TRIMMED folder.\n",
    "    It processes each track folder, saves the stems as individual files,\n",
    "    and generates a new_mixture file as the sum of the stems.\n",
    "    Args:\n",
    "        dataset_dict (dict): A dictionary where keys are track folders and values are dictionaries of stems.\n",
    "    Returns:\n",
    "        None\n",
    "    \"\"\"\n",
    "    for track_folder, stems_dict in tqdm(dataset_dict.items()):\n",
    "    \n",
    "        track_path = os.path.join(DATASET_FOLDER_TRIMMED, track_folder)\n",
    "        os.makedirs(track_path, exist_ok=True)\n",
    "        \n",
    "        # Add new_mixture file to the track folder as the sum of the stems\n",
    "        new_mixture = torch.zeros((2, SEGMENT_LENGTH * sample_rate))\n",
    "        for stem_name, waveform in stems_dict.items():\n",
    "            \n",
    "            file_path = os.path.join(track_path, f\"{stem_name}.wav\")\n",
    "            torchaudio.save(file_path, waveform, sample_rate=sample_rate)\n",
    "\n",
    "            # Generation of the new_mixture file\n",
    "            if stem_name != \"mixture\":\n",
    "                new_mixture += waveform\n",
    "\n",
    "        # If there is some clip then normalize the new_mixture to 1\n",
    "        if torch.max(torch.abs(new_mixture)) > 0:\n",
    "            # Normalize the new_mixture to have a maximum absolute value of 1\n",
    "            new_mixture = new_mixture / torch.max(torch.abs(new_mixture))\n",
    "\n",
    "\n",
    "        # make the new_mixture the same loudness as the original mixture\n",
    "        if \"mixture\" in stems_dict:\n",
    "            original_mixture = stems_dict[\"mixture\"]\n",
    "            # Calculate the loudness of the original mixture\n",
    "            loudness_original = torch.mean(torch.abs(original_mixture))\n",
    "            # Calculate the loudness of the new mixture\n",
    "            loudness_new = torch.mean(torch.abs(new_mixture))\n",
    "            # Scale the new mixture to match the loudness of the original mixture\n",
    "            if loudness_new > 0:\n",
    "                new_mixture *= (loudness_original / loudness_new)\n",
    "        else:\n",
    "            # If there is no original mixture, just normalize the new_mixture\n",
    "            new_mixture = new_mixture / torch.max(torch.abs(new_mixture))\n",
    "        \n",
    "        \n",
    "        # Trim the new_mixture to the desired length\n",
    "        new_mixture = new_mixture[:, :SEGMENT_LENGTH * sample_rate]\n",
    "        new_mixture_path = os.path.join(track_path, \"new_mixture.wav\")\n",
    "        torchaudio.save(new_mixture_path, new_mixture, sample_rate)\n",
    "        #print(f\"Saved new mixture to {new_mixture_path}\")\n",
    "        \n",
    "        # Add the new_mixture to stems_dict and update dataset_dict\n",
    "        stems_dict[\"new_mixture\"] = new_mixture\n",
    "        dataset_dict[track_folder] = stems_dict  # Update the dataset_dict explicitly\n",
    "        #print(f\"Added new_mixture to stems_dict for track {track_folder}\")\n",
    "\n",
    "\n",
    "def load_or_create_trimmed_dataset():\n",
    "    \"\"\"\n",
    "    Load or create the trimmed dataset.\n",
    "    If the dataset already exists, it loads the dataset from the musdb18hq_trimmed folder.\n",
    "    If the dataset does not exist, it processes the musdb18hq/test folder and saves the trimmed dataset.\n",
    "    Returns:\n",
    "        dataset_dict (dict): A dictionary where keys are track folders and values are dictionaries of stems.\n",
    "    \"\"\"\n",
    "    # Check if the trimmed dataset already exists\n",
    "    if os.path.isdir(DATASET_FOLDER_TRIMMED):\n",
    "        print(\"Dataset already exists.\")\n",
    "\n",
    "        # Load the trimmed dataset\n",
    "        dataset_dict = load_dataset()\n",
    "        print(\"Dataset loaded.\")\n",
    "    else:\n",
    "        print(\"Loading dataset...\")\n",
    "        dataset_dict = load_and_process_dataset()\n",
    "        print(\"Dataset loaded.\")\n",
    "    \n",
    "        # Save the trimmed dataset\n",
    "        os.makedirs(DATASET_FOLDER_TRIMMED, exist_ok=True)\n",
    "        create_dataset(dataset_dict)\n",
    "\n",
    "        print(\"Trimmed dataset saved.\")\n",
    "    \n",
    "    return dataset_dict"
   ]
  },
  {
   "cell_type": "markdown",
   "metadata": {},
   "source": [
    "Save the new DATASET FOLDER"
   ]
  },
  {
   "cell_type": "code",
   "execution_count": 14,
   "metadata": {},
   "outputs": [
    {
     "name": "stdout",
     "output_type": "stream",
     "text": [
      "Dataset already exists.\n"
     ]
    },
    {
     "name": "stderr",
     "output_type": "stream",
     "text": [
      "100%|██████████| 50/50 [00:00<00:00, 75.06it/s]"
     ]
    },
    {
     "name": "stdout",
     "output_type": "stream",
     "text": [
      "Dataset loaded.\n"
     ]
    },
    {
     "name": "stderr",
     "output_type": "stream",
     "text": [
      "\n"
     ]
    }
   ],
   "source": [
    "dataset_dict = load_or_create_trimmed_dataset()"
   ]
  },
  {
   "cell_type": "markdown",
   "metadata": {},
   "source": [
    "Trimmed tracks check"
   ]
  },
  {
   "cell_type": "code",
   "execution_count": 15,
   "metadata": {},
   "outputs": [
    {
     "name": "stdout",
     "output_type": "stream",
     "text": [
      "Number of keys in dataset_dict: 50\n",
      "First track folder: Moosmusic - Big Dummy Shake\n",
      "Contents of the first track folder:\n",
      " - mixture: torch.Size([2, 1323000])\n",
      " - drums: torch.Size([2, 1323000])\n",
      " - bass: torch.Size([2, 1323000])\n",
      " - vocals: torch.Size([2, 1323000])\n",
      " - other: torch.Size([2, 1323000])\n",
      " - new_mixture: torch.Size([2, 1323000])\n"
     ]
    }
   ],
   "source": [
    "print(\"Number of keys in dataset_dict:\", len(dataset_dict))\n",
    "\n",
    "# Check the first track folder and its contents\n",
    "first_track_folder = list(dataset_dict.keys())[0]\n",
    "print(\"First track folder:\", first_track_folder)\n",
    "print(\"Contents of the first track folder:\")\n",
    "def print_stem_shapes(first_track_folder):\n",
    "    for stem_name in dataset_dict[first_track_folder].keys():\n",
    "        print(f\" - {stem_name}: {dataset_dict[first_track_folder][stem_name].shape}\")\n",
    "\n",
    "print_stem_shapes(first_track_folder)\n"
   ]
  },
  {
   "cell_type": "code",
   "execution_count": 16,
   "metadata": {},
   "outputs": [],
   "source": [
    "# reduce to 10 tracks the dataset_dict\n",
    "dataset_dict_reduced = {k: dataset_dict[k] for k in list(dataset_dict)[:10]}"
   ]
  },
  {
   "cell_type": "markdown",
   "metadata": {},
   "source": [
    "Function to separate the sources\n"
   ]
  },
  {
   "cell_type": "code",
   "execution_count": 17,
   "metadata": {},
   "outputs": [],
   "source": [
    "def separate_sources(\n",
    "    model,\n",
    "    mix,\n",
    "    sample_rate=sample_rate,\n",
    "    overlap=0.0,  # set to 0.0 to avoid chunk repetition\n",
    "    device=None,\n",
    "    normalize=False,\n",
    "):\n",
    "    \"\"\"\n",
    "    Separate sources from a mixture using the provided model.\n",
    "    Args:\n",
    "        model: The separation model.\n",
    "        mix: The input mixture tensor (batch, channels, length).\n",
    "        sample_rate: Sample rate of the audio.\n",
    "        overlap: Overlap between segments in seconds.\n",
    "        device: Device to run the model on (CPU or GPU).\n",
    "        normalize: Whether to normalize the input mixture.\n",
    "    Returns:\n",
    "        final: The separated sources tensor (batch, sources[drums, bass, other, vocel], channels, length). #CORRECT ORDER UPDATED\n",
    "    \"\"\"\n",
    "\n",
    "    if device is None:\n",
    "        device = mix.device\n",
    "    else:\n",
    "        device = torch.device(device)\n",
    "\n",
    "    batch, channels, length = mix.shape\n",
    "\n",
    "    # normalize the input by its RMS\n",
    "    if normalize:\n",
    "        # mix = mix / torch.sqrt(torch.mean(mix ** 2, dim=-1, keepdim=True))\n",
    "        mix = mix / torch.max(torch.abs(mix))\n",
    "\n",
    "    # chunk_len for entire 30s, no overlap\n",
    "    chunk_len = int(mix.shape[2] * (1 + overlap))  # effectively 30s if overlap=0\n",
    "    start = 0\n",
    "    end = chunk_len\n",
    "\n",
    "    overlap_frames = int(overlap * sample_rate)\n",
    "    fade = torchaudio.transforms.Fade(fade_in_len=0, fade_out_len=overlap_frames, fade_shape=\"linear\")\n",
    "\n",
    "    # Prepare final buffer\n",
    "    final = torch.zeros(batch, len(model.sources), channels, length, device=device)\n",
    "\n",
    "    while start < length - overlap_frames:\n",
    "        chunk = mix[:, :, start:end]\n",
    "        with torch.no_grad():\n",
    "            out = model(chunk).to(device)\n",
    "            \n",
    "        out = fade(out)\n",
    "        final[:, :, :, start:end] += out\n",
    "\n",
    "        if start == 0:\n",
    "            fade.fade_in_len = overlap_frames\n",
    "            start += chunk_len - overlap_frames\n",
    "        else:\n",
    "            start += chunk_len\n",
    "        end += chunk_len\n",
    "        if end >= length:\n",
    "            fade.fade_out_len = 0\n",
    "\n",
    "    return final"
   ]
  },
  {
   "cell_type": "markdown",
   "metadata": {},
   "source": [
    "Evaluation of the results"
   ]
  },
  {
   "cell_type": "code",
   "execution_count": 18,
   "metadata": {},
   "outputs": [],
   "source": [
    "def evaluate_sdr(original_stem: torch.Tensor, predicted_stem: torch.Tensor, device: torch.device=None):\n",
    "    \"\"\"\n",
    "    Calculate the Scale-Invariant Signal-to-Distortion Ratio (SDR) between the original and predicted stems.\n",
    "\n",
    "    Args:\n",
    "        original_stem (torch.Tensor): The original stem waveform (shape: [channels, samples]).\n",
    "        predicted_stem (torch.Tensor): The predicted stem waveform (shape: [channels, samples]).\n",
    "\n",
    "    Returns:\n",
    "        float: The SDR value.\n",
    "    \"\"\"\n",
    "    # Ensure both tensors are on the same device\n",
    "    original_stem.to(device)\n",
    "    predicted_stem.to(device)\n",
    "    \n",
    "    # Initialize the SDR metric\n",
    "    sdr_metric = ScaleInvariantSignalDistortionRatio().to(device)\n",
    "\n",
    "    # Compute the SDR\n",
    "    sdr_value = sdr_metric(predicted_stem, original_stem).item()\n",
    "\n",
    "    return sdr_value"
   ]
  },
  {
   "cell_type": "markdown",
   "metadata": {},
   "source": [
    "Testing the effect of the volume on the SDR on the same stem"
   ]
  },
  {
   "cell_type": "code",
   "execution_count": 115,
   "metadata": {},
   "outputs": [
    {
     "name": "stderr",
     "output_type": "stream",
     "text": [
      "Processing tracks: 100%|██████████| 50/50 [00:00<00:00, 75.32it/s]"
     ]
    },
    {
     "name": "stdout",
     "output_type": "stream",
     "text": [
      "\n",
      "Average SDR for original volume vs. itself: 104.82 dB\n",
      "Average SDR for different volume vs. original: 104.82 dB\n",
      "Difference in SDR: 0.00 dB\n"
     ]
    },
    {
     "name": "stderr",
     "output_type": "stream",
     "text": [
      "\n"
     ]
    }
   ],
   "source": [
    "def assess_sdr_for_volume_change(volume_change_factor=5, verbose=True):\n",
    "    \"\"\"\n",
    "    Assess the Scale-Invariant Signal-to-Distortion Ratio (SDR) for a volume change scenario.\n",
    "    This function retrieves a specific track from the dataset, modifies its volume, and evaluates the SDR\n",
    "    between the original stem and the modified stem.\n",
    "    Args:\n",
    "        volume_change_factor (float): Factor by which to change the volume of the stem (default: 0.25 (-12 dB)).\n",
    "        verbose (bool): If True, prints detailed information about the SDR calculations.\n",
    "    Returns:\n",
    "        tuple: SDR values for the original stem against itself and the modified stem against the original.\n",
    "    \"\"\"\n",
    "    track_names = list(dataset_dict.keys())\n",
    "\n",
    "    sdr_results = []\n",
    "\n",
    "    for track_chosen in tqdm(track_names, desc=\"Processing tracks\"):\n",
    "        # Retrieve the original \"vocals\" waveform from the specified track\n",
    "        original_stem_test = dataset_dict[track_chosen][\"vocals\"]\n",
    "\n",
    "        # Create a new version with a different volume\n",
    "        different_vol_stem_test = original_stem_test * volume_change_factor\n",
    "\n",
    "        # Evaluate SDR when comparing the original stem to itself\n",
    "        sdr_original = evaluate_sdr(original_stem_test, original_stem_test, device=device)\n",
    "\n",
    "        # Evaluate SDR when comparing the scaled stem to the original\n",
    "        sdr_different = evaluate_sdr(different_vol_stem_test, original_stem_test, device=device)\n",
    "\n",
    "        # Append results for this track\n",
    "        sdr_results.append({\n",
    "            \"track\": track_chosen,\n",
    "            \"sdr_original\": sdr_original,\n",
    "            \"sdr_different\": sdr_different\n",
    "        })\n",
    "    \n",
    "    # Calculate the average SDR values across all tracks\n",
    "    sdr_original = np.mean([result[\"sdr_original\"] for result in sdr_results])\n",
    "    sdr_different = np.mean([result[\"sdr_different\"] for result in sdr_results])\n",
    "    if verbose:\n",
    "        print(f\"\\nAverage SDR for original volume vs. itself: {sdr_original:.2f} dB\")\n",
    "        print(f\"Average SDR for different volume vs. original: {sdr_different:.2f} dB\")\n",
    "        print(f\"Difference in SDR: {sdr_original - sdr_different:.2f} dB\")\n",
    "\n",
    "    return sdr_original, sdr_different\n",
    "\n",
    "sdr_original, sdr_different = assess_sdr_for_volume_change()"
   ]
  },
  {
   "cell_type": "markdown",
   "metadata": {},
   "source": [
    "Evaluation of the model in standard usage"
   ]
  },
  {
   "cell_type": "markdown",
   "metadata": {},
   "source": [
    "<b> `compute_sdrs` </b>\n",
    "This function computes the Scale-Invariant Signal-to-Distortion Ratio (SDR) for each stem. It compares the original stems from `stems_dict` with the predicted stems from `separated_sources` using the `evaluate_sdr` function. The SDR values are stored in a dictionary (`sdr_results`) with stem names as keys."
   ]
  },
  {
   "cell_type": "code",
   "execution_count": 20,
   "metadata": {},
   "outputs": [],
   "source": [
    "def compute_sdrs(model, device, stems_dict, separated_sources):\n",
    "    \"\"\"Compute SDRs for each stem.\"\"\"\n",
    "    sdr_results = {stem: [] for stem in model.sources}\n",
    "    for i, stem_name in enumerate(model.sources):\n",
    "        # test normalization\n",
    "        original_stem = stems_dict[stem_name].to(device)\n",
    "        predicted_stem = separated_sources[0, i].to(device)\n",
    "        sdr_value = evaluate_sdr(original_stem, predicted_stem, device=device)\n",
    "        sdr_results[stem_name].append(sdr_value)\n",
    "\n",
    "    return sdr_results"
   ]
  },
  {
   "cell_type": "code",
   "execution_count": 122,
   "metadata": {},
   "outputs": [],
   "source": [
    "def compute_beta_sdrs(model, device, stems_dict, separated_sources, target_stem, beta):\n",
    "    \"\"\"Compute SDRs for each stem.\"\"\"\n",
    "    sdr_results_beta = {stem: [] for stem in model.sources}\n",
    "    for i, stem_name in enumerate(model.sources):\n",
    "        if stem_name != target_stem:\n",
    "            predicted_stem_beta_mod = separated_sources[0, i].to(device) / (1 - beta)\n",
    "        else:\n",
    "            predicted_stem_beta_mod = separated_sources[0, i].to(device)\n",
    "        \n",
    "        original_stem = stems_dict[stem_name].to(device)\n",
    "        sdr_value_beta = evaluate_sdr(original_stem, predicted_stem_beta_mod, device=device)\n",
    "        sdr_results_beta[stem_name].append(sdr_value_beta)\n",
    "\n",
    "    return sdr_results_beta"
   ]
  },
  {
   "cell_type": "code",
   "execution_count": 22,
   "metadata": {},
   "outputs": [],
   "source": [
    "def evaluate_sdr_across_dataset(dataset_dict, model, sample_rate, device, normalize, verbose=False):\n",
    "    \"\"\"\n",
    "    Evaluate the SDR for each track in the dataset.\n",
    "    Args:\n",
    "        dataset_dict (dict): Dictionary containing the dataset.\n",
    "        model: The separation model.\n",
    "        sample_rate: Sample rate of the audio.\n",
    "        device: Device to run the model on (CPU or GPU).\n",
    "        normalize: Whether to normalize the input mixture.\n",
    "        verbose (bool): Whether to print detailed logs.\n",
    "    Returns:\n",
    "        average_sdr (dict): Dictionary containing the average SDR for each stem.\n",
    "    \"\"\"\n",
    "    sdr_results = {stem: [] for stem in [\"bass\", \"drums\", \"vocals\", \"other\"]}\n",
    "\n",
    "    sdr_results_list = []\n",
    "\n",
    "    for track_name, stems_dict in tqdm(dataset_dict.items()):\n",
    "        if verbose:\n",
    "            print(f\"Processing track: {track_name}\")\n",
    "\n",
    "        # Ensure the mixture exists in the stems\n",
    "        if \"new_mixture\" not in stems_dict:\n",
    "            if verbose:\n",
    "                print(f\"Skipping track {track_name} as it does not contain a new mixture.\")\n",
    "            continue\n",
    "\n",
    "        # Load the mixture and move it to the correct device\n",
    "        mixture = stems_dict[\"new_mixture\"].to(device).unsqueeze(0)  # Add batch dimension\n",
    "        \n",
    "        # Perform source separation\n",
    "        separated_sources = separate_sources(model, mixture, sample_rate=sample_rate, device=device, normalize=normalize)\n",
    "\n",
    "        # Evaluate SDR for each stem\n",
    "        sdr_results = compute_sdrs(model, device, stems_dict, separated_sources)\n",
    "\n",
    "        # Convert sdr_results to a tensor for this track\n",
    "        sdr_tensor = torch.tensor([sdr_results[stem][0] for stem in model.sources])\n",
    "        \n",
    "        # Append the SDR tensor to the collection\n",
    "        sdr_results_list.append(sdr_tensor)\n",
    "\n",
    "    # Calculate the average and standard deviation SDR for each stem\n",
    "    if sdr_results_list:\n",
    "        sdr_collection = torch.stack(sdr_results_list)\n",
    "        average_sdr = {stem: torch.mean(sdr_collection[:, i]).item() for i, stem in enumerate(model.sources)}\n",
    "        std_sdr = {stem: torch.std(sdr_collection[:, i]).item() for i, stem in enumerate(model.sources)}\n",
    "    else:\n",
    "        average_sdr = {stem: None for stem in model.sources}\n",
    "        std_sdr = {stem: None for stem in model.sources}\n",
    "\n",
    "    if verbose:\n",
    "        print(\"\\nAverage SDR for each stem:\")\n",
    "        for stem, avg_sdr in average_sdr.items():\n",
    "            print(f\"{stem}: {avg_sdr:.2f} dB\" if avg_sdr is not None else f\"{stem}: No data\")\n",
    "        print(\"\\nStandard Deviation of SDR for each stem:\")\n",
    "        for stem, std in std_sdr.items():\n",
    "            print(f\"{stem}: {std:.2f} dB\" if std is not None else f\"{stem}: No data\")\n",
    "\n",
    "    return sdr_collection"
   ]
  },
  {
   "cell_type": "code",
   "execution_count": 23,
   "metadata": {},
   "outputs": [
    {
     "name": "stderr",
     "output_type": "stream",
     "text": [
      "100%|██████████| 50/50 [00:24<00:00,  2.04it/s]\n"
     ]
    }
   ],
   "source": [
    "# Evaluate SDR across the dataset using the provided function using no normalization.\n",
    "sdr_collection = evaluate_sdr_across_dataset(dataset_dict, model, sample_rate, device, normalize=False)"
   ]
  },
  {
   "cell_type": "code",
   "execution_count": 24,
   "metadata": {},
   "outputs": [],
   "source": [
    "def plot_sdr_results(sdr_collection, model):\n",
    "    \"\"\"\n",
    "    Create a box plot for the SDR results for each stem using raw data.\n",
    "\n",
    "    Args:\n",
    "        sdr_collection (torch.Tensor): Tensor containing all SDR results [n_samples, n_stems].\n",
    "        model: Model object containing the sources list.\n",
    "    \"\"\"\n",
    "    stems = model.sources\n",
    "    \n",
    "    plt.figure(figsize=(10, 6))\n",
    "\n",
    "    plt.rcParams.update({'font.size': 16})  # Sets default font size for all elements\n",
    "    \n",
    "    # Extract data for each stem\n",
    "    box_data = [sdr_collection[:, i].numpy() for i in range(len(stems))]\n",
    "    \n",
    "    box_plot = plt.boxplot(box_data, labels=stems, patch_artist=True, showfliers=False, orientation=\"horizontal\", notch=True)\n",
    "    \n",
    "    # Color the boxes\n",
    "    colors = ['blue', 'orange', 'green', 'red']\n",
    "    for patch, color in zip(box_plot['boxes'], colors):\n",
    "        patch.set_facecolor(color)\n",
    "        patch.set_alpha(0.7)\n",
    "    \n",
    "    plt.xlabel('SDR (dB)')\n",
    "    plt.ylabel('Stem')\n",
    "    plt.grid(axis='x', alpha=0.3)\n",
    "    plt.show()"
   ]
  },
  {
   "cell_type": "code",
   "execution_count": 25,
   "metadata": {},
   "outputs": [
    {
     "name": "stderr",
     "output_type": "stream",
     "text": [
      "/var/folders/b3/9p1vx9h57c39zzmtx2ds2ffw0000gn/T/ipykernel_78069/3312871678.py:18: MatplotlibDeprecationWarning: The 'labels' parameter of boxplot() has been renamed 'tick_labels' since Matplotlib 3.9; support for the old name will be dropped in 3.11.\n",
      "  box_plot = plt.boxplot(box_data, labels=stems, patch_artist=True, showfliers=False, orientation=\"horizontal\", notch=True)\n"
     ]
    },
    {
     "data": {
      "image/png": "[encoded data removed]",
      "text/plain": [
       "<Figure size 1000x600 with 1 Axes>"
      ]
     },
     "metadata": {},
     "output_type": "display_data"
    }
   ],
   "source": [
    "plot_sdr_results(sdr_collection, model)"
   ]
  },
  {
   "cell_type": "markdown",
   "metadata": {},
   "source": [
    "## Motivation"
   ]
  },
  {
   "cell_type": "code",
   "execution_count": 72,
   "metadata": {},
   "outputs": [],
   "source": [
    "def generate_new_mixture_with_original_stems(mix, device, stems_dict, target_stem, step, steps):\n",
    "    \"\"\"\n",
    "    Generate a new mixture by adding up the original stems of the song and increasing\n",
    "    the volume of the target stem linearly based on the step and steps.\n",
    "\n",
    "    Args:\n",
    "        mix (torch.Tensor): Original mixture tensor.\n",
    "        device (torch.device): Device to run the computation on.\n",
    "        stems_dict (dict): Dictionary containing the original stems of the song.\n",
    "        target_stem (str): The stem to be enhanced in the new mixture.\n",
    "        step (int): Current step in the progressive inference.\n",
    "        steps (int): Total number of steps in the progressive inference.\n",
    "\n",
    "    Returns:\n",
    "        torch.Tensor: The new mixture tensor.\n",
    "        float: Beta value indicating the proportion of the target stem in the new mixture.\n",
    "    \"\"\"\n",
    "    new_mix = torch.zeros_like(mix)\n",
    "\n",
    "    beta = step / steps\n",
    "\n",
    "    for stem_name, waveform in stems_dict.items():\n",
    "        if stem_name == target_stem:\n",
    "            # Keep the target stem at normal volume\n",
    "            new_mix += waveform.to(device)\n",
    "        else:\n",
    "            # Decrease the volume of other stems linearly\n",
    "            new_mix += waveform.to(device) * (1-beta)\n",
    "\n",
    "\n",
    "    tmp_mix = torch.zeros_like(mix)\n",
    "    for stem_name, waveform in stems_dict.items():\n",
    "        tmp_mix += waveform.to(device) \n",
    "\n",
    "    # calculate the loudness of tmp_mix\n",
    "    loudness_tmp_mix = torch.mean(torch.abs(tmp_mix))\n",
    "\n",
    "    # claculate the loudness of the mix\n",
    "    loudness_mix = torch.mean(torch.abs(mix))\n",
    "\n",
    "    print(f\"Loudness of mix: {loudness_mix.item()}, Loudness of tmp_mix: {loudness_tmp_mix.item()}\")\n",
    "\n",
    "    # scale the new_mix to have the same loudness as the mix\n",
    "    new_mix *= (loudness_mix / loudness_tmp_mix)\n",
    "\n",
    "    return new_mix, beta"
   ]
  },
  {
   "cell_type": "code",
   "execution_count": 27,
   "metadata": {},
   "outputs": [],
   "source": [
    "def schedule(initial_gains, step, steps, target_stem, schedule_type):\n",
    "    \"\"\"\n",
    "    Create a schedule for all stems' gains except the target stem based on the specified schedule type.\n",
    "\n",
    "    Args:\n",
    "        initial_gains (dict): Dictionary of initial gains for each stem.\n",
    "        step (int): The current step in the schedule.\n",
    "        steps (int): The total number of steps in the schedule.\n",
    "        target_stem (str): The stem to keep unchanged.\n",
    "        schedule_type (str): The type of schedule ('linear', or 'constant').\n",
    "\n",
    "    Returns:\n",
    "        dict: Updated gains for each stem.\n",
    "    \"\"\"\n",
    "    updated_gains = initial_gains.copy()\n",
    "\n",
    "    for stem_name in updated_gains:\n",
    "        if stem_name != target_stem:\n",
    "            if schedule_type == \"linear\":\n",
    "                # Linear decrease for non-target stems\n",
    "                updated_gains[stem_name] = initial_gains[stem_name] * (1 - step / steps)\n",
    "            elif schedule_type == \"constant\":\n",
    "                # Constant gain for non-target stems\n",
    "                updated_gains[stem_name] = initial_gains[stem_name]\n",
    "            else:\n",
    "                raise ValueError(\"Invalid schedule type. Choose from 'linear', or 'constant'.\")\n",
    "        # Target stem remains unchanged at its initial gain\n",
    "\n",
    "    return updated_gains"
   ]
  },
  {
   "cell_type": "code",
   "execution_count": 93,
   "metadata": {},
   "outputs": [],
   "source": [
    "def add_up_all_sources(model, mix, target_stem, initial_gains, steps, schedule_type, separated_sources, step):\n",
    "    \"\"\"\n",
    "    Generate a new mixture based on the current step and schedule type.\n",
    "    Args:\n",
    "        model: The separation model.\n",
    "        mix: The input mixture tensor (batch, channels, length).\n",
    "        target_stem: The target stem to be enhanced.\n",
    "        initial_gains: Initial gains for each stem.\n",
    "        steps: Number of steps for progressive inference.\n",
    "        schedule_type: Type of schedule ('linear', 'exponential', or 'constant').\n",
    "        separated_sources: The separated sources tensor (batch, sources, channels, length).\n",
    "        step: Current step in the schedule.\n",
    "    Returns:\n",
    "        new_mix: The new mixture tensor after applying the gains.\n",
    "    \"\"\"\n",
    "    # update the gains based on the schedule\n",
    "    gains = schedule(initial_gains, step, steps, target_stem=target_stem, schedule_type=schedule_type)\n",
    "\n",
    "    beta = None\n",
    "\n",
    "    # create the new mixture and apply the gains to the separated sources\n",
    "    new_mix = torch.zeros_like(mix)\n",
    "    for i, stem_name in enumerate(model.sources):\n",
    "        new_mix += separated_sources[:, i] * gains[stem_name]\n",
    "        if stem_name != target_stem and beta is None:\n",
    "            beta = 1 - gains[stem_name]\n",
    "\n",
    "    return new_mix, beta\n"
   ]
  },
  {
   "cell_type": "code",
   "execution_count": 29,
   "metadata": {},
   "outputs": [],
   "source": [
    "def add_target_to_mixture(mix, separated_sources, index, step, steps):\n",
    "    \"\"\"\n",
    "    Create a new mixture by applying a function inspired by diffusion models.\n",
    "    This function progressively adds the target stem from the separated sources to the original mixture.\n",
    "    The amount added is controlled by the step in the progressive inference.\n",
    "    The new mixture is normalized to ensure it does not exceed the maximum amplitude.\n",
    "\n",
    "    Args:\n",
    "        mix (torch.Tensor): Original mixture tensor.\n",
    "        separated_sources (torch.Tensor): Tensor of separated sources.\n",
    "        index (int): Index of the target stem in the separated sources.\n",
    "        step (int): Current step in the progressive inference.\n",
    "        steps (int): Total number of steps.\n",
    "\n",
    "    Returns:\n",
    "        torch.Tensor: New mixture tensor.\n",
    "        float: Beta value indicating the proportion of the target stem added to the mixture.\n",
    "    \"\"\"\n",
    "    new_mix = torch.zeros_like(mix)\n",
    "    beta = step / steps\n",
    "    new_mix = mix * (1 - beta) + separated_sources[:, index] * beta\n",
    "    \n",
    "    return new_mix, beta\n"
   ]
  },
  {
   "cell_type": "code",
   "execution_count": 30,
   "metadata": {},
   "outputs": [],
   "source": [
    "def wiener_filtering(separated_sources, reference_stem, stem_index):\n",
    "    \"\"\"\n",
    "    Apply Wiener filtering to improve the separation of a target stem.\n",
    "\n",
    "    Args:\n",
    "        separated_sources (torch.Tensor): Tensor of separated sources (batch, sources, channels, length).\n",
    "        reference_stem (torch.Tensor): Reference stem tensor (channels, length).\n",
    "        stem_index (int): Index of the target stem in separated_sources.\n",
    "\n",
    "    Returns:\n",
    "        torch.Tensor: Tensor of the filtered target stem.\n",
    "    \"\"\"\n",
    "    # Compute the accompaniment by subtracting the target stem from the reference stem\n",
    "    accomp = (reference_stem - separated_sources[:, stem_index]).squeeze(0)\n",
    "\n",
    "    # Extract the target stem\n",
    "    separated_stem = separated_sources[:, stem_index].squeeze(0)\n",
    "\n",
    "    # Perform STFT for each channel of the target and accompaniment\n",
    "    target_spec_list = [librosa.stft(separated_stem[channel].cpu().numpy()).T for channel in range(separated_stem.shape[0])]\n",
    "    accomp_spec_list = [librosa.stft(accomp[channel].cpu().numpy()).T for channel in range(accomp.shape[0])]\n",
    "\n",
    "    # Compute magnitude and phase for the target and accompaniment\n",
    "    target_mag = np.stack([np.abs(spec) for spec in target_spec_list], axis=-1)\n",
    "    target_phase = np.stack([np.angle(spec) for spec in target_spec_list], axis=-1)\n",
    "    accomp_mag = np.stack([np.abs(spec) for spec in accomp_spec_list], axis=-1)\n",
    "\n",
    "    # Prepare inputs for Wiener filtering\n",
    "    mix_spec = librosa.stft(reference_stem.cpu().numpy()).T\n",
    "    sources = np.transpose(np.stack([target_mag, accomp_mag], axis=0), [1, 2, 3, 0])\n",
    "\n",
    "    # Apply Wiener filtering\n",
    "    specs = norbert.wiener(sources, mix_spec)\n",
    "\n",
    "    # Reconstruct the target spectrogram with the original phase\n",
    "    target_spec = np.abs(specs[:, :, :, 0]) * np.exp(1j * target_phase)\n",
    "\n",
    "    # Perform inverse STFT for each channel\n",
    "    pred_audio_list = [librosa.istft(target_spec[:, :, channel].T) for channel in range(target_spec.shape[2])]\n",
    "\n",
    "    # Combine channels to create the stereo output\n",
    "    pred_audio = np.stack(pred_audio_list, axis=-1).T\n",
    "\n",
    "    # Convert the result to a tensor and adjust dimensions to match separated_sources\n",
    "    pred_audio_tensor = torch.from_numpy(pred_audio).to(reference_stem.device).unsqueeze(0).unsqueeze(0)\n",
    "\n",
    "    # Ensure compatibility with separated_sources dimensions\n",
    "    if pred_audio_tensor.shape[2] != separated_sources.shape[2]:\n",
    "        pred_audio_tensor = pred_audio_tensor.repeat(1, separated_sources.shape[2], 1)\n",
    "\n",
    "    if pred_audio_tensor.shape[3] != separated_sources.shape[3]:\n",
    "        if pred_audio_tensor.shape[3] < separated_sources.shape[3]:\n",
    "            pred_audio_tensor = torch.nn.functional.pad(pred_audio_tensor, (0, separated_sources.shape[3] - pred_audio_tensor.shape[3]))\n",
    "        else:\n",
    "            pred_audio_tensor = pred_audio_tensor[:, :, :, :separated_sources.shape[3]]\n",
    "\n",
    "    return pred_audio_tensor\n"
   ]
  },
  {
   "cell_type": "code",
   "execution_count": 95,
   "metadata": {},
   "outputs": [],
   "source": [
    "def progressive_inference(\n",
    "    model,\n",
    "    mix,\n",
    "    target_stem,\n",
    "    reference_stems,\n",
    "    initial_gains,\n",
    "    sample_rate,\n",
    "    mixture_update_mode=\"add sources\",\n",
    "    overlap=0.0, \n",
    "    device=None,\n",
    "    normalize=True,\n",
    "    wiener_filter=False,\n",
    "    steps=10,\n",
    "    schedule_type=\"linear\",\n",
    "    fix_clipping=True,\n",
    "    display_output=False\n",
    "):\n",
    "    \"\"\"\n",
    "    Perform progressive inference on the mixture using the specified model and schedule.\n",
    "    Args:\n",
    "        model: The separation model.\n",
    "        mix: The input mixture tensor (batch, channels, length).\n",
    "        target_stem: The target stem to be enhanced.\n",
    "        reference_stems: Dictionary of reference stems for evaluation.\n",
    "        initial_gains: Initial gains for each stem.\n",
    "        sample_rate: Sample rate of the audio.\n",
    "        mixture_update_mode: Mode for updating the mixture ('add sources', 'add to mixture' or 'oracle predictor').\n",
    "        overlap: Overlap between segments in seconds.\n",
    "        device: Device to run the model on (CPU or GPU).\n",
    "        normalize: Whether to normalize the input mixture.\n",
    "        wiener_filter: Whether to apply Wiener filtering to the target stem.\n",
    "        steps: Number of steps for progressive inference.\n",
    "        schedule_type: Type of schedule ('linear', 'exponential', or 'constant').\n",
    "        fix_clipping: Whether to fix audio clipping by normalizing the mixture.\n",
    "        display_output: Whether to display the output audio tracks using IPython.display.\n",
    "    Returns:\n",
    "        separated_sources: The separated sources tensor (batch, sources, channels, length).\n",
    "        sdr_results: List of dictionaries containing SDR results for each step.\n",
    "    \"\"\"\n",
    "\n",
    "    sdr_results = []  # List to store SDR results for each step\n",
    "\n",
    "    sdr_beta_results = []  # List to store SDR results for beta steps\n",
    "\n",
    "    target_index = model.sources.index(target_stem)\n",
    "\n",
    "    if device is None:\n",
    "        device = mix.device\n",
    "    else:\n",
    "        device = torch.device(device)\n",
    "\n",
    "    separated_sources = separate_sources(model, mix, sample_rate=sample_rate, overlap=overlap, device=device, normalize=normalize)\n",
    "\n",
    "    if wiener_filter:\n",
    "        print(\"Applying Wiener filtering...\")\n",
    "        separated_sources[:, target_index] = wiener_filtering(separated_sources, mix, target_index)\n",
    "\n",
    "    # Compute SDR for the initial step\n",
    "    initial_sdr_results = compute_sdrs(model, device, reference_stems, separated_sources)\n",
    "    sdr_results.append(initial_sdr_results)\n",
    "\n",
    "    initial_sdr_beta_results = compute_beta_sdrs(model, device, reference_stems, separated_sources, target_stem, 0.0)\n",
    "    sdr_beta_results.append(initial_sdr_beta_results)\n",
    "\n",
    "    # Progressive inference steps\n",
    "    for step in range(1 , steps + 1): # start from 1 to steps inclusive\n",
    "        # Update the mixture\n",
    "        if mixture_update_mode == \"oracle predictor\":\n",
    "            new_mix, beta = generate_new_mixture_with_original_stems(mix, device, reference_stems, target_stem, step, steps)\n",
    "        elif mixture_update_mode == \"add sources\":\n",
    "            new_mix, beta = add_up_all_sources(model, mix, target_stem, initial_gains, steps, schedule_type, separated_sources, step)\n",
    "        elif mixture_update_mode == \"add to mixture\":\n",
    "            new_mix, beta = add_target_to_mixture(mix, separated_sources, target_index, step, steps)\n",
    "        else:\n",
    "            raise ValueError(\"Invalid mixture update mode. Choose from 'add sources', 'add to mixture', or 'oracle predictor'.\")\n",
    "        \n",
    "        # Check for clipping and raise error if detected\n",
    "        max_amplitude = torch.max(torch.abs(new_mix))\n",
    "        if max_amplitude > 1.0:\n",
    "            if fix_clipping:  \n",
    "                print(f\"Audio clipping detected (max amplitude: {max_amplitude:.4f}). Normalizing to prevent distortion.\")\n",
    "                new_mix = new_mix / max_amplitude\n",
    "            else:\n",
    "                raise ValueError(f\"Audio clipping detected (max amplitude: {max_amplitude:.4f}). Execution blocked to prevent distortion.\")\n",
    "            \n",
    "        # Separate the new mixture\n",
    "        separated_sources = separate_sources(model, new_mix, sample_rate=sample_rate, overlap=overlap, device=device, normalize=normalize)\n",
    "\n",
    "        if wiener_filter:\n",
    "            print(\"Applying Wiener filtering...\")\n",
    "            separated_sources[:, target_index] = wiener_filtering(separated_sources, new_mix, target_index)\n",
    "\n",
    "        # Compute SDR for the current step\n",
    "        step_sdr_results = compute_sdrs(model, device, reference_stems, separated_sources)\n",
    "        sdr_results.append(step_sdr_results)\n",
    "\n",
    "        step_sdr_beta_results = compute_beta_sdrs(model, device, reference_stems, separated_sources, target_stem, beta)\n",
    "        sdr_beta_results.append(step_sdr_beta_results)\n",
    "\n",
    "        if display_output:\n",
    "            # display audio tracks in order to listen to the results using IPython.display\n",
    "            print(f\"Step {step}/{steps} - SDR Results:\")\n",
    "            for stem_name, sdr_value in step_sdr_results.items():\n",
    "                print(f\"{stem_name}: {sdr_value[0]:.2f} dB\")\n",
    "            print(f\"Beta: {beta:.2f}\")\n",
    "            print(\"Playing the track:\")\n",
    "            ipd.display(ipd.Audio(mix[0, :, :].cpu().numpy(), rate=sample_rate, normalize=False))\n",
    "            ipd.display(ipd.Audio(new_mix[0, :, :].cpu().numpy(), rate=sample_rate, normalize=False))\n",
    "            ipd.display(ipd.Audio(separated_sources[0, target_index].cpu().numpy(), rate=sample_rate, normalize=False))\n",
    "            ipd.display(ipd.Audio(reference_stems[target_stem], rate=sample_rate, normalize=False))\n",
    "\n",
    "\n",
    "    return separated_sources, sdr_results, sdr_beta_results"
   ]
  },
  {
   "cell_type": "code",
   "execution_count": 84,
   "metadata": {},
   "outputs": [],
   "source": [
    "def sdr_across_dataset(\n",
    "    dataset_dict,\n",
    "    model,\n",
    "    sample_rate,\n",
    "    device,\n",
    "    normalize = False,\n",
    "    overlap=0.0,\n",
    "    target_stem=\"vocals\",\n",
    "    steps=10,\n",
    "    mixture_update_mode=\"add sources\",\n",
    "    initial_gains=None,\n",
    "    schedule_type=\"linear\",\n",
    "    wiener_filter=False,\n",
    "    display_first_output=False,\n",
    "):\n",
    "    \"\"\"\n",
    "    Perform progressive inference across the dataset.\n",
    "    Args:\n",
    "        dataset_dict (dict): Dictionary containing the dataset.\n",
    "        model: The separation model.\n",
    "        sample_rate: Sample rate of the audio.\n",
    "        device: Device to run the model on (CPU or GPU).\n",
    "        normalize: Whether to normalize the input mixture.\n",
    "        overlap: Overlap between segments in seconds.\n",
    "        target_stem: The target stem to be enhanced.\n",
    "        steps: Number of steps for progressive inference.\n",
    "        mixture_update_mode: Mode for updating the mixture ('add sources' or 'add to mixture').\n",
    "        initial_gains: Initial gains for each stem.\n",
    "        schedule_type: Type of schedule ('linear', 'exponential', or 'constant').\n",
    "        k: Parameter for the smooth transition function.\n",
    "        wiener_filter: Whether to apply Wiener filtering to the target stem.\n",
    "    Returns:\n",
    "        average_sdr (dict): Dictionary containing the average SDR for each stem.\n",
    "    \"\"\"\n",
    "    if initial_gains is None:\n",
    "        initial_gains = {stem: 1 for stem in [\"bass\", \"drums\", \"vocals\", \"other\"]}\n",
    "\n",
    "    sdr_collection_list = [] # tensor to store SDR results for each track\n",
    "    sdr_beta_collection_list = [] # tensor to store beta SDR results for each track\n",
    "\n",
    "    for track_name, stems_dict in tqdm(dataset_dict.items()):\n",
    "\n",
    "        # Ensure the mixture exists in the stems\n",
    "        if \"new_mixture\" not in stems_dict:\n",
    "            print(f\"Skipping track {track_name} as it does not contain a new mixture.\")\n",
    "            continue\n",
    "\n",
    "        # Load the mixture and move it to the correct device\n",
    "        mixture = stems_dict[\"new_mixture\"].to(device).unsqueeze(0)  # Add batch dimension\n",
    "\n",
    "        # if is the first track display output = True\n",
    "        if display_first_output:\n",
    "            display_output = True if track_name == list(dataset_dict.keys())[0] else False\n",
    "        else:\n",
    "            display_output = False\n",
    "        \n",
    "        # Perform progressive inference\n",
    "        _ , sdr_results_single_track, sdr_beta_single_track = progressive_inference(\n",
    "            model,\n",
    "            mixture,\n",
    "            target_stem,\n",
    "            reference_stems=stems_dict,\n",
    "            initial_gains=initial_gains,\n",
    "            sample_rate=sample_rate,\n",
    "            mixture_update_mode=mixture_update_mode,\n",
    "            overlap=overlap, \n",
    "            device=device,\n",
    "            normalize=normalize,\n",
    "            wiener_filter=wiener_filter,\n",
    "            steps=steps,\n",
    "            schedule_type=schedule_type,\n",
    "            display_output=display_output\n",
    "        )\n",
    "\n",
    "        # Convert sdr_results_single_track to a tensor\n",
    "        sdr_tensor = torch.tensor([list(sdr_results_single_track[step].values()) for step in range(steps)]).squeeze(-1)\n",
    "\n",
    "        # Append the SDR tensor to the collection\n",
    "        sdr_collection_list.append(sdr_tensor)\n",
    "\n",
    "        sdr_beta_tensor = torch.tensor([list(sdr_beta_single_track[step].values()) for step in range(steps)]).squeeze(-1)\n",
    "        # Append the beta SDR tensor to the collection\n",
    "        sdr_beta_collection_list.append(sdr_beta_tensor)\n",
    "    \n",
    "    # Evaluate the mean SDR for each stem\n",
    "    sdr_collection = torch.stack(sdr_collection_list)\n",
    "    sdr_collection_mean = torch.mean(sdr_collection, dim=0) \n",
    "    sdr_collection_std = torch.std(sdr_collection, dim=0)\n",
    "    sdr_collection_min_max = torch.min(sdr_collection, dim=0).values, torch.max(sdr_collection, dim=0).values\n",
    "\n",
    "    # Evaluate the mean beta SDR for each stem\n",
    "    sdr_beta_collection = torch.stack(sdr_beta_collection_list)\n",
    "    sdr_collection_mean_beta = torch.mean(sdr_beta_collection, dim=0)\n",
    "    sdr_collection_std_beta = torch.std(sdr_beta_collection, dim=0)\n",
    "    sdr_collection_min_max_beta = torch.min(sdr_beta_collection, dim=0).values, torch.max(sdr_beta_collection, dim=0).values\n",
    "\n",
    "    \n",
    "    return sdr_collection_mean , sdr_collection_std, sdr_collection_min_max, sdr_collection_mean_beta, sdr_collection_std_beta, sdr_collection_min_max_beta\n"
   ]
  },
  {
   "cell_type": "code",
   "execution_count": 33,
   "metadata": {},
   "outputs": [],
   "source": [
    "# Plot the SDR results with min and max values using dashed lines\n",
    "def plot_sdr_results(sdr_mean, sdr_min_max):\n",
    "    \"\"\"\n",
    "    Plot the SDR results for each stem with min/max values as dashed lines.\n",
    "\n",
    "    Args:\n",
    "        sdr_mean (torch.Tensor): Mean SDR values for each stem (shape: [steps, stems]).\n",
    "        sdr_min_max (tuple): Tuple of (min_values, max_values) tensors for each stem.\n",
    "    Returns:\n",
    "        None\n",
    "    \"\"\"\n",
    "\n",
    "    # print average SDR results\n",
    "    print(\"Average SDR results per stem:\", sdr_mean)\n",
    "\n",
    "    # Convert average_sdr tensor to a dictionary with numpy values\n",
    "    average_sdr_dict = {\n",
    "        \"drums\": sdr_mean[:, 0].cpu().numpy(),\n",
    "        \"bass\": sdr_mean[:, 1].cpu().numpy(),\n",
    "        \"other\": sdr_mean[:, 2].cpu().numpy(),\n",
    "        \"vocals\": sdr_mean[:, 3].cpu().numpy()\n",
    "    }\n",
    "\n",
    "    # Convert min/max values\n",
    "    sdr_min_max_dict = {\n",
    "        \"drums\": (sdr_min_max[0][:, 0].cpu().numpy(), sdr_min_max[1][:, 0].cpu().numpy()),\n",
    "        \"bass\": (sdr_min_max[0][:, 1].cpu().numpy(), sdr_min_max[1][:, 1].cpu().numpy()),\n",
    "        \"other\": (sdr_min_max[0][:, 2].cpu().numpy(),sdr_min_max[1][:, 2].cpu().numpy()),\n",
    "        \"vocals\": (sdr_min_max[0][:, 3].cpu().numpy(),sdr_min_max[1][:, 3].cpu().numpy())\n",
    "    }\n",
    "\n",
    "    steps = np.arange(1, len(average_sdr_dict[\"bass\"]) + 1)\n",
    "\n",
    "    plt.figure(figsize=(12, 6))\n",
    "    colors = ['blue', 'orange', 'green', 'red']\n",
    "    \n",
    "    for stem, color in zip(average_sdr_dict.keys(), colors):\n",
    "        plt.plot(steps, average_sdr_dict[stem], label=f\"{stem.capitalize()} (mean)\", \n",
    "                color=color, linewidth=2)\n",
    "        \n",
    "        plt.fill_between(\n",
    "            steps,\n",
    "            sdr_min_max_dict[stem][0],\n",
    "            sdr_min_max_dict[stem][1],\n",
    "            color=color,\n",
    "            alpha=0.2\n",
    "        )\n",
    "\n",
    "    plt.xlabel('Steps')\n",
    "    plt.ylabel('Average SDR (dB)')\n",
    "    plt.legend()\n",
    "    plt.grid(alpha=0.3)\n",
    "    plt.tight_layout()\n",
    "    plt.show()\n"
   ]
  },
  {
   "cell_type": "markdown",
   "metadata": {},
   "source": [
    "## Remixing with original stems (Oracle Predictor)"
   ]
  },
  {
   "cell_type": "code",
   "execution_count": 77,
   "metadata": {},
   "outputs": [
    {
     "name": "stderr",
     "output_type": "stream",
     "text": [
      "  0%|          | 0/50 [00:00<?, ?it/s]"
     ]
    },
    {
     "name": "stdout",
     "output_type": "stream",
     "text": [
      "Original loudness: 0.1283\n",
      "Loudness of homogeneus mixture: 0.1280\n",
      "Loudness of mix: 0.12834155559539795, Loudness of tmp_mix: 0.3850274682044983\n",
      "Step 1/10 - Loudness of new mixture: 0.1165\n",
      "Loudness of mix: 0.12834155559539795, Loudness of tmp_mix: 0.3850274682044983\n",
      "Step 2/10 - Loudness of new mixture: 0.1047\n",
      "Loudness of mix: 0.12834155559539795, Loudness of tmp_mix: 0.3850274682044983\n",
      "Step 3/10 - Loudness of new mixture: 0.0930\n",
      "Loudness of mix: 0.12834155559539795, Loudness of tmp_mix: 0.3850274682044983\n",
      "Step 4/10 - Loudness of new mixture: 0.0812\n",
      "Loudness of mix: 0.12834155559539795, Loudness of tmp_mix: 0.3850274682044983\n",
      "Step 5/10 - Loudness of new mixture: 0.0696\n",
      "Loudness of mix: 0.12834155559539795, Loudness of tmp_mix: 0.3850274682044983\n",
      "Step 6/10 - Loudness of new mixture: 0.0580\n",
      "Loudness of mix: 0.12834155559539795, Loudness of tmp_mix: 0.3850274682044983\n",
      "Step 7/10 - Loudness of new mixture: 0.0466\n",
      "Loudness of mix: 0.12834155559539795, Loudness of tmp_mix: 0.3850274682044983\n",
      "Step 8/10 - Loudness of new mixture: 0.0354\n",
      "Loudness of mix: 0.12834155559539795, Loudness of tmp_mix: 0.3850274682044983\n",
      "Step 9/10 - Loudness of new mixture: 0.0249\n",
      "Loudness of mix: 0.12834155559539795, Loudness of tmp_mix: 0.3850274682044983\n",
      "Step 10/10 - Loudness of new mixture: 0.0165\n"
     ]
    },
    {
     "name": "stderr",
     "output_type": "stream",
     "text": [
      "  2%|▏         | 1/50 [00:05<04:36,  5.65s/it]"
     ]
    },
    {
     "name": "stdout",
     "output_type": "stream",
     "text": [
      "Original loudness: 0.0657\n",
      "Loudness of homogeneus mixture: 0.0657\n",
      "Loudness of mix: 0.06573797762393951, Loudness of tmp_mix: 0.1972152143716812\n",
      "Step 1/10 - Loudness of new mixture: 0.0596\n",
      "Loudness of mix: 0.06573797762393951, Loudness of tmp_mix: 0.1972152143716812\n",
      "Step 2/10 - Loudness of new mixture: 0.0536\n",
      "Loudness of mix: 0.06573797762393951, Loudness of tmp_mix: 0.1972152143716812\n",
      "Step 3/10 - Loudness of new mixture: 0.0475\n",
      "Loudness of mix: 0.06573797762393951, Loudness of tmp_mix: 0.1972152143716812\n",
      "Step 4/10 - Loudness of new mixture: 0.0414\n",
      "Loudness of mix: 0.06573797762393951, Loudness of tmp_mix: 0.1972152143716812\n",
      "Step 5/10 - Loudness of new mixture: 0.0354\n",
      "Loudness of mix: 0.06573797762393951, Loudness of tmp_mix: 0.1972152143716812\n",
      "Step 6/10 - Loudness of new mixture: 0.0295\n",
      "Loudness of mix: 0.06573797762393951, Loudness of tmp_mix: 0.1972152143716812\n",
      "Step 7/10 - Loudness of new mixture: 0.0236\n",
      "Loudness of mix: 0.06573797762393951, Loudness of tmp_mix: 0.1972152143716812\n",
      "Step 8/10 - Loudness of new mixture: 0.0178\n",
      "Loudness of mix: 0.06573797762393951, Loudness of tmp_mix: 0.1972152143716812\n",
      "Step 9/10 - Loudness of new mixture: 0.0123\n",
      "Loudness of mix: 0.06573797762393951, Loudness of tmp_mix: 0.1972152143716812\n",
      "Step 10/10 - Loudness of new mixture: 0.0078\n"
     ]
    },
    {
     "name": "stderr",
     "output_type": "stream",
     "text": [
      "  4%|▍         | 2/50 [00:11<04:24,  5.52s/it]"
     ]
    },
    {
     "name": "stdout",
     "output_type": "stream",
     "text": [
      "Original loudness: 0.0731\n",
      "Loudness of homogeneus mixture: 0.0731\n",
      "Loudness of mix: 0.0731232687830925, Loudness of tmp_mix: 0.21937309205532074\n",
      "Step 1/10 - Loudness of new mixture: 0.0666\n",
      "Loudness of mix: 0.0731232687830925, Loudness of tmp_mix: 0.21937309205532074\n",
      "Step 2/10 - Loudness of new mixture: 0.0601\n",
      "Loudness of mix: 0.0731232687830925, Loudness of tmp_mix: 0.21937309205532074\n",
      "Step 3/10 - Loudness of new mixture: 0.0536\n",
      "Loudness of mix: 0.0731232687830925, Loudness of tmp_mix: 0.21937309205532074\n",
      "Step 4/10 - Loudness of new mixture: 0.0472\n",
      "Loudness of mix: 0.0731232687830925, Loudness of tmp_mix: 0.21937309205532074\n",
      "Step 5/10 - Loudness of new mixture: 0.0408\n",
      "Loudness of mix: 0.0731232687830925, Loudness of tmp_mix: 0.21937309205532074\n",
      "Step 6/10 - Loudness of new mixture: 0.0344\n",
      "Loudness of mix: 0.0731232687830925, Loudness of tmp_mix: 0.21937309205532074\n",
      "Step 7/10 - Loudness of new mixture: 0.0282\n",
      "Loudness of mix: 0.0731232687830925, Loudness of tmp_mix: 0.21937309205532074\n",
      "Step 8/10 - Loudness of new mixture: 0.0221\n",
      "Loudness of mix: 0.0731232687830925, Loudness of tmp_mix: 0.21937309205532074\n",
      "Step 9/10 - Loudness of new mixture: 0.0164\n",
      "Loudness of mix: 0.0731232687830925, Loudness of tmp_mix: 0.21937309205532074\n",
      "Step 10/10 - Loudness of new mixture: 0.0118\n"
     ]
    },
    {
     "name": "stderr",
     "output_type": "stream",
     "text": [
      "  6%|▌         | 3/50 [00:16<04:17,  5.48s/it]"
     ]
    },
    {
     "name": "stdout",
     "output_type": "stream",
     "text": [
      "Original loudness: 0.0888\n",
      "Loudness of homogeneus mixture: 0.0888\n",
      "Loudness of mix: 0.08883223682641983, Loudness of tmp_mix: 0.26650020480155945\n",
      "Step 1/10 - Loudness of new mixture: 0.0802\n",
      "Loudness of mix: 0.08883223682641983, Loudness of tmp_mix: 0.26650020480155945\n",
      "Step 2/10 - Loudness of new mixture: 0.0716\n",
      "Loudness of mix: 0.08883223682641983, Loudness of tmp_mix: 0.26650020480155945\n",
      "Step 3/10 - Loudness of new mixture: 0.0629\n",
      "Loudness of mix: 0.08883223682641983, Loudness of tmp_mix: 0.26650020480155945\n",
      "Step 4/10 - Loudness of new mixture: 0.0543\n",
      "Loudness of mix: 0.08883223682641983, Loudness of tmp_mix: 0.26650020480155945\n",
      "Step 5/10 - Loudness of new mixture: 0.0457\n",
      "Loudness of mix: 0.08883223682641983, Loudness of tmp_mix: 0.26650020480155945\n",
      "Step 6/10 - Loudness of new mixture: 0.0371\n",
      "Loudness of mix: 0.08883223682641983, Loudness of tmp_mix: 0.26650020480155945\n",
      "Step 7/10 - Loudness of new mixture: 0.0286\n",
      "Loudness of mix: 0.08883223682641983, Loudness of tmp_mix: 0.26650020480155945\n",
      "Step 8/10 - Loudness of new mixture: 0.0201\n",
      "Loudness of mix: 0.08883223682641983, Loudness of tmp_mix: 0.26650020480155945\n",
      "Step 9/10 - Loudness of new mixture: 0.0118\n",
      "Loudness of mix: 0.08883223682641983, Loudness of tmp_mix: 0.26650020480155945\n",
      "Step 10/10 - Loudness of new mixture: 0.0043\n"
     ]
    },
    {
     "name": "stderr",
     "output_type": "stream",
     "text": [
      "  8%|▊         | 4/50 [00:21<04:10,  5.46s/it]"
     ]
    },
    {
     "name": "stdout",
     "output_type": "stream",
     "text": [
      "Original loudness: 0.0313\n",
      "Loudness of homogeneus mixture: 0.0314\n",
      "Loudness of mix: 0.031349580734968185, Loudness of tmp_mix: 0.09405043721199036\n",
      "Step 1/10 - Loudness of new mixture: 0.0288\n",
      "Loudness of mix: 0.031349580734968185, Loudness of tmp_mix: 0.09405043721199036\n",
      "Step 2/10 - Loudness of new mixture: 0.0263\n",
      "Loudness of mix: 0.031349580734968185, Loudness of tmp_mix: 0.09405043721199036\n",
      "Step 3/10 - Loudness of new mixture: 0.0238\n",
      "Loudness of mix: 0.031349580734968185, Loudness of tmp_mix: 0.09405043721199036\n",
      "Step 4/10 - Loudness of new mixture: 0.0212\n",
      "Loudness of mix: 0.031349580734968185, Loudness of tmp_mix: 0.09405043721199036\n",
      "Step 5/10 - Loudness of new mixture: 0.0187\n",
      "Loudness of mix: 0.031349580734968185, Loudness of tmp_mix: 0.09405043721199036\n",
      "Step 6/10 - Loudness of new mixture: 0.0162\n",
      "Loudness of mix: 0.031349580734968185, Loudness of tmp_mix: 0.09405043721199036\n",
      "Step 7/10 - Loudness of new mixture: 0.0138\n",
      "Loudness of mix: 0.031349580734968185, Loudness of tmp_mix: 0.09405043721199036\n",
      "Step 8/10 - Loudness of new mixture: 0.0114\n",
      "Loudness of mix: 0.031349580734968185, Loudness of tmp_mix: 0.09405043721199036\n",
      "Step 9/10 - Loudness of new mixture: 0.0091\n",
      "Loudness of mix: 0.031349580734968185, Loudness of tmp_mix: 0.09405043721199036\n",
      "Step 10/10 - Loudness of new mixture: 0.0070\n"
     ]
    },
    {
     "name": "stderr",
     "output_type": "stream",
     "text": [
      " 10%|█         | 5/50 [00:27<04:04,  5.44s/it]"
     ]
    },
    {
     "name": "stdout",
     "output_type": "stream",
     "text": [
      "Original loudness: 0.0692\n",
      "Loudness of homogeneus mixture: 0.0690\n",
      "Loudness of mix: 0.06917960196733475, Loudness of tmp_mix: 0.2075423300266266\n",
      "Step 1/10 - Loudness of new mixture: 0.0632\n",
      "Loudness of mix: 0.06917960196733475, Loudness of tmp_mix: 0.2075423300266266\n",
      "Step 2/10 - Loudness of new mixture: 0.0572\n",
      "Loudness of mix: 0.06917960196733475, Loudness of tmp_mix: 0.2075423300266266\n",
      "Step 3/10 - Loudness of new mixture: 0.0512\n",
      "Loudness of mix: 0.06917960196733475, Loudness of tmp_mix: 0.2075423300266266\n",
      "Step 4/10 - Loudness of new mixture: 0.0453\n",
      "Loudness of mix: 0.06917960196733475, Loudness of tmp_mix: 0.2075423300266266\n",
      "Step 5/10 - Loudness of new mixture: 0.0393\n",
      "Loudness of mix: 0.06917960196733475, Loudness of tmp_mix: 0.2075423300266266\n",
      "Step 6/10 - Loudness of new mixture: 0.0335\n",
      "Loudness of mix: 0.06917960196733475, Loudness of tmp_mix: 0.2075423300266266\n",
      "Step 7/10 - Loudness of new mixture: 0.0277\n",
      "Loudness of mix: 0.06917960196733475, Loudness of tmp_mix: 0.2075423300266266\n",
      "Step 8/10 - Loudness of new mixture: 0.0221\n",
      "Loudness of mix: 0.06917960196733475, Loudness of tmp_mix: 0.2075423300266266\n",
      "Step 9/10 - Loudness of new mixture: 0.0167\n",
      "Loudness of mix: 0.06917960196733475, Loudness of tmp_mix: 0.2075423300266266\n",
      "Step 10/10 - Loudness of new mixture: 0.0123\n"
     ]
    },
    {
     "name": "stderr",
     "output_type": "stream",
     "text": [
      " 12%|█▏        | 6/50 [00:32<03:59,  5.44s/it]"
     ]
    },
    {
     "name": "stdout",
     "output_type": "stream",
     "text": [
      "Original loudness: 0.0960\n",
      "Loudness of homogeneus mixture: 0.0960\n",
      "Loudness of mix: 0.09598968178033829, Loudness of tmp_mix: 0.2879710793495178\n",
      "Step 1/10 - Loudness of new mixture: 0.0871\n",
      "Loudness of mix: 0.09598968178033829, Loudness of tmp_mix: 0.2879710793495178\n",
      "Step 2/10 - Loudness of new mixture: 0.0783\n",
      "Loudness of mix: 0.09598968178033829, Loudness of tmp_mix: 0.2879710793495178\n",
      "Step 3/10 - Loudness of new mixture: 0.0694\n",
      "Loudness of mix: 0.09598968178033829, Loudness of tmp_mix: 0.2879710793495178\n",
      "Step 4/10 - Loudness of new mixture: 0.0606\n",
      "Loudness of mix: 0.09598968178033829, Loudness of tmp_mix: 0.2879710793495178\n",
      "Step 5/10 - Loudness of new mixture: 0.0518\n",
      "Loudness of mix: 0.09598968178033829, Loudness of tmp_mix: 0.2879710793495178\n",
      "Step 6/10 - Loudness of new mixture: 0.0432\n",
      "Loudness of mix: 0.09598968178033829, Loudness of tmp_mix: 0.2879710793495178\n",
      "Step 7/10 - Loudness of new mixture: 0.0346\n",
      "Loudness of mix: 0.09598968178033829, Loudness of tmp_mix: 0.2879710793495178\n",
      "Step 8/10 - Loudness of new mixture: 0.0263\n",
      "Loudness of mix: 0.09598968178033829, Loudness of tmp_mix: 0.2879710793495178\n",
      "Step 9/10 - Loudness of new mixture: 0.0185\n",
      "Loudness of mix: 0.09598968178033829, Loudness of tmp_mix: 0.2879710793495178\n",
      "Step 10/10 - Loudness of new mixture: 0.0124\n"
     ]
    },
    {
     "name": "stderr",
     "output_type": "stream",
     "text": [
      " 14%|█▍        | 7/50 [00:38<03:53,  5.43s/it]"
     ]
    },
    {
     "name": "stdout",
     "output_type": "stream",
     "text": [
      "Original loudness: 0.0950\n",
      "Loudness of homogeneus mixture: 0.0950\n",
      "Loudness of mix: 0.09502003341913223, Loudness of tmp_mix: 0.2850612998008728\n",
      "Step 1/10 - Loudness of new mixture: 0.0861\n",
      "Loudness of mix: 0.09502003341913223, Loudness of tmp_mix: 0.2850612998008728\n",
      "Step 2/10 - Loudness of new mixture: 0.0772\n",
      "Loudness of mix: 0.09502003341913223, Loudness of tmp_mix: 0.2850612998008728\n",
      "Step 3/10 - Loudness of new mixture: 0.0683\n",
      "Loudness of mix: 0.09502003341913223, Loudness of tmp_mix: 0.2850612998008728\n",
      "Step 4/10 - Loudness of new mixture: 0.0595\n",
      "Loudness of mix: 0.09502003341913223, Loudness of tmp_mix: 0.2850612998008728\n",
      "Step 5/10 - Loudness of new mixture: 0.0507\n",
      "Loudness of mix: 0.09502003341913223, Loudness of tmp_mix: 0.2850612998008728\n",
      "Step 6/10 - Loudness of new mixture: 0.0419\n",
      "Loudness of mix: 0.09502003341913223, Loudness of tmp_mix: 0.2850612998008728\n",
      "Step 7/10 - Loudness of new mixture: 0.0333\n",
      "Loudness of mix: 0.09502003341913223, Loudness of tmp_mix: 0.2850612998008728\n",
      "Step 8/10 - Loudness of new mixture: 0.0249\n",
      "Loudness of mix: 0.09502003341913223, Loudness of tmp_mix: 0.2850612998008728\n",
      "Step 9/10 - Loudness of new mixture: 0.0171\n",
      "Loudness of mix: 0.09502003341913223, Loudness of tmp_mix: 0.2850612998008728\n",
      "Step 10/10 - Loudness of new mixture: 0.0111\n"
     ]
    },
    {
     "name": "stderr",
     "output_type": "stream",
     "text": [
      " 16%|█▌        | 8/50 [00:43<03:48,  5.43s/it]"
     ]
    },
    {
     "name": "stdout",
     "output_type": "stream",
     "text": [
      "Original loudness: 0.1089\n",
      "Loudness of homogeneus mixture: 0.1088\n",
      "Loudness of mix: 0.10891205072402954, Loudness of tmp_mix: 0.3267363905906677\n",
      "Step 1/10 - Loudness of new mixture: 0.0988\n",
      "Loudness of mix: 0.10891205072402954, Loudness of tmp_mix: 0.3267363905906677\n",
      "Step 2/10 - Loudness of new mixture: 0.0888\n",
      "Loudness of mix: 0.10891205072402954, Loudness of tmp_mix: 0.3267363905906677\n",
      "Step 3/10 - Loudness of new mixture: 0.0787\n",
      "Loudness of mix: 0.10891205072402954, Loudness of tmp_mix: 0.3267363905906677\n",
      "Step 4/10 - Loudness of new mixture: 0.0688\n",
      "Loudness of mix: 0.10891205072402954, Loudness of tmp_mix: 0.3267363905906677\n",
      "Step 5/10 - Loudness of new mixture: 0.0588\n",
      "Loudness of mix: 0.10891205072402954, Loudness of tmp_mix: 0.3267363905906677\n",
      "Step 6/10 - Loudness of new mixture: 0.0490\n",
      "Loudness of mix: 0.10891205072402954, Loudness of tmp_mix: 0.3267363905906677\n",
      "Step 7/10 - Loudness of new mixture: 0.0393\n",
      "Loudness of mix: 0.10891205072402954, Loudness of tmp_mix: 0.3267363905906677\n",
      "Step 8/10 - Loudness of new mixture: 0.0299\n",
      "Loudness of mix: 0.10891205072402954, Loudness of tmp_mix: 0.3267363905906677\n",
      "Step 9/10 - Loudness of new mixture: 0.0212\n",
      "Loudness of mix: 0.10891205072402954, Loudness of tmp_mix: 0.3267363905906677\n",
      "Step 10/10 - Loudness of new mixture: 0.0147\n"
     ]
    },
    {
     "name": "stderr",
     "output_type": "stream",
     "text": [
      " 18%|█▊        | 9/50 [00:49<03:42,  5.43s/it]"
     ]
    },
    {
     "name": "stdout",
     "output_type": "stream",
     "text": [
      "Original loudness: 0.0986\n",
      "Loudness of homogeneus mixture: 0.0985\n",
      "Loudness of mix: 0.09864401072263718, Loudness of tmp_mix: 0.2959345281124115\n",
      "Step 1/10 - Loudness of new mixture: 0.0896\n",
      "Loudness of mix: 0.09864401072263718, Loudness of tmp_mix: 0.2959345281124115\n",
      "Step 2/10 - Loudness of new mixture: 0.0805\n",
      "Loudness of mix: 0.09864401072263718, Loudness of tmp_mix: 0.2959345281124115\n",
      "Step 3/10 - Loudness of new mixture: 0.0715\n",
      "Loudness of mix: 0.09864401072263718, Loudness of tmp_mix: 0.2959345281124115\n",
      "Step 4/10 - Loudness of new mixture: 0.0626\n",
      "Loudness of mix: 0.09864401072263718, Loudness of tmp_mix: 0.2959345281124115\n",
      "Step 5/10 - Loudness of new mixture: 0.0536\n",
      "Loudness of mix: 0.09864401072263718, Loudness of tmp_mix: 0.2959345281124115\n",
      "Step 6/10 - Loudness of new mixture: 0.0448\n",
      "Loudness of mix: 0.09864401072263718, Loudness of tmp_mix: 0.2959345281124115\n",
      "Step 7/10 - Loudness of new mixture: 0.0361\n",
      "Loudness of mix: 0.09864401072263718, Loudness of tmp_mix: 0.2959345281124115\n",
      "Step 8/10 - Loudness of new mixture: 0.0277\n",
      "Loudness of mix: 0.09864401072263718, Loudness of tmp_mix: 0.2959345281124115\n",
      "Step 9/10 - Loudness of new mixture: 0.0199\n",
      "Loudness of mix: 0.09864401072263718, Loudness of tmp_mix: 0.2959345281124115\n",
      "Step 10/10 - Loudness of new mixture: 0.0137\n"
     ]
    },
    {
     "name": "stderr",
     "output_type": "stream",
     "text": [
      " 20%|██        | 10/50 [00:54<03:38,  5.46s/it]"
     ]
    },
    {
     "name": "stdout",
     "output_type": "stream",
     "text": [
      "Original loudness: 0.0670\n",
      "Loudness of homogeneus mixture: 0.0669\n",
      "Loudness of mix: 0.0669776052236557, Loudness of tmp_mix: 0.200935497879982\n",
      "Step 1/10 - Loudness of new mixture: 0.0606\n",
      "Loudness of mix: 0.0669776052236557, Loudness of tmp_mix: 0.200935497879982\n",
      "Step 2/10 - Loudness of new mixture: 0.0543\n",
      "Loudness of mix: 0.0669776052236557, Loudness of tmp_mix: 0.200935497879982\n",
      "Step 3/10 - Loudness of new mixture: 0.0480\n",
      "Loudness of mix: 0.0669776052236557, Loudness of tmp_mix: 0.200935497879982\n",
      "Step 4/10 - Loudness of new mixture: 0.0417\n",
      "Loudness of mix: 0.0669776052236557, Loudness of tmp_mix: 0.200935497879982\n",
      "Step 5/10 - Loudness of new mixture: 0.0355\n",
      "Loudness of mix: 0.0669776052236557, Loudness of tmp_mix: 0.200935497879982\n",
      "Step 6/10 - Loudness of new mixture: 0.0293\n",
      "Loudness of mix: 0.0669776052236557, Loudness of tmp_mix: 0.200935497879982\n",
      "Step 7/10 - Loudness of new mixture: 0.0232\n",
      "Loudness of mix: 0.0669776052236557, Loudness of tmp_mix: 0.200935497879982\n",
      "Step 8/10 - Loudness of new mixture: 0.0172\n",
      "Loudness of mix: 0.0669776052236557, Loudness of tmp_mix: 0.200935497879982\n",
      "Step 9/10 - Loudness of new mixture: 0.0115\n",
      "Loudness of mix: 0.0669776052236557, Loudness of tmp_mix: 0.200935497879982\n",
      "Step 10/10 - Loudness of new mixture: 0.0069\n"
     ]
    },
    {
     "name": "stderr",
     "output_type": "stream",
     "text": [
      " 22%|██▏       | 11/50 [01:00<03:33,  5.47s/it]"
     ]
    },
    {
     "name": "stdout",
     "output_type": "stream",
     "text": [
      "Original loudness: 0.1007\n",
      "Loudness of homogeneus mixture: 0.1008\n",
      "Loudness of mix: 0.10072074830532074, Loudness of tmp_mix: 0.30216288566589355\n",
      "Step 1/10 - Loudness of new mixture: 0.0920\n",
      "Loudness of mix: 0.10072074830532074, Loudness of tmp_mix: 0.30216288566589355\n",
      "Step 2/10 - Loudness of new mixture: 0.0833\n",
      "Loudness of mix: 0.10072074830532074, Loudness of tmp_mix: 0.30216288566589355\n",
      "Step 3/10 - Loudness of new mixture: 0.0747\n",
      "Loudness of mix: 0.10072074830532074, Loudness of tmp_mix: 0.30216288566589355\n",
      "Step 4/10 - Loudness of new mixture: 0.0661\n",
      "Loudness of mix: 0.10072074830532074, Loudness of tmp_mix: 0.30216288566589355\n",
      "Step 5/10 - Loudness of new mixture: 0.0576\n",
      "Loudness of mix: 0.10072074830532074, Loudness of tmp_mix: 0.30216288566589355\n",
      "Step 6/10 - Loudness of new mixture: 0.0491\n",
      "Loudness of mix: 0.10072074830532074, Loudness of tmp_mix: 0.30216288566589355\n",
      "Step 7/10 - Loudness of new mixture: 0.0409\n",
      "Loudness of mix: 0.10072074830532074, Loudness of tmp_mix: 0.30216288566589355\n",
      "Step 8/10 - Loudness of new mixture: 0.0329\n",
      "Loudness of mix: 0.10072074830532074, Loudness of tmp_mix: 0.30216288566589355\n",
      "Step 9/10 - Loudness of new mixture: 0.0256\n",
      "Loudness of mix: 0.10072074830532074, Loudness of tmp_mix: 0.30216288566589355\n",
      "Step 10/10 - Loudness of new mixture: 0.0199\n"
     ]
    },
    {
     "name": "stderr",
     "output_type": "stream",
     "text": [
      " 24%|██▍       | 12/50 [01:05<03:27,  5.45s/it]"
     ]
    },
    {
     "name": "stdout",
     "output_type": "stream",
     "text": [
      "Original loudness: 0.0798\n",
      "Loudness of homogeneus mixture: 0.0796\n",
      "Loudness of mix: 0.07976862788200378, Loudness of tmp_mix: 0.239308163523674\n",
      "Step 1/10 - Loudness of new mixture: 0.0727\n",
      "Loudness of mix: 0.07976862788200378, Loudness of tmp_mix: 0.239308163523674\n",
      "Step 2/10 - Loudness of new mixture: 0.0657\n",
      "Loudness of mix: 0.07976862788200378, Loudness of tmp_mix: 0.239308163523674\n",
      "Step 3/10 - Loudness of new mixture: 0.0587\n",
      "Loudness of mix: 0.07976862788200378, Loudness of tmp_mix: 0.239308163523674\n",
      "Step 4/10 - Loudness of new mixture: 0.0517\n",
      "Loudness of mix: 0.07976862788200378, Loudness of tmp_mix: 0.239308163523674\n",
      "Step 5/10 - Loudness of new mixture: 0.0448\n",
      "Loudness of mix: 0.07976862788200378, Loudness of tmp_mix: 0.239308163523674\n",
      "Step 6/10 - Loudness of new mixture: 0.0379\n",
      "Loudness of mix: 0.07976862788200378, Loudness of tmp_mix: 0.239308163523674\n",
      "Step 7/10 - Loudness of new mixture: 0.0311\n",
      "Loudness of mix: 0.07976862788200378, Loudness of tmp_mix: 0.239308163523674\n",
      "Step 8/10 - Loudness of new mixture: 0.0246\n",
      "Loudness of mix: 0.07976862788200378, Loudness of tmp_mix: 0.239308163523674\n",
      "Step 9/10 - Loudness of new mixture: 0.0184\n",
      "Loudness of mix: 0.07976862788200378, Loudness of tmp_mix: 0.239308163523674\n",
      "Step 10/10 - Loudness of new mixture: 0.0135\n"
     ]
    },
    {
     "name": "stderr",
     "output_type": "stream",
     "text": [
      " 26%|██▌       | 13/50 [01:10<03:21,  5.44s/it]"
     ]
    },
    {
     "name": "stdout",
     "output_type": "stream",
     "text": [
      "Original loudness: 0.1018\n",
      "Loudness of homogeneus mixture: 0.1015\n",
      "Loudness of mix: 0.10178019106388092, Loudness of tmp_mix: 0.30534201860427856\n",
      "Step 1/10 - Loudness of new mixture: 0.0919\n",
      "Loudness of mix: 0.10178019106388092, Loudness of tmp_mix: 0.30534201860427856\n",
      "Step 2/10 - Loudness of new mixture: 0.0821\n",
      "Loudness of mix: 0.10178019106388092, Loudness of tmp_mix: 0.30534201860427856\n",
      "Step 3/10 - Loudness of new mixture: 0.0723\n",
      "Loudness of mix: 0.10178019106388092, Loudness of tmp_mix: 0.30534201860427856\n",
      "Step 4/10 - Loudness of new mixture: 0.0625\n",
      "Loudness of mix: 0.10178019106388092, Loudness of tmp_mix: 0.30534201860427856\n",
      "Step 5/10 - Loudness of new mixture: 0.0528\n",
      "Loudness of mix: 0.10178019106388092, Loudness of tmp_mix: 0.30534201860427856\n",
      "Step 6/10 - Loudness of new mixture: 0.0430\n",
      "Loudness of mix: 0.10178019106388092, Loudness of tmp_mix: 0.30534201860427856\n",
      "Step 7/10 - Loudness of new mixture: 0.0334\n",
      "Loudness of mix: 0.10178019106388092, Loudness of tmp_mix: 0.30534201860427856\n",
      "Step 8/10 - Loudness of new mixture: 0.0240\n",
      "Loudness of mix: 0.10178019106388092, Loudness of tmp_mix: 0.30534201860427856\n",
      "Step 9/10 - Loudness of new mixture: 0.0149\n",
      "Loudness of mix: 0.10178019106388092, Loudness of tmp_mix: 0.30534201860427856\n",
      "Step 10/10 - Loudness of new mixture: 0.0071\n"
     ]
    },
    {
     "name": "stderr",
     "output_type": "stream",
     "text": [
      " 28%|██▊       | 14/50 [01:16<03:15,  5.43s/it]"
     ]
    },
    {
     "name": "stdout",
     "output_type": "stream",
     "text": [
      "Original loudness: 0.0853\n",
      "Loudness of homogeneus mixture: 0.0854\n",
      "Loudness of mix: 0.08529622852802277, Loudness of tmp_mix: 0.2558920681476593\n",
      "Step 1/10 - Loudness of new mixture: 0.0776\n",
      "Loudness of mix: 0.08529622852802277, Loudness of tmp_mix: 0.2558920681476593\n",
      "Step 2/10 - Loudness of new mixture: 0.0698\n",
      "Loudness of mix: 0.08529622852802277, Loudness of tmp_mix: 0.2558920681476593\n",
      "Step 3/10 - Loudness of new mixture: 0.0621\n",
      "Loudness of mix: 0.08529622852802277, Loudness of tmp_mix: 0.2558920681476593\n",
      "Step 4/10 - Loudness of new mixture: 0.0545\n",
      "Loudness of mix: 0.08529622852802277, Loudness of tmp_mix: 0.2558920681476593\n",
      "Step 5/10 - Loudness of new mixture: 0.0468\n",
      "Loudness of mix: 0.08529622852802277, Loudness of tmp_mix: 0.2558920681476593\n",
      "Step 6/10 - Loudness of new mixture: 0.0392\n",
      "Loudness of mix: 0.08529622852802277, Loudness of tmp_mix: 0.2558920681476593\n",
      "Step 7/10 - Loudness of new mixture: 0.0317\n",
      "Loudness of mix: 0.08529622852802277, Loudness of tmp_mix: 0.2558920681476593\n",
      "Step 8/10 - Loudness of new mixture: 0.0244\n",
      "Loudness of mix: 0.08529622852802277, Loudness of tmp_mix: 0.2558920681476593\n",
      "Step 9/10 - Loudness of new mixture: 0.0174\n",
      "Loudness of mix: 0.08529622852802277, Loudness of tmp_mix: 0.2558920681476593\n",
      "Step 10/10 - Loudness of new mixture: 0.0114\n"
     ]
    },
    {
     "name": "stderr",
     "output_type": "stream",
     "text": [
      " 30%|███       | 15/50 [01:21<03:10,  5.43s/it]"
     ]
    },
    {
     "name": "stdout",
     "output_type": "stream",
     "text": [
      "Original loudness: 0.1287\n",
      "Loudness of homogeneus mixture: 0.1285\n",
      "Loudness of mix: 0.1286526918411255, Loudness of tmp_mix: 0.38596007227897644\n",
      "Step 1/10 - Loudness of new mixture: 0.1162\n",
      "Loudness of mix: 0.1286526918411255, Loudness of tmp_mix: 0.38596007227897644\n",
      "Step 2/10 - Loudness of new mixture: 0.1038\n",
      "Loudness of mix: 0.1286526918411255, Loudness of tmp_mix: 0.38596007227897644\n",
      "Step 3/10 - Loudness of new mixture: 0.0913\n",
      "Loudness of mix: 0.1286526918411255, Loudness of tmp_mix: 0.38596007227897644\n",
      "Step 4/10 - Loudness of new mixture: 0.0790\n",
      "Loudness of mix: 0.1286526918411255, Loudness of tmp_mix: 0.38596007227897644\n",
      "Step 5/10 - Loudness of new mixture: 0.0666\n",
      "Loudness of mix: 0.1286526918411255, Loudness of tmp_mix: 0.38596007227897644\n",
      "Step 6/10 - Loudness of new mixture: 0.0543\n",
      "Loudness of mix: 0.1286526918411255, Loudness of tmp_mix: 0.38596007227897644\n",
      "Step 7/10 - Loudness of new mixture: 0.0422\n",
      "Loudness of mix: 0.1286526918411255, Loudness of tmp_mix: 0.38596007227897644\n",
      "Step 8/10 - Loudness of new mixture: 0.0303\n",
      "Loudness of mix: 0.1286526918411255, Loudness of tmp_mix: 0.38596007227897644\n",
      "Step 9/10 - Loudness of new mixture: 0.0193\n",
      "Loudness of mix: 0.1286526918411255, Loudness of tmp_mix: 0.38596007227897644\n",
      "Step 10/10 - Loudness of new mixture: 0.0112\n"
     ]
    },
    {
     "name": "stderr",
     "output_type": "stream",
     "text": [
      " 32%|███▏      | 16/50 [01:27<03:04,  5.43s/it]"
     ]
    },
    {
     "name": "stdout",
     "output_type": "stream",
     "text": [
      "Original loudness: 0.0826\n",
      "Loudness of homogeneus mixture: 0.0826\n",
      "Loudness of mix: 0.08256859332323074, Loudness of tmp_mix: 0.24770809710025787\n",
      "Step 1/10 - Loudness of new mixture: 0.0751\n",
      "Loudness of mix: 0.08256859332323074, Loudness of tmp_mix: 0.24770809710025787\n",
      "Step 2/10 - Loudness of new mixture: 0.0676\n",
      "Loudness of mix: 0.08256859332323074, Loudness of tmp_mix: 0.24770809710025787\n",
      "Step 3/10 - Loudness of new mixture: 0.0601\n",
      "Loudness of mix: 0.08256859332323074, Loudness of tmp_mix: 0.24770809710025787\n",
      "Step 4/10 - Loudness of new mixture: 0.0527\n",
      "Loudness of mix: 0.08256859332323074, Loudness of tmp_mix: 0.24770809710025787\n",
      "Step 5/10 - Loudness of new mixture: 0.0453\n",
      "Loudness of mix: 0.08256859332323074, Loudness of tmp_mix: 0.24770809710025787\n",
      "Step 6/10 - Loudness of new mixture: 0.0380\n",
      "Loudness of mix: 0.08256859332323074, Loudness of tmp_mix: 0.24770809710025787\n",
      "Step 7/10 - Loudness of new mixture: 0.0307\n",
      "Loudness of mix: 0.08256859332323074, Loudness of tmp_mix: 0.24770809710025787\n",
      "Step 8/10 - Loudness of new mixture: 0.0237\n",
      "Loudness of mix: 0.08256859332323074, Loudness of tmp_mix: 0.24770809710025787\n",
      "Step 9/10 - Loudness of new mixture: 0.0172\n",
      "Loudness of mix: 0.08256859332323074, Loudness of tmp_mix: 0.24770809710025787\n",
      "Step 10/10 - Loudness of new mixture: 0.0118\n"
     ]
    },
    {
     "name": "stderr",
     "output_type": "stream",
     "text": [
      " 34%|███▍      | 17/50 [01:32<02:58,  5.42s/it]"
     ]
    },
    {
     "name": "stdout",
     "output_type": "stream",
     "text": [
      "Original loudness: 0.1162\n",
      "Loudness of homogeneus mixture: 0.1162\n",
      "Loudness of mix: 0.11623772978782654, Loudness of tmp_mix: 0.3487166464328766\n",
      "Step 1/10 - Loudness of new mixture: 0.1052\n",
      "Loudness of mix: 0.11623772978782654, Loudness of tmp_mix: 0.3487166464328766\n",
      "Step 2/10 - Loudness of new mixture: 0.0943\n",
      "Loudness of mix: 0.11623772978782654, Loudness of tmp_mix: 0.3487166464328766\n",
      "Step 3/10 - Loudness of new mixture: 0.0833\n",
      "Loudness of mix: 0.11623772978782654, Loudness of tmp_mix: 0.3487166464328766\n",
      "Step 4/10 - Loudness of new mixture: 0.0724\n",
      "Loudness of mix: 0.11623772978782654, Loudness of tmp_mix: 0.3487166464328766\n",
      "Step 5/10 - Loudness of new mixture: 0.0615\n",
      "Loudness of mix: 0.11623772978782654, Loudness of tmp_mix: 0.3487166464328766\n",
      "Step 6/10 - Loudness of new mixture: 0.0507\n",
      "Loudness of mix: 0.11623772978782654, Loudness of tmp_mix: 0.3487166464328766\n",
      "Step 7/10 - Loudness of new mixture: 0.0399\n",
      "Loudness of mix: 0.11623772978782654, Loudness of tmp_mix: 0.3487166464328766\n",
      "Step 8/10 - Loudness of new mixture: 0.0295\n",
      "Loudness of mix: 0.11623772978782654, Loudness of tmp_mix: 0.3487166464328766\n",
      "Step 9/10 - Loudness of new mixture: 0.0195\n",
      "Loudness of mix: 0.11623772978782654, Loudness of tmp_mix: 0.3487166464328766\n",
      "Step 10/10 - Loudness of new mixture: 0.0111\n"
     ]
    },
    {
     "name": "stderr",
     "output_type": "stream",
     "text": [
      " 36%|███▌      | 18/50 [01:37<02:53,  5.42s/it]"
     ]
    },
    {
     "name": "stdout",
     "output_type": "stream",
     "text": [
      "Original loudness: 0.1082\n",
      "Loudness of homogeneus mixture: 0.1077\n",
      "Loudness of mix: 0.10824031382799149, Loudness of tmp_mix: 0.3247241675853729\n",
      "Step 1/10 - Loudness of new mixture: 0.0983\n",
      "Loudness of mix: 0.10824031382799149, Loudness of tmp_mix: 0.3247241675853729\n",
      "Step 2/10 - Loudness of new mixture: 0.0883\n",
      "Loudness of mix: 0.10824031382799149, Loudness of tmp_mix: 0.3247241675853729\n",
      "Step 3/10 - Loudness of new mixture: 0.0784\n",
      "Loudness of mix: 0.10824031382799149, Loudness of tmp_mix: 0.3247241675853729\n",
      "Step 4/10 - Loudness of new mixture: 0.0685\n",
      "Loudness of mix: 0.10824031382799149, Loudness of tmp_mix: 0.3247241675853729\n",
      "Step 5/10 - Loudness of new mixture: 0.0587\n",
      "Loudness of mix: 0.10824031382799149, Loudness of tmp_mix: 0.3247241675853729\n",
      "Step 6/10 - Loudness of new mixture: 0.0490\n",
      "Loudness of mix: 0.10824031382799149, Loudness of tmp_mix: 0.3247241675853729\n",
      "Step 7/10 - Loudness of new mixture: 0.0395\n",
      "Loudness of mix: 0.10824031382799149, Loudness of tmp_mix: 0.3247241675853729\n",
      "Step 8/10 - Loudness of new mixture: 0.0304\n",
      "Loudness of mix: 0.10824031382799149, Loudness of tmp_mix: 0.3247241675853729\n",
      "Step 9/10 - Loudness of new mixture: 0.0221\n",
      "Loudness of mix: 0.10824031382799149, Loudness of tmp_mix: 0.3247241675853729\n",
      "Step 10/10 - Loudness of new mixture: 0.0160\n"
     ]
    },
    {
     "name": "stderr",
     "output_type": "stream",
     "text": [
      " 38%|███▊      | 19/50 [01:43<02:47,  5.42s/it]"
     ]
    },
    {
     "name": "stdout",
     "output_type": "stream",
     "text": [
      "Original loudness: 0.0876\n",
      "Loudness of homogeneus mixture: 0.0875\n",
      "Loudness of mix: 0.08763237297534943, Loudness of tmp_mix: 0.26290062069892883\n",
      "Step 1/10 - Loudness of new mixture: 0.0800\n",
      "Loudness of mix: 0.08763237297534943, Loudness of tmp_mix: 0.26290062069892883\n",
      "Step 2/10 - Loudness of new mixture: 0.0723\n",
      "Loudness of mix: 0.08763237297534943, Loudness of tmp_mix: 0.26290062069892883\n",
      "Step 3/10 - Loudness of new mixture: 0.0647\n",
      "Loudness of mix: 0.08763237297534943, Loudness of tmp_mix: 0.26290062069892883\n",
      "Step 4/10 - Loudness of new mixture: 0.0571\n",
      "Loudness of mix: 0.08763237297534943, Loudness of tmp_mix: 0.26290062069892883\n",
      "Step 5/10 - Loudness of new mixture: 0.0496\n",
      "Loudness of mix: 0.08763237297534943, Loudness of tmp_mix: 0.26290062069892883\n",
      "Step 6/10 - Loudness of new mixture: 0.0421\n",
      "Loudness of mix: 0.08763237297534943, Loudness of tmp_mix: 0.26290062069892883\n",
      "Step 7/10 - Loudness of new mixture: 0.0348\n",
      "Loudness of mix: 0.08763237297534943, Loudness of tmp_mix: 0.26290062069892883\n",
      "Step 8/10 - Loudness of new mixture: 0.0278\n",
      "Loudness of mix: 0.08763237297534943, Loudness of tmp_mix: 0.26290062069892883\n",
      "Step 9/10 - Loudness of new mixture: 0.0212\n",
      "Loudness of mix: 0.08763237297534943, Loudness of tmp_mix: 0.26290062069892883\n",
      "Step 10/10 - Loudness of new mixture: 0.0160\n"
     ]
    },
    {
     "name": "stderr",
     "output_type": "stream",
     "text": [
      " 40%|████      | 20/50 [01:48<02:42,  5.41s/it]"
     ]
    },
    {
     "name": "stdout",
     "output_type": "stream",
     "text": [
      "Original loudness: 0.0708\n",
      "Loudness of homogeneus mixture: 0.0707\n",
      "Loudness of mix: 0.07080232352018356, Loudness of tmp_mix: 0.21240776777267456\n",
      "Step 1/10 - Loudness of new mixture: 0.0647\n",
      "Loudness of mix: 0.07080232352018356, Loudness of tmp_mix: 0.21240776777267456\n",
      "Step 2/10 - Loudness of new mixture: 0.0585\n",
      "Loudness of mix: 0.07080232352018356, Loudness of tmp_mix: 0.21240776777267456\n",
      "Step 3/10 - Loudness of new mixture: 0.0524\n",
      "Loudness of mix: 0.07080232352018356, Loudness of tmp_mix: 0.21240776777267456\n",
      "Step 4/10 - Loudness of new mixture: 0.0463\n",
      "Loudness of mix: 0.07080232352018356, Loudness of tmp_mix: 0.21240776777267456\n",
      "Step 5/10 - Loudness of new mixture: 0.0403\n",
      "Loudness of mix: 0.07080232352018356, Loudness of tmp_mix: 0.21240776777267456\n",
      "Step 6/10 - Loudness of new mixture: 0.0343\n",
      "Loudness of mix: 0.07080232352018356, Loudness of tmp_mix: 0.21240776777267456\n",
      "Step 7/10 - Loudness of new mixture: 0.0284\n",
      "Loudness of mix: 0.07080232352018356, Loudness of tmp_mix: 0.21240776777267456\n",
      "Step 8/10 - Loudness of new mixture: 0.0227\n",
      "Loudness of mix: 0.07080232352018356, Loudness of tmp_mix: 0.21240776777267456\n",
      "Step 9/10 - Loudness of new mixture: 0.0173\n",
      "Loudness of mix: 0.07080232352018356, Loudness of tmp_mix: 0.21240776777267456\n",
      "Step 10/10 - Loudness of new mixture: 0.0128\n"
     ]
    },
    {
     "name": "stderr",
     "output_type": "stream",
     "text": [
      " 42%|████▏     | 21/50 [01:54<02:36,  5.41s/it]"
     ]
    },
    {
     "name": "stdout",
     "output_type": "stream",
     "text": [
      "Original loudness: 0.0888\n",
      "Loudness of homogeneus mixture: 0.0883\n",
      "Loudness of mix: 0.08875088393688202, Loudness of tmp_mix: 0.266254723072052\n",
      "Step 1/10 - Loudness of new mixture: 0.0803\n",
      "Loudness of mix: 0.08875088393688202, Loudness of tmp_mix: 0.266254723072052\n",
      "Step 2/10 - Loudness of new mixture: 0.0719\n",
      "Loudness of mix: 0.08875088393688202, Loudness of tmp_mix: 0.266254723072052\n",
      "Step 3/10 - Loudness of new mixture: 0.0635\n",
      "Loudness of mix: 0.08875088393688202, Loudness of tmp_mix: 0.266254723072052\n",
      "Step 4/10 - Loudness of new mixture: 0.0551\n",
      "Loudness of mix: 0.08875088393688202, Loudness of tmp_mix: 0.266254723072052\n",
      "Step 5/10 - Loudness of new mixture: 0.0468\n",
      "Loudness of mix: 0.08875088393688202, Loudness of tmp_mix: 0.266254723072052\n",
      "Step 6/10 - Loudness of new mixture: 0.0385\n",
      "Loudness of mix: 0.08875088393688202, Loudness of tmp_mix: 0.266254723072052\n",
      "Step 7/10 - Loudness of new mixture: 0.0303\n",
      "Loudness of mix: 0.08875088393688202, Loudness of tmp_mix: 0.266254723072052\n",
      "Step 8/10 - Loudness of new mixture: 0.0222\n",
      "Loudness of mix: 0.08875088393688202, Loudness of tmp_mix: 0.266254723072052\n",
      "Step 9/10 - Loudness of new mixture: 0.0146\n",
      "Loudness of mix: 0.08875088393688202, Loudness of tmp_mix: 0.266254723072052\n",
      "Step 10/10 - Loudness of new mixture: 0.0087\n"
     ]
    },
    {
     "name": "stderr",
     "output_type": "stream",
     "text": [
      " 44%|████▍     | 22/50 [01:59<02:31,  5.41s/it]"
     ]
    },
    {
     "name": "stdout",
     "output_type": "stream",
     "text": [
      "Original loudness: 0.0881\n",
      "Loudness of homogeneus mixture: 0.0879\n",
      "Loudness of mix: 0.08810099214315414, Loudness of tmp_mix: 0.2643031179904938\n",
      "Step 1/10 - Loudness of new mixture: 0.0796\n",
      "Loudness of mix: 0.08810099214315414, Loudness of tmp_mix: 0.2643031179904938\n",
      "Step 2/10 - Loudness of new mixture: 0.0710\n",
      "Loudness of mix: 0.08810099214315414, Loudness of tmp_mix: 0.2643031179904938\n",
      "Step 3/10 - Loudness of new mixture: 0.0625\n",
      "Loudness of mix: 0.08810099214315414, Loudness of tmp_mix: 0.2643031179904938\n",
      "Step 4/10 - Loudness of new mixture: 0.0540\n",
      "Loudness of mix: 0.08810099214315414, Loudness of tmp_mix: 0.2643031179904938\n",
      "Step 5/10 - Loudness of new mixture: 0.0456\n",
      "Loudness of mix: 0.08810099214315414, Loudness of tmp_mix: 0.2643031179904938\n",
      "Step 6/10 - Loudness of new mixture: 0.0371\n",
      "Loudness of mix: 0.08810099214315414, Loudness of tmp_mix: 0.2643031179904938\n",
      "Step 7/10 - Loudness of new mixture: 0.0288\n",
      "Loudness of mix: 0.08810099214315414, Loudness of tmp_mix: 0.2643031179904938\n",
      "Step 8/10 - Loudness of new mixture: 0.0206\n",
      "Loudness of mix: 0.08810099214315414, Loudness of tmp_mix: 0.2643031179904938\n",
      "Step 9/10 - Loudness of new mixture: 0.0128\n",
      "Loudness of mix: 0.08810099214315414, Loudness of tmp_mix: 0.2643031179904938\n",
      "Step 10/10 - Loudness of new mixture: 0.0064\n"
     ]
    },
    {
     "name": "stderr",
     "output_type": "stream",
     "text": [
      " 46%|████▌     | 23/50 [02:05<02:26,  5.41s/it]"
     ]
    },
    {
     "name": "stdout",
     "output_type": "stream",
     "text": [
      "Original loudness: 0.0732\n",
      "Loudness of homogeneus mixture: 0.0729\n",
      "Loudness of mix: 0.07316271960735321, Loudness of tmp_mix: 0.2194894701242447\n",
      "Step 1/10 - Loudness of new mixture: 0.0667\n",
      "Loudness of mix: 0.07316271960735321, Loudness of tmp_mix: 0.2194894701242447\n",
      "Step 2/10 - Loudness of new mixture: 0.0602\n",
      "Loudness of mix: 0.07316271960735321, Loudness of tmp_mix: 0.2194894701242447\n",
      "Step 3/10 - Loudness of new mixture: 0.0538\n",
      "Loudness of mix: 0.07316271960735321, Loudness of tmp_mix: 0.2194894701242447\n",
      "Step 4/10 - Loudness of new mixture: 0.0473\n",
      "Loudness of mix: 0.07316271960735321, Loudness of tmp_mix: 0.2194894701242447\n",
      "Step 5/10 - Loudness of new mixture: 0.0410\n",
      "Loudness of mix: 0.07316271960735321, Loudness of tmp_mix: 0.2194894701242447\n",
      "Step 6/10 - Loudness of new mixture: 0.0346\n",
      "Loudness of mix: 0.07316271960735321, Loudness of tmp_mix: 0.2194894701242447\n",
      "Step 7/10 - Loudness of new mixture: 0.0284\n",
      "Loudness of mix: 0.07316271960735321, Loudness of tmp_mix: 0.2194894701242447\n",
      "Step 8/10 - Loudness of new mixture: 0.0224\n",
      "Loudness of mix: 0.07316271960735321, Loudness of tmp_mix: 0.2194894701242447\n",
      "Step 9/10 - Loudness of new mixture: 0.0166\n",
      "Loudness of mix: 0.07316271960735321, Loudness of tmp_mix: 0.2194894701242447\n",
      "Step 10/10 - Loudness of new mixture: 0.0118\n"
     ]
    },
    {
     "name": "stderr",
     "output_type": "stream",
     "text": [
      " 48%|████▊     | 24/50 [02:10<02:20,  5.41s/it]"
     ]
    },
    {
     "name": "stdout",
     "output_type": "stream",
     "text": [
      "Original loudness: 0.0848\n",
      "Loudness of homogeneus mixture: 0.0849\n",
      "Loudness of mix: 0.08484839648008347, Loudness of tmp_mix: 0.2545473873615265\n",
      "Step 1/10 - Loudness of new mixture: 0.0769\n",
      "Loudness of mix: 0.08484839648008347, Loudness of tmp_mix: 0.2545473873615265\n",
      "Step 2/10 - Loudness of new mixture: 0.0690\n",
      "Loudness of mix: 0.08484839648008347, Loudness of tmp_mix: 0.2545473873615265\n",
      "Step 3/10 - Loudness of new mixture: 0.0611\n",
      "Loudness of mix: 0.08484839648008347, Loudness of tmp_mix: 0.2545473873615265\n",
      "Step 4/10 - Loudness of new mixture: 0.0533\n",
      "Loudness of mix: 0.08484839648008347, Loudness of tmp_mix: 0.2545473873615265\n",
      "Step 5/10 - Loudness of new mixture: 0.0454\n",
      "Loudness of mix: 0.08484839648008347, Loudness of tmp_mix: 0.2545473873615265\n",
      "Step 6/10 - Loudness of new mixture: 0.0377\n",
      "Loudness of mix: 0.08484839648008347, Loudness of tmp_mix: 0.2545473873615265\n",
      "Step 7/10 - Loudness of new mixture: 0.0301\n",
      "Loudness of mix: 0.08484839648008347, Loudness of tmp_mix: 0.2545473873615265\n",
      "Step 8/10 - Loudness of new mixture: 0.0227\n",
      "Loudness of mix: 0.08484839648008347, Loudness of tmp_mix: 0.2545473873615265\n",
      "Step 9/10 - Loudness of new mixture: 0.0158\n",
      "Loudness of mix: 0.08484839648008347, Loudness of tmp_mix: 0.2545473873615265\n",
      "Step 10/10 - Loudness of new mixture: 0.0106\n"
     ]
    },
    {
     "name": "stderr",
     "output_type": "stream",
     "text": [
      " 50%|█████     | 25/50 [02:15<02:15,  5.41s/it]"
     ]
    },
    {
     "name": "stdout",
     "output_type": "stream",
     "text": [
      "Original loudness: 0.1041\n",
      "Loudness of homogeneus mixture: 0.1041\n",
      "Loudness of mix: 0.10408666729927063, Loudness of tmp_mix: 0.3122601807117462\n",
      "Step 1/10 - Loudness of new mixture: 0.0944\n",
      "Loudness of mix: 0.10408666729927063, Loudness of tmp_mix: 0.3122601807117462\n",
      "Step 2/10 - Loudness of new mixture: 0.0848\n",
      "Loudness of mix: 0.10408666729927063, Loudness of tmp_mix: 0.3122601807117462\n",
      "Step 3/10 - Loudness of new mixture: 0.0752\n",
      "Loudness of mix: 0.10408666729927063, Loudness of tmp_mix: 0.3122601807117462\n",
      "Step 4/10 - Loudness of new mixture: 0.0656\n",
      "Loudness of mix: 0.10408666729927063, Loudness of tmp_mix: 0.3122601807117462\n",
      "Step 5/10 - Loudness of new mixture: 0.0560\n",
      "Loudness of mix: 0.10408666729927063, Loudness of tmp_mix: 0.3122601807117462\n",
      "Step 6/10 - Loudness of new mixture: 0.0465\n",
      "Loudness of mix: 0.10408666729927063, Loudness of tmp_mix: 0.3122601807117462\n",
      "Step 7/10 - Loudness of new mixture: 0.0370\n",
      "Loudness of mix: 0.10408666729927063, Loudness of tmp_mix: 0.3122601807117462\n",
      "Step 8/10 - Loudness of new mixture: 0.0277\n",
      "Loudness of mix: 0.10408666729927063, Loudness of tmp_mix: 0.3122601807117462\n",
      "Step 9/10 - Loudness of new mixture: 0.0187\n",
      "Loudness of mix: 0.10408666729927063, Loudness of tmp_mix: 0.3122601807117462\n",
      "Step 10/10 - Loudness of new mixture: 0.0104\n"
     ]
    },
    {
     "name": "stderr",
     "output_type": "stream",
     "text": [
      " 52%|█████▏    | 26/50 [02:21<02:09,  5.41s/it]"
     ]
    },
    {
     "name": "stdout",
     "output_type": "stream",
     "text": [
      "Original loudness: 0.1072\n",
      "Loudness of homogeneus mixture: 0.1071\n",
      "Loudness of mix: 0.10724445432424545, Loudness of tmp_mix: 0.3217359185218811\n",
      "Step 1/10 - Loudness of new mixture: 0.0973\n",
      "Loudness of mix: 0.10724445432424545, Loudness of tmp_mix: 0.3217359185218811\n",
      "Step 2/10 - Loudness of new mixture: 0.0874\n",
      "Loudness of mix: 0.10724445432424545, Loudness of tmp_mix: 0.3217359185218811\n",
      "Step 3/10 - Loudness of new mixture: 0.0774\n",
      "Loudness of mix: 0.10724445432424545, Loudness of tmp_mix: 0.3217359185218811\n",
      "Step 4/10 - Loudness of new mixture: 0.0676\n",
      "Loudness of mix: 0.10724445432424545, Loudness of tmp_mix: 0.3217359185218811\n",
      "Step 5/10 - Loudness of new mixture: 0.0578\n",
      "Loudness of mix: 0.10724445432424545, Loudness of tmp_mix: 0.3217359185218811\n",
      "Step 6/10 - Loudness of new mixture: 0.0480\n",
      "Loudness of mix: 0.10724445432424545, Loudness of tmp_mix: 0.3217359185218811\n",
      "Step 7/10 - Loudness of new mixture: 0.0384\n",
      "Loudness of mix: 0.10724445432424545, Loudness of tmp_mix: 0.3217359185218811\n",
      "Step 8/10 - Loudness of new mixture: 0.0291\n",
      "Loudness of mix: 0.10724445432424545, Loudness of tmp_mix: 0.3217359185218811\n",
      "Step 9/10 - Loudness of new mixture: 0.0204\n",
      "Loudness of mix: 0.10724445432424545, Loudness of tmp_mix: 0.3217359185218811\n",
      "Step 10/10 - Loudness of new mixture: 0.0132\n"
     ]
    },
    {
     "name": "stderr",
     "output_type": "stream",
     "text": [
      " 54%|█████▍    | 27/50 [02:26<02:04,  5.41s/it]"
     ]
    },
    {
     "name": "stdout",
     "output_type": "stream",
     "text": [
      "Original loudness: 0.1066\n",
      "Loudness of homogeneus mixture: 0.1065\n",
      "Loudness of mix: 0.10658067464828491, Loudness of tmp_mix: 0.319745808839798\n",
      "Step 1/10 - Loudness of new mixture: 0.0966\n",
      "Loudness of mix: 0.10658067464828491, Loudness of tmp_mix: 0.319745808839798\n",
      "Step 2/10 - Loudness of new mixture: 0.0866\n",
      "Loudness of mix: 0.10658067464828491, Loudness of tmp_mix: 0.319745808839798\n",
      "Step 3/10 - Loudness of new mixture: 0.0766\n",
      "Loudness of mix: 0.10658067464828491, Loudness of tmp_mix: 0.319745808839798\n",
      "Step 4/10 - Loudness of new mixture: 0.0667\n",
      "Loudness of mix: 0.10658067464828491, Loudness of tmp_mix: 0.319745808839798\n",
      "Step 5/10 - Loudness of new mixture: 0.0569\n",
      "Loudness of mix: 0.10658067464828491, Loudness of tmp_mix: 0.319745808839798\n",
      "Step 6/10 - Loudness of new mixture: 0.0471\n",
      "Loudness of mix: 0.10658067464828491, Loudness of tmp_mix: 0.319745808839798\n",
      "Step 7/10 - Loudness of new mixture: 0.0375\n",
      "Loudness of mix: 0.10658067464828491, Loudness of tmp_mix: 0.319745808839798\n",
      "Step 8/10 - Loudness of new mixture: 0.0283\n",
      "Loudness of mix: 0.10658067464828491, Loudness of tmp_mix: 0.319745808839798\n",
      "Step 9/10 - Loudness of new mixture: 0.0198\n",
      "Loudness of mix: 0.10658067464828491, Loudness of tmp_mix: 0.319745808839798\n",
      "Step 10/10 - Loudness of new mixture: 0.0138\n"
     ]
    },
    {
     "name": "stderr",
     "output_type": "stream",
     "text": [
      " 56%|█████▌    | 28/50 [02:32<01:59,  5.41s/it]"
     ]
    },
    {
     "name": "stdout",
     "output_type": "stream",
     "text": [
      "Original loudness: 0.0987\n",
      "Loudness of homogeneus mixture: 0.0985\n",
      "Loudness of mix: 0.09867414087057114, Loudness of tmp_mix: 0.2960238754749298\n",
      "Step 1/10 - Loudness of new mixture: 0.0898\n",
      "Loudness of mix: 0.09867414087057114, Loudness of tmp_mix: 0.2960238754749298\n",
      "Step 2/10 - Loudness of new mixture: 0.0808\n",
      "Loudness of mix: 0.09867414087057114, Loudness of tmp_mix: 0.2960238754749298\n",
      "Step 3/10 - Loudness of new mixture: 0.0720\n",
      "Loudness of mix: 0.09867414087057114, Loudness of tmp_mix: 0.2960238754749298\n",
      "Step 4/10 - Loudness of new mixture: 0.0631\n",
      "Loudness of mix: 0.09867414087057114, Loudness of tmp_mix: 0.2960238754749298\n",
      "Step 5/10 - Loudness of new mixture: 0.0543\n",
      "Loudness of mix: 0.09867414087057114, Loudness of tmp_mix: 0.2960238754749298\n",
      "Step 6/10 - Loudness of new mixture: 0.0456\n",
      "Loudness of mix: 0.09867414087057114, Loudness of tmp_mix: 0.2960238754749298\n",
      "Step 7/10 - Loudness of new mixture: 0.0370\n",
      "Loudness of mix: 0.09867414087057114, Loudness of tmp_mix: 0.2960238754749298\n",
      "Step 8/10 - Loudness of new mixture: 0.0286\n",
      "Loudness of mix: 0.09867414087057114, Loudness of tmp_mix: 0.2960238754749298\n",
      "Step 9/10 - Loudness of new mixture: 0.0206\n",
      "Loudness of mix: 0.09867414087057114, Loudness of tmp_mix: 0.2960238754749298\n",
      "Step 10/10 - Loudness of new mixture: 0.0136\n"
     ]
    },
    {
     "name": "stderr",
     "output_type": "stream",
     "text": [
      " 58%|█████▊    | 29/50 [02:37<01:53,  5.41s/it]"
     ]
    },
    {
     "name": "stdout",
     "output_type": "stream",
     "text": [
      "Original loudness: 0.0896\n",
      "Loudness of homogeneus mixture: 0.0895\n",
      "Loudness of mix: 0.08957541733980179, Loudness of tmp_mix: 0.268726646900177\n",
      "Step 1/10 - Loudness of new mixture: 0.0817\n",
      "Loudness of mix: 0.08957541733980179, Loudness of tmp_mix: 0.268726646900177\n",
      "Step 2/10 - Loudness of new mixture: 0.0738\n",
      "Loudness of mix: 0.08957541733980179, Loudness of tmp_mix: 0.268726646900177\n",
      "Step 3/10 - Loudness of new mixture: 0.0659\n",
      "Loudness of mix: 0.08957541733980179, Loudness of tmp_mix: 0.268726646900177\n",
      "Step 4/10 - Loudness of new mixture: 0.0580\n",
      "Loudness of mix: 0.08957541733980179, Loudness of tmp_mix: 0.268726646900177\n",
      "Step 5/10 - Loudness of new mixture: 0.0502\n",
      "Loudness of mix: 0.08957541733980179, Loudness of tmp_mix: 0.268726646900177\n",
      "Step 6/10 - Loudness of new mixture: 0.0425\n",
      "Loudness of mix: 0.08957541733980179, Loudness of tmp_mix: 0.268726646900177\n",
      "Step 7/10 - Loudness of new mixture: 0.0349\n",
      "Loudness of mix: 0.08957541733980179, Loudness of tmp_mix: 0.268726646900177\n",
      "Step 8/10 - Loudness of new mixture: 0.0275\n",
      "Loudness of mix: 0.08957541733980179, Loudness of tmp_mix: 0.268726646900177\n",
      "Step 9/10 - Loudness of new mixture: 0.0204\n",
      "Loudness of mix: 0.08957541733980179, Loudness of tmp_mix: 0.268726646900177\n",
      "Step 10/10 - Loudness of new mixture: 0.0143\n"
     ]
    },
    {
     "name": "stderr",
     "output_type": "stream",
     "text": [
      " 60%|██████    | 30/50 [02:42<01:48,  5.41s/it]"
     ]
    },
    {
     "name": "stdout",
     "output_type": "stream",
     "text": [
      "Original loudness: 0.0907\n",
      "Loudness of homogeneus mixture: 0.0906\n",
      "Loudness of mix: 0.09066995978355408, Loudness of tmp_mix: 0.27201199531555176\n",
      "Step 1/10 - Loudness of new mixture: 0.0819\n",
      "Loudness of mix: 0.09066995978355408, Loudness of tmp_mix: 0.27201199531555176\n",
      "Step 2/10 - Loudness of new mixture: 0.0731\n",
      "Loudness of mix: 0.09066995978355408, Loudness of tmp_mix: 0.27201199531555176\n",
      "Step 3/10 - Loudness of new mixture: 0.0644\n",
      "Loudness of mix: 0.09066995978355408, Loudness of tmp_mix: 0.27201199531555176\n",
      "Step 4/10 - Loudness of new mixture: 0.0557\n",
      "Loudness of mix: 0.09066995978355408, Loudness of tmp_mix: 0.27201199531555176\n",
      "Step 5/10 - Loudness of new mixture: 0.0470\n",
      "Loudness of mix: 0.09066995978355408, Loudness of tmp_mix: 0.27201199531555176\n",
      "Step 6/10 - Loudness of new mixture: 0.0383\n",
      "Loudness of mix: 0.09066995978355408, Loudness of tmp_mix: 0.27201199531555176\n",
      "Step 7/10 - Loudness of new mixture: 0.0298\n",
      "Loudness of mix: 0.09066995978355408, Loudness of tmp_mix: 0.27201199531555176\n",
      "Step 8/10 - Loudness of new mixture: 0.0214\n",
      "Loudness of mix: 0.09066995978355408, Loudness of tmp_mix: 0.27201199531555176\n",
      "Step 9/10 - Loudness of new mixture: 0.0134\n",
      "Loudness of mix: 0.09066995978355408, Loudness of tmp_mix: 0.27201199531555176\n",
      "Step 10/10 - Loudness of new mixture: 0.0071\n"
     ]
    },
    {
     "name": "stderr",
     "output_type": "stream",
     "text": [
      " 62%|██████▏   | 31/50 [02:48<01:42,  5.42s/it]"
     ]
    },
    {
     "name": "stdout",
     "output_type": "stream",
     "text": [
      "Original loudness: 0.0596\n",
      "Loudness of homogeneus mixture: 0.0596\n",
      "Loudness of mix: 0.05964174121618271, Loudness of tmp_mix: 0.17892760038375854\n",
      "Step 1/10 - Loudness of new mixture: 0.0543\n",
      "Loudness of mix: 0.05964174121618271, Loudness of tmp_mix: 0.17892760038375854\n",
      "Step 2/10 - Loudness of new mixture: 0.0489\n",
      "Loudness of mix: 0.05964174121618271, Loudness of tmp_mix: 0.17892760038375854\n",
      "Step 3/10 - Loudness of new mixture: 0.0436\n",
      "Loudness of mix: 0.05964174121618271, Loudness of tmp_mix: 0.17892760038375854\n",
      "Step 4/10 - Loudness of new mixture: 0.0383\n",
      "Loudness of mix: 0.05964174121618271, Loudness of tmp_mix: 0.17892760038375854\n",
      "Step 5/10 - Loudness of new mixture: 0.0330\n",
      "Loudness of mix: 0.05964174121618271, Loudness of tmp_mix: 0.17892760038375854\n",
      "Step 6/10 - Loudness of new mixture: 0.0278\n",
      "Loudness of mix: 0.05964174121618271, Loudness of tmp_mix: 0.17892760038375854\n",
      "Step 7/10 - Loudness of new mixture: 0.0226\n",
      "Loudness of mix: 0.05964174121618271, Loudness of tmp_mix: 0.17892760038375854\n",
      "Step 8/10 - Loudness of new mixture: 0.0176\n",
      "Loudness of mix: 0.05964174121618271, Loudness of tmp_mix: 0.17892760038375854\n",
      "Step 9/10 - Loudness of new mixture: 0.0129\n",
      "Loudness of mix: 0.05964174121618271, Loudness of tmp_mix: 0.17892760038375854\n",
      "Step 10/10 - Loudness of new mixture: 0.0093\n"
     ]
    },
    {
     "name": "stderr",
     "output_type": "stream",
     "text": [
      " 64%|██████▍   | 32/50 [02:53<01:37,  5.43s/it]"
     ]
    },
    {
     "name": "stdout",
     "output_type": "stream",
     "text": [
      "Original loudness: 0.0684\n",
      "Loudness of homogeneus mixture: 0.0683\n",
      "Loudness of mix: 0.06837320327758789, Loudness of tmp_mix: 0.20512250065803528\n",
      "Step 1/10 - Loudness of new mixture: 0.0621\n",
      "Loudness of mix: 0.06837320327758789, Loudness of tmp_mix: 0.20512250065803528\n",
      "Step 2/10 - Loudness of new mixture: 0.0559\n",
      "Loudness of mix: 0.06837320327758789, Loudness of tmp_mix: 0.20512250065803528\n",
      "Step 3/10 - Loudness of new mixture: 0.0497\n",
      "Loudness of mix: 0.06837320327758789, Loudness of tmp_mix: 0.20512250065803528\n",
      "Step 4/10 - Loudness of new mixture: 0.0436\n",
      "Loudness of mix: 0.06837320327758789, Loudness of tmp_mix: 0.20512250065803528\n",
      "Step 5/10 - Loudness of new mixture: 0.0374\n",
      "Loudness of mix: 0.06837320327758789, Loudness of tmp_mix: 0.20512250065803528\n",
      "Step 6/10 - Loudness of new mixture: 0.0313\n",
      "Loudness of mix: 0.06837320327758789, Loudness of tmp_mix: 0.20512250065803528\n",
      "Step 7/10 - Loudness of new mixture: 0.0253\n",
      "Loudness of mix: 0.06837320327758789, Loudness of tmp_mix: 0.20512250065803528\n",
      "Step 8/10 - Loudness of new mixture: 0.0194\n",
      "Loudness of mix: 0.06837320327758789, Loudness of tmp_mix: 0.20512250065803528\n",
      "Step 9/10 - Loudness of new mixture: 0.0138\n",
      "Loudness of mix: 0.06837320327758789, Loudness of tmp_mix: 0.20512250065803528\n",
      "Step 10/10 - Loudness of new mixture: 0.0090\n"
     ]
    },
    {
     "name": "stderr",
     "output_type": "stream",
     "text": [
      " 66%|██████▌   | 33/50 [02:59<01:32,  5.43s/it]"
     ]
    },
    {
     "name": "stdout",
     "output_type": "stream",
     "text": [
      "Original loudness: 0.1100\n",
      "Loudness of homogeneus mixture: 0.1097\n",
      "Loudness of mix: 0.11004136502742767, Loudness of tmp_mix: 0.3301279544830322\n",
      "Step 1/10 - Loudness of new mixture: 0.0994\n",
      "Loudness of mix: 0.11004136502742767, Loudness of tmp_mix: 0.3301279544830322\n",
      "Step 2/10 - Loudness of new mixture: 0.0888\n",
      "Loudness of mix: 0.11004136502742767, Loudness of tmp_mix: 0.3301279544830322\n",
      "Step 3/10 - Loudness of new mixture: 0.0782\n",
      "Loudness of mix: 0.11004136502742767, Loudness of tmp_mix: 0.3301279544830322\n",
      "Step 4/10 - Loudness of new mixture: 0.0676\n",
      "Loudness of mix: 0.11004136502742767, Loudness of tmp_mix: 0.3301279544830322\n",
      "Step 5/10 - Loudness of new mixture: 0.0571\n",
      "Loudness of mix: 0.11004136502742767, Loudness of tmp_mix: 0.3301279544830322\n",
      "Step 6/10 - Loudness of new mixture: 0.0466\n",
      "Loudness of mix: 0.11004136502742767, Loudness of tmp_mix: 0.3301279544830322\n",
      "Step 7/10 - Loudness of new mixture: 0.0362\n",
      "Loudness of mix: 0.11004136502742767, Loudness of tmp_mix: 0.3301279544830322\n",
      "Step 8/10 - Loudness of new mixture: 0.0261\n",
      "Loudness of mix: 0.11004136502742767, Loudness of tmp_mix: 0.3301279544830322\n",
      "Step 9/10 - Loudness of new mixture: 0.0165\n",
      "Loudness of mix: 0.11004136502742767, Loudness of tmp_mix: 0.3301279544830322\n",
      "Step 10/10 - Loudness of new mixture: 0.0088\n"
     ]
    },
    {
     "name": "stderr",
     "output_type": "stream",
     "text": [
      " 68%|██████▊   | 34/50 [03:04<01:26,  5.43s/it]"
     ]
    },
    {
     "name": "stdout",
     "output_type": "stream",
     "text": [
      "Original loudness: 0.0751\n",
      "Loudness of homogeneus mixture: 0.0750\n",
      "Loudness of mix: 0.07510069757699966, Loudness of tmp_mix: 0.22530406713485718\n",
      "Step 1/10 - Loudness of new mixture: 0.0684\n",
      "Loudness of mix: 0.07510069757699966, Loudness of tmp_mix: 0.22530406713485718\n",
      "Step 2/10 - Loudness of new mixture: 0.0618\n",
      "Loudness of mix: 0.07510069757699966, Loudness of tmp_mix: 0.22530406713485718\n",
      "Step 3/10 - Loudness of new mixture: 0.0551\n",
      "Loudness of mix: 0.07510069757699966, Loudness of tmp_mix: 0.22530406713485718\n",
      "Step 4/10 - Loudness of new mixture: 0.0485\n",
      "Loudness of mix: 0.07510069757699966, Loudness of tmp_mix: 0.22530406713485718\n",
      "Step 5/10 - Loudness of new mixture: 0.0419\n",
      "Loudness of mix: 0.07510069757699966, Loudness of tmp_mix: 0.22530406713485718\n",
      "Step 6/10 - Loudness of new mixture: 0.0354\n",
      "Loudness of mix: 0.07510069757699966, Loudness of tmp_mix: 0.22530406713485718\n",
      "Step 7/10 - Loudness of new mixture: 0.0290\n",
      "Loudness of mix: 0.07510069757699966, Loudness of tmp_mix: 0.22530406713485718\n",
      "Step 8/10 - Loudness of new mixture: 0.0227\n",
      "Loudness of mix: 0.07510069757699966, Loudness of tmp_mix: 0.22530406713485718\n",
      "Step 9/10 - Loudness of new mixture: 0.0168\n",
      "Loudness of mix: 0.07510069757699966, Loudness of tmp_mix: 0.22530406713485718\n",
      "Step 10/10 - Loudness of new mixture: 0.0120\n"
     ]
    },
    {
     "name": "stderr",
     "output_type": "stream",
     "text": [
      " 70%|███████   | 35/50 [03:10<01:21,  5.43s/it]"
     ]
    },
    {
     "name": "stdout",
     "output_type": "stream",
     "text": [
      "Original loudness: 0.1413\n",
      "Loudness of homogeneus mixture: 0.1417\n",
      "Loudness of mix: 0.14132781326770782, Loudness of tmp_mix: 0.4239829480648041\n",
      "Step 1/10 - Loudness of new mixture: 0.1283\n",
      "Loudness of mix: 0.14132781326770782, Loudness of tmp_mix: 0.4239829480648041\n",
      "Step 2/10 - Loudness of new mixture: 0.1153\n",
      "Loudness of mix: 0.14132781326770782, Loudness of tmp_mix: 0.4239829480648041\n",
      "Step 3/10 - Loudness of new mixture: 0.1023\n",
      "Loudness of mix: 0.14132781326770782, Loudness of tmp_mix: 0.4239829480648041\n",
      "Step 4/10 - Loudness of new mixture: 0.0894\n",
      "Loudness of mix: 0.14132781326770782, Loudness of tmp_mix: 0.4239829480648041\n",
      "Step 5/10 - Loudness of new mixture: 0.0766\n",
      "Loudness of mix: 0.14132781326770782, Loudness of tmp_mix: 0.4239829480648041\n",
      "Step 6/10 - Loudness of new mixture: 0.0639\n",
      "Loudness of mix: 0.14132781326770782, Loudness of tmp_mix: 0.4239829480648041\n",
      "Step 7/10 - Loudness of new mixture: 0.0515\n",
      "Loudness of mix: 0.14132781326770782, Loudness of tmp_mix: 0.4239829480648041\n",
      "Step 8/10 - Loudness of new mixture: 0.0395\n",
      "Loudness of mix: 0.14132781326770782, Loudness of tmp_mix: 0.4239829480648041\n",
      "Step 9/10 - Loudness of new mixture: 0.0285\n",
      "Loudness of mix: 0.14132781326770782, Loudness of tmp_mix: 0.4239829480648041\n",
      "Step 10/10 - Loudness of new mixture: 0.0200\n"
     ]
    },
    {
     "name": "stderr",
     "output_type": "stream",
     "text": [
      " 72%|███████▏  | 36/50 [03:15<01:16,  5.43s/it]"
     ]
    },
    {
     "name": "stdout",
     "output_type": "stream",
     "text": [
      "Original loudness: 0.0796\n",
      "Loudness of homogeneus mixture: 0.0795\n",
      "Loudness of mix: 0.07957728207111359, Loudness of tmp_mix: 0.23873339593410492\n",
      "Step 1/10 - Loudness of new mixture: 0.0728\n",
      "Loudness of mix: 0.07957728207111359, Loudness of tmp_mix: 0.23873339593410492\n",
      "Step 2/10 - Loudness of new mixture: 0.0660\n",
      "Loudness of mix: 0.07957728207111359, Loudness of tmp_mix: 0.23873339593410492\n",
      "Step 3/10 - Loudness of new mixture: 0.0593\n",
      "Loudness of mix: 0.07957728207111359, Loudness of tmp_mix: 0.23873339593410492\n",
      "Step 4/10 - Loudness of new mixture: 0.0526\n",
      "Loudness of mix: 0.07957728207111359, Loudness of tmp_mix: 0.23873339593410492\n",
      "Step 5/10 - Loudness of new mixture: 0.0459\n",
      "Loudness of mix: 0.07957728207111359, Loudness of tmp_mix: 0.23873339593410492\n",
      "Step 6/10 - Loudness of new mixture: 0.0392\n",
      "Loudness of mix: 0.07957728207111359, Loudness of tmp_mix: 0.23873339593410492\n",
      "Step 7/10 - Loudness of new mixture: 0.0327\n",
      "Loudness of mix: 0.07957728207111359, Loudness of tmp_mix: 0.23873339593410492\n",
      "Step 8/10 - Loudness of new mixture: 0.0263\n",
      "Loudness of mix: 0.07957728207111359, Loudness of tmp_mix: 0.23873339593410492\n",
      "Step 9/10 - Loudness of new mixture: 0.0202\n",
      "Loudness of mix: 0.07957728207111359, Loudness of tmp_mix: 0.23873339593410492\n",
      "Step 10/10 - Loudness of new mixture: 0.0153\n"
     ]
    },
    {
     "name": "stderr",
     "output_type": "stream",
     "text": [
      " 74%|███████▍  | 37/50 [03:20<01:10,  5.43s/it]"
     ]
    },
    {
     "name": "stdout",
     "output_type": "stream",
     "text": [
      "Original loudness: 0.1609\n",
      "Loudness of homogeneus mixture: 0.1601\n",
      "Loudness of mix: 0.16086766123771667, Loudness of tmp_mix: 0.48260536789894104\n",
      "Step 1/10 - Loudness of new mixture: 0.1455\n",
      "Loudness of mix: 0.16086766123771667, Loudness of tmp_mix: 0.48260536789894104\n",
      "Step 2/10 - Loudness of new mixture: 0.1302\n",
      "Loudness of mix: 0.16086766123771667, Loudness of tmp_mix: 0.48260536789894104\n",
      "Step 3/10 - Loudness of new mixture: 0.1149\n",
      "Loudness of mix: 0.16086766123771667, Loudness of tmp_mix: 0.48260536789894104\n",
      "Step 4/10 - Loudness of new mixture: 0.0996\n",
      "Loudness of mix: 0.16086766123771667, Loudness of tmp_mix: 0.48260536789894104\n",
      "Step 5/10 - Loudness of new mixture: 0.0845\n",
      "Loudness of mix: 0.16086766123771667, Loudness of tmp_mix: 0.48260536789894104\n",
      "Step 6/10 - Loudness of new mixture: 0.0694\n",
      "Loudness of mix: 0.16086766123771667, Loudness of tmp_mix: 0.48260536789894104\n",
      "Step 7/10 - Loudness of new mixture: 0.0547\n",
      "Loudness of mix: 0.16086766123771667, Loudness of tmp_mix: 0.48260536789894104\n",
      "Step 8/10 - Loudness of new mixture: 0.0404\n",
      "Loudness of mix: 0.16086766123771667, Loudness of tmp_mix: 0.48260536789894104\n",
      "Step 9/10 - Loudness of new mixture: 0.0273\n",
      "Loudness of mix: 0.16086766123771667, Loudness of tmp_mix: 0.48260536789894104\n",
      "Step 10/10 - Loudness of new mixture: 0.0177\n"
     ]
    },
    {
     "name": "stderr",
     "output_type": "stream",
     "text": [
      " 76%|███████▌  | 38/50 [03:26<01:05,  5.43s/it]"
     ]
    },
    {
     "name": "stdout",
     "output_type": "stream",
     "text": [
      "Original loudness: 0.0610\n",
      "Loudness of homogeneus mixture: 0.0608\n",
      "Loudness of mix: 0.06104772537946701, Loudness of tmp_mix: 0.18314583599567413\n",
      "Step 1/10 - Loudness of new mixture: 0.0557\n",
      "Loudness of mix: 0.06104772537946701, Loudness of tmp_mix: 0.18314583599567413\n",
      "Step 2/10 - Loudness of new mixture: 0.0503\n",
      "Loudness of mix: 0.06104772537946701, Loudness of tmp_mix: 0.18314583599567413\n",
      "Step 3/10 - Loudness of new mixture: 0.0450\n",
      "Loudness of mix: 0.06104772537946701, Loudness of tmp_mix: 0.18314583599567413\n",
      "Step 4/10 - Loudness of new mixture: 0.0397\n",
      "Loudness of mix: 0.06104772537946701, Loudness of tmp_mix: 0.18314583599567413\n",
      "Step 5/10 - Loudness of new mixture: 0.0344\n",
      "Loudness of mix: 0.06104772537946701, Loudness of tmp_mix: 0.18314583599567413\n",
      "Step 6/10 - Loudness of new mixture: 0.0292\n",
      "Loudness of mix: 0.06104772537946701, Loudness of tmp_mix: 0.18314583599567413\n",
      "Step 7/10 - Loudness of new mixture: 0.0240\n",
      "Loudness of mix: 0.06104772537946701, Loudness of tmp_mix: 0.18314583599567413\n",
      "Step 8/10 - Loudness of new mixture: 0.0190\n",
      "Loudness of mix: 0.06104772537946701, Loudness of tmp_mix: 0.18314583599567413\n",
      "Step 9/10 - Loudness of new mixture: 0.0143\n",
      "Loudness of mix: 0.06104772537946701, Loudness of tmp_mix: 0.18314583599567413\n",
      "Step 10/10 - Loudness of new mixture: 0.0103\n"
     ]
    },
    {
     "name": "stderr",
     "output_type": "stream",
     "text": [
      " 78%|███████▊  | 39/50 [03:31<00:59,  5.42s/it]"
     ]
    },
    {
     "name": "stdout",
     "output_type": "stream",
     "text": [
      "Original loudness: 0.0666\n",
      "Loudness of homogeneus mixture: 0.0665\n",
      "Loudness of mix: 0.06660569459199905, Loudness of tmp_mix: 0.19981883466243744\n",
      "Step 1/10 - Loudness of new mixture: 0.0606\n",
      "Loudness of mix: 0.06660569459199905, Loudness of tmp_mix: 0.19981883466243744\n",
      "Step 2/10 - Loudness of new mixture: 0.0547\n",
      "Loudness of mix: 0.06660569459199905, Loudness of tmp_mix: 0.19981883466243744\n",
      "Step 3/10 - Loudness of new mixture: 0.0487\n",
      "Loudness of mix: 0.06660569459199905, Loudness of tmp_mix: 0.19981883466243744\n",
      "Step 4/10 - Loudness of new mixture: 0.0428\n",
      "Loudness of mix: 0.06660569459199905, Loudness of tmp_mix: 0.19981883466243744\n",
      "Step 5/10 - Loudness of new mixture: 0.0369\n",
      "Loudness of mix: 0.06660569459199905, Loudness of tmp_mix: 0.19981883466243744\n",
      "Step 6/10 - Loudness of new mixture: 0.0310\n",
      "Loudness of mix: 0.06660569459199905, Loudness of tmp_mix: 0.19981883466243744\n",
      "Step 7/10 - Loudness of new mixture: 0.0252\n",
      "Loudness of mix: 0.06660569459199905, Loudness of tmp_mix: 0.19981883466243744\n",
      "Step 8/10 - Loudness of new mixture: 0.0196\n",
      "Loudness of mix: 0.06660569459199905, Loudness of tmp_mix: 0.19981883466243744\n",
      "Step 9/10 - Loudness of new mixture: 0.0142\n",
      "Loudness of mix: 0.06660569459199905, Loudness of tmp_mix: 0.19981883466243744\n",
      "Step 10/10 - Loudness of new mixture: 0.0098\n"
     ]
    },
    {
     "name": "stderr",
     "output_type": "stream",
     "text": [
      " 80%|████████  | 40/50 [03:37<00:54,  5.43s/it]"
     ]
    },
    {
     "name": "stdout",
     "output_type": "stream",
     "text": [
      "Original loudness: 0.0854\n",
      "Loudness of homogeneus mixture: 0.0853\n",
      "Loudness of mix: 0.08540933579206467, Loudness of tmp_mix: 0.2562297582626343\n",
      "Step 1/10 - Loudness of new mixture: 0.0779\n",
      "Loudness of mix: 0.08540933579206467, Loudness of tmp_mix: 0.2562297582626343\n",
      "Step 2/10 - Loudness of new mixture: 0.0704\n",
      "Loudness of mix: 0.08540933579206467, Loudness of tmp_mix: 0.2562297582626343\n",
      "Step 3/10 - Loudness of new mixture: 0.0629\n",
      "Loudness of mix: 0.08540933579206467, Loudness of tmp_mix: 0.2562297582626343\n",
      "Step 4/10 - Loudness of new mixture: 0.0555\n",
      "Loudness of mix: 0.08540933579206467, Loudness of tmp_mix: 0.2562297582626343\n",
      "Step 5/10 - Loudness of new mixture: 0.0481\n",
      "Loudness of mix: 0.08540933579206467, Loudness of tmp_mix: 0.2562297582626343\n",
      "Step 6/10 - Loudness of new mixture: 0.0408\n",
      "Loudness of mix: 0.08540933579206467, Loudness of tmp_mix: 0.2562297582626343\n",
      "Step 7/10 - Loudness of new mixture: 0.0335\n",
      "Loudness of mix: 0.08540933579206467, Loudness of tmp_mix: 0.2562297582626343\n",
      "Step 8/10 - Loudness of new mixture: 0.0265\n",
      "Loudness of mix: 0.08540933579206467, Loudness of tmp_mix: 0.2562297582626343\n",
      "Step 9/10 - Loudness of new mixture: 0.0198\n",
      "Loudness of mix: 0.08540933579206467, Loudness of tmp_mix: 0.2562297582626343\n",
      "Step 10/10 - Loudness of new mixture: 0.0143\n"
     ]
    },
    {
     "name": "stderr",
     "output_type": "stream",
     "text": [
      " 82%|████████▏ | 41/50 [03:42<00:48,  5.43s/it]"
     ]
    },
    {
     "name": "stdout",
     "output_type": "stream",
     "text": [
      "Original loudness: 0.0726\n",
      "Loudness of homogeneus mixture: 0.0724\n",
      "Loudness of mix: 0.07263966649770737, Loudness of tmp_mix: 0.21792149543762207\n",
      "Step 1/10 - Loudness of new mixture: 0.0659\n",
      "Loudness of mix: 0.07263966649770737, Loudness of tmp_mix: 0.21792149543762207\n",
      "Step 2/10 - Loudness of new mixture: 0.0591\n",
      "Loudness of mix: 0.07263966649770737, Loudness of tmp_mix: 0.21792149543762207\n",
      "Step 3/10 - Loudness of new mixture: 0.0524\n",
      "Loudness of mix: 0.07263966649770737, Loudness of tmp_mix: 0.21792149543762207\n",
      "Step 4/10 - Loudness of new mixture: 0.0457\n",
      "Loudness of mix: 0.07263966649770737, Loudness of tmp_mix: 0.21792149543762207\n",
      "Step 5/10 - Loudness of new mixture: 0.0391\n",
      "Loudness of mix: 0.07263966649770737, Loudness of tmp_mix: 0.21792149543762207\n",
      "Step 6/10 - Loudness of new mixture: 0.0325\n",
      "Loudness of mix: 0.07263966649770737, Loudness of tmp_mix: 0.21792149543762207\n",
      "Step 7/10 - Loudness of new mixture: 0.0259\n",
      "Loudness of mix: 0.07263966649770737, Loudness of tmp_mix: 0.21792149543762207\n",
      "Step 8/10 - Loudness of new mixture: 0.0196\n",
      "Loudness of mix: 0.07263966649770737, Loudness of tmp_mix: 0.21792149543762207\n",
      "Step 9/10 - Loudness of new mixture: 0.0137\n",
      "Loudness of mix: 0.07263966649770737, Loudness of tmp_mix: 0.21792149543762207\n",
      "Step 10/10 - Loudness of new mixture: 0.0090\n"
     ]
    },
    {
     "name": "stderr",
     "output_type": "stream",
     "text": [
      " 84%|████████▍ | 42/50 [03:48<00:43,  5.43s/it]"
     ]
    },
    {
     "name": "stdout",
     "output_type": "stream",
     "text": [
      "Original loudness: 0.0776\n",
      "Loudness of homogeneus mixture: 0.0774\n",
      "Loudness of mix: 0.07755619287490845, Loudness of tmp_mix: 0.2326711118221283\n",
      "Step 1/10 - Loudness of new mixture: 0.0707\n",
      "Loudness of mix: 0.07755619287490845, Loudness of tmp_mix: 0.2326711118221283\n",
      "Step 2/10 - Loudness of new mixture: 0.0639\n",
      "Loudness of mix: 0.07755619287490845, Loudness of tmp_mix: 0.2326711118221283\n",
      "Step 3/10 - Loudness of new mixture: 0.0571\n",
      "Loudness of mix: 0.07755619287490845, Loudness of tmp_mix: 0.2326711118221283\n",
      "Step 4/10 - Loudness of new mixture: 0.0504\n",
      "Loudness of mix: 0.07755619287490845, Loudness of tmp_mix: 0.2326711118221283\n",
      "Step 5/10 - Loudness of new mixture: 0.0437\n",
      "Loudness of mix: 0.07755619287490845, Loudness of tmp_mix: 0.2326711118221283\n",
      "Step 6/10 - Loudness of new mixture: 0.0370\n",
      "Loudness of mix: 0.07755619287490845, Loudness of tmp_mix: 0.2326711118221283\n",
      "Step 7/10 - Loudness of new mixture: 0.0305\n",
      "Loudness of mix: 0.07755619287490845, Loudness of tmp_mix: 0.2326711118221283\n",
      "Step 8/10 - Loudness of new mixture: 0.0241\n",
      "Loudness of mix: 0.07755619287490845, Loudness of tmp_mix: 0.2326711118221283\n",
      "Step 9/10 - Loudness of new mixture: 0.0181\n",
      "Loudness of mix: 0.07755619287490845, Loudness of tmp_mix: 0.2326711118221283\n",
      "Step 10/10 - Loudness of new mixture: 0.0130\n"
     ]
    },
    {
     "name": "stderr",
     "output_type": "stream",
     "text": [
      " 86%|████████▌ | 43/50 [03:53<00:38,  5.43s/it]"
     ]
    },
    {
     "name": "stdout",
     "output_type": "stream",
     "text": [
      "Original loudness: 0.0797\n",
      "Loudness of homogeneus mixture: 0.0796\n",
      "Loudness of mix: 0.07967151701450348, Loudness of tmp_mix: 0.2390175610780716\n",
      "Step 1/10 - Loudness of new mixture: 0.0727\n",
      "Loudness of mix: 0.07967151701450348, Loudness of tmp_mix: 0.2390175610780716\n",
      "Step 2/10 - Loudness of new mixture: 0.0658\n",
      "Loudness of mix: 0.07967151701450348, Loudness of tmp_mix: 0.2390175610780716\n",
      "Step 3/10 - Loudness of new mixture: 0.0589\n",
      "Loudness of mix: 0.07967151701450348, Loudness of tmp_mix: 0.2390175610780716\n",
      "Step 4/10 - Loudness of new mixture: 0.0520\n",
      "Loudness of mix: 0.07967151701450348, Loudness of tmp_mix: 0.2390175610780716\n",
      "Step 5/10 - Loudness of new mixture: 0.0451\n",
      "Loudness of mix: 0.07967151701450348, Loudness of tmp_mix: 0.2390175610780716\n",
      "Step 6/10 - Loudness of new mixture: 0.0384\n",
      "Loudness of mix: 0.07967151701450348, Loudness of tmp_mix: 0.2390175610780716\n",
      "Step 7/10 - Loudness of new mixture: 0.0317\n",
      "Loudness of mix: 0.07967151701450348, Loudness of tmp_mix: 0.2390175610780716\n",
      "Step 8/10 - Loudness of new mixture: 0.0253\n",
      "Loudness of mix: 0.07967151701450348, Loudness of tmp_mix: 0.2390175610780716\n",
      "Step 9/10 - Loudness of new mixture: 0.0192\n",
      "Loudness of mix: 0.07967151701450348, Loudness of tmp_mix: 0.2390175610780716\n",
      "Step 10/10 - Loudness of new mixture: 0.0142\n"
     ]
    },
    {
     "name": "stderr",
     "output_type": "stream",
     "text": [
      " 88%|████████▊ | 44/50 [03:58<00:32,  5.43s/it]"
     ]
    },
    {
     "name": "stdout",
     "output_type": "stream",
     "text": [
      "Original loudness: 0.1263\n",
      "Loudness of homogeneus mixture: 0.1260\n",
      "Loudness of mix: 0.12634114921092987, Loudness of tmp_mix: 0.3790268898010254\n",
      "Step 1/10 - Loudness of new mixture: 0.1144\n",
      "Loudness of mix: 0.12634114921092987, Loudness of tmp_mix: 0.3790268898010254\n",
      "Step 2/10 - Loudness of new mixture: 0.1025\n",
      "Loudness of mix: 0.12634114921092987, Loudness of tmp_mix: 0.3790268898010254\n",
      "Step 3/10 - Loudness of new mixture: 0.0906\n",
      "Loudness of mix: 0.12634114921092987, Loudness of tmp_mix: 0.3790268898010254\n",
      "Step 4/10 - Loudness of new mixture: 0.0787\n",
      "Loudness of mix: 0.12634114921092987, Loudness of tmp_mix: 0.3790268898010254\n",
      "Step 5/10 - Loudness of new mixture: 0.0669\n",
      "Loudness of mix: 0.12634114921092987, Loudness of tmp_mix: 0.3790268898010254\n",
      "Step 6/10 - Loudness of new mixture: 0.0553\n",
      "Loudness of mix: 0.12634114921092987, Loudness of tmp_mix: 0.3790268898010254\n",
      "Step 7/10 - Loudness of new mixture: 0.0438\n",
      "Loudness of mix: 0.12634114921092987, Loudness of tmp_mix: 0.3790268898010254\n",
      "Step 8/10 - Loudness of new mixture: 0.0327\n",
      "Loudness of mix: 0.12634114921092987, Loudness of tmp_mix: 0.3790268898010254\n",
      "Step 9/10 - Loudness of new mixture: 0.0224\n",
      "Loudness of mix: 0.12634114921092987, Loudness of tmp_mix: 0.3790268898010254\n",
      "Step 10/10 - Loudness of new mixture: 0.0144\n"
     ]
    },
    {
     "name": "stderr",
     "output_type": "stream",
     "text": [
      " 90%|█████████ | 45/50 [04:04<00:27,  5.43s/it]"
     ]
    },
    {
     "name": "stdout",
     "output_type": "stream",
     "text": [
      "Original loudness: 0.0850\n",
      "Loudness of homogeneus mixture: 0.0847\n",
      "Loudness of mix: 0.08496776223182678, Loudness of tmp_mix: 0.2549061179161072\n",
      "Step 1/10 - Loudness of new mixture: 0.0770\n",
      "Loudness of mix: 0.08496776223182678, Loudness of tmp_mix: 0.2549061179161072\n",
      "Step 2/10 - Loudness of new mixture: 0.0690\n",
      "Loudness of mix: 0.08496776223182678, Loudness of tmp_mix: 0.2549061179161072\n",
      "Step 3/10 - Loudness of new mixture: 0.0611\n",
      "Loudness of mix: 0.08496776223182678, Loudness of tmp_mix: 0.2549061179161072\n",
      "Step 4/10 - Loudness of new mixture: 0.0531\n",
      "Loudness of mix: 0.08496776223182678, Loudness of tmp_mix: 0.2549061179161072\n",
      "Step 5/10 - Loudness of new mixture: 0.0452\n",
      "Loudness of mix: 0.08496776223182678, Loudness of tmp_mix: 0.2549061179161072\n",
      "Step 6/10 - Loudness of new mixture: 0.0374\n",
      "Loudness of mix: 0.08496776223182678, Loudness of tmp_mix: 0.2549061179161072\n",
      "Step 7/10 - Loudness of new mixture: 0.0297\n",
      "Loudness of mix: 0.08496776223182678, Loudness of tmp_mix: 0.2549061179161072\n",
      "Step 8/10 - Loudness of new mixture: 0.0222\n",
      "Loudness of mix: 0.08496776223182678, Loudness of tmp_mix: 0.2549061179161072\n",
      "Step 9/10 - Loudness of new mixture: 0.0152\n",
      "Loudness of mix: 0.08496776223182678, Loudness of tmp_mix: 0.2549061179161072\n",
      "Step 10/10 - Loudness of new mixture: 0.0099\n"
     ]
    },
    {
     "name": "stderr",
     "output_type": "stream",
     "text": [
      " 92%|█████████▏| 46/50 [04:09<00:21,  5.44s/it]"
     ]
    },
    {
     "name": "stdout",
     "output_type": "stream",
     "text": [
      "Original loudness: 0.0977\n",
      "Loudness of homogeneus mixture: 0.0976\n",
      "Loudness of mix: 0.09774579852819443, Loudness of tmp_mix: 0.2932385504245758\n",
      "Step 1/10 - Loudness of new mixture: 0.0890\n",
      "Loudness of mix: 0.09774579852819443, Loudness of tmp_mix: 0.2932385504245758\n",
      "Step 2/10 - Loudness of new mixture: 0.0802\n",
      "Loudness of mix: 0.09774579852819443, Loudness of tmp_mix: 0.2932385504245758\n",
      "Step 3/10 - Loudness of new mixture: 0.0715\n",
      "Loudness of mix: 0.09774579852819443, Loudness of tmp_mix: 0.2932385504245758\n",
      "Step 4/10 - Loudness of new mixture: 0.0628\n",
      "Loudness of mix: 0.09774579852819443, Loudness of tmp_mix: 0.2932385504245758\n",
      "Step 5/10 - Loudness of new mixture: 0.0541\n",
      "Loudness of mix: 0.09774579852819443, Loudness of tmp_mix: 0.2932385504245758\n",
      "Step 6/10 - Loudness of new mixture: 0.0455\n",
      "Loudness of mix: 0.09774579852819443, Loudness of tmp_mix: 0.2932385504245758\n",
      "Step 7/10 - Loudness of new mixture: 0.0371\n",
      "Loudness of mix: 0.09774579852819443, Loudness of tmp_mix: 0.2932385504245758\n",
      "Step 8/10 - Loudness of new mixture: 0.0288\n",
      "Loudness of mix: 0.09774579852819443, Loudness of tmp_mix: 0.2932385504245758\n",
      "Step 9/10 - Loudness of new mixture: 0.0210\n",
      "Loudness of mix: 0.09774579852819443, Loudness of tmp_mix: 0.2932385504245758\n",
      "Step 10/10 - Loudness of new mixture: 0.0144\n"
     ]
    },
    {
     "name": "stderr",
     "output_type": "stream",
     "text": [
      " 94%|█████████▍| 47/50 [04:15<00:16,  5.48s/it]"
     ]
    },
    {
     "name": "stdout",
     "output_type": "stream",
     "text": [
      "Original loudness: 0.1160\n",
      "Loudness of homogeneus mixture: 0.1157\n",
      "Loudness of mix: 0.11596698313951492, Loudness of tmp_mix: 0.34790340065956116\n",
      "Step 1/10 - Loudness of new mixture: 0.1050\n",
      "Loudness of mix: 0.11596698313951492, Loudness of tmp_mix: 0.34790340065956116\n",
      "Step 2/10 - Loudness of new mixture: 0.0941\n",
      "Loudness of mix: 0.11596698313951492, Loudness of tmp_mix: 0.34790340065956116\n",
      "Step 3/10 - Loudness of new mixture: 0.0832\n",
      "Loudness of mix: 0.11596698313951492, Loudness of tmp_mix: 0.34790340065956116\n",
      "Step 4/10 - Loudness of new mixture: 0.0723\n",
      "Loudness of mix: 0.11596698313951492, Loudness of tmp_mix: 0.34790340065956116\n",
      "Step 5/10 - Loudness of new mixture: 0.0615\n",
      "Loudness of mix: 0.11596698313951492, Loudness of tmp_mix: 0.34790340065956116\n",
      "Step 6/10 - Loudness of new mixture: 0.0508\n",
      "Loudness of mix: 0.11596698313951492, Loudness of tmp_mix: 0.34790340065956116\n",
      "Step 7/10 - Loudness of new mixture: 0.0402\n",
      "Loudness of mix: 0.11596698313951492, Loudness of tmp_mix: 0.34790340065956116\n",
      "Step 8/10 - Loudness of new mixture: 0.0298\n",
      "Loudness of mix: 0.11596698313951492, Loudness of tmp_mix: 0.34790340065956116\n",
      "Step 9/10 - Loudness of new mixture: 0.0200\n",
      "Loudness of mix: 0.11596698313951492, Loudness of tmp_mix: 0.34790340065956116\n",
      "Step 10/10 - Loudness of new mixture: 0.0120\n"
     ]
    },
    {
     "name": "stderr",
     "output_type": "stream",
     "text": [
      " 96%|█████████▌| 48/50 [04:21<00:11,  5.51s/it]"
     ]
    },
    {
     "name": "stdout",
     "output_type": "stream",
     "text": [
      "Original loudness: 0.1341\n",
      "Loudness of homogeneus mixture: 0.1341\n",
      "Loudness of mix: 0.13407927751541138, Loudness of tmp_mix: 0.4022377133369446\n",
      "Step 1/10 - Loudness of new mixture: 0.1207\n",
      "Loudness of mix: 0.13407927751541138, Loudness of tmp_mix: 0.4022377133369446\n",
      "Step 2/10 - Loudness of new mixture: 0.1073\n",
      "Loudness of mix: 0.13407927751541138, Loudness of tmp_mix: 0.4022377133369446\n",
      "Step 3/10 - Loudness of new mixture: 0.0939\n",
      "Loudness of mix: 0.13407927751541138, Loudness of tmp_mix: 0.4022377133369446\n",
      "Step 4/10 - Loudness of new mixture: 0.0805\n",
      "Loudness of mix: 0.13407927751541138, Loudness of tmp_mix: 0.4022377133369446\n",
      "Step 5/10 - Loudness of new mixture: 0.0671\n",
      "Loudness of mix: 0.13407927751541138, Loudness of tmp_mix: 0.4022377133369446\n",
      "Step 6/10 - Loudness of new mixture: 0.0538\n",
      "Loudness of mix: 0.13407927751541138, Loudness of tmp_mix: 0.4022377133369446\n",
      "Step 7/10 - Loudness of new mixture: 0.0404\n",
      "Loudness of mix: 0.13407927751541138, Loudness of tmp_mix: 0.4022377133369446\n",
      "Step 8/10 - Loudness of new mixture: 0.0270\n",
      "Loudness of mix: 0.13407927751541138, Loudness of tmp_mix: 0.4022377133369446\n",
      "Step 9/10 - Loudness of new mixture: 0.0137\n",
      "Loudness of mix: 0.13407927751541138, Loudness of tmp_mix: 0.4022377133369446\n",
      "Step 10/10 - Loudness of new mixture: 0.0008\n"
     ]
    },
    {
     "name": "stderr",
     "output_type": "stream",
     "text": [
      " 98%|█████████▊| 49/50 [04:26<00:05,  5.53s/it]"
     ]
    },
    {
     "name": "stdout",
     "output_type": "stream",
     "text": [
      "Original loudness: 0.0868\n",
      "Loudness of homogeneus mixture: 0.0868\n",
      "Loudness of mix: 0.08680891245603561, Loudness of tmp_mix: 0.27769866585731506\n",
      "Step 1/10 - Loudness of new mixture: 0.0782\n",
      "Loudness of mix: 0.08680891245603561, Loudness of tmp_mix: 0.27769866585731506\n",
      "Step 2/10 - Loudness of new mixture: 0.0696\n",
      "Loudness of mix: 0.08680891245603561, Loudness of tmp_mix: 0.27769866585731506\n",
      "Step 3/10 - Loudness of new mixture: 0.0610\n",
      "Loudness of mix: 0.08680891245603561, Loudness of tmp_mix: 0.27769866585731506\n",
      "Step 4/10 - Loudness of new mixture: 0.0524\n",
      "Loudness of mix: 0.08680891245603561, Loudness of tmp_mix: 0.27769866585731506\n",
      "Step 5/10 - Loudness of new mixture: 0.0438\n",
      "Loudness of mix: 0.08680891245603561, Loudness of tmp_mix: 0.27769866585731506\n",
      "Step 6/10 - Loudness of new mixture: 0.0352\n",
      "Loudness of mix: 0.08680891245603561, Loudness of tmp_mix: 0.27769866585731506\n",
      "Step 7/10 - Loudness of new mixture: 0.0267\n",
      "Loudness of mix: 0.08680891245603561, Loudness of tmp_mix: 0.27769866585731506\n",
      "Step 8/10 - Loudness of new mixture: 0.0181\n",
      "Loudness of mix: 0.08680891245603561, Loudness of tmp_mix: 0.27769866585731506\n",
      "Step 9/10 - Loudness of new mixture: 0.0096\n",
      "Loudness of mix: 0.08680891245603561, Loudness of tmp_mix: 0.27769866585731506\n",
      "Step 10/10 - Loudness of new mixture: 0.0017\n"
     ]
    },
    {
     "name": "stderr",
     "output_type": "stream",
     "text": [
      "100%|██████████| 50/50 [04:32<00:00,  5.44s/it]\n"
     ]
    }
   ],
   "source": [
    "results = sdr_across_dataset(\n",
    "    dataset_dict,\n",
    "    model,\n",
    "    sample_rate,\n",
    "    device,\n",
    "    overlap=0.0,  # No overlap\n",
    "    target_stem=\"vocals\",\n",
    "    steps=10,\n",
    "    mixture_update_mode=\"oracle predictor\",  # Use oracle predictor for progressive inference\n",
    "    display_first_output=False,  # Display output for the first track only\n",
    ")"
   ]
  },
  {
   "cell_type": "code",
   "execution_count": 78,
   "metadata": {},
   "outputs": [
    {
     "name": "stdout",
     "output_type": "stream",
     "text": [
      "Average SDR results per stem: tensor([[12.3664, 11.1460,  6.6667,  9.9556],\n",
      "        [12.3231, 11.1172,  6.5861, 10.1636],\n",
      "        [12.2774, 11.0914,  6.4983, 10.4143],\n",
      "        [12.2198, 11.0583,  6.3886, 10.7196],\n",
      "        [12.1447, 11.0140,  6.2481, 11.1000],\n",
      "        [12.0423, 10.9518,  6.0614, 11.5896],\n",
      "        [11.8939, 10.8570,  5.8006, 12.2515],\n",
      "        [11.6599, 10.6884,  5.4056, 13.2078],\n",
      "        [11.2396, 10.3052,  4.7152, 14.7559],\n",
      "        [10.1699,  9.0201,  3.1477, 17.8839]])\n"
     ]
    },
    {
     "data": {
      "image/png": "[encoded data removed]",
      "text/plain": [
       "<Figure size 1200x600 with 1 Axes>"
      ]
     },
     "metadata": {},
     "output_type": "display_data"
    }
   ],
   "source": [
    "sdr_mean = results[0]\n",
    "sdr_min_max = results[2]\n",
    "\n",
    "plot_sdr_results(sdr_mean, sdr_min_max)"
   ]
  },
  {
   "cell_type": "markdown",
   "metadata": {},
   "source": [
    "## Remixing with previous-step-extracted-stem"
   ]
  },
  {
   "cell_type": "code",
   "execution_count": 123,
   "metadata": {},
   "outputs": [
    {
     "name": "stderr",
     "output_type": "stream",
     "text": [
      "  0%|          | 0/50 [00:02<?, ?it/s]\n"
     ]
    },
    {
     "ename": "KeyboardInterrupt",
     "evalue": "",
     "output_type": "error",
     "traceback": [
      "\u001b[31m---------------------------------------------------------------------------\u001b[39m",
      "\u001b[31mKeyboardInterrupt\u001b[39m                         Traceback (most recent call last)",
      "\u001b[36mCell\u001b[39m\u001b[36m \u001b[39m\u001b[32mIn[123]\u001b[39m\u001b[32m, line 2\u001b[39m\n\u001b[32m      1\u001b[39m \u001b[38;5;66;03m# use the function to evaluate SDR across all the dataset using progressive inference\u001b[39;00m\n\u001b[32m----> \u001b[39m\u001b[32m2\u001b[39m results_2 = \u001b[43msdr_across_dataset\u001b[49m\u001b[43m(\u001b[49m\n\u001b[32m      3\u001b[39m \u001b[43m    \u001b[49m\u001b[43mdataset_dict\u001b[49m\u001b[43m,\u001b[49m\n\u001b[32m      4\u001b[39m \u001b[43m    \u001b[49m\u001b[43mmodel\u001b[49m\u001b[43m,\u001b[49m\n\u001b[32m      5\u001b[39m \u001b[43m    \u001b[49m\u001b[43msample_rate\u001b[49m\u001b[43m,\u001b[49m\n\u001b[32m      6\u001b[39m \u001b[43m    \u001b[49m\u001b[43mdevice\u001b[49m\u001b[43m,\u001b[49m\n\u001b[32m      7\u001b[39m \u001b[43m    \u001b[49m\u001b[43moverlap\u001b[49m\u001b[43m=\u001b[49m\u001b[32;43m0.0\u001b[39;49m\u001b[43m,\u001b[49m\n\u001b[32m      8\u001b[39m \u001b[43m    \u001b[49m\u001b[43mtarget_stem\u001b[49m\u001b[43m=\u001b[49m\u001b[33;43m\"\u001b[39;49m\u001b[33;43mvocals\u001b[39;49m\u001b[33;43m\"\u001b[39;49m\u001b[43m,\u001b[49m\n\u001b[32m      9\u001b[39m \u001b[43m    \u001b[49m\u001b[43msteps\u001b[49m\u001b[43m=\u001b[49m\u001b[32;43m10\u001b[39;49m\u001b[43m,\u001b[49m\n\u001b[32m     10\u001b[39m \u001b[43m    \u001b[49m\u001b[43mmixture_update_mode\u001b[49m\u001b[43m=\u001b[49m\u001b[33;43m\"\u001b[39;49m\u001b[33;43madd sources\u001b[39;49m\u001b[33;43m\"\u001b[39;49m\u001b[43m,\u001b[49m\n\u001b[32m     11\u001b[39m \u001b[43m    \u001b[49m\u001b[43minitial_gains\u001b[49m\u001b[43m=\u001b[49m\u001b[43m{\u001b[49m\u001b[33;43m\"\u001b[39;49m\u001b[33;43mbass\u001b[39;49m\u001b[33;43m\"\u001b[39;49m\u001b[43m:\u001b[49m\u001b[43m \u001b[49m\u001b[32;43m1\u001b[39;49m\u001b[43m,\u001b[49m\u001b[43m \u001b[49m\u001b[33;43m\"\u001b[39;49m\u001b[33;43mdrums\u001b[39;49m\u001b[33;43m\"\u001b[39;49m\u001b[43m:\u001b[49m\u001b[43m \u001b[49m\u001b[32;43m1\u001b[39;49m\u001b[43m,\u001b[49m\u001b[43m \u001b[49m\u001b[33;43m\"\u001b[39;49m\u001b[33;43mvocals\u001b[39;49m\u001b[33;43m\"\u001b[39;49m\u001b[43m:\u001b[49m\u001b[43m \u001b[49m\u001b[32;43m1\u001b[39;49m\u001b[43m,\u001b[49m\u001b[43m \u001b[49m\u001b[33;43m\"\u001b[39;49m\u001b[33;43mother\u001b[39;49m\u001b[33;43m\"\u001b[39;49m\u001b[43m:\u001b[49m\u001b[43m \u001b[49m\u001b[32;43m1\u001b[39;49m\u001b[43m}\u001b[49m\u001b[43m,\u001b[49m\n\u001b[32m     12\u001b[39m \u001b[43m    \u001b[49m\u001b[43mschedule_type\u001b[49m\u001b[43m=\u001b[49m\u001b[33;43m\"\u001b[39;49m\u001b[33;43mlinear\u001b[39;49m\u001b[33;43m\"\u001b[39;49m\u001b[43m,\u001b[49m\n\u001b[32m     13\u001b[39m \u001b[43m)\u001b[49m\n",
      "\u001b[36mCell\u001b[39m\u001b[36m \u001b[39m\u001b[32mIn[84]\u001b[39m\u001b[32m, line 58\u001b[39m, in \u001b[36msdr_across_dataset\u001b[39m\u001b[34m(dataset_dict, model, sample_rate, device, normalize, overlap, target_stem, steps, mixture_update_mode, initial_gains, schedule_type, wiener_filter, display_first_output)\u001b[39m\n\u001b[32m     55\u001b[39m     display_output = \u001b[38;5;28;01mFalse\u001b[39;00m\n\u001b[32m     57\u001b[39m \u001b[38;5;66;03m# Perform progressive inference\u001b[39;00m\n\u001b[32m---> \u001b[39m\u001b[32m58\u001b[39m _ , sdr_results_single_track, sdr_beta_single_track = \u001b[43mprogressive_inference\u001b[49m\u001b[43m(\u001b[49m\n\u001b[32m     59\u001b[39m \u001b[43m    \u001b[49m\u001b[43mmodel\u001b[49m\u001b[43m,\u001b[49m\n\u001b[32m     60\u001b[39m \u001b[43m    \u001b[49m\u001b[43mmixture\u001b[49m\u001b[43m,\u001b[49m\n\u001b[32m     61\u001b[39m \u001b[43m    \u001b[49m\u001b[43mtarget_stem\u001b[49m\u001b[43m,\u001b[49m\n\u001b[32m     62\u001b[39m \u001b[43m    \u001b[49m\u001b[43mreference_stems\u001b[49m\u001b[43m=\u001b[49m\u001b[43mstems_dict\u001b[49m\u001b[43m,\u001b[49m\n\u001b[32m     63\u001b[39m \u001b[43m    \u001b[49m\u001b[43minitial_gains\u001b[49m\u001b[43m=\u001b[49m\u001b[43minitial_gains\u001b[49m\u001b[43m,\u001b[49m\n\u001b[32m     64\u001b[39m \u001b[43m    \u001b[49m\u001b[43msample_rate\u001b[49m\u001b[43m=\u001b[49m\u001b[43msample_rate\u001b[49m\u001b[43m,\u001b[49m\n\u001b[32m     65\u001b[39m \u001b[43m    \u001b[49m\u001b[43mmixture_update_mode\u001b[49m\u001b[43m=\u001b[49m\u001b[43mmixture_update_mode\u001b[49m\u001b[43m,\u001b[49m\n\u001b[32m     66\u001b[39m \u001b[43m    \u001b[49m\u001b[43moverlap\u001b[49m\u001b[43m=\u001b[49m\u001b[43moverlap\u001b[49m\u001b[43m,\u001b[49m\u001b[43m \u001b[49m\n\u001b[32m     67\u001b[39m \u001b[43m    \u001b[49m\u001b[43mdevice\u001b[49m\u001b[43m=\u001b[49m\u001b[43mdevice\u001b[49m\u001b[43m,\u001b[49m\n\u001b[32m     68\u001b[39m \u001b[43m    \u001b[49m\u001b[43mnormalize\u001b[49m\u001b[43m=\u001b[49m\u001b[43mnormalize\u001b[49m\u001b[43m,\u001b[49m\n\u001b[32m     69\u001b[39m \u001b[43m    \u001b[49m\u001b[43mwiener_filter\u001b[49m\u001b[43m=\u001b[49m\u001b[43mwiener_filter\u001b[49m\u001b[43m,\u001b[49m\n\u001b[32m     70\u001b[39m \u001b[43m    \u001b[49m\u001b[43msteps\u001b[49m\u001b[43m=\u001b[49m\u001b[43msteps\u001b[49m\u001b[43m,\u001b[49m\n\u001b[32m     71\u001b[39m \u001b[43m    \u001b[49m\u001b[43mschedule_type\u001b[49m\u001b[43m=\u001b[49m\u001b[43mschedule_type\u001b[49m\u001b[43m,\u001b[49m\n\u001b[32m     72\u001b[39m \u001b[43m    \u001b[49m\u001b[43mdisplay_output\u001b[49m\u001b[43m=\u001b[49m\u001b[43mdisplay_output\u001b[49m\n\u001b[32m     73\u001b[39m \u001b[43m\u001b[49m\u001b[43m)\u001b[49m\n\u001b[32m     75\u001b[39m \u001b[38;5;66;03m# Convert sdr_results_single_track to a tensor\u001b[39;00m\n\u001b[32m     76\u001b[39m sdr_tensor = torch.tensor([\u001b[38;5;28mlist\u001b[39m(sdr_results_single_track[step].values()) \u001b[38;5;28;01mfor\u001b[39;00m step \u001b[38;5;129;01min\u001b[39;00m \u001b[38;5;28mrange\u001b[39m(steps)]).squeeze(-\u001b[32m1\u001b[39m)\n",
      "\u001b[36mCell\u001b[39m\u001b[36m \u001b[39m\u001b[32mIn[95]\u001b[39m\u001b[32m, line 94\u001b[39m, in \u001b[36mprogressive_inference\u001b[39m\u001b[34m(model, mix, target_stem, reference_stems, initial_gains, sample_rate, mixture_update_mode, overlap, device, normalize, wiener_filter, steps, schedule_type, fix_clipping, display_output)\u001b[39m\n\u001b[32m     91\u001b[39m     separated_sources[:, target_index] = wiener_filtering(separated_sources, new_mix, target_index)\n\u001b[32m     93\u001b[39m \u001b[38;5;66;03m# Compute SDR for the current step\u001b[39;00m\n\u001b[32m---> \u001b[39m\u001b[32m94\u001b[39m step_sdr_results = \u001b[43mcompute_sdrs\u001b[49m\u001b[43m(\u001b[49m\u001b[43mmodel\u001b[49m\u001b[43m,\u001b[49m\u001b[43m \u001b[49m\u001b[43mdevice\u001b[49m\u001b[43m,\u001b[49m\u001b[43m \u001b[49m\u001b[43mreference_stems\u001b[49m\u001b[43m,\u001b[49m\u001b[43m \u001b[49m\u001b[43mseparated_sources\u001b[49m\u001b[43m)\u001b[49m\n\u001b[32m     95\u001b[39m sdr_results.append(step_sdr_results)\n\u001b[32m     97\u001b[39m step_sdr_beta_results = compute_beta_sdrs(model, device, reference_stems, separated_sources, target_stem, beta)\n",
      "\u001b[36mCell\u001b[39m\u001b[36m \u001b[39m\u001b[32mIn[20]\u001b[39m\u001b[32m, line 6\u001b[39m, in \u001b[36mcompute_sdrs\u001b[39m\u001b[34m(model, device, stems_dict, separated_sources)\u001b[39m\n\u001b[32m      3\u001b[39m sdr_results = {stem: [] \u001b[38;5;28;01mfor\u001b[39;00m stem \u001b[38;5;129;01min\u001b[39;00m model.sources}\n\u001b[32m      4\u001b[39m \u001b[38;5;28;01mfor\u001b[39;00m i, stem_name \u001b[38;5;129;01min\u001b[39;00m \u001b[38;5;28menumerate\u001b[39m(model.sources):\n\u001b[32m      5\u001b[39m     \u001b[38;5;66;03m# test normalization\u001b[39;00m\n\u001b[32m----> \u001b[39m\u001b[32m6\u001b[39m     original_stem = \u001b[43mstems_dict\u001b[49m\u001b[43m[\u001b[49m\u001b[43mstem_name\u001b[49m\u001b[43m]\u001b[49m\u001b[43m.\u001b[49m\u001b[43mto\u001b[49m\u001b[43m(\u001b[49m\u001b[43mdevice\u001b[49m\u001b[43m)\u001b[49m\n\u001b[32m      7\u001b[39m     predicted_stem = separated_sources[\u001b[32m0\u001b[39m, i].to(device)\n\u001b[32m      8\u001b[39m     sdr_value = evaluate_sdr(original_stem, predicted_stem, device=device)\n",
      "\u001b[31mKeyboardInterrupt\u001b[39m: "
     ]
    }
   ],
   "source": [
    "# use the function to evaluate SDR across all the dataset using progressive inference\n",
    "results_2 = sdr_across_dataset(\n",
    "    dataset_dict,\n",
    "    model,\n",
    "    sample_rate,\n",
    "    device,\n",
    "    overlap=0.0,\n",
    "    target_stem=\"vocals\",\n",
    "    steps=10,\n",
    "    mixture_update_mode=\"add sources\",\n",
    "    initial_gains={\"bass\": 1, \"drums\": 1, \"vocals\": 1, \"other\": 1},\n",
    "    schedule_type=\"linear\",\n",
    ")\n"
   ]
  },
  {
   "cell_type": "code",
   "execution_count": 97,
   "metadata": {},
   "outputs": [
    {
     "name": "stdout",
     "output_type": "stream",
     "text": [
      "Average SDR results per stem: tensor([[ 12.3664,  11.1460,   6.6668,   9.9556],\n",
      "        [ 12.2062,  11.0141,   6.5393,   9.8751],\n",
      "        [ 11.9463,  10.7832,   6.2658,   9.7505],\n",
      "        [ 11.5386,  10.3920,   5.7560,   9.5932],\n",
      "        [ 10.8411,   9.5034,   4.8025,   9.4408],\n",
      "        [  9.5558,   5.6393,   2.9141,   9.3208],\n",
      "        [  6.1143,  -2.3706,  -0.6177,   9.2194],\n",
      "        [-10.9051, -17.4832,  -7.7650,   9.1636],\n",
      "        [-36.4365, -27.3048, -14.1258,   9.1394],\n",
      "        [-37.8829, -29.3074, -16.5769,   9.1116]])\n"
     ]
    },
    {
     "data": {
      "image/png": "[encoded data removed]",
      "text/plain": [
       "<Figure size 1200x600 with 1 Axes>"
      ]
     },
     "metadata": {},
     "output_type": "display_data"
    }
   ],
   "source": [
    "sdr_mean = results_2[0]\n",
    "sdr_min_max = results_2[2]\n",
    "\n",
    "plot_sdr_results(sdr_mean, sdr_min_max)"
   ]
  },
  {
   "cell_type": "markdown",
   "metadata": {},
   "source": [
    "## Remixing adding the resulting target stem to the original mixture"
   ]
  },
  {
   "cell_type": "markdown",
   "metadata": {},
   "source": [
    "### Vocals"
   ]
  },
  {
   "cell_type": "code",
   "execution_count": 124,
   "metadata": {},
   "outputs": [
    {
     "name": "stderr",
     "output_type": "stream",
     "text": [
      "100%|██████████| 50/50 [06:46<00:00,  8.13s/it]\n"
     ]
    }
   ],
   "source": [
    "# use the function to evaluate SDR across all the dataset using progressive inference\n",
    "results_3 = sdr_across_dataset(\n",
    "    dataset_dict,\n",
    "    model,\n",
    "    sample_rate,\n",
    "    device,\n",
    "    overlap=0.0,\n",
    "    target_stem=\"vocals\",\n",
    "    steps = 10,\n",
    "    mixture_update_mode=\"add to mixture\",\n",
    "    # display_first_output=True,  # Display output for the first track only\n",
    ")"
   ]
  },
  {
   "cell_type": "code",
   "execution_count": 125,
   "metadata": {},
   "outputs": [
    {
     "name": "stdout",
     "output_type": "stream",
     "text": [
      "Average SDR results per stem: tensor([[12.3664, 11.1460,  6.6667,  9.9556],\n",
      "        [12.3563, 11.1196,  6.6485,  9.9856],\n",
      "        [12.3381, 11.0828,  6.6127,  9.9972],\n",
      "        [12.3070, 11.0298,  6.5516,  9.9876],\n",
      "        [12.2555, 10.9479,  6.4519,  9.9502],\n",
      "        [12.1702, 10.8048,  6.2855,  9.8758],\n",
      "        [12.0206, 10.5281,  6.0080,  9.7609],\n",
      "        [11.7247,  9.9961,  5.5409,  9.6051],\n",
      "        [11.1168,  7.9353,  4.5685,  9.4160],\n",
      "        [ 9.2197,  2.0959,  2.0961,  9.2088]])\n"
     ]
    },
    {
     "data": {
      "image/png": "[encoded data removed]",
      "text/plain": [
       "<Figure size 1200x600 with 1 Axes>"
      ]
     },
     "metadata": {},
     "output_type": "display_data"
    }
   ],
   "source": [
    "sdr_mean = results_3[0]\n",
    "sdr_min_max = results_3[2]\n",
    "\n",
    "plot_sdr_results(sdr_mean, sdr_min_max)"
   ]
  },
  {
   "cell_type": "code",
   "execution_count": 126,
   "metadata": {},
   "outputs": [
    {
     "data": {
      "text/plain": [
       "tensor([[ 0.0000e+00,  0.0000e+00,  0.0000e+00,  0.0000e+00],\n",
       "        [ 0.0000e+00,  0.0000e+00,  0.0000e+00,  0.0000e+00],\n",
       "        [ 0.0000e+00,  0.0000e+00,  0.0000e+00,  0.0000e+00],\n",
       "        [ 0.0000e+00,  0.0000e+00,  0.0000e+00,  0.0000e+00],\n",
       "        [ 0.0000e+00,  0.0000e+00,  0.0000e+00,  0.0000e+00],\n",
       "        [ 0.0000e+00,  0.0000e+00,  0.0000e+00,  0.0000e+00],\n",
       "        [ 0.0000e+00,  0.0000e+00,  0.0000e+00,  0.0000e+00],\n",
       "        [ 0.0000e+00,  0.0000e+00,  0.0000e+00,  0.0000e+00],\n",
       "        [ 0.0000e+00,  8.9598e-04, -4.7684e-07,  0.0000e+00],\n",
       "        [-9.5367e-07,  8.7619e-04, -2.3842e-07,  0.0000e+00]])"
      ]
     },
     "execution_count": 126,
     "metadata": {},
     "output_type": "execute_result"
    }
   ],
   "source": [
    "results_3[0] - results_3[3] "
   ]
  },
  {
   "cell_type": "code",
   "execution_count": 121,
   "metadata": {},
   "outputs": [
    {
     "name": "stdout",
     "output_type": "stream",
     "text": [
      "Average SDR results per stem: tensor([[12.3664, 11.1460,  6.6667,  9.9556],\n",
      "        [12.3563, 11.1196,  6.6485,  9.9856],\n",
      "        [12.3381, 11.0828,  6.6127,  9.9972],\n",
      "        [12.3070, 11.0298,  6.5516,  9.9876],\n",
      "        [12.2555, 10.9477,  6.4513,  9.9503],\n",
      "        [12.1702, 10.8048,  6.2855,  9.8758],\n",
      "        [12.0206, 10.5280,  6.0080,  9.7609],\n",
      "        [11.7247,  9.9961,  5.5409,  9.6051],\n",
      "        [11.1168,  7.9339,  4.5682,  9.4160],\n",
      "        [ 9.2196,  2.0951,  2.0960,  9.2087]])\n"
     ]
    },
    {
     "data": {
      "image/png": "[encoded data removed]",
      "text/plain": [
       "<Figure size 1200x600 with 1 Axes>"
      ]
     },
     "metadata": {},
     "output_type": "display_data"
    }
   ],
   "source": [
    "sdr_mean = results_3[3]\n",
    "sdr_min_max = results_3[5]\n",
    "\n",
    "plot_sdr_results(sdr_mean, sdr_min_max)"
   ]
  },
  {
   "cell_type": "markdown",
   "metadata": {},
   "source": [
    "### Drums"
   ]
  },
  {
   "cell_type": "code",
   "execution_count": null,
   "metadata": {},
   "outputs": [
    {
     "name": "stderr",
     "output_type": "stream",
     "text": [
      "  6%|▌         | 3/50 [00:21<05:29,  7.02s/it]\n"
     ]
    },
    {
     "ename": "ValueError",
     "evalue": "Audio clipping detected (max amplitude: 1.0504). Execution blocked to prevent distortion.",
     "output_type": "error",
     "traceback": [
      "\u001b[31m---------------------------------------------------------------------------\u001b[39m",
      "\u001b[31mValueError\u001b[39m                                Traceback (most recent call last)",
      "\u001b[36mCell\u001b[39m\u001b[36m \u001b[39m\u001b[32mIn[55]\u001b[39m\u001b[32m, line 1\u001b[39m\n\u001b[32m----> \u001b[39m\u001b[32m1\u001b[39m sdr_mean_add_to_mix, sdr_std_add_to_mix, sdr_min_max_add_to_mix, sdr_beta_mean_add_to_mix, sdr_beta_std_add_to_mix, sdr_beta_min_max_add_to_mix = \u001b[43msdr_across_dataset\u001b[49m\u001b[43m(\u001b[49m\n\u001b[32m      2\u001b[39m \u001b[43m    \u001b[49m\u001b[43mdataset_dict\u001b[49m\u001b[43m,\u001b[49m\n\u001b[32m      3\u001b[39m \u001b[43m    \u001b[49m\u001b[43mmodel\u001b[49m\u001b[43m,\u001b[49m\n\u001b[32m      4\u001b[39m \u001b[43m    \u001b[49m\u001b[43msample_rate\u001b[49m\u001b[43m,\u001b[49m\n\u001b[32m      5\u001b[39m \u001b[43m    \u001b[49m\u001b[43mdevice\u001b[49m\u001b[43m,\u001b[49m\n\u001b[32m      6\u001b[39m \u001b[43m    \u001b[49m\u001b[43moverlap\u001b[49m\u001b[43m=\u001b[49m\u001b[32;43m0.0\u001b[39;49m\u001b[43m,\u001b[49m\n\u001b[32m      7\u001b[39m \u001b[43m    \u001b[49m\u001b[43mtarget_stem\u001b[49m\u001b[43m=\u001b[49m\u001b[33;43m\"\u001b[39;49m\u001b[33;43mdrums\u001b[39;49m\u001b[33;43m\"\u001b[39;49m\u001b[43m,\u001b[49m\n\u001b[32m      8\u001b[39m \u001b[43m    \u001b[49m\u001b[43msteps\u001b[49m\u001b[43m \u001b[49m\u001b[43m=\u001b[49m\u001b[43m \u001b[49m\u001b[32;43m10\u001b[39;49m\u001b[43m,\u001b[49m\n\u001b[32m      9\u001b[39m \u001b[43m    \u001b[49m\u001b[43mmixture_update_mode\u001b[49m\u001b[43m=\u001b[49m\u001b[33;43m\"\u001b[39;49m\u001b[33;43madd to mixture\u001b[39;49m\u001b[33;43m\"\u001b[39;49m\u001b[43m,\u001b[49m\n\u001b[32m     10\u001b[39m \u001b[43m)\u001b[49m\n",
      "\u001b[36mCell\u001b[39m\u001b[36m \u001b[39m\u001b[32mIn[26]\u001b[39m\u001b[32m, line 51\u001b[39m, in \u001b[36msdr_across_dataset\u001b[39m\u001b[34m(dataset_dict, model, sample_rate, device, normalize, overlap, target_stem, steps, mixture_update_mode, initial_gains, schedule_type, wiener_filter)\u001b[39m\n\u001b[32m     48\u001b[39m mixture = stems_dict[\u001b[33m\"\u001b[39m\u001b[33mnew_mixture\u001b[39m\u001b[33m\"\u001b[39m].to(device).unsqueeze(\u001b[32m0\u001b[39m)  \u001b[38;5;66;03m# Add batch dimension\u001b[39;00m\n\u001b[32m     50\u001b[39m \u001b[38;5;66;03m# Perform progressive inference\u001b[39;00m\n\u001b[32m---> \u001b[39m\u001b[32m51\u001b[39m _ , sdr_results_single_track, sdr_beta_single_track = \u001b[43mprogressive_inference\u001b[49m\u001b[43m(\u001b[49m\n\u001b[32m     52\u001b[39m \u001b[43m    \u001b[49m\u001b[43mmodel\u001b[49m\u001b[43m,\u001b[49m\n\u001b[32m     53\u001b[39m \u001b[43m    \u001b[49m\u001b[43mmixture\u001b[49m\u001b[43m,\u001b[49m\n\u001b[32m     54\u001b[39m \u001b[43m    \u001b[49m\u001b[43mtarget_stem\u001b[49m\u001b[43m,\u001b[49m\n\u001b[32m     55\u001b[39m \u001b[43m    \u001b[49m\u001b[43mreference_stems\u001b[49m\u001b[43m=\u001b[49m\u001b[43mstems_dict\u001b[49m\u001b[43m,\u001b[49m\n\u001b[32m     56\u001b[39m \u001b[43m    \u001b[49m\u001b[43minitial_gains\u001b[49m\u001b[43m=\u001b[49m\u001b[43minitial_gains\u001b[49m\u001b[43m,\u001b[49m\n\u001b[32m     57\u001b[39m \u001b[43m    \u001b[49m\u001b[43msample_rate\u001b[49m\u001b[43m=\u001b[49m\u001b[43msample_rate\u001b[49m\u001b[43m,\u001b[49m\n\u001b[32m     58\u001b[39m \u001b[43m    \u001b[49m\u001b[43mmixture_update_mode\u001b[49m\u001b[43m=\u001b[49m\u001b[43mmixture_update_mode\u001b[49m\u001b[43m,\u001b[49m\n\u001b[32m     59\u001b[39m \u001b[43m    \u001b[49m\u001b[43moverlap\u001b[49m\u001b[43m=\u001b[49m\u001b[43moverlap\u001b[49m\u001b[43m,\u001b[49m\u001b[43m \u001b[49m\n\u001b[32m     60\u001b[39m \u001b[43m    \u001b[49m\u001b[43mdevice\u001b[49m\u001b[43m=\u001b[49m\u001b[43mdevice\u001b[49m\u001b[43m,\u001b[49m\n\u001b[32m     61\u001b[39m \u001b[43m    \u001b[49m\u001b[43mnormalize\u001b[49m\u001b[43m=\u001b[49m\u001b[43mnormalize\u001b[49m\u001b[43m,\u001b[49m\n\u001b[32m     62\u001b[39m \u001b[43m    \u001b[49m\u001b[43mwiener_filter\u001b[49m\u001b[43m=\u001b[49m\u001b[43mwiener_filter\u001b[49m\u001b[43m,\u001b[49m\n\u001b[32m     63\u001b[39m \u001b[43m    \u001b[49m\u001b[43msteps\u001b[49m\u001b[43m=\u001b[49m\u001b[43msteps\u001b[49m\u001b[43m,\u001b[49m\n\u001b[32m     64\u001b[39m \u001b[43m    \u001b[49m\u001b[43mschedule_type\u001b[49m\u001b[43m=\u001b[49m\u001b[43mschedule_type\u001b[49m\u001b[43m,\u001b[49m\n\u001b[32m     65\u001b[39m \u001b[43m\u001b[49m\u001b[43m)\u001b[49m\n\u001b[32m     67\u001b[39m \u001b[38;5;66;03m# Convert sdr_results_single_track to a tensor\u001b[39;00m\n\u001b[32m     68\u001b[39m sdr_tensor = torch.tensor([\u001b[38;5;28mlist\u001b[39m(sdr_results_single_track[step].values()) \u001b[38;5;28;01mfor\u001b[39;00m step \u001b[38;5;129;01min\u001b[39;00m \u001b[38;5;28mrange\u001b[39m(steps)]).squeeze(-\u001b[32m1\u001b[39m)\n",
      "\u001b[36mCell\u001b[39m\u001b[36m \u001b[39m\u001b[32mIn[36]\u001b[39m\u001b[32m, line 76\u001b[39m, in \u001b[36mprogressive_inference\u001b[39m\u001b[34m(model, mix, target_stem, reference_stems, initial_gains, sample_rate, mixture_update_mode, overlap, device, normalize, wiener_filter, steps, schedule_type)\u001b[39m\n\u001b[32m     74\u001b[39m max_amplitude = torch.max(torch.abs(new_mix))\n\u001b[32m     75\u001b[39m \u001b[38;5;28;01mif\u001b[39;00m max_amplitude > \u001b[32m1.0\u001b[39m:\n\u001b[32m---> \u001b[39m\u001b[32m76\u001b[39m     \u001b[38;5;28;01mraise\u001b[39;00m \u001b[38;5;167;01mValueError\u001b[39;00m(\u001b[33mf\u001b[39m\u001b[33m\"\u001b[39m\u001b[33mAudio clipping detected (max amplitude: \u001b[39m\u001b[38;5;132;01m{\u001b[39;00mmax_amplitude\u001b[38;5;132;01m:\u001b[39;00m\u001b[33m.4f\u001b[39m\u001b[38;5;132;01m}\u001b[39;00m\u001b[33m). Execution blocked to prevent distortion.\u001b[39m\u001b[33m\"\u001b[39m)\n\u001b[32m     78\u001b[39m \u001b[38;5;66;03m# Separate the new mixture\u001b[39;00m\n\u001b[32m     79\u001b[39m separated_sources = separate_sources(model, new_mix, sample_rate=sample_rate, overlap=overlap, device=device, normalize=normalize)\n",
      "\u001b[31mValueError\u001b[39m: Audio clipping detected (max amplitude: 1.0504). Execution blocked to prevent distortion."
     ]
    }
   ],
   "source": [
    "results_4 = sdr_across_dataset(\n",
    "    dataset_dict,\n",
    "    model,\n",
    "    sample_rate,\n",
    "    device,\n",
    "    overlap=0.0,\n",
    "    target_stem=\"drums\",\n",
    "    steps = 10,\n",
    "    mixture_update_mode=\"add to mixture\",\n",
    ")"
   ]
  },
  {
   "cell_type": "code",
   "execution_count": null,
   "metadata": {},
   "outputs": [
    {
     "ename": "NameError",
     "evalue": "name 'results_4' is not defined",
     "output_type": "error",
     "traceback": [
      "\u001b[31m---------------------------------------------------------------------------\u001b[39m",
      "\u001b[31mNameError\u001b[39m                                 Traceback (most recent call last)",
      "\u001b[36mCell\u001b[39m\u001b[36m \u001b[39m\u001b[32mIn[61]\u001b[39m\u001b[32m, line 1\u001b[39m\n\u001b[32m----> \u001b[39m\u001b[32m1\u001b[39m sdr_mean = \u001b[43mresults_4\u001b[49m[\u001b[32m0\u001b[39m]\n\u001b[32m      2\u001b[39m sdr_min_max = results_4[\u001b[32m2\u001b[39m]\n\u001b[32m      4\u001b[39m plot_sdr_results(sdr_mean, sdr_min_max)\n",
      "\u001b[31mNameError\u001b[39m: name 'results_4' is not defined"
     ]
    }
   ],
   "source": [
    "sdr_mean = results_4[0]\n",
    "sdr_min_max = results_4[2]\n",
    "\n",
    "plot_sdr_results(sdr_mean, sdr_min_max)"
   ]
  },
  {
   "cell_type": "markdown",
   "metadata": {},
   "source": [
    "### Bass"
   ]
  },
  {
   "cell_type": "code",
   "execution_count": null,
   "metadata": {},
   "outputs": [
    {
     "name": "stderr",
     "output_type": "stream",
     "text": [
      "100%|██████████| 50/50 [04:29<00:00,  5.40s/it]\n"
     ]
    }
   ],
   "source": [
    "results_5 = sdr_across_dataset(\n",
    "    dataset_dict,\n",
    "    model,\n",
    "    sample_rate,\n",
    "    device,\n",
    "    overlap=0.0,\n",
    "    target_stem=\"bass\",\n",
    "    steps = 10,\n",
    "    mixture_update_mode=\"add to mixture\",\n",
    ")"
   ]
  },
  {
   "cell_type": "code",
   "execution_count": null,
   "metadata": {},
   "outputs": [
    {
     "name": "stdout",
     "output_type": "stream",
     "text": [
      "Average SDR results per stem: tensor([[12.3664, 11.1460,  6.6667,  9.9556],\n",
      "        [12.3562, 11.2597,  6.6631,  9.9388],\n",
      "        [12.3301, 11.3422,  6.6400,  9.9151],\n",
      "        [12.2818, 11.3887,  6.5919,  9.8818],\n",
      "        [12.2011, 11.3994,  6.5115,  9.8327],\n",
      "        [12.0560, 11.3631,  6.3812,  9.7549],\n",
      "        [11.7890, 11.2677,  6.1683,  9.6240],\n",
      "        [11.2693, 11.1071,  5.7844,  9.3823],\n",
      "        [10.0411, 10.8706,  4.9711,  8.7978],\n",
      "        [ 5.0914, 10.5686,  2.7593,  7.0791]])\n",
      "Standard deviation of SDR results per stem: tensor([[3.8711, 4.7480, 2.7201, 3.5867],\n",
      "        [3.8777, 4.6797, 2.7480, 3.5891],\n",
      "        [3.8849, 4.6341, 2.7794, 3.5895],\n",
      "        [3.8926, 4.6057, 2.8168, 3.5872],\n",
      "        [3.9012, 4.5800, 2.8640, 3.5841],\n",
      "        [3.9220, 4.5522, 2.9251, 3.5840],\n",
      "        [3.9775, 4.5174, 3.0044, 3.5888],\n",
      "        [4.1048, 4.4737, 3.1230, 3.6139],\n",
      "        [4.5354, 4.4231, 3.3476, 3.9769],\n",
      "        [6.9568, 4.3880, 3.8162, 5.3611]])\n"
     ]
    },
    {
     "data": {
      "image/png": "[encoded data removed]",
      "text/plain": [
       "<Figure size 1200x600 with 1 Axes>"
      ]
     },
     "metadata": {},
     "output_type": "display_data"
    }
   ],
   "source": [
    "sdr_mean = results_5[0]\n",
    "sdr_min_max = results_5[2]\n",
    "\n",
    "plot_sdr_results(sdr_mean, sdr_min_max)"
   ]
  },
  {
   "cell_type": "markdown",
   "metadata": {},
   "source": [
    "### Other"
   ]
  },
  {
   "cell_type": "code",
   "execution_count": null,
   "metadata": {},
   "outputs": [
    {
     "name": "stderr",
     "output_type": "stream",
     "text": [
      "100%|██████████| 50/50 [04:31<00:00,  5.43s/it]\n"
     ]
    }
   ],
   "source": [
    "results_6 = sdr_across_dataset(\n",
    "    dataset_dict,\n",
    "    model,\n",
    "    sample_rate,\n",
    "    device,\n",
    "    overlap=0.0,\n",
    "    target_stem=\"other\",\n",
    "    steps = 10,\n",
    "    mixture_update_mode=\"add to mixture\",\n",
    ")"
   ]
  },
  {
   "cell_type": "code",
   "execution_count": null,
   "metadata": {},
   "outputs": [
    {
     "name": "stdout",
     "output_type": "stream",
     "text": [
      "Average SDR results per stem: tensor([[12.3664, 11.1460,  6.6667,  9.9556],\n",
      "        [12.3547, 11.0916,  6.6947,  9.9408],\n",
      "        [12.3271, 11.0071,  6.7040,  9.8982],\n",
      "        [12.2779, 10.8741,  6.6869,  9.8217],\n",
      "        [12.1933, 10.6859,  6.6383,  9.6996],\n",
      "        [12.0396, 10.3801,  6.5471,  9.5023],\n",
      "        [11.7477,  9.7822,  6.3953,  9.1481],\n",
      "        [11.2469,  8.6507,  6.1650,  8.4433],\n",
      "        [ 9.9162,  6.1114,  5.8328,  7.0018],\n",
      "        [ 6.1495, -1.4520,  5.4704,  1.7666]])\n",
      "Standard deviation of SDR results per stem: tensor([[ 3.8711,  4.7480,  2.7201,  3.5867],\n",
      "        [ 3.8812,  4.8040,  2.6875,  3.6114],\n",
      "        [ 3.8972,  4.8764,  2.6529,  3.6582],\n",
      "        [ 3.9215,  4.9805,  2.6174,  3.7303],\n",
      "        [ 3.9609,  5.0909,  2.5874,  3.8204],\n",
      "        [ 4.0344,  5.2551,  2.5683,  3.9314],\n",
      "        [ 4.1852,  5.5964,  2.5555,  4.1238],\n",
      "        [ 4.4356,  6.0276,  2.5426,  4.3974],\n",
      "        [ 5.1104,  7.3740,  2.5400,  4.5782],\n",
      "        [ 7.4539, 11.4014,  2.5077,  7.1017]])\n"
     ]
    },
    {
     "data": {
      "image/png": "[encoded data removed]",
      "text/plain": [
       "<Figure size 1200x600 with 1 Axes>"
      ]
     },
     "metadata": {},
     "output_type": "display_data"
    }
   ],
   "source": [
    "sdr_mean = results_6[0]\n",
    "sdr_min_max = results_6[2]\n",
    "\n",
    "plot_sdr_results(sdr_mean, sdr_min_max)"
   ]
  },
  {
   "cell_type": "markdown",
   "metadata": {},
   "source": [
    "## Data Driven Approach\n",
    "##### Finds the optimal betas for the iterative shedule\n",
    "\n",
    "<b> `save_stems_to_disk` </b>\n",
    "This function saves separated audio stems to disk. It creates the specified directory (`save_dir`) if it does not exist, iterates through the `stems_dict` dictionary containing stem names and their corresponding waveforms, and saves each waveform as a `.wav` file using `torchaudio.save`.\n",
    "\n",
    "\n",
    "<b> `load_stems_from_disk` </b>\n",
    "This function loads separated audio stems from disk. It iterates through a predefined list of stem names (`drums`, `bass`, `other`, `vocals`) and attempts to load each stem's waveform from the specified `track_path`. If a file exists, it loads the waveform using `torchaudio.load` and moves it to the specified `device`. Missing files are logged as warnings.\n",
    "\n",
    "\n",
    "<b> `optimal_beta_schedule` </b>\n",
    "This function performs progressive inference to optimize the beta parameter for enhancing the separation of a target stem (`target_stem`). The procedure is as follows:\n",
    "1. **Initialization**: Generate a range of beta values (`beta_values`) and create directories for saving output tracks if `save_to_disk` is enabled.\n",
    "2. **Step 0**: Perform source separation on the original mixture (`new_mixture`) for all tracks in `dataset_dict`. Compute SDR values for each stem and save the separated stems to disk if required.\n",
    "3. **Steps 1 to N**:\n",
    "    - For each step, iterate through the beta values to find the optimal beta that maximizes the SDR for the target stem.\n",
    "    - For each beta, create a new mixture by blending the original mixture and the target stem using the beta value. Perform source separation on the new mixture and compute SDR values for the target stem.\n",
    "    - Track the best beta and corresponding separated sources for each track.\n",
    "    - Save the separated stems to disk and compute average SDR values for all stems.\n",
    "4. **Early Stopping**: Stop the process if the SDR for the target stem does not improve compared to the previous step.\n",
    "5. **Return Results**: Return the optimal beta values and stepwise SDR values.\n"
   ]
  },
  {
   "cell_type": "code",
   "execution_count": null,
   "metadata": {},
   "outputs": [],
   "source": [
    "def save_stems_to_disk(stems_dict, save_dir, sample_rate):\n",
    "    \"\"\"Save separated tracks to disk.\"\"\"\n",
    "    os.makedirs(save_dir, exist_ok=True)\n",
    "    for stem_name, waveform in stems_dict.items():\n",
    "        file_path = os.path.join(save_dir, f\"{stem_name}.wav\")\n",
    "        torchaudio.save(file_path, waveform.cpu(), sample_rate=sample_rate)\n",
    "\n",
    "def load_stems_from_disk(track_path, device):\n",
    "    \"\"\"Load separated tracks from disk.\"\"\"\n",
    "    stems_dict = {}\n",
    "    for stem_name in [\"drums\", \"bass\", \"other\", \"vocals\"]:\n",
    "        file_path = os.path.join(track_path, f\"{stem_name}.wav\")\n",
    "        if os.path.isfile(file_path):\n",
    "            waveform, _ = torchaudio.load(file_path)\n",
    "            stems_dict[stem_name] = waveform.to(device)\n",
    "        else:\n",
    "            print(f\"Warning: file not found {file_path}\")\n",
    "    return stems_dict\n",
    "\n",
    "def optimal_beta_schedule(\n",
    "        model,\n",
    "        dataset_dict,\n",
    "        sample_rate,\n",
    "        overlap,\n",
    "        device,\n",
    "        steps,\n",
    "        target_stem=\"vocals\",\n",
    "        precision=None,\n",
    "        normalize=True,\n",
    "        wiener_filter=False,\n",
    "        save_to_disk=True):\n",
    "\n",
    "    beta_values = np.linspace(0, 1, precision)[1:]\n",
    "    save_dir = \"output_tracks\"\n",
    "    if save_to_disk:\n",
    "        os.makedirs(save_dir, exist_ok=True)\n",
    "\n",
    "    optimal_betas = np.zeros(steps)\n",
    "    stepwise_sdrs = [torch.zeros(4) for _ in range(steps + 1)]\n",
    "\n",
    "    # Step 0\n",
    "    print(\"Step 0\")\n",
    "    sdr_collection = []\n",
    "    for track_name, stems_dict in tqdm(dataset_dict.items()):\n",
    "        if \"new_mixture\" not in stems_dict:\n",
    "            print(f\"Skipping track {track_name} as it does not contain a new mixture.\")\n",
    "            continue\n",
    "\n",
    "        mixture = stems_dict[\"new_mixture\"].to(device).unsqueeze(0)\n",
    "        separated_sources = separate_sources(model, mixture, sample_rate, overlap, device, normalize)\n",
    "        sdr_results = compute_sdrs(model, device, stems_dict, separated_sources)\n",
    "\n",
    "        stems_dict_out = {stem_name: separated_sources[0, i].cpu() for i, stem_name in enumerate(model.sources)}\n",
    "        if save_to_disk:\n",
    "            track_save_path = os.path.join(save_dir, \"step_0\", track_name)\n",
    "            save_stems_to_disk(stems_dict_out, track_save_path, sample_rate)\n",
    "\n",
    "        sdr_step0_tensor = torch.tensor([sdr_results[stem][0] for stem in model.sources])\n",
    "        sdr_collection.append(sdr_step0_tensor)\n",
    "\n",
    "    stepwise_sdrs[0] = torch.mean(torch.stack(sdr_collection), dim=0)\n",
    "    print(f\"Step 0 SDR mean value for {target_stem}: {stepwise_sdrs[0]}\")\n",
    "\n",
    "    # Steps 1 to N\n",
    "    for number_of_step in range(1, steps + 1):\n",
    "        print(f\"------------Step {number_of_step}------------\")\n",
    "        best_sdr_value = -np.inf\n",
    "        best_beta = None\n",
    "        best_estimates_all = {}\n",
    "        target_index = model.sources.index(target_stem)\n",
    "\n",
    "        for beta in beta_values:\n",
    "            sdr_values_list = []\n",
    "            current_estimates_all = {}\n",
    "\n",
    "            for track_name, stems_dict in tqdm(dataset_dict.items()):\n",
    "                if \"new_mixture\" not in stems_dict:\n",
    "                    print(f\"Skipping track {track_name} as it does not contain a new mixture.\")\n",
    "                    continue\n",
    "\n",
    "                if save_to_disk:\n",
    "                    track_path = os.path.join(save_dir, f\"step_{number_of_step - 1}\", track_name)\n",
    "                    prev_stems_dict = load_stems_from_disk(track_path, device)\n",
    "                    target_track = prev_stems_dict[target_stem].to(device)\n",
    "                else:\n",
    "                    target_track = stems_dict[target_stem].to(device)\n",
    "\n",
    "                mixture = stems_dict[\"new_mixture\"].to(device).unsqueeze(0)\n",
    "                new_mix = mixture * (1 - beta) + target_track * beta\n",
    "                new_mix = new_mix / new_mix.abs().max()\n",
    "\n",
    "                separated_sources = separate_sources(model, new_mix, sample_rate, overlap, device, normalize)\n",
    "                if wiener_filter:\n",
    "                    separated_sources[:, target_index] = wiener_filtering(separated_sources, new_mix, target_index)\n",
    "\n",
    "                predicted_stem = separated_sources[0, target_index].to(device)\n",
    "                original_stem = stems_dict[target_stem].to(device)\n",
    "                sdr_value_target_stem = evaluate_sdr(original_stem, predicted_stem, device=device)\n",
    "                sdr_values_list.append(sdr_value_target_stem)\n",
    "\n",
    "                current_estimates_all[track_name] = separated_sources\n",
    "\n",
    "            mean_sdr = torch.mean(torch.tensor(sdr_values_list))\n",
    "\n",
    "            if mean_sdr > best_sdr_value:\n",
    "                best_sdr_value = mean_sdr\n",
    "                best_beta = beta\n",
    "                best_estimates_all = current_estimates_all\n",
    "\n",
    "        print(f\"New best SDR value found at {number_of_step} with beta = {best_beta} is {best_sdr_value}\")\n",
    "        optimal_betas[number_of_step - 1] = best_beta\n",
    "\n",
    "        # Final calculation of averages using best_estimates_all\n",
    "        sdr_collection = []\n",
    "        for track_name, stems_dict in dataset_dict.items():\n",
    "            if \"new_mixture\" not in stems_dict or track_name not in best_estimates_all:\n",
    "                continue\n",
    "\n",
    "            separated_sources = best_estimates_all[track_name]\n",
    "            sdr_results = compute_sdrs(model, stems_dict, separated_sources, device)\n",
    "\n",
    "            if save_to_disk:\n",
    "                stems_dict_out = {stem_name: separated_sources[0, i].cpu() for i, stem_name in enumerate(model.sources)}\n",
    "                track_save_path = os.path.join(save_dir, f\"step_{number_of_step}\", track_name)\n",
    "                save_stems_to_disk(stems_dict_out, track_save_path, sample_rate)\n",
    "\n",
    "            sdr_collection.append(torch.tensor([sdr_results[stem][0] for stem in model.sources]))\n",
    "\n",
    "        if len(sdr_collection) > 0:\n",
    "            stepwise_sdrs[number_of_step] = torch.mean(torch.stack(sdr_collection), dim=0)\n",
    "            print(f\"Step {number_of_step} SDR mean values: {stepwise_sdrs[number_of_step]}\")\n",
    "\n",
    "        # Early stopping\n",
    "        if stepwise_sdrs[number_of_step][target_index] <= stepwise_sdrs[number_of_step - 1][target_index]:\n",
    "            print(f\"Stopping early at step {number_of_step} as SDR did not improve.\")\n",
    "            return optimal_betas, stepwise_sdrs\n",
    "\n",
    "    return optimal_betas, stepwise_sdrs"
   ]
  },
  {
   "cell_type": "code",
   "execution_count": null,
   "metadata": {},
   "outputs": [
    {
     "name": "stdout",
     "output_type": "stream",
     "text": [
      "Step 0\n"
     ]
    },
    {
     "name": "stderr",
     "output_type": "stream",
     "text": [
      "100%|██████████| 50/50 [00:40<00:00,  1.23it/s]\n"
     ]
    },
    {
     "name": "stdout",
     "output_type": "stream",
     "text": [
      "Step 0 SDR mean value for vocals: tensor([12.3664, 11.1460,  6.6667,  9.9556])\n",
      "------------Step 1------------\n"
     ]
    },
    {
     "name": "stderr",
     "output_type": "stream",
     "text": [
      "100%|██████████| 50/50 [00:38<00:00,  1.29it/s]\n",
      "100%|██████████| 50/50 [00:39<00:00,  1.25it/s]\n",
      "100%|██████████| 50/50 [00:39<00:00,  1.25it/s]\n",
      "100%|██████████| 50/50 [00:39<00:00,  1.27it/s]\n",
      "100%|██████████| 50/50 [00:39<00:00,  1.26it/s]\n",
      "100%|██████████| 50/50 [00:38<00:00,  1.29it/s]\n",
      "100%|██████████| 50/50 [00:38<00:00,  1.31it/s]\n",
      "100%|██████████| 50/50 [00:38<00:00,  1.30it/s]\n",
      "100%|██████████| 50/50 [00:38<00:00,  1.31it/s]\n",
      "100%|██████████| 50/50 [00:38<00:00,  1.31it/s]\n"
     ]
    },
    {
     "name": "stdout",
     "output_type": "stream",
     "text": [
      "New best SDR value found at 1 with beta = 0.8 is 10.025650978088379\n",
      "Step 1 SDR mean values: tensor([11.0499,  7.7920,  4.3892, 10.0257])\n",
      "------------Step 2------------\n"
     ]
    },
    {
     "name": "stderr",
     "output_type": "stream",
     "text": [
      "100%|██████████| 50/50 [00:48<00:00,  1.04it/s]\n",
      "100%|██████████| 50/50 [00:47<00:00,  1.06it/s]\n",
      "100%|██████████| 50/50 [00:47<00:00,  1.06it/s]\n",
      "100%|██████████| 50/50 [00:41<00:00,  1.22it/s]\n",
      "100%|██████████| 50/50 [00:41<00:00,  1.21it/s]\n",
      "100%|██████████| 50/50 [00:37<00:00,  1.33it/s]\n",
      "100%|██████████| 50/50 [00:37<00:00,  1.32it/s]\n",
      "100%|██████████| 50/50 [00:39<00:00,  1.27it/s]\n",
      "100%|██████████| 50/50 [00:39<00:00,  1.25it/s]\n",
      "100%|██████████| 50/50 [00:38<00:00,  1.29it/s]\n"
     ]
    },
    {
     "name": "stdout",
     "output_type": "stream",
     "text": [
      "New best SDR value found at 2 with beta = 0.1 is 10.021869659423828\n",
      "Step 2 SDR mean values: tensor([12.3376, 11.0931,  6.6226, 10.0219])\n",
      "Stopping early at step 2 as SDR did not improve.\n"
     ]
    }
   ],
   "source": [
    "steps = 10 # number of iterations\n",
    "precision = 11 # precision of the beta values: in how many beta values we want to divide the range\n",
    "\n",
    "optimal_betas, stepwise_sdrs = optimal_beta_schedule(\n",
    "        model = model,\n",
    "        dataset_dict = dataset_dict,\n",
    "        target_stem = \"vocals\",\n",
    "        sample_rate = sample_rate,\n",
    "        overlap = 0.0,\n",
    "        device = device,\n",
    "        steps = steps,\n",
    "        precision=precision\n",
    "        )"
   ]
  },
  {
   "cell_type": "code",
   "execution_count": null,
   "metadata": {},
   "outputs": [
    {
     "data": {
      "image/png": "[encoded data removed]",
      "text/plain": [
       "<Figure size 1000x500 with 1 Axes>"
      ]
     },
     "metadata": {},
     "output_type": "display_data"
    }
   ],
   "source": [
    "def plot_stepwise_sdrs(stepwise_sdrs, stems):\n",
    "    \"\"\"\n",
    "    Plot the SDR values for each stem across steps.\n",
    "\n",
    "    Args:\n",
    "        stepwise_sdrs (list): List of tensors containing SDR values for each step.\n",
    "        stems (list): List of stem names.\n",
    "    \"\"\"\n",
    "    steps = np.arange(len(stepwise_sdrs))\n",
    "    sdr_values = torch.stack(stepwise_sdrs).cpu().numpy()\n",
    "\n",
    "    plt.figure(figsize=(10, 5))\n",
    "    for i, stem in enumerate(stems):\n",
    "        plt.plot(steps, sdr_values[:, i], label=stem)\n",
    "\n",
    "    plt.xlabel('Steps')\n",
    "    plt.ylabel('SDR (dB)')\n",
    "    plt.title('Stepwise SDR Values for Each Stem')\n",
    "    plt.legend()\n",
    "    plt.grid()\n",
    "    plt.show()\n",
    "\n",
    "# Define the stems based on the model sources\n",
    "stems = model.sources\n",
    "\n",
    "# Plot the stepwise SDR values\n",
    "plot_stepwise_sdrs(stepwise_sdrs, stems)"
   ]
  }
 ],
 "metadata": {
  "kernelspec": {
   "display_name": "MAECap",
   "language": "python",
   "name": "python3"
  },
  "language_info": {
   "codemirror_mode": {
    "name": "ipython",
    "version": 3
   },
   "file_extension": ".py",
   "mimetype": "text/x-python",
   "name": "python",
   "nbconvert_exporter": "python",
   "pygments_lexer": "ipython3",
   "version": "3.11.8"
  }
 },
 "nbformat": 4,
 "nbformat_minor": 2
}

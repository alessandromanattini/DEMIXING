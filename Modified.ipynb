{
 "cells": [
  {
   "cell_type": "markdown",
   "metadata": {},
   "source": [
    "# Progressive Inference for Music Demixing ID: L12\n",
    "Description: Using denoising diffusion approaches to train music demixing (MDX) models is\n",
    "promising but requires retraining large and carefully tuned neural networks (Plaja-Roglans,\n",
    "2022). Instead, we will explore a related yet different approach: can we improve separation\n",
    "quality solely by scheduling the inference process using a diffusion-inspired strategy even\n",
    "without retraining? By experimenting with existing MDX models (Spleeter by Deezer,Meta’s Demucs, ByteDance’s BS-Roformer, etc.), this project offers an exciting opportunity\n",
    "to explore and possibly enhance the performance of state-of-the-art AI techniques."
   ]
  },
  {
   "cell_type": "markdown",
   "metadata": {},
   "source": [
    "**Resources**\n",
    "\n",
    "\n",
    "(Plaja-Roglans, 2022) https://ismir2022program.ismir.net/poster_262.html\n",
    "Denoising Diffusion Probabilistic Models: https://arxiv.org/abs/2006.11239\n",
    "MDX Challenge 2021: https://arxiv.org/abs/2108.13559\n",
    "MDX Challenge 2023: https://arxiv.org/abs/2308.06979\n",
    "Overview of state-of-the-art MDX models:\n",
    "https://paperswithcode.com/sota/music-source-separation-on-musdb18-hq"
   ]
  },
  {
   "cell_type": "markdown",
   "metadata": {},
   "source": [
    "## Preliminary step: Install and Import Libraries."
   ]
  },
  {
   "cell_type": "code",
   "execution_count": 1,
   "metadata": {},
   "outputs": [
    {
     "name": "stdout",
     "output_type": "stream",
     "text": [
      "Requirement already satisfied: IPython in /Users/filippo/miniconda3/envs/MAECap/lib/python3.11/site-packages (from -r requirements.txt (line 1)) (9.0.2)\n",
      "Requirement already satisfied: torch in /Users/filippo/miniconda3/envs/MAECap/lib/python3.11/site-packages (from -r requirements.txt (line 2)) (2.7.0)\n",
      "Requirement already satisfied: torchaudio in /Users/filippo/miniconda3/envs/MAECap/lib/python3.11/site-packages (from -r requirements.txt (line 3)) (2.6.0)\n",
      "Requirement already satisfied: tqdm in /Users/filippo/miniconda3/envs/MAECap/lib/python3.11/site-packages (from -r requirements.txt (line 4)) (4.67.1)\n",
      "Requirement already satisfied: numpy in /Users/filippo/miniconda3/envs/MAECap/lib/python3.11/site-packages (from -r requirements.txt (line 5)) (2.1.3)\n",
      "Requirement already satisfied: matplotlib in /Users/filippo/miniconda3/envs/MAECap/lib/python3.11/site-packages (from -r requirements.txt (line 6)) (3.10.1)\n",
      "Requirement already satisfied: librosa in /Users/filippo/miniconda3/envs/MAECap/lib/python3.11/site-packages (from -r requirements.txt (line 7)) (0.10.2.post1)\n",
      "Requirement already satisfied: torchmetrics in /Users/filippo/miniconda3/envs/MAECap/lib/python3.11/site-packages (from -r requirements.txt (line 8)) (1.7.1)\n",
      "Requirement already satisfied: norbert in /Users/filippo/miniconda3/envs/MAECap/lib/python3.11/site-packages (from -r requirements.txt (line 9)) (0.2.1)\n",
      "Requirement already satisfied: decorator in /Users/filippo/miniconda3/envs/MAECap/lib/python3.11/site-packages (from IPython->-r requirements.txt (line 1)) (5.2.1)\n",
      "Requirement already satisfied: ipython-pygments-lexers in /Users/filippo/miniconda3/envs/MAECap/lib/python3.11/site-packages (from IPython->-r requirements.txt (line 1)) (1.1.1)\n",
      "Requirement already satisfied: jedi>=0.16 in /Users/filippo/miniconda3/envs/MAECap/lib/python3.11/site-packages (from IPython->-r requirements.txt (line 1)) (0.19.2)\n",
      "Requirement already satisfied: matplotlib-inline in /Users/filippo/miniconda3/envs/MAECap/lib/python3.11/site-packages (from IPython->-r requirements.txt (line 1)) (0.1.7)\n",
      "Requirement already satisfied: pexpect>4.3 in /Users/filippo/miniconda3/envs/MAECap/lib/python3.11/site-packages (from IPython->-r requirements.txt (line 1)) (4.9.0)\n",
      "Requirement already satisfied: prompt_toolkit<3.1.0,>=3.0.41 in /Users/filippo/miniconda3/envs/MAECap/lib/python3.11/site-packages (from IPython->-r requirements.txt (line 1)) (3.0.50)\n",
      "Requirement already satisfied: pygments>=2.4.0 in /Users/filippo/miniconda3/envs/MAECap/lib/python3.11/site-packages (from IPython->-r requirements.txt (line 1)) (2.19.1)\n",
      "Requirement already satisfied: stack_data in /Users/filippo/miniconda3/envs/MAECap/lib/python3.11/site-packages (from IPython->-r requirements.txt (line 1)) (0.6.3)\n",
      "Requirement already satisfied: traitlets>=5.13.0 in /Users/filippo/miniconda3/envs/MAECap/lib/python3.11/site-packages (from IPython->-r requirements.txt (line 1)) (5.14.3)\n",
      "Requirement already satisfied: typing_extensions>=4.6 in /Users/filippo/miniconda3/envs/MAECap/lib/python3.11/site-packages (from IPython->-r requirements.txt (line 1)) (4.13.0)\n",
      "Requirement already satisfied: filelock in /Users/filippo/miniconda3/envs/MAECap/lib/python3.11/site-packages (from torch->-r requirements.txt (line 2)) (3.18.0)\n",
      "Collecting sympy>=1.13.3 (from torch->-r requirements.txt (line 2))\n",
      "  Using cached sympy-1.14.0-py3-none-any.whl.metadata (12 kB)\n",
      "Requirement already satisfied: networkx in /Users/filippo/miniconda3/envs/MAECap/lib/python3.11/site-packages (from torch->-r requirements.txt (line 2)) (3.4.2)\n",
      "Requirement already satisfied: jinja2 in /Users/filippo/miniconda3/envs/MAECap/lib/python3.11/site-packages (from torch->-r requirements.txt (line 2)) (3.1.6)\n",
      "Requirement already satisfied: fsspec in /Users/filippo/miniconda3/envs/MAECap/lib/python3.11/site-packages (from torch->-r requirements.txt (line 2)) (2025.3.2)\n",
      "Collecting torch (from -r requirements.txt (line 2))\n",
      "  Using cached torch-2.6.0-cp311-none-macosx_11_0_arm64.whl.metadata (28 kB)\n",
      "Requirement already satisfied: sympy==1.13.1 in /Users/filippo/miniconda3/envs/MAECap/lib/python3.11/site-packages (from torch->-r requirements.txt (line 2)) (1.13.1)\n",
      "Requirement already satisfied: mpmath<1.4,>=1.1.0 in /Users/filippo/miniconda3/envs/MAECap/lib/python3.11/site-packages (from sympy==1.13.1->torch->-r requirements.txt (line 2)) (1.3.0)\n",
      "Requirement already satisfied: contourpy>=1.0.1 in /Users/filippo/miniconda3/envs/MAECap/lib/python3.11/site-packages (from matplotlib->-r requirements.txt (line 6)) (1.3.1)\n",
      "Requirement already satisfied: cycler>=0.10 in /Users/filippo/miniconda3/envs/MAECap/lib/python3.11/site-packages (from matplotlib->-r requirements.txt (line 6)) (0.12.1)\n",
      "Requirement already satisfied: fonttools>=4.22.0 in /Users/filippo/miniconda3/envs/MAECap/lib/python3.11/site-packages (from matplotlib->-r requirements.txt (line 6)) (4.56.0)\n",
      "Requirement already satisfied: kiwisolver>=1.3.1 in /Users/filippo/miniconda3/envs/MAECap/lib/python3.11/site-packages (from matplotlib->-r requirements.txt (line 6)) (1.4.8)\n",
      "Requirement already satisfied: packaging>=20.0 in /Users/filippo/miniconda3/envs/MAECap/lib/python3.11/site-packages (from matplotlib->-r requirements.txt (line 6)) (24.2)\n",
      "Requirement already satisfied: pillow>=8 in /Users/filippo/miniconda3/envs/MAECap/lib/python3.11/site-packages (from matplotlib->-r requirements.txt (line 6)) (11.1.0)\n",
      "Requirement already satisfied: pyparsing>=2.3.1 in /Users/filippo/miniconda3/envs/MAECap/lib/python3.11/site-packages (from matplotlib->-r requirements.txt (line 6)) (3.2.3)\n",
      "Requirement already satisfied: python-dateutil>=2.7 in /Users/filippo/miniconda3/envs/MAECap/lib/python3.11/site-packages (from matplotlib->-r requirements.txt (line 6)) (2.9.0.post0)\n",
      "Requirement already satisfied: audioread>=2.1.9 in /Users/filippo/miniconda3/envs/MAECap/lib/python3.11/site-packages (from librosa->-r requirements.txt (line 7)) (3.0.1)\n",
      "Requirement already satisfied: scipy>=1.2.0 in /Users/filippo/miniconda3/envs/MAECap/lib/python3.11/site-packages (from librosa->-r requirements.txt (line 7)) (1.15.2)\n",
      "Requirement already satisfied: scikit-learn>=0.20.0 in /Users/filippo/miniconda3/envs/MAECap/lib/python3.11/site-packages (from librosa->-r requirements.txt (line 7)) (1.6.1)\n",
      "Requirement already satisfied: joblib>=0.14 in /Users/filippo/miniconda3/envs/MAECap/lib/python3.11/site-packages (from librosa->-r requirements.txt (line 7)) (1.4.2)\n",
      "Requirement already satisfied: numba>=0.51.0 in /Users/filippo/miniconda3/envs/MAECap/lib/python3.11/site-packages (from librosa->-r requirements.txt (line 7)) (0.61.2)\n",
      "Requirement already satisfied: soundfile>=0.12.1 in /Users/filippo/miniconda3/envs/MAECap/lib/python3.11/site-packages (from librosa->-r requirements.txt (line 7)) (0.13.1)\n",
      "Requirement already satisfied: pooch>=1.1 in /Users/filippo/miniconda3/envs/MAECap/lib/python3.11/site-packages (from librosa->-r requirements.txt (line 7)) (1.8.2)\n",
      "Requirement already satisfied: soxr>=0.3.2 in /Users/filippo/miniconda3/envs/MAECap/lib/python3.11/site-packages (from librosa->-r requirements.txt (line 7)) (0.5.0.post1)\n",
      "Requirement already satisfied: lazy-loader>=0.1 in /Users/filippo/miniconda3/envs/MAECap/lib/python3.11/site-packages (from librosa->-r requirements.txt (line 7)) (0.4)\n",
      "Requirement already satisfied: msgpack>=1.0 in /Users/filippo/miniconda3/envs/MAECap/lib/python3.11/site-packages (from librosa->-r requirements.txt (line 7)) (1.1.0)\n",
      "Requirement already satisfied: lightning-utilities>=0.8.0 in /Users/filippo/miniconda3/envs/MAECap/lib/python3.11/site-packages (from torchmetrics->-r requirements.txt (line 8)) (0.14.3)\n",
      "Requirement already satisfied: parso<0.9.0,>=0.8.4 in /Users/filippo/miniconda3/envs/MAECap/lib/python3.11/site-packages (from jedi>=0.16->IPython->-r requirements.txt (line 1)) (0.8.4)\n",
      "Requirement already satisfied: setuptools in /Users/filippo/miniconda3/envs/MAECap/lib/python3.11/site-packages (from lightning-utilities>=0.8.0->torchmetrics->-r requirements.txt (line 8)) (75.8.0)\n",
      "Requirement already satisfied: llvmlite<0.45,>=0.44.0dev0 in /Users/filippo/miniconda3/envs/MAECap/lib/python3.11/site-packages (from numba>=0.51.0->librosa->-r requirements.txt (line 7)) (0.44.0)\n",
      "Requirement already satisfied: ptyprocess>=0.5 in /Users/filippo/miniconda3/envs/MAECap/lib/python3.11/site-packages (from pexpect>4.3->IPython->-r requirements.txt (line 1)) (0.7.0)\n",
      "Requirement already satisfied: platformdirs>=2.5.0 in /Users/filippo/miniconda3/envs/MAECap/lib/python3.11/site-packages (from pooch>=1.1->librosa->-r requirements.txt (line 7)) (4.3.7)\n",
      "Requirement already satisfied: requests>=2.19.0 in /Users/filippo/miniconda3/envs/MAECap/lib/python3.11/site-packages (from pooch>=1.1->librosa->-r requirements.txt (line 7)) (2.32.3)\n",
      "Requirement already satisfied: wcwidth in /Users/filippo/miniconda3/envs/MAECap/lib/python3.11/site-packages (from prompt_toolkit<3.1.0,>=3.0.41->IPython->-r requirements.txt (line 1)) (0.2.13)\n",
      "Requirement already satisfied: six>=1.5 in /Users/filippo/miniconda3/envs/MAECap/lib/python3.11/site-packages (from python-dateutil>=2.7->matplotlib->-r requirements.txt (line 6)) (1.17.0)\n",
      "Requirement already satisfied: threadpoolctl>=3.1.0 in /Users/filippo/miniconda3/envs/MAECap/lib/python3.11/site-packages (from scikit-learn>=0.20.0->librosa->-r requirements.txt (line 7)) (3.6.0)\n",
      "Requirement already satisfied: cffi>=1.0 in /Users/filippo/miniconda3/envs/MAECap/lib/python3.11/site-packages (from soundfile>=0.12.1->librosa->-r requirements.txt (line 7)) (1.17.1)\n",
      "Requirement already satisfied: MarkupSafe>=2.0 in /Users/filippo/miniconda3/envs/MAECap/lib/python3.11/site-packages (from jinja2->torch->-r requirements.txt (line 2)) (3.0.2)\n",
      "Requirement already satisfied: executing>=1.2.0 in /Users/filippo/miniconda3/envs/MAECap/lib/python3.11/site-packages (from stack_data->IPython->-r requirements.txt (line 1)) (2.1.0)\n",
      "Requirement already satisfied: asttokens>=2.1.0 in /Users/filippo/miniconda3/envs/MAECap/lib/python3.11/site-packages (from stack_data->IPython->-r requirements.txt (line 1)) (3.0.0)\n",
      "Requirement already satisfied: pure_eval in /Users/filippo/miniconda3/envs/MAECap/lib/python3.11/site-packages (from stack_data->IPython->-r requirements.txt (line 1)) (0.2.3)\n",
      "Requirement already satisfied: pycparser in /Users/filippo/miniconda3/envs/MAECap/lib/python3.11/site-packages (from cffi>=1.0->soundfile>=0.12.1->librosa->-r requirements.txt (line 7)) (2.22)\n",
      "Requirement already satisfied: charset_normalizer<4,>=2 in /Users/filippo/miniconda3/envs/MAECap/lib/python3.11/site-packages (from requests>=2.19.0->pooch>=1.1->librosa->-r requirements.txt (line 7)) (3.4.1)\n",
      "Requirement already satisfied: idna<4,>=2.5 in /Users/filippo/miniconda3/envs/MAECap/lib/python3.11/site-packages (from requests>=2.19.0->pooch>=1.1->librosa->-r requirements.txt (line 7)) (3.10)\n",
      "Requirement already satisfied: urllib3<3,>=1.21.1 in /Users/filippo/miniconda3/envs/MAECap/lib/python3.11/site-packages (from requests>=2.19.0->pooch>=1.1->librosa->-r requirements.txt (line 7)) (2.3.0)\n",
      "Requirement already satisfied: certifi>=2017.4.17 in /Users/filippo/miniconda3/envs/MAECap/lib/python3.11/site-packages (from requests>=2.19.0->pooch>=1.1->librosa->-r requirements.txt (line 7)) (2025.4.26)\n",
      "Using cached torch-2.6.0-cp311-none-macosx_11_0_arm64.whl (66.5 MB)\n",
      "Installing collected packages: torch\n",
      "  Attempting uninstall: torch\n",
      "    Found existing installation: torch 2.7.0\n",
      "    Uninstalling torch-2.7.0:\n",
      "      Successfully uninstalled torch-2.7.0\n",
      "  Rolling back uninstall of torch\n",
      "  Moving to /Users/filippo/miniconda3/envs/MAECap/bin/torchfrtrace\n",
      "   from /private/var/folders/1y/qqxfq_4d3bv6t32r2gml_0qh0000gn/T/pip-uninstall-l3al1r79/torchfrtrace\n",
      "  Moving to /Users/filippo/miniconda3/envs/MAECap/bin/torchrun\n",
      "   from /private/var/folders/1y/qqxfq_4d3bv6t32r2gml_0qh0000gn/T/pip-uninstall-l3al1r79/torchrun\n",
      "  Moving to /Users/filippo/miniconda3/envs/MAECap/include/ATen/\n",
      "   from /Users/filippo/miniconda3/envs/MAECap/include/~Ten\n",
      "  Moving to /Users/filippo/miniconda3/envs/MAECap/include/c10/core/\n",
      "   from /Users/filippo/miniconda3/envs/MAECap/include/c10/~ore\n",
      "  Moving to /Users/filippo/miniconda3/envs/MAECap/include/c10/cuda/\n",
      "   from /Users/filippo/miniconda3/envs/MAECap/include/c10/~uda\n",
      "  Moving to /Users/filippo/miniconda3/envs/MAECap/include/c10/macros/\n",
      "   from /Users/filippo/miniconda3/envs/MAECap/include/c10/~acros\n",
      "  Moving to /Users/filippo/miniconda3/envs/MAECap/include/c10/metal/\n",
      "   from /Users/filippo/miniconda3/envs/MAECap/include/c10/~etal\n",
      "  Moving to /Users/filippo/miniconda3/envs/MAECap/include/c10/util/\n",
      "   from /Users/filippo/miniconda3/envs/MAECap/include/c10/~til\n",
      "  Moving to /Users/filippo/miniconda3/envs/MAECap/include/c10/xpu/\n",
      "   from /Users/filippo/miniconda3/envs/MAECap/include/c10/~pu\n",
      "  Moving to /Users/filippo/miniconda3/envs/MAECap/include/caffe2/serialize/\n",
      "   from /Users/filippo/miniconda3/envs/MAECap/include/caffe2/~erialize\n",
      "  Moving to /Users/filippo/miniconda3/envs/MAECap/include/tensorpipe/\n",
      "   from /Users/filippo/miniconda3/envs/MAECap/include/~ensorpipe\n",
      "  Moving to /Users/filippo/miniconda3/envs/MAECap/include/torch/\n",
      "   from /Users/filippo/miniconda3/envs/MAECap/include/~orch\n",
      "  Moving to /Users/filippo/miniconda3/envs/MAECap/lib/python3.11/site-packages/functorch/\n",
      "   from /Users/filippo/miniconda3/envs/MAECap/lib/python3.11/site-packages/~unctorch\n",
      "  Moving to /Users/filippo/miniconda3/envs/MAECap/lib/python3.11/site-packages/torch-2.7.0.dist-info/\n",
      "   from /Users/filippo/miniconda3/envs/MAECap/lib/python3.11/site-packages/~orch-2.7.0.dist-info\n",
      "  Moving to /Users/filippo/miniconda3/envs/MAECap/lib/python3.11/site-packages/torch/_C.cpython-311-darwin.so\n",
      "   from /private/var/folders/1y/qqxfq_4d3bv6t32r2gml_0qh0000gn/T/pip-uninstall-noqb5ikh/_C.cpython-311-darwin.so\n",
      "  Moving to /Users/filippo/miniconda3/envs/MAECap/lib/python3.11/site-packages/torch/_C/\n",
      "   from /Users/filippo/miniconda3/envs/MAECap/lib/python3.11/site-packages/torch/~C\n",
      "  Moving to /Users/filippo/miniconda3/envs/MAECap/lib/python3.11/site-packages/torch/_VF.py\n",
      "   from /private/var/folders/1y/qqxfq_4d3bv6t32r2gml_0qh0000gn/T/pip-uninstall-noqb5ikh/_VF.py\n",
      "  Moving to /Users/filippo/miniconda3/envs/MAECap/lib/python3.11/site-packages/torch/_VF.pyi\n",
      "   from /private/var/folders/1y/qqxfq_4d3bv6t32r2gml_0qh0000gn/T/pip-uninstall-noqb5ikh/_VF.pyi\n",
      "  Moving to /Users/filippo/miniconda3/envs/MAECap/lib/python3.11/site-packages/torch/__config__.py\n",
      "   from /private/var/folders/1y/qqxfq_4d3bv6t32r2gml_0qh0000gn/T/pip-uninstall-noqb5ikh/__config__.py\n",
      "  Moving to /Users/filippo/miniconda3/envs/MAECap/lib/python3.11/site-packages/torch/__future__.py\n",
      "   from /private/var/folders/1y/qqxfq_4d3bv6t32r2gml_0qh0000gn/T/pip-uninstall-noqb5ikh/__future__.py\n",
      "  Moving to /Users/filippo/miniconda3/envs/MAECap/lib/python3.11/site-packages/torch/__init__.py\n",
      "   from /private/var/folders/1y/qqxfq_4d3bv6t32r2gml_0qh0000gn/T/pip-uninstall-noqb5ikh/__init__.py\n",
      "  Moving to /Users/filippo/miniconda3/envs/MAECap/lib/python3.11/site-packages/torch/__pycache__/\n",
      "   from /Users/filippo/miniconda3/envs/MAECap/lib/python3.11/site-packages/torch/~_pycache__\n",
      "  Moving to /Users/filippo/miniconda3/envs/MAECap/lib/python3.11/site-packages/torch/_appdirs.py\n",
      "   from /private/var/folders/1y/qqxfq_4d3bv6t32r2gml_0qh0000gn/T/pip-uninstall-noqb5ikh/_appdirs.py\n",
      "  Moving to /Users/filippo/miniconda3/envs/MAECap/lib/python3.11/site-packages/torch/_awaits/\n",
      "   from /Users/filippo/miniconda3/envs/MAECap/lib/python3.11/site-packages/torch/~awaits\n",
      "  Moving to /Users/filippo/miniconda3/envs/MAECap/lib/python3.11/site-packages/torch/_classes.py\n",
      "   from /private/var/folders/1y/qqxfq_4d3bv6t32r2gml_0qh0000gn/T/pip-uninstall-noqb5ikh/_classes.py\n",
      "  Moving to /Users/filippo/miniconda3/envs/MAECap/lib/python3.11/site-packages/torch/_compile.py\n",
      "   from /private/var/folders/1y/qqxfq_4d3bv6t32r2gml_0qh0000gn/T/pip-uninstall-noqb5ikh/_compile.py\n",
      "  Moving to /Users/filippo/miniconda3/envs/MAECap/lib/python3.11/site-packages/torch/_custom_op/__init__.py\n",
      "   from /private/var/folders/1y/qqxfq_4d3bv6t32r2gml_0qh0000gn/T/pip-uninstall-noqb5ikh/_custom_op/__init__.py\n",
      "  Moving to /Users/filippo/miniconda3/envs/MAECap/lib/python3.11/site-packages/torch/_custom_op/__pycache__/__init__.cpython-311.pyc\n",
      "   from /private/var/folders/1y/qqxfq_4d3bv6t32r2gml_0qh0000gn/T/pip-uninstall-noqb5ikh/_custom_op/__pycache__/__init__.cpython-311.pyc\n",
      "  Moving to /Users/filippo/miniconda3/envs/MAECap/lib/python3.11/site-packages/torch/_custom_op/__pycache__/autograd.cpython-311.pyc\n",
      "   from /private/var/folders/1y/qqxfq_4d3bv6t32r2gml_0qh0000gn/T/pip-uninstall-noqb5ikh/_custom_op/__pycache__/autograd.cpython-311.pyc\n",
      "  Moving to /Users/filippo/miniconda3/envs/MAECap/lib/python3.11/site-packages/torch/_custom_op/__pycache__/impl.cpython-311.pyc\n",
      "   from /private/var/folders/1y/qqxfq_4d3bv6t32r2gml_0qh0000gn/T/pip-uninstall-noqb5ikh/_custom_op/__pycache__/impl.cpython-311.pyc\n",
      "  Moving to /Users/filippo/miniconda3/envs/MAECap/lib/python3.11/site-packages/torch/_custom_op/autograd.py\n",
      "   from /private/var/folders/1y/qqxfq_4d3bv6t32r2gml_0qh0000gn/T/pip-uninstall-noqb5ikh/_custom_op/autograd.py\n",
      "  Moving to /Users/filippo/miniconda3/envs/MAECap/lib/python3.11/site-packages/torch/_custom_op/impl.py\n",
      "   from /private/var/folders/1y/qqxfq_4d3bv6t32r2gml_0qh0000gn/T/pip-uninstall-noqb5ikh/_custom_op/impl.py\n",
      "  Moving to /Users/filippo/miniconda3/envs/MAECap/lib/python3.11/site-packages/torch/_custom_ops.py\n",
      "   from /private/var/folders/1y/qqxfq_4d3bv6t32r2gml_0qh0000gn/T/pip-uninstall-noqb5ikh/_custom_ops.py\n",
      "  Moving to /Users/filippo/miniconda3/envs/MAECap/lib/python3.11/site-packages/torch/_decomp/\n",
      "   from /Users/filippo/miniconda3/envs/MAECap/lib/python3.11/site-packages/torch/~decomp\n",
      "  Moving to /Users/filippo/miniconda3/envs/MAECap/lib/python3.11/site-packages/torch/_deploy.py\n",
      "   from /private/var/folders/1y/qqxfq_4d3bv6t32r2gml_0qh0000gn/T/pip-uninstall-noqb5ikh/_deploy.py\n",
      "  Moving to /Users/filippo/miniconda3/envs/MAECap/lib/python3.11/site-packages/torch/_dispatch/\n",
      "   from /Users/filippo/miniconda3/envs/MAECap/lib/python3.11/site-packages/torch/~dispatch\n",
      "  Moving to /Users/filippo/miniconda3/envs/MAECap/lib/python3.11/site-packages/torch/_dynamo/\n",
      "   from /Users/filippo/miniconda3/envs/MAECap/lib/python3.11/site-packages/torch/~dynamo\n",
      "  Moving to /Users/filippo/miniconda3/envs/MAECap/lib/python3.11/site-packages/torch/_environment.py\n",
      "   from /private/var/folders/1y/qqxfq_4d3bv6t32r2gml_0qh0000gn/T/pip-uninstall-noqb5ikh/_environment.py\n",
      "  Moving to /Users/filippo/miniconda3/envs/MAECap/lib/python3.11/site-packages/torch/_export/__init__.py\n",
      "   from /private/var/folders/1y/qqxfq_4d3bv6t32r2gml_0qh0000gn/T/pip-uninstall-noqb5ikh/_export/__init__.py\n",
      "  Moving to /Users/filippo/miniconda3/envs/MAECap/lib/python3.11/site-packages/torch/_export/__pycache__/\n",
      "   from /Users/filippo/miniconda3/envs/MAECap/lib/python3.11/site-packages/torch/_export/~_pycache__\n",
      "  Moving to /Users/filippo/miniconda3/envs/MAECap/lib/python3.11/site-packages/torch/_export/converter.py\n",
      "   from /private/var/folders/1y/qqxfq_4d3bv6t32r2gml_0qh0000gn/T/pip-uninstall-noqb5ikh/_export/converter.py\n",
      "  Moving to /Users/filippo/miniconda3/envs/MAECap/lib/python3.11/site-packages/torch/_export/db/\n",
      "   from /Users/filippo/miniconda3/envs/MAECap/lib/python3.11/site-packages/torch/_export/~b\n",
      "  Moving to /Users/filippo/miniconda3/envs/MAECap/lib/python3.11/site-packages/torch/_export/error.py\n",
      "   from /private/var/folders/1y/qqxfq_4d3bv6t32r2gml_0qh0000gn/T/pip-uninstall-noqb5ikh/_export/error.py\n",
      "  Moving to /Users/filippo/miniconda3/envs/MAECap/lib/python3.11/site-packages/torch/_export/non_strict_utils.py\n",
      "   from /private/var/folders/1y/qqxfq_4d3bv6t32r2gml_0qh0000gn/T/pip-uninstall-noqb5ikh/_export/non_strict_utils.py\n",
      "  Moving to /Users/filippo/miniconda3/envs/MAECap/lib/python3.11/site-packages/torch/_export/pass_base.py\n",
      "   from /private/var/folders/1y/qqxfq_4d3bv6t32r2gml_0qh0000gn/T/pip-uninstall-noqb5ikh/_export/pass_base.py\n",
      "  Moving to /Users/filippo/miniconda3/envs/MAECap/lib/python3.11/site-packages/torch/_export/pass_infra/\n",
      "   from /Users/filippo/miniconda3/envs/MAECap/lib/python3.11/site-packages/torch/_export/~ass_infra\n",
      "  Moving to /Users/filippo/miniconda3/envs/MAECap/lib/python3.11/site-packages/torch/_export/passes/\n",
      "   from /Users/filippo/miniconda3/envs/MAECap/lib/python3.11/site-packages/torch/_export/~asses\n",
      "  Moving to /Users/filippo/miniconda3/envs/MAECap/lib/python3.11/site-packages/torch/_export/serde/__init__.py\n",
      "   from /private/var/folders/1y/qqxfq_4d3bv6t32r2gml_0qh0000gn/T/pip-uninstall-noqb5ikh/_export/serde/__init__.py\n",
      "  Moving to /Users/filippo/miniconda3/envs/MAECap/lib/python3.11/site-packages/torch/_export/serde/__pycache__/\n",
      "   from /Users/filippo/miniconda3/envs/MAECap/lib/python3.11/site-packages/torch/_export/serde/~_pycache__\n",
      "  Moving to /Users/filippo/miniconda3/envs/MAECap/lib/python3.11/site-packages/torch/_export/serde/aoti_schema.py\n",
      "   from /private/var/folders/1y/qqxfq_4d3bv6t32r2gml_0qh0000gn/T/pip-uninstall-noqb5ikh/_export/serde/aoti_schema.py\n",
      "  Moving to /Users/filippo/miniconda3/envs/MAECap/lib/python3.11/site-packages/torch/_export/serde/dynamic_shapes.py\n",
      "   from /private/var/folders/1y/qqxfq_4d3bv6t32r2gml_0qh0000gn/T/pip-uninstall-noqb5ikh/_export/serde/dynamic_shapes.py\n",
      "  Moving to /Users/filippo/miniconda3/envs/MAECap/lib/python3.11/site-packages/torch/_export/serde/export_schema.thrift\n",
      "   from /private/var/folders/1y/qqxfq_4d3bv6t32r2gml_0qh0000gn/T/pip-uninstall-noqb5ikh/_export/serde/export_schema.thrift\n",
      "  Moving to /Users/filippo/miniconda3/envs/MAECap/lib/python3.11/site-packages/torch/_export/serde/schema.py\n",
      "   from /private/var/folders/1y/qqxfq_4d3bv6t32r2gml_0qh0000gn/T/pip-uninstall-noqb5ikh/_export/serde/schema.py\n",
      "  Moving to /Users/filippo/miniconda3/envs/MAECap/lib/python3.11/site-packages/torch/_export/serde/schema.yaml\n",
      "   from /private/var/folders/1y/qqxfq_4d3bv6t32r2gml_0qh0000gn/T/pip-uninstall-noqb5ikh/_export/serde/schema.yaml\n",
      "  Moving to /Users/filippo/miniconda3/envs/MAECap/lib/python3.11/site-packages/torch/_export/serde/schema_check.py\n",
      "   from /private/var/folders/1y/qqxfq_4d3bv6t32r2gml_0qh0000gn/T/pip-uninstall-noqb5ikh/_export/serde/schema_check.py\n",
      "  Moving to /Users/filippo/miniconda3/envs/MAECap/lib/python3.11/site-packages/torch/_export/serde/serialize.py\n",
      "   from /private/var/folders/1y/qqxfq_4d3bv6t32r2gml_0qh0000gn/T/pip-uninstall-noqb5ikh/_export/serde/serialize.py\n",
      "  Moving to /Users/filippo/miniconda3/envs/MAECap/lib/python3.11/site-packages/torch/_export/serde/union.py\n",
      "   from /private/var/folders/1y/qqxfq_4d3bv6t32r2gml_0qh0000gn/T/pip-uninstall-noqb5ikh/_export/serde/union.py\n",
      "  Moving to /Users/filippo/miniconda3/envs/MAECap/lib/python3.11/site-packages/torch/_export/tools.py\n",
      "   from /private/var/folders/1y/qqxfq_4d3bv6t32r2gml_0qh0000gn/T/pip-uninstall-noqb5ikh/_export/tools.py\n",
      "  Moving to /Users/filippo/miniconda3/envs/MAECap/lib/python3.11/site-packages/torch/_export/utils.py\n",
      "   from /private/var/folders/1y/qqxfq_4d3bv6t32r2gml_0qh0000gn/T/pip-uninstall-noqb5ikh/_export/utils.py\n",
      "  Moving to /Users/filippo/miniconda3/envs/MAECap/lib/python3.11/site-packages/torch/_export/verifier.py\n",
      "   from /private/var/folders/1y/qqxfq_4d3bv6t32r2gml_0qh0000gn/T/pip-uninstall-noqb5ikh/_export/verifier.py\n",
      "  Moving to /Users/filippo/miniconda3/envs/MAECap/lib/python3.11/site-packages/torch/_export/wrappers.py\n",
      "   from /private/var/folders/1y/qqxfq_4d3bv6t32r2gml_0qh0000gn/T/pip-uninstall-noqb5ikh/_export/wrappers.py\n",
      "  Moving to /Users/filippo/miniconda3/envs/MAECap/lib/python3.11/site-packages/torch/_functorch/\n",
      "   from /Users/filippo/miniconda3/envs/MAECap/lib/python3.11/site-packages/torch/~functorch\n",
      "  Moving to /Users/filippo/miniconda3/envs/MAECap/lib/python3.11/site-packages/torch/_guards.py\n",
      "   from /private/var/folders/1y/qqxfq_4d3bv6t32r2gml_0qh0000gn/T/pip-uninstall-noqb5ikh/_guards.py\n",
      "  Moving to /Users/filippo/miniconda3/envs/MAECap/lib/python3.11/site-packages/torch/_higher_order_ops/__init__.py\n",
      "   from /private/var/folders/1y/qqxfq_4d3bv6t32r2gml_0qh0000gn/T/pip-uninstall-noqb5ikh/_higher_order_ops/__init__.py\n",
      "  Moving to /Users/filippo/miniconda3/envs/MAECap/lib/python3.11/site-packages/torch/_higher_order_ops/__pycache__/__init__.cpython-311.pyc\n",
      "   from /private/var/folders/1y/qqxfq_4d3bv6t32r2gml_0qh0000gn/T/pip-uninstall-noqb5ikh/_higher_order_ops/__pycache__/__init__.cpython-311.pyc\n",
      "  Moving to /Users/filippo/miniconda3/envs/MAECap/lib/python3.11/site-packages/torch/_higher_order_ops/__pycache__/_invoke_quant.cpython-311.pyc\n",
      "   from /private/var/folders/1y/qqxfq_4d3bv6t32r2gml_0qh0000gn/T/pip-uninstall-noqb5ikh/_higher_order_ops/__pycache__/_invoke_quant.cpython-311.pyc\n",
      "  Moving to /Users/filippo/miniconda3/envs/MAECap/lib/python3.11/site-packages/torch/_higher_order_ops/__pycache__/aoti_call_delegate.cpython-311.pyc\n",
      "   from /private/var/folders/1y/qqxfq_4d3bv6t32r2gml_0qh0000gn/T/pip-uninstall-noqb5ikh/_higher_order_ops/__pycache__/aoti_call_delegate.cpython-311.pyc\n",
      "  Moving to /Users/filippo/miniconda3/envs/MAECap/lib/python3.11/site-packages/torch/_higher_order_ops/__pycache__/associative_scan.cpython-311.pyc\n",
      "   from /private/var/folders/1y/qqxfq_4d3bv6t32r2gml_0qh0000gn/T/pip-uninstall-noqb5ikh/_higher_order_ops/__pycache__/associative_scan.cpython-311.pyc\n",
      "  Moving to /Users/filippo/miniconda3/envs/MAECap/lib/python3.11/site-packages/torch/_higher_order_ops/__pycache__/auto_functionalize.cpython-311.pyc\n",
      "   from /private/var/folders/1y/qqxfq_4d3bv6t32r2gml_0qh0000gn/T/pip-uninstall-noqb5ikh/_higher_order_ops/__pycache__/auto_functionalize.cpython-311.pyc\n",
      "  Moving to /Users/filippo/miniconda3/envs/MAECap/lib/python3.11/site-packages/torch/_higher_order_ops/__pycache__/base_hop.cpython-311.pyc\n",
      "   from /private/var/folders/1y/qqxfq_4d3bv6t32r2gml_0qh0000gn/T/pip-uninstall-noqb5ikh/_higher_order_ops/__pycache__/base_hop.cpython-311.pyc\n",
      "  Moving to /Users/filippo/miniconda3/envs/MAECap/lib/python3.11/site-packages/torch/_higher_order_ops/__pycache__/cond.cpython-311.pyc\n",
      "   from /private/var/folders/1y/qqxfq_4d3bv6t32r2gml_0qh0000gn/T/pip-uninstall-noqb5ikh/_higher_order_ops/__pycache__/cond.cpython-311.pyc\n",
      "  Moving to /Users/filippo/miniconda3/envs/MAECap/lib/python3.11/site-packages/torch/_higher_order_ops/__pycache__/effects.cpython-311.pyc\n",
      "   from /private/var/folders/1y/qqxfq_4d3bv6t32r2gml_0qh0000gn/T/pip-uninstall-noqb5ikh/_higher_order_ops/__pycache__/effects.cpython-311.pyc\n",
      "  Moving to /Users/filippo/miniconda3/envs/MAECap/lib/python3.11/site-packages/torch/_higher_order_ops/__pycache__/executorch_call_delegate.cpython-311.pyc\n",
      "   from /private/var/folders/1y/qqxfq_4d3bv6t32r2gml_0qh0000gn/T/pip-uninstall-noqb5ikh/_higher_order_ops/__pycache__/executorch_call_delegate.cpython-311.pyc\n",
      "  Moving to /Users/filippo/miniconda3/envs/MAECap/lib/python3.11/site-packages/torch/_higher_order_ops/__pycache__/flat_apply.cpython-311.pyc\n",
      "   from /private/var/folders/1y/qqxfq_4d3bv6t32r2gml_0qh0000gn/T/pip-uninstall-noqb5ikh/_higher_order_ops/__pycache__/flat_apply.cpython-311.pyc\n",
      "  Moving to /Users/filippo/miniconda3/envs/MAECap/lib/python3.11/site-packages/torch/_higher_order_ops/__pycache__/flex_attention.cpython-311.pyc\n",
      "   from /private/var/folders/1y/qqxfq_4d3bv6t32r2gml_0qh0000gn/T/pip-uninstall-noqb5ikh/_higher_order_ops/__pycache__/flex_attention.cpython-311.pyc\n",
      "  Moving to /Users/filippo/miniconda3/envs/MAECap/lib/python3.11/site-packages/torch/_higher_order_ops/__pycache__/foreach_map.cpython-311.pyc\n",
      "   from /private/var/folders/1y/qqxfq_4d3bv6t32r2gml_0qh0000gn/T/pip-uninstall-noqb5ikh/_higher_order_ops/__pycache__/foreach_map.cpython-311.pyc\n",
      "  Moving to /Users/filippo/miniconda3/envs/MAECap/lib/python3.11/site-packages/torch/_higher_order_ops/__pycache__/hints_wrap.cpython-311.pyc\n",
      "   from /private/var/folders/1y/qqxfq_4d3bv6t32r2gml_0qh0000gn/T/pip-uninstall-noqb5ikh/_higher_order_ops/__pycache__/hints_wrap.cpython-311.pyc\n",
      "  Moving to /Users/filippo/miniconda3/envs/MAECap/lib/python3.11/site-packages/torch/_higher_order_ops/__pycache__/invoke_subgraph.cpython-311.pyc\n",
      "   from /private/var/folders/1y/qqxfq_4d3bv6t32r2gml_0qh0000gn/T/pip-uninstall-noqb5ikh/_higher_order_ops/__pycache__/invoke_subgraph.cpython-311.pyc\n",
      "  Moving to /Users/filippo/miniconda3/envs/MAECap/lib/python3.11/site-packages/torch/_higher_order_ops/__pycache__/map.cpython-311.pyc\n",
      "   from /private/var/folders/1y/qqxfq_4d3bv6t32r2gml_0qh0000gn/T/pip-uninstall-noqb5ikh/_higher_order_ops/__pycache__/map.cpython-311.pyc\n",
      "  Moving to /Users/filippo/miniconda3/envs/MAECap/lib/python3.11/site-packages/torch/_higher_order_ops/__pycache__/out_dtype.cpython-311.pyc\n",
      "   from /private/var/folders/1y/qqxfq_4d3bv6t32r2gml_0qh0000gn/T/pip-uninstall-noqb5ikh/_higher_order_ops/__pycache__/out_dtype.cpython-311.pyc\n",
      "  Moving to /Users/filippo/miniconda3/envs/MAECap/lib/python3.11/site-packages/torch/_higher_order_ops/__pycache__/run_const_graph.cpython-311.pyc\n",
      "   from /private/var/folders/1y/qqxfq_4d3bv6t32r2gml_0qh0000gn/T/pip-uninstall-noqb5ikh/_higher_order_ops/__pycache__/run_const_graph.cpython-311.pyc\n",
      "  Moving to /Users/filippo/miniconda3/envs/MAECap/lib/python3.11/site-packages/torch/_higher_order_ops/__pycache__/scan.cpython-311.pyc\n",
      "   from /private/var/folders/1y/qqxfq_4d3bv6t32r2gml_0qh0000gn/T/pip-uninstall-noqb5ikh/_higher_order_ops/__pycache__/scan.cpython-311.pyc\n",
      "  Moving to /Users/filippo/miniconda3/envs/MAECap/lib/python3.11/site-packages/torch/_higher_order_ops/__pycache__/strict_mode.cpython-311.pyc\n",
      "   from /private/var/folders/1y/qqxfq_4d3bv6t32r2gml_0qh0000gn/T/pip-uninstall-noqb5ikh/_higher_order_ops/__pycache__/strict_mode.cpython-311.pyc\n",
      "  Moving to /Users/filippo/miniconda3/envs/MAECap/lib/python3.11/site-packages/torch/_higher_order_ops/__pycache__/torchbind.cpython-311.pyc\n",
      "   from /private/var/folders/1y/qqxfq_4d3bv6t32r2gml_0qh0000gn/T/pip-uninstall-noqb5ikh/_higher_order_ops/__pycache__/torchbind.cpython-311.pyc\n",
      "  Moving to /Users/filippo/miniconda3/envs/MAECap/lib/python3.11/site-packages/torch/_higher_order_ops/__pycache__/triton_kernel_wrap.cpython-311.pyc\n",
      "   from /private/var/folders/1y/qqxfq_4d3bv6t32r2gml_0qh0000gn/T/pip-uninstall-noqb5ikh/_higher_order_ops/__pycache__/triton_kernel_wrap.cpython-311.pyc\n",
      "  Moving to /Users/filippo/miniconda3/envs/MAECap/lib/python3.11/site-packages/torch/_higher_order_ops/__pycache__/utils.cpython-311.pyc\n",
      "   from /private/var/folders/1y/qqxfq_4d3bv6t32r2gml_0qh0000gn/T/pip-uninstall-noqb5ikh/_higher_order_ops/__pycache__/utils.cpython-311.pyc\n",
      "  Moving to /Users/filippo/miniconda3/envs/MAECap/lib/python3.11/site-packages/torch/_higher_order_ops/__pycache__/while_loop.cpython-311.pyc\n",
      "   from /private/var/folders/1y/qqxfq_4d3bv6t32r2gml_0qh0000gn/T/pip-uninstall-noqb5ikh/_higher_order_ops/__pycache__/while_loop.cpython-311.pyc\n",
      "  Moving to /Users/filippo/miniconda3/envs/MAECap/lib/python3.11/site-packages/torch/_higher_order_ops/__pycache__/wrap.cpython-311.pyc\n",
      "   from /private/var/folders/1y/qqxfq_4d3bv6t32r2gml_0qh0000gn/T/pip-uninstall-noqb5ikh/_higher_order_ops/__pycache__/wrap.cpython-311.pyc\n",
      "  Moving to /Users/filippo/miniconda3/envs/MAECap/lib/python3.11/site-packages/torch/_higher_order_ops/_invoke_quant.py\n",
      "   from /private/var/folders/1y/qqxfq_4d3bv6t32r2gml_0qh0000gn/T/pip-uninstall-noqb5ikh/_higher_order_ops/_invoke_quant.py\n",
      "  Moving to /Users/filippo/miniconda3/envs/MAECap/lib/python3.11/site-packages/torch/_higher_order_ops/aoti_call_delegate.py\n",
      "   from /private/var/folders/1y/qqxfq_4d3bv6t32r2gml_0qh0000gn/T/pip-uninstall-noqb5ikh/_higher_order_ops/aoti_call_delegate.py\n",
      "  Moving to /Users/filippo/miniconda3/envs/MAECap/lib/python3.11/site-packages/torch/_higher_order_ops/associative_scan.py\n",
      "   from /private/var/folders/1y/qqxfq_4d3bv6t32r2gml_0qh0000gn/T/pip-uninstall-noqb5ikh/_higher_order_ops/associative_scan.py\n",
      "  Moving to /Users/filippo/miniconda3/envs/MAECap/lib/python3.11/site-packages/torch/_higher_order_ops/auto_functionalize.py\n",
      "   from /private/var/folders/1y/qqxfq_4d3bv6t32r2gml_0qh0000gn/T/pip-uninstall-noqb5ikh/_higher_order_ops/auto_functionalize.py\n",
      "  Moving to /Users/filippo/miniconda3/envs/MAECap/lib/python3.11/site-packages/torch/_higher_order_ops/base_hop.py\n",
      "   from /private/var/folders/1y/qqxfq_4d3bv6t32r2gml_0qh0000gn/T/pip-uninstall-noqb5ikh/_higher_order_ops/base_hop.py\n",
      "  Moving to /Users/filippo/miniconda3/envs/MAECap/lib/python3.11/site-packages/torch/_higher_order_ops/cond.py\n",
      "   from /private/var/folders/1y/qqxfq_4d3bv6t32r2gml_0qh0000gn/T/pip-uninstall-noqb5ikh/_higher_order_ops/cond.py\n",
      "  Moving to /Users/filippo/miniconda3/envs/MAECap/lib/python3.11/site-packages/torch/_higher_order_ops/effects.py\n",
      "   from /private/var/folders/1y/qqxfq_4d3bv6t32r2gml_0qh0000gn/T/pip-uninstall-noqb5ikh/_higher_order_ops/effects.py\n",
      "  Moving to /Users/filippo/miniconda3/envs/MAECap/lib/python3.11/site-packages/torch/_higher_order_ops/executorch_call_delegate.py\n",
      "   from /private/var/folders/1y/qqxfq_4d3bv6t32r2gml_0qh0000gn/T/pip-uninstall-noqb5ikh/_higher_order_ops/executorch_call_delegate.py\n",
      "  Moving to /Users/filippo/miniconda3/envs/MAECap/lib/python3.11/site-packages/torch/_higher_order_ops/flat_apply.py\n",
      "   from /private/var/folders/1y/qqxfq_4d3bv6t32r2gml_0qh0000gn/T/pip-uninstall-noqb5ikh/_higher_order_ops/flat_apply.py\n",
      "  Moving to /Users/filippo/miniconda3/envs/MAECap/lib/python3.11/site-packages/torch/_higher_order_ops/flex_attention.py\n",
      "   from /private/var/folders/1y/qqxfq_4d3bv6t32r2gml_0qh0000gn/T/pip-uninstall-noqb5ikh/_higher_order_ops/flex_attention.py\n",
      "  Moving to /Users/filippo/miniconda3/envs/MAECap/lib/python3.11/site-packages/torch/_higher_order_ops/foreach_map.py\n",
      "   from /private/var/folders/1y/qqxfq_4d3bv6t32r2gml_0qh0000gn/T/pip-uninstall-noqb5ikh/_higher_order_ops/foreach_map.py\n",
      "  Moving to /Users/filippo/miniconda3/envs/MAECap/lib/python3.11/site-packages/torch/_higher_order_ops/hints_wrap.py\n",
      "   from /private/var/folders/1y/qqxfq_4d3bv6t32r2gml_0qh0000gn/T/pip-uninstall-noqb5ikh/_higher_order_ops/hints_wrap.py\n",
      "  Moving to /Users/filippo/miniconda3/envs/MAECap/lib/python3.11/site-packages/torch/_higher_order_ops/invoke_subgraph.py\n",
      "   from /private/var/folders/1y/qqxfq_4d3bv6t32r2gml_0qh0000gn/T/pip-uninstall-noqb5ikh/_higher_order_ops/invoke_subgraph.py\n",
      "  Moving to /Users/filippo/miniconda3/envs/MAECap/lib/python3.11/site-packages/torch/_higher_order_ops/map.py\n",
      "   from /private/var/folders/1y/qqxfq_4d3bv6t32r2gml_0qh0000gn/T/pip-uninstall-noqb5ikh/_higher_order_ops/map.py\n",
      "  Moving to /Users/filippo/miniconda3/envs/MAECap/lib/python3.11/site-packages/torch/_higher_order_ops/out_dtype.py\n",
      "   from /private/var/folders/1y/qqxfq_4d3bv6t32r2gml_0qh0000gn/T/pip-uninstall-noqb5ikh/_higher_order_ops/out_dtype.py\n",
      "  Moving to /Users/filippo/miniconda3/envs/MAECap/lib/python3.11/site-packages/torch/_higher_order_ops/run_const_graph.py\n",
      "   from /private/var/folders/1y/qqxfq_4d3bv6t32r2gml_0qh0000gn/T/pip-uninstall-noqb5ikh/_higher_order_ops/run_const_graph.py\n",
      "  Moving to /Users/filippo/miniconda3/envs/MAECap/lib/python3.11/site-packages/torch/_higher_order_ops/scan.py\n",
      "   from /private/var/folders/1y/qqxfq_4d3bv6t32r2gml_0qh0000gn/T/pip-uninstall-noqb5ikh/_higher_order_ops/scan.py\n",
      "  Moving to /Users/filippo/miniconda3/envs/MAECap/lib/python3.11/site-packages/torch/_higher_order_ops/strict_mode.py\n",
      "   from /private/var/folders/1y/qqxfq_4d3bv6t32r2gml_0qh0000gn/T/pip-uninstall-noqb5ikh/_higher_order_ops/strict_mode.py\n",
      "  Moving to /Users/filippo/miniconda3/envs/MAECap/lib/python3.11/site-packages/torch/_higher_order_ops/torchbind.py\n",
      "   from /private/var/folders/1y/qqxfq_4d3bv6t32r2gml_0qh0000gn/T/pip-uninstall-noqb5ikh/_higher_order_ops/torchbind.py\n",
      "  Moving to /Users/filippo/miniconda3/envs/MAECap/lib/python3.11/site-packages/torch/_higher_order_ops/triton_kernel_wrap.py\n",
      "   from /private/var/folders/1y/qqxfq_4d3bv6t32r2gml_0qh0000gn/T/pip-uninstall-noqb5ikh/_higher_order_ops/triton_kernel_wrap.py\n",
      "  Moving to /Users/filippo/miniconda3/envs/MAECap/lib/python3.11/site-packages/torch/_higher_order_ops/utils.py\n",
      "   from /private/var/folders/1y/qqxfq_4d3bv6t32r2gml_0qh0000gn/T/pip-uninstall-noqb5ikh/_higher_order_ops/utils.py\n",
      "  Moving to /Users/filippo/miniconda3/envs/MAECap/lib/python3.11/site-packages/torch/_higher_order_ops/while_loop.py\n",
      "   from /private/var/folders/1y/qqxfq_4d3bv6t32r2gml_0qh0000gn/T/pip-uninstall-noqb5ikh/_higher_order_ops/while_loop.py\n",
      "  Moving to /Users/filippo/miniconda3/envs/MAECap/lib/python3.11/site-packages/torch/_higher_order_ops/wrap.py\n",
      "   from /private/var/folders/1y/qqxfq_4d3bv6t32r2gml_0qh0000gn/T/pip-uninstall-noqb5ikh/_higher_order_ops/wrap.py\n",
      "  Moving to /Users/filippo/miniconda3/envs/MAECap/lib/python3.11/site-packages/torch/_inductor/__init__.py\n",
      "   from /private/var/folders/1y/qqxfq_4d3bv6t32r2gml_0qh0000gn/T/pip-uninstall-noqb5ikh/_inductor/__init__.py\n",
      "  Moving to /Users/filippo/miniconda3/envs/MAECap/lib/python3.11/site-packages/torch/_inductor/__pycache__/\n",
      "   from /Users/filippo/miniconda3/envs/MAECap/lib/python3.11/site-packages/torch/_inductor/~_pycache__\n",
      "  Moving to /Users/filippo/miniconda3/envs/MAECap/lib/python3.11/site-packages/torch/_inductor/analyze_preserves_zero_mask.py\n",
      "   from /private/var/folders/1y/qqxfq_4d3bv6t32r2gml_0qh0000gn/T/pip-uninstall-noqb5ikh/_inductor/analyze_preserves_zero_mask.py\n",
      "  Moving to /Users/filippo/miniconda3/envs/MAECap/lib/python3.11/site-packages/torch/_inductor/aoti_eager.py\n",
      "   from /private/var/folders/1y/qqxfq_4d3bv6t32r2gml_0qh0000gn/T/pip-uninstall-noqb5ikh/_inductor/aoti_eager.py\n",
      "  Moving to /Users/filippo/miniconda3/envs/MAECap/lib/python3.11/site-packages/torch/_inductor/async_compile.py\n",
      "   from /private/var/folders/1y/qqxfq_4d3bv6t32r2gml_0qh0000gn/T/pip-uninstall-noqb5ikh/_inductor/async_compile.py\n",
      "  Moving to /Users/filippo/miniconda3/envs/MAECap/lib/python3.11/site-packages/torch/_inductor/autoheuristic/\n",
      "   from /Users/filippo/miniconda3/envs/MAECap/lib/python3.11/site-packages/torch/_inductor/~utoheuristic\n",
      "  Moving to /Users/filippo/miniconda3/envs/MAECap/lib/python3.11/site-packages/torch/_inductor/autotune_process.py\n",
      "   from /private/var/folders/1y/qqxfq_4d3bv6t32r2gml_0qh0000gn/T/pip-uninstall-noqb5ikh/_inductor/autotune_process.py\n",
      "  Moving to /Users/filippo/miniconda3/envs/MAECap/lib/python3.11/site-packages/torch/_inductor/bounds.py\n",
      "   from /private/var/folders/1y/qqxfq_4d3bv6t32r2gml_0qh0000gn/T/pip-uninstall-noqb5ikh/_inductor/bounds.py\n",
      "  Moving to /Users/filippo/miniconda3/envs/MAECap/lib/python3.11/site-packages/torch/_inductor/choices.py\n",
      "   from /private/var/folders/1y/qqxfq_4d3bv6t32r2gml_0qh0000gn/T/pip-uninstall-noqb5ikh/_inductor/choices.py\n",
      "  Moving to /Users/filippo/miniconda3/envs/MAECap/lib/python3.11/site-packages/torch/_inductor/codecache.py\n",
      "   from /private/var/folders/1y/qqxfq_4d3bv6t32r2gml_0qh0000gn/T/pip-uninstall-noqb5ikh/_inductor/codecache.py\n",
      "  Moving to /Users/filippo/miniconda3/envs/MAECap/lib/python3.11/site-packages/torch/_inductor/codegen/__init__.py\n",
      "   from /private/var/folders/1y/qqxfq_4d3bv6t32r2gml_0qh0000gn/T/pip-uninstall-noqb5ikh/_inductor/codegen/__init__.py\n",
      "  Moving to /Users/filippo/miniconda3/envs/MAECap/lib/python3.11/site-packages/torch/_inductor/codegen/__pycache__/\n",
      "   from /Users/filippo/miniconda3/envs/MAECap/lib/python3.11/site-packages/torch/_inductor/codegen/~_pycache__\n",
      "  Moving to /Users/filippo/miniconda3/envs/MAECap/lib/python3.11/site-packages/torch/_inductor/codegen/aoti_hipify_utils.py\n",
      "   from /private/var/folders/1y/qqxfq_4d3bv6t32r2gml_0qh0000gn/T/pip-uninstall-noqb5ikh/_inductor/codegen/aoti_hipify_utils.py\n",
      "  Moving to /Users/filippo/miniconda3/envs/MAECap/lib/python3.11/site-packages/torch/_inductor/codegen/aoti_runtime/interface.cpp\n",
      "   from /private/var/folders/1y/qqxfq_4d3bv6t32r2gml_0qh0000gn/T/pip-uninstall-noqb5ikh/_inductor/codegen/aoti_runtime/interface.cpp\n",
      "  Moving to /Users/filippo/miniconda3/envs/MAECap/lib/python3.11/site-packages/torch/_inductor/codegen/block_analysis.py\n",
      "   from /private/var/folders/1y/qqxfq_4d3bv6t32r2gml_0qh0000gn/T/pip-uninstall-noqb5ikh/_inductor/codegen/block_analysis.py\n",
      "  Moving to /Users/filippo/miniconda3/envs/MAECap/lib/python3.11/site-packages/torch/_inductor/codegen/common.py\n",
      "   from /private/var/folders/1y/qqxfq_4d3bv6t32r2gml_0qh0000gn/T/pip-uninstall-noqb5ikh/_inductor/codegen/common.py\n",
      "  Moving to /Users/filippo/miniconda3/envs/MAECap/lib/python3.11/site-packages/torch/_inductor/codegen/cpp.py\n",
      "   from /private/var/folders/1y/qqxfq_4d3bv6t32r2gml_0qh0000gn/T/pip-uninstall-noqb5ikh/_inductor/codegen/cpp.py\n",
      "  Moving to /Users/filippo/miniconda3/envs/MAECap/lib/python3.11/site-packages/torch/_inductor/codegen/cpp_bmm_template.py\n",
      "   from /private/var/folders/1y/qqxfq_4d3bv6t32r2gml_0qh0000gn/T/pip-uninstall-noqb5ikh/_inductor/codegen/cpp_bmm_template.py\n",
      "  Moving to /Users/filippo/miniconda3/envs/MAECap/lib/python3.11/site-packages/torch/_inductor/codegen/cpp_flex_attention_template.py\n",
      "   from /private/var/folders/1y/qqxfq_4d3bv6t32r2gml_0qh0000gn/T/pip-uninstall-noqb5ikh/_inductor/codegen/cpp_flex_attention_template.py\n",
      "  Moving to /Users/filippo/miniconda3/envs/MAECap/lib/python3.11/site-packages/torch/_inductor/codegen/cpp_gemm_template.py\n",
      "   from /private/var/folders/1y/qqxfq_4d3bv6t32r2gml_0qh0000gn/T/pip-uninstall-noqb5ikh/_inductor/codegen/cpp_gemm_template.py\n",
      "  Moving to /Users/filippo/miniconda3/envs/MAECap/lib/python3.11/site-packages/torch/_inductor/codegen/cpp_grouped_gemm_template.py\n",
      "   from /private/var/folders/1y/qqxfq_4d3bv6t32r2gml_0qh0000gn/T/pip-uninstall-noqb5ikh/_inductor/codegen/cpp_grouped_gemm_template.py\n",
      "  Moving to /Users/filippo/miniconda3/envs/MAECap/lib/python3.11/site-packages/torch/_inductor/codegen/cpp_micro_gemm.py\n",
      "   from /private/var/folders/1y/qqxfq_4d3bv6t32r2gml_0qh0000gn/T/pip-uninstall-noqb5ikh/_inductor/codegen/cpp_micro_gemm.py\n",
      "  Moving to /Users/filippo/miniconda3/envs/MAECap/lib/python3.11/site-packages/torch/_inductor/codegen/cpp_prefix.h\n",
      "   from /private/var/folders/1y/qqxfq_4d3bv6t32r2gml_0qh0000gn/T/pip-uninstall-noqb5ikh/_inductor/codegen/cpp_prefix.h\n",
      "  Moving to /Users/filippo/miniconda3/envs/MAECap/lib/python3.11/site-packages/torch/_inductor/codegen/cpp_template.py\n",
      "   from /private/var/folders/1y/qqxfq_4d3bv6t32r2gml_0qh0000gn/T/pip-uninstall-noqb5ikh/_inductor/codegen/cpp_template.py\n",
      "  Moving to /Users/filippo/miniconda3/envs/MAECap/lib/python3.11/site-packages/torch/_inductor/codegen/cpp_template_kernel.py\n",
      "   from /private/var/folders/1y/qqxfq_4d3bv6t32r2gml_0qh0000gn/T/pip-uninstall-noqb5ikh/_inductor/codegen/cpp_template_kernel.py\n",
      "  Moving to /Users/filippo/miniconda3/envs/MAECap/lib/python3.11/site-packages/torch/_inductor/codegen/cpp_utils.py\n",
      "   from /private/var/folders/1y/qqxfq_4d3bv6t32r2gml_0qh0000gn/T/pip-uninstall-noqb5ikh/_inductor/codegen/cpp_utils.py\n",
      "  Moving to /Users/filippo/miniconda3/envs/MAECap/lib/python3.11/site-packages/torch/_inductor/codegen/cpp_wrapper_cpu.py\n",
      "   from /private/var/folders/1y/qqxfq_4d3bv6t32r2gml_0qh0000gn/T/pip-uninstall-noqb5ikh/_inductor/codegen/cpp_wrapper_cpu.py\n",
      "  Moving to /Users/filippo/miniconda3/envs/MAECap/lib/python3.11/site-packages/torch/_inductor/codegen/cpp_wrapper_cpu_array_ref.py\n",
      "   from /private/var/folders/1y/qqxfq_4d3bv6t32r2gml_0qh0000gn/T/pip-uninstall-noqb5ikh/_inductor/codegen/cpp_wrapper_cpu_array_ref.py\n",
      "  Moving to /Users/filippo/miniconda3/envs/MAECap/lib/python3.11/site-packages/torch/_inductor/codegen/cpp_wrapper_gpu.py\n",
      "   from /private/var/folders/1y/qqxfq_4d3bv6t32r2gml_0qh0000gn/T/pip-uninstall-noqb5ikh/_inductor/codegen/cpp_wrapper_gpu.py\n",
      "  Moving to /Users/filippo/miniconda3/envs/MAECap/lib/python3.11/site-packages/torch/_inductor/codegen/cpu_device_op_overrides.py\n",
      "   from /private/var/folders/1y/qqxfq_4d3bv6t32r2gml_0qh0000gn/T/pip-uninstall-noqb5ikh/_inductor/codegen/cpu_device_op_overrides.py\n",
      "  Moving to /Users/filippo/miniconda3/envs/MAECap/lib/python3.11/site-packages/torch/_inductor/codegen/cuda/__init__.py\n",
      "   from /private/var/folders/1y/qqxfq_4d3bv6t32r2gml_0qh0000gn/T/pip-uninstall-noqb5ikh/_inductor/codegen/cuda/__init__.py\n",
      "  Moving to /Users/filippo/miniconda3/envs/MAECap/lib/python3.11/site-packages/torch/_inductor/codegen/cuda/__pycache__/__init__.cpython-311.pyc\n",
      "   from /private/var/folders/1y/qqxfq_4d3bv6t32r2gml_0qh0000gn/T/pip-uninstall-noqb5ikh/_inductor/codegen/cuda/__pycache__/__init__.cpython-311.pyc\n",
      "  Moving to /Users/filippo/miniconda3/envs/MAECap/lib/python3.11/site-packages/torch/_inductor/codegen/cuda/__pycache__/cuda_cpp_scheduling.cpython-311.pyc\n",
      "   from /private/var/folders/1y/qqxfq_4d3bv6t32r2gml_0qh0000gn/T/pip-uninstall-noqb5ikh/_inductor/codegen/cuda/__pycache__/cuda_cpp_scheduling.cpython-311.pyc\n",
      "  Moving to /Users/filippo/miniconda3/envs/MAECap/lib/python3.11/site-packages/torch/_inductor/codegen/cuda/__pycache__/cuda_env.cpython-311.pyc\n",
      "   from /private/var/folders/1y/qqxfq_4d3bv6t32r2gml_0qh0000gn/T/pip-uninstall-noqb5ikh/_inductor/codegen/cuda/__pycache__/cuda_env.cpython-311.pyc\n",
      "  Moving to /Users/filippo/miniconda3/envs/MAECap/lib/python3.11/site-packages/torch/_inductor/codegen/cuda/__pycache__/cuda_kernel.cpython-311.pyc\n",
      "   from /private/var/folders/1y/qqxfq_4d3bv6t32r2gml_0qh0000gn/T/pip-uninstall-noqb5ikh/_inductor/codegen/cuda/__pycache__/cuda_kernel.cpython-311.pyc\n",
      "  Moving to /Users/filippo/miniconda3/envs/MAECap/lib/python3.11/site-packages/torch/_inductor/codegen/cuda/__pycache__/cuda_template.cpython-311.pyc\n",
      "   from /private/var/folders/1y/qqxfq_4d3bv6t32r2gml_0qh0000gn/T/pip-uninstall-noqb5ikh/_inductor/codegen/cuda/__pycache__/cuda_template.cpython-311.pyc\n",
      "  Moving to /Users/filippo/miniconda3/envs/MAECap/lib/python3.11/site-packages/torch/_inductor/codegen/cuda/__pycache__/cutlass_utils.cpython-311.pyc\n",
      "   from /private/var/folders/1y/qqxfq_4d3bv6t32r2gml_0qh0000gn/T/pip-uninstall-noqb5ikh/_inductor/codegen/cuda/__pycache__/cutlass_utils.cpython-311.pyc\n",
      "  Moving to /Users/filippo/miniconda3/envs/MAECap/lib/python3.11/site-packages/torch/_inductor/codegen/cuda/__pycache__/device_op_overrides.cpython-311.pyc\n",
      "   from /private/var/folders/1y/qqxfq_4d3bv6t32r2gml_0qh0000gn/T/pip-uninstall-noqb5ikh/_inductor/codegen/cuda/__pycache__/device_op_overrides.cpython-311.pyc\n",
      "  Moving to /Users/filippo/miniconda3/envs/MAECap/lib/python3.11/site-packages/torch/_inductor/codegen/cuda/__pycache__/gemm_template.cpython-311.pyc\n",
      "   from /private/var/folders/1y/qqxfq_4d3bv6t32r2gml_0qh0000gn/T/pip-uninstall-noqb5ikh/_inductor/codegen/cuda/__pycache__/gemm_template.cpython-311.pyc\n",
      "  Moving to /Users/filippo/miniconda3/envs/MAECap/lib/python3.11/site-packages/torch/_inductor/codegen/cuda/cuda_cpp_scheduling.py\n",
      "   from /private/var/folders/1y/qqxfq_4d3bv6t32r2gml_0qh0000gn/T/pip-uninstall-noqb5ikh/_inductor/codegen/cuda/cuda_cpp_scheduling.py\n",
      "  Moving to /Users/filippo/miniconda3/envs/MAECap/lib/python3.11/site-packages/torch/_inductor/codegen/cuda/cuda_env.py\n",
      "   from /private/var/folders/1y/qqxfq_4d3bv6t32r2gml_0qh0000gn/T/pip-uninstall-noqb5ikh/_inductor/codegen/cuda/cuda_env.py\n",
      "  Moving to /Users/filippo/miniconda3/envs/MAECap/lib/python3.11/site-packages/torch/_inductor/codegen/cuda/cuda_kernel.py\n",
      "   from /private/var/folders/1y/qqxfq_4d3bv6t32r2gml_0qh0000gn/T/pip-uninstall-noqb5ikh/_inductor/codegen/cuda/cuda_kernel.py\n",
      "  Moving to /Users/filippo/miniconda3/envs/MAECap/lib/python3.11/site-packages/torch/_inductor/codegen/cuda/cuda_template.py\n",
      "   from /private/var/folders/1y/qqxfq_4d3bv6t32r2gml_0qh0000gn/T/pip-uninstall-noqb5ikh/_inductor/codegen/cuda/cuda_template.py\n",
      "  Moving to /Users/filippo/miniconda3/envs/MAECap/lib/python3.11/site-packages/torch/_inductor/codegen/cuda/cutlass_lib_extensions/\n",
      "   from /Users/filippo/miniconda3/envs/MAECap/lib/python3.11/site-packages/torch/_inductor/codegen/cuda/~utlass_lib_extensions\n",
      "  Moving to /Users/filippo/miniconda3/envs/MAECap/lib/python3.11/site-packages/torch/_inductor/codegen/cuda/cutlass_utils.py\n",
      "   from /private/var/folders/1y/qqxfq_4d3bv6t32r2gml_0qh0000gn/T/pip-uninstall-noqb5ikh/_inductor/codegen/cuda/cutlass_utils.py\n",
      "  Moving to /Users/filippo/miniconda3/envs/MAECap/lib/python3.11/site-packages/torch/_inductor/codegen/cuda/device_op_overrides.py\n",
      "   from /private/var/folders/1y/qqxfq_4d3bv6t32r2gml_0qh0000gn/T/pip-uninstall-noqb5ikh/_inductor/codegen/cuda/device_op_overrides.py\n",
      "  Moving to /Users/filippo/miniconda3/envs/MAECap/lib/python3.11/site-packages/torch/_inductor/codegen/cuda/gemm_template.py\n",
      "   from /private/var/folders/1y/qqxfq_4d3bv6t32r2gml_0qh0000gn/T/pip-uninstall-noqb5ikh/_inductor/codegen/cuda/gemm_template.py\n",
      "  Moving to /Users/filippo/miniconda3/envs/MAECap/lib/python3.11/site-packages/torch/_inductor/codegen/cuda_combined_scheduling.py\n",
      "   from /private/var/folders/1y/qqxfq_4d3bv6t32r2gml_0qh0000gn/T/pip-uninstall-noqb5ikh/_inductor/codegen/cuda_combined_scheduling.py\n",
      "  Moving to /Users/filippo/miniconda3/envs/MAECap/lib/python3.11/site-packages/torch/_inductor/codegen/debug_utils.py\n",
      "   from /private/var/folders/1y/qqxfq_4d3bv6t32r2gml_0qh0000gn/T/pip-uninstall-noqb5ikh/_inductor/codegen/debug_utils.py\n",
      "  Moving to /Users/filippo/miniconda3/envs/MAECap/lib/python3.11/site-packages/torch/_inductor/codegen/halide.py\n",
      "   from /private/var/folders/1y/qqxfq_4d3bv6t32r2gml_0qh0000gn/T/pip-uninstall-noqb5ikh/_inductor/codegen/halide.py\n",
      "  Moving to /Users/filippo/miniconda3/envs/MAECap/lib/python3.11/site-packages/torch/_inductor/codegen/memory_planning.py\n",
      "   from /private/var/folders/1y/qqxfq_4d3bv6t32r2gml_0qh0000gn/T/pip-uninstall-noqb5ikh/_inductor/codegen/memory_planning.py\n",
      "  Moving to /Users/filippo/miniconda3/envs/MAECap/lib/python3.11/site-packages/torch/_inductor/codegen/mps.py\n",
      "   from /private/var/folders/1y/qqxfq_4d3bv6t32r2gml_0qh0000gn/T/pip-uninstall-noqb5ikh/_inductor/codegen/mps.py\n",
      "  Moving to /Users/filippo/miniconda3/envs/MAECap/lib/python3.11/site-packages/torch/_inductor/codegen/mps_device_op_overrides.py\n",
      "   from /private/var/folders/1y/qqxfq_4d3bv6t32r2gml_0qh0000gn/T/pip-uninstall-noqb5ikh/_inductor/codegen/mps_device_op_overrides.py\n",
      "  Moving to /Users/filippo/miniconda3/envs/MAECap/lib/python3.11/site-packages/torch/_inductor/codegen/multi_kernel.py\n",
      "   from /private/var/folders/1y/qqxfq_4d3bv6t32r2gml_0qh0000gn/T/pip-uninstall-noqb5ikh/_inductor/codegen/multi_kernel.py\n",
      "  Moving to /Users/filippo/miniconda3/envs/MAECap/lib/python3.11/site-packages/torch/_inductor/codegen/rocm/\n",
      "   from /Users/filippo/miniconda3/envs/MAECap/lib/python3.11/site-packages/torch/_inductor/codegen/~ocm\n",
      "  Moving to /Users/filippo/miniconda3/envs/MAECap/lib/python3.11/site-packages/torch/_inductor/codegen/simd.py\n",
      "   from /private/var/folders/1y/qqxfq_4d3bv6t32r2gml_0qh0000gn/T/pip-uninstall-noqb5ikh/_inductor/codegen/simd.py\n",
      "  Moving to /Users/filippo/miniconda3/envs/MAECap/lib/python3.11/site-packages/torch/_inductor/codegen/simd_kernel_features.py\n",
      "   from /private/var/folders/1y/qqxfq_4d3bv6t32r2gml_0qh0000gn/T/pip-uninstall-noqb5ikh/_inductor/codegen/simd_kernel_features.py\n",
      "  Moving to /Users/filippo/miniconda3/envs/MAECap/lib/python3.11/site-packages/torch/_inductor/codegen/triton.py\n",
      "   from /private/var/folders/1y/qqxfq_4d3bv6t32r2gml_0qh0000gn/T/pip-uninstall-noqb5ikh/_inductor/codegen/triton.py\n",
      "  Moving to /Users/filippo/miniconda3/envs/MAECap/lib/python3.11/site-packages/torch/_inductor/codegen/triton_combo_kernel.py\n",
      "   from /private/var/folders/1y/qqxfq_4d3bv6t32r2gml_0qh0000gn/T/pip-uninstall-noqb5ikh/_inductor/codegen/triton_combo_kernel.py\n",
      "  Moving to /Users/filippo/miniconda3/envs/MAECap/lib/python3.11/site-packages/torch/_inductor/codegen/triton_split_scan.py\n",
      "   from /private/var/folders/1y/qqxfq_4d3bv6t32r2gml_0qh0000gn/T/pip-uninstall-noqb5ikh/_inductor/codegen/triton_split_scan.py\n",
      "  Moving to /Users/filippo/miniconda3/envs/MAECap/lib/python3.11/site-packages/torch/_inductor/codegen/triton_utils.py\n",
      "   from /private/var/folders/1y/qqxfq_4d3bv6t32r2gml_0qh0000gn/T/pip-uninstall-noqb5ikh/_inductor/codegen/triton_utils.py\n",
      "  Moving to /Users/filippo/miniconda3/envs/MAECap/lib/python3.11/site-packages/torch/_inductor/codegen/wrapper.py\n",
      "   from /private/var/folders/1y/qqxfq_4d3bv6t32r2gml_0qh0000gn/T/pip-uninstall-noqb5ikh/_inductor/codegen/wrapper.py\n",
      "  Moving to /Users/filippo/miniconda3/envs/MAECap/lib/python3.11/site-packages/torch/_inductor/codegen/xpu/\n",
      "   from /Users/filippo/miniconda3/envs/MAECap/lib/python3.11/site-packages/torch/_inductor/codegen/~pu\n",
      "  Moving to /Users/filippo/miniconda3/envs/MAECap/lib/python3.11/site-packages/torch/_inductor/comm_analysis.py\n",
      "   from /private/var/folders/1y/qqxfq_4d3bv6t32r2gml_0qh0000gn/T/pip-uninstall-noqb5ikh/_inductor/comm_analysis.py\n",
      "  Moving to /Users/filippo/miniconda3/envs/MAECap/lib/python3.11/site-packages/torch/_inductor/comm_lowering.py\n",
      "   from /private/var/folders/1y/qqxfq_4d3bv6t32r2gml_0qh0000gn/T/pip-uninstall-noqb5ikh/_inductor/comm_lowering.py\n",
      "  Moving to /Users/filippo/miniconda3/envs/MAECap/lib/python3.11/site-packages/torch/_inductor/comms.py\n",
      "   from /private/var/folders/1y/qqxfq_4d3bv6t32r2gml_0qh0000gn/T/pip-uninstall-noqb5ikh/_inductor/comms.py\n",
      "  Moving to /Users/filippo/miniconda3/envs/MAECap/lib/python3.11/site-packages/torch/_inductor/compile_fx.py\n",
      "   from /private/var/folders/1y/qqxfq_4d3bv6t32r2gml_0qh0000gn/T/pip-uninstall-noqb5ikh/_inductor/compile_fx.py\n",
      "  Moving to /Users/filippo/miniconda3/envs/MAECap/lib/python3.11/site-packages/torch/_inductor/compile_fx_ext.py\n",
      "   from /private/var/folders/1y/qqxfq_4d3bv6t32r2gml_0qh0000gn/T/pip-uninstall-noqb5ikh/_inductor/compile_fx_ext.py\n",
      "  Moving to /Users/filippo/miniconda3/envs/MAECap/lib/python3.11/site-packages/torch/_inductor/compile_fx_subproc.py\n",
      "   from /private/var/folders/1y/qqxfq_4d3bv6t32r2gml_0qh0000gn/T/pip-uninstall-noqb5ikh/_inductor/compile_fx_subproc.py\n",
      "  Moving to /Users/filippo/miniconda3/envs/MAECap/lib/python3.11/site-packages/torch/_inductor/compile_worker/\n",
      "   from /Users/filippo/miniconda3/envs/MAECap/lib/python3.11/site-packages/torch/_inductor/~ompile_worker\n",
      "  Moving to /Users/filippo/miniconda3/envs/MAECap/lib/python3.11/site-packages/torch/_inductor/compiler_bisector.py\n",
      "   from /private/var/folders/1y/qqxfq_4d3bv6t32r2gml_0qh0000gn/T/pip-uninstall-noqb5ikh/_inductor/compiler_bisector.py\n",
      "  Moving to /Users/filippo/miniconda3/envs/MAECap/lib/python3.11/site-packages/torch/_inductor/config.py\n",
      "   from /private/var/folders/1y/qqxfq_4d3bv6t32r2gml_0qh0000gn/T/pip-uninstall-noqb5ikh/_inductor/config.py\n",
      "  Moving to /Users/filippo/miniconda3/envs/MAECap/lib/python3.11/site-packages/torch/_inductor/constant_folding.py\n",
      "   from /private/var/folders/1y/qqxfq_4d3bv6t32r2gml_0qh0000gn/T/pip-uninstall-noqb5ikh/_inductor/constant_folding.py\n",
      "  Moving to /Users/filippo/miniconda3/envs/MAECap/lib/python3.11/site-packages/torch/_inductor/cpp_builder.py\n",
      "   from /private/var/folders/1y/qqxfq_4d3bv6t32r2gml_0qh0000gn/T/pip-uninstall-noqb5ikh/_inductor/cpp_builder.py\n",
      "  Moving to /Users/filippo/miniconda3/envs/MAECap/lib/python3.11/site-packages/torch/_inductor/cpu_vec_isa.py\n",
      "   from /private/var/folders/1y/qqxfq_4d3bv6t32r2gml_0qh0000gn/T/pip-uninstall-noqb5ikh/_inductor/cpu_vec_isa.py\n",
      "  Moving to /Users/filippo/miniconda3/envs/MAECap/lib/python3.11/site-packages/torch/_inductor/cudagraph_trees.py\n",
      "   from /private/var/folders/1y/qqxfq_4d3bv6t32r2gml_0qh0000gn/T/pip-uninstall-noqb5ikh/_inductor/cudagraph_trees.py\n",
      "  Moving to /Users/filippo/miniconda3/envs/MAECap/lib/python3.11/site-packages/torch/_inductor/cudagraph_utils.py\n",
      "   from /private/var/folders/1y/qqxfq_4d3bv6t32r2gml_0qh0000gn/T/pip-uninstall-noqb5ikh/_inductor/cudagraph_utils.py\n",
      "  Moving to /Users/filippo/miniconda3/envs/MAECap/lib/python3.11/site-packages/torch/_inductor/custom_graph_pass.py\n",
      "   from /private/var/folders/1y/qqxfq_4d3bv6t32r2gml_0qh0000gn/T/pip-uninstall-noqb5ikh/_inductor/custom_graph_pass.py\n",
      "  Moving to /Users/filippo/miniconda3/envs/MAECap/lib/python3.11/site-packages/torch/_inductor/debug.py\n",
      "   from /private/var/folders/1y/qqxfq_4d3bv6t32r2gml_0qh0000gn/T/pip-uninstall-noqb5ikh/_inductor/debug.py\n",
      "  Moving to /Users/filippo/miniconda3/envs/MAECap/lib/python3.11/site-packages/torch/_inductor/decomposition.py\n",
      "   from /private/var/folders/1y/qqxfq_4d3bv6t32r2gml_0qh0000gn/T/pip-uninstall-noqb5ikh/_inductor/decomposition.py\n",
      "  Moving to /Users/filippo/miniconda3/envs/MAECap/lib/python3.11/site-packages/torch/_inductor/dependencies.py\n",
      "   from /private/var/folders/1y/qqxfq_4d3bv6t32r2gml_0qh0000gn/T/pip-uninstall-noqb5ikh/_inductor/dependencies.py\n",
      "  Moving to /Users/filippo/miniconda3/envs/MAECap/lib/python3.11/site-packages/torch/_inductor/dtype_propagation.py\n",
      "   from /private/var/folders/1y/qqxfq_4d3bv6t32r2gml_0qh0000gn/T/pip-uninstall-noqb5ikh/_inductor/dtype_propagation.py\n",
      "  Moving to /Users/filippo/miniconda3/envs/MAECap/lib/python3.11/site-packages/torch/_inductor/exc.py\n",
      "   from /private/var/folders/1y/qqxfq_4d3bv6t32r2gml_0qh0000gn/T/pip-uninstall-noqb5ikh/_inductor/exc.py\n",
      "  Moving to /Users/filippo/miniconda3/envs/MAECap/lib/python3.11/site-packages/torch/_inductor/extern_node_serializer.py\n",
      "   from /private/var/folders/1y/qqxfq_4d3bv6t32r2gml_0qh0000gn/T/pip-uninstall-noqb5ikh/_inductor/extern_node_serializer.py\n",
      "  Moving to /Users/filippo/miniconda3/envs/MAECap/lib/python3.11/site-packages/torch/_inductor/freezing.py\n",
      "   from /private/var/folders/1y/qqxfq_4d3bv6t32r2gml_0qh0000gn/T/pip-uninstall-noqb5ikh/_inductor/freezing.py\n",
      "  Moving to /Users/filippo/miniconda3/envs/MAECap/lib/python3.11/site-packages/torch/_inductor/freezing_utils.py\n",
      "   from /private/var/folders/1y/qqxfq_4d3bv6t32r2gml_0qh0000gn/T/pip-uninstall-noqb5ikh/_inductor/freezing_utils.py\n",
      "  Moving to /Users/filippo/miniconda3/envs/MAECap/lib/python3.11/site-packages/torch/_inductor/fuzzer.py\n",
      "   from /private/var/folders/1y/qqxfq_4d3bv6t32r2gml_0qh0000gn/T/pip-uninstall-noqb5ikh/_inductor/fuzzer.py\n",
      "  Moving to /Users/filippo/miniconda3/envs/MAECap/lib/python3.11/site-packages/torch/_inductor/fx_passes/\n",
      "   from /Users/filippo/miniconda3/envs/MAECap/lib/python3.11/site-packages/torch/_inductor/~x_passes\n",
      "  Moving to /Users/filippo/miniconda3/envs/MAECap/lib/python3.11/site-packages/torch/_inductor/fx_utils.py\n",
      "   from /private/var/folders/1y/qqxfq_4d3bv6t32r2gml_0qh0000gn/T/pip-uninstall-noqb5ikh/_inductor/fx_utils.py\n",
      "  Moving to /Users/filippo/miniconda3/envs/MAECap/lib/python3.11/site-packages/torch/_inductor/graph.py\n",
      "   from /private/var/folders/1y/qqxfq_4d3bv6t32r2gml_0qh0000gn/T/pip-uninstall-noqb5ikh/_inductor/graph.py\n",
      "  Moving to /Users/filippo/miniconda3/envs/MAECap/lib/python3.11/site-packages/torch/_inductor/hooks.py\n",
      "   from /private/var/folders/1y/qqxfq_4d3bv6t32r2gml_0qh0000gn/T/pip-uninstall-noqb5ikh/_inductor/hooks.py\n",
      "  Moving to /Users/filippo/miniconda3/envs/MAECap/lib/python3.11/site-packages/torch/_inductor/index_propagation.py\n",
      "   from /private/var/folders/1y/qqxfq_4d3bv6t32r2gml_0qh0000gn/T/pip-uninstall-noqb5ikh/_inductor/index_propagation.py\n",
      "  Moving to /Users/filippo/miniconda3/envs/MAECap/lib/python3.11/site-packages/torch/_inductor/inductor_prims.py\n",
      "   from /private/var/folders/1y/qqxfq_4d3bv6t32r2gml_0qh0000gn/T/pip-uninstall-noqb5ikh/_inductor/inductor_prims.py\n",
      "  Moving to /Users/filippo/miniconda3/envs/MAECap/lib/python3.11/site-packages/torch/_inductor/ir.py\n",
      "   from /private/var/folders/1y/qqxfq_4d3bv6t32r2gml_0qh0000gn/T/pip-uninstall-noqb5ikh/_inductor/ir.py\n",
      "  Moving to /Users/filippo/miniconda3/envs/MAECap/lib/python3.11/site-packages/torch/_inductor/jagged_lowerings.py\n",
      "   from /private/var/folders/1y/qqxfq_4d3bv6t32r2gml_0qh0000gn/T/pip-uninstall-noqb5ikh/_inductor/jagged_lowerings.py\n",
      "  Moving to /Users/filippo/miniconda3/envs/MAECap/lib/python3.11/site-packages/torch/_inductor/kernel/__init__.py\n",
      "   from /private/var/folders/1y/qqxfq_4d3bv6t32r2gml_0qh0000gn/T/pip-uninstall-noqb5ikh/_inductor/kernel/__init__.py\n",
      "  Moving to /Users/filippo/miniconda3/envs/MAECap/lib/python3.11/site-packages/torch/_inductor/kernel/__pycache__/__init__.cpython-311.pyc\n",
      "   from /private/var/folders/1y/qqxfq_4d3bv6t32r2gml_0qh0000gn/T/pip-uninstall-noqb5ikh/_inductor/kernel/__pycache__/__init__.cpython-311.pyc\n",
      "  Moving to /Users/filippo/miniconda3/envs/MAECap/lib/python3.11/site-packages/torch/_inductor/kernel/__pycache__/bmm.cpython-311.pyc\n",
      "   from /private/var/folders/1y/qqxfq_4d3bv6t32r2gml_0qh0000gn/T/pip-uninstall-noqb5ikh/_inductor/kernel/__pycache__/bmm.cpython-311.pyc\n",
      "  Moving to /Users/filippo/miniconda3/envs/MAECap/lib/python3.11/site-packages/torch/_inductor/kernel/__pycache__/conv.cpython-311.pyc\n",
      "   from /private/var/folders/1y/qqxfq_4d3bv6t32r2gml_0qh0000gn/T/pip-uninstall-noqb5ikh/_inductor/kernel/__pycache__/conv.cpython-311.pyc\n",
      "  Moving to /Users/filippo/miniconda3/envs/MAECap/lib/python3.11/site-packages/torch/_inductor/kernel/__pycache__/flex_attention.cpython-311.pyc\n",
      "   from /private/var/folders/1y/qqxfq_4d3bv6t32r2gml_0qh0000gn/T/pip-uninstall-noqb5ikh/_inductor/kernel/__pycache__/flex_attention.cpython-311.pyc\n",
      "  Moving to /Users/filippo/miniconda3/envs/MAECap/lib/python3.11/site-packages/torch/_inductor/kernel/__pycache__/flex_decoding.cpython-311.pyc\n",
      "   from /private/var/folders/1y/qqxfq_4d3bv6t32r2gml_0qh0000gn/T/pip-uninstall-noqb5ikh/_inductor/kernel/__pycache__/flex_decoding.cpython-311.pyc\n",
      "  Moving to /Users/filippo/miniconda3/envs/MAECap/lib/python3.11/site-packages/torch/_inductor/kernel/__pycache__/mm.cpython-311.pyc\n",
      "   from /private/var/folders/1y/qqxfq_4d3bv6t32r2gml_0qh0000gn/T/pip-uninstall-noqb5ikh/_inductor/kernel/__pycache__/mm.cpython-311.pyc\n",
      "  Moving to /Users/filippo/miniconda3/envs/MAECap/lib/python3.11/site-packages/torch/_inductor/kernel/__pycache__/mm_common.cpython-311.pyc\n",
      "   from /private/var/folders/1y/qqxfq_4d3bv6t32r2gml_0qh0000gn/T/pip-uninstall-noqb5ikh/_inductor/kernel/__pycache__/mm_common.cpython-311.pyc\n",
      "  Moving to /Users/filippo/miniconda3/envs/MAECap/lib/python3.11/site-packages/torch/_inductor/kernel/__pycache__/mm_plus_mm.cpython-311.pyc\n",
      "   from /private/var/folders/1y/qqxfq_4d3bv6t32r2gml_0qh0000gn/T/pip-uninstall-noqb5ikh/_inductor/kernel/__pycache__/mm_plus_mm.cpython-311.pyc\n",
      "  Moving to /Users/filippo/miniconda3/envs/MAECap/lib/python3.11/site-packages/torch/_inductor/kernel/__pycache__/mm_scaled.cpython-311.pyc\n",
      "   from /private/var/folders/1y/qqxfq_4d3bv6t32r2gml_0qh0000gn/T/pip-uninstall-noqb5ikh/_inductor/kernel/__pycache__/mm_scaled.cpython-311.pyc\n",
      "  Moving to /Users/filippo/miniconda3/envs/MAECap/lib/python3.11/site-packages/torch/_inductor/kernel/bmm.py\n",
      "   from /private/var/folders/1y/qqxfq_4d3bv6t32r2gml_0qh0000gn/T/pip-uninstall-noqb5ikh/_inductor/kernel/bmm.py\n",
      "  Moving to /Users/filippo/miniconda3/envs/MAECap/lib/python3.11/site-packages/torch/_inductor/kernel/conv.py\n",
      "   from /private/var/folders/1y/qqxfq_4d3bv6t32r2gml_0qh0000gn/T/pip-uninstall-noqb5ikh/_inductor/kernel/conv.py\n",
      "  Moving to /Users/filippo/miniconda3/envs/MAECap/lib/python3.11/site-packages/torch/_inductor/kernel/flex_attention.py\n",
      "   from /private/var/folders/1y/qqxfq_4d3bv6t32r2gml_0qh0000gn/T/pip-uninstall-noqb5ikh/_inductor/kernel/flex_attention.py\n",
      "  Moving to /Users/filippo/miniconda3/envs/MAECap/lib/python3.11/site-packages/torch/_inductor/kernel/flex_decoding.py\n",
      "   from /private/var/folders/1y/qqxfq_4d3bv6t32r2gml_0qh0000gn/T/pip-uninstall-noqb5ikh/_inductor/kernel/flex_decoding.py\n",
      "  Moving to /Users/filippo/miniconda3/envs/MAECap/lib/python3.11/site-packages/torch/_inductor/kernel/mm.py\n",
      "   from /private/var/folders/1y/qqxfq_4d3bv6t32r2gml_0qh0000gn/T/pip-uninstall-noqb5ikh/_inductor/kernel/mm.py\n",
      "  Moving to /Users/filippo/miniconda3/envs/MAECap/lib/python3.11/site-packages/torch/_inductor/kernel/mm_common.py\n",
      "   from /private/var/folders/1y/qqxfq_4d3bv6t32r2gml_0qh0000gn/T/pip-uninstall-noqb5ikh/_inductor/kernel/mm_common.py\n",
      "  Moving to /Users/filippo/miniconda3/envs/MAECap/lib/python3.11/site-packages/torch/_inductor/kernel/mm_plus_mm.py\n",
      "   from /private/var/folders/1y/qqxfq_4d3bv6t32r2gml_0qh0000gn/T/pip-uninstall-noqb5ikh/_inductor/kernel/mm_plus_mm.py\n",
      "  Moving to /Users/filippo/miniconda3/envs/MAECap/lib/python3.11/site-packages/torch/_inductor/kernel/mm_scaled.py\n",
      "   from /private/var/folders/1y/qqxfq_4d3bv6t32r2gml_0qh0000gn/T/pip-uninstall-noqb5ikh/_inductor/kernel/mm_scaled.py\n",
      "  Moving to /Users/filippo/miniconda3/envs/MAECap/lib/python3.11/site-packages/torch/_inductor/loop_body.py\n",
      "   from /private/var/folders/1y/qqxfq_4d3bv6t32r2gml_0qh0000gn/T/pip-uninstall-noqb5ikh/_inductor/loop_body.py\n",
      "  Moving to /Users/filippo/miniconda3/envs/MAECap/lib/python3.11/site-packages/torch/_inductor/lowering.py\n",
      "   from /private/var/folders/1y/qqxfq_4d3bv6t32r2gml_0qh0000gn/T/pip-uninstall-noqb5ikh/_inductor/lowering.py\n",
      "  Moving to /Users/filippo/miniconda3/envs/MAECap/lib/python3.11/site-packages/torch/_inductor/memory.py\n",
      "   from /private/var/folders/1y/qqxfq_4d3bv6t32r2gml_0qh0000gn/T/pip-uninstall-noqb5ikh/_inductor/memory.py\n",
      "  Moving to /Users/filippo/miniconda3/envs/MAECap/lib/python3.11/site-packages/torch/_inductor/metrics.py\n",
      "   from /private/var/folders/1y/qqxfq_4d3bv6t32r2gml_0qh0000gn/T/pip-uninstall-noqb5ikh/_inductor/metrics.py\n",
      "  Moving to /Users/filippo/miniconda3/envs/MAECap/lib/python3.11/site-packages/torch/_inductor/mkldnn_ir.py\n",
      "   from /private/var/folders/1y/qqxfq_4d3bv6t32r2gml_0qh0000gn/T/pip-uninstall-noqb5ikh/_inductor/mkldnn_ir.py\n",
      "  Moving to /Users/filippo/miniconda3/envs/MAECap/lib/python3.11/site-packages/torch/_inductor/mkldnn_lowerings.py\n",
      "   from /private/var/folders/1y/qqxfq_4d3bv6t32r2gml_0qh0000gn/T/pip-uninstall-noqb5ikh/_inductor/mkldnn_lowerings.py\n",
      "  Moving to /Users/filippo/miniconda3/envs/MAECap/lib/python3.11/site-packages/torch/_inductor/mock_cache.py\n",
      "   from /private/var/folders/1y/qqxfq_4d3bv6t32r2gml_0qh0000gn/T/pip-uninstall-noqb5ikh/_inductor/mock_cache.py\n",
      "  Moving to /Users/filippo/miniconda3/envs/MAECap/lib/python3.11/site-packages/torch/_inductor/ops_handler.py\n",
      "   from /private/var/folders/1y/qqxfq_4d3bv6t32r2gml_0qh0000gn/T/pip-uninstall-noqb5ikh/_inductor/ops_handler.py\n",
      "  Moving to /Users/filippo/miniconda3/envs/MAECap/lib/python3.11/site-packages/torch/_inductor/optimize_indexing.py\n",
      "   from /private/var/folders/1y/qqxfq_4d3bv6t32r2gml_0qh0000gn/T/pip-uninstall-noqb5ikh/_inductor/optimize_indexing.py\n",
      "  Moving to /Users/filippo/miniconda3/envs/MAECap/lib/python3.11/site-packages/torch/_inductor/output_code.py\n",
      "   from /private/var/folders/1y/qqxfq_4d3bv6t32r2gml_0qh0000gn/T/pip-uninstall-noqb5ikh/_inductor/output_code.py\n",
      "  Moving to /Users/filippo/miniconda3/envs/MAECap/lib/python3.11/site-packages/torch/_inductor/package/\n",
      "   from /Users/filippo/miniconda3/envs/MAECap/lib/python3.11/site-packages/torch/_inductor/~ackage\n",
      "  Moving to /Users/filippo/miniconda3/envs/MAECap/lib/python3.11/site-packages/torch/_inductor/pattern_matcher.py\n",
      "   from /private/var/folders/1y/qqxfq_4d3bv6t32r2gml_0qh0000gn/T/pip-uninstall-noqb5ikh/_inductor/pattern_matcher.py\n",
      "  Moving to /Users/filippo/miniconda3/envs/MAECap/lib/python3.11/site-packages/torch/_inductor/quantized_lowerings.py\n",
      "   from /private/var/folders/1y/qqxfq_4d3bv6t32r2gml_0qh0000gn/T/pip-uninstall-noqb5ikh/_inductor/quantized_lowerings.py\n",
      "  Moving to /Users/filippo/miniconda3/envs/MAECap/lib/python3.11/site-packages/torch/_inductor/remote_cache.py\n",
      "   from /private/var/folders/1y/qqxfq_4d3bv6t32r2gml_0qh0000gn/T/pip-uninstall-noqb5ikh/_inductor/remote_cache.py\n",
      "  Moving to /Users/filippo/miniconda3/envs/MAECap/lib/python3.11/site-packages/torch/_inductor/runtime/\n",
      "   from /Users/filippo/miniconda3/envs/MAECap/lib/python3.11/site-packages/torch/_inductor/~untime\n",
      "  Moving to /Users/filippo/miniconda3/envs/MAECap/lib/python3.11/site-packages/torch/_inductor/scheduler.py\n",
      "   from /private/var/folders/1y/qqxfq_4d3bv6t32r2gml_0qh0000gn/T/pip-uninstall-noqb5ikh/_inductor/scheduler.py\n",
      "  Moving to /Users/filippo/miniconda3/envs/MAECap/lib/python3.11/site-packages/torch/_inductor/script.ld\n",
      "   from /private/var/folders/1y/qqxfq_4d3bv6t32r2gml_0qh0000gn/T/pip-uninstall-noqb5ikh/_inductor/script.ld\n",
      "  Moving to /Users/filippo/miniconda3/envs/MAECap/lib/python3.11/site-packages/torch/_inductor/select_algorithm.py\n",
      "   from /private/var/folders/1y/qqxfq_4d3bv6t32r2gml_0qh0000gn/T/pip-uninstall-noqb5ikh/_inductor/select_algorithm.py\n",
      "  Moving to /Users/filippo/miniconda3/envs/MAECap/lib/python3.11/site-packages/torch/_inductor/sizevars.py\n",
      "   from /private/var/folders/1y/qqxfq_4d3bv6t32r2gml_0qh0000gn/T/pip-uninstall-noqb5ikh/_inductor/sizevars.py\n",
      "  Moving to /Users/filippo/miniconda3/envs/MAECap/lib/python3.11/site-packages/torch/_inductor/subgraph_lowering.py\n",
      "   from /private/var/folders/1y/qqxfq_4d3bv6t32r2gml_0qh0000gn/T/pip-uninstall-noqb5ikh/_inductor/subgraph_lowering.py\n",
      "  Moving to /Users/filippo/miniconda3/envs/MAECap/lib/python3.11/site-packages/torch/_inductor/test_case.py\n",
      "   from /private/var/folders/1y/qqxfq_4d3bv6t32r2gml_0qh0000gn/T/pip-uninstall-noqb5ikh/_inductor/test_case.py\n",
      "  Moving to /Users/filippo/miniconda3/envs/MAECap/lib/python3.11/site-packages/torch/_inductor/test_operators.py\n",
      "   from /private/var/folders/1y/qqxfq_4d3bv6t32r2gml_0qh0000gn/T/pip-uninstall-noqb5ikh/_inductor/test_operators.py\n",
      "  Moving to /Users/filippo/miniconda3/envs/MAECap/lib/python3.11/site-packages/torch/_inductor/triton_bundler.py\n",
      "   from /private/var/folders/1y/qqxfq_4d3bv6t32r2gml_0qh0000gn/T/pip-uninstall-noqb5ikh/_inductor/triton_bundler.py\n",
      "  Moving to /Users/filippo/miniconda3/envs/MAECap/lib/python3.11/site-packages/torch/_inductor/utils.py\n",
      "   from /private/var/folders/1y/qqxfq_4d3bv6t32r2gml_0qh0000gn/T/pip-uninstall-noqb5ikh/_inductor/utils.py\n",
      "  Moving to /Users/filippo/miniconda3/envs/MAECap/lib/python3.11/site-packages/torch/_inductor/virtualized.py\n",
      "   from /private/var/folders/1y/qqxfq_4d3bv6t32r2gml_0qh0000gn/T/pip-uninstall-noqb5ikh/_inductor/virtualized.py\n",
      "  Moving to /Users/filippo/miniconda3/envs/MAECap/lib/python3.11/site-packages/torch/_inductor/wrapper_benchmark.py\n",
      "   from /private/var/folders/1y/qqxfq_4d3bv6t32r2gml_0qh0000gn/T/pip-uninstall-noqb5ikh/_inductor/wrapper_benchmark.py\n",
      "  Moving to /Users/filippo/miniconda3/envs/MAECap/lib/python3.11/site-packages/torch/_jit_internal.py\n",
      "   from /private/var/folders/1y/qqxfq_4d3bv6t32r2gml_0qh0000gn/T/pip-uninstall-noqb5ikh/_jit_internal.py\n",
      "  Moving to /Users/filippo/miniconda3/envs/MAECap/lib/python3.11/site-packages/torch/_lazy/\n",
      "   from /Users/filippo/miniconda3/envs/MAECap/lib/python3.11/site-packages/torch/~lazy\n",
      "  Moving to /Users/filippo/miniconda3/envs/MAECap/lib/python3.11/site-packages/torch/_library/\n",
      "   from /Users/filippo/miniconda3/envs/MAECap/lib/python3.11/site-packages/torch/~library\n",
      "  Moving to /Users/filippo/miniconda3/envs/MAECap/lib/python3.11/site-packages/torch/_linalg_utils.py\n",
      "   from /private/var/folders/1y/qqxfq_4d3bv6t32r2gml_0qh0000gn/T/pip-uninstall-noqb5ikh/_linalg_utils.py\n",
      "  Moving to /Users/filippo/miniconda3/envs/MAECap/lib/python3.11/site-packages/torch/_lobpcg.py\n",
      "   from /private/var/folders/1y/qqxfq_4d3bv6t32r2gml_0qh0000gn/T/pip-uninstall-noqb5ikh/_lobpcg.py\n",
      "  Moving to /Users/filippo/miniconda3/envs/MAECap/lib/python3.11/site-packages/torch/_logging/\n",
      "   from /Users/filippo/miniconda3/envs/MAECap/lib/python3.11/site-packages/torch/~logging\n",
      "  Moving to /Users/filippo/miniconda3/envs/MAECap/lib/python3.11/site-packages/torch/_lowrank.py\n",
      "   from /private/var/folders/1y/qqxfq_4d3bv6t32r2gml_0qh0000gn/T/pip-uninstall-noqb5ikh/_lowrank.py\n",
      "  Moving to /Users/filippo/miniconda3/envs/MAECap/lib/python3.11/site-packages/torch/_meta_registrations.py\n",
      "   from /private/var/folders/1y/qqxfq_4d3bv6t32r2gml_0qh0000gn/T/pip-uninstall-noqb5ikh/_meta_registrations.py\n",
      "  Moving to /Users/filippo/miniconda3/envs/MAECap/lib/python3.11/site-packages/torch/_namedtensor_internals.py\n",
      "   from /private/var/folders/1y/qqxfq_4d3bv6t32r2gml_0qh0000gn/T/pip-uninstall-noqb5ikh/_namedtensor_internals.py\n",
      "  Moving to /Users/filippo/miniconda3/envs/MAECap/lib/python3.11/site-packages/torch/_numpy/\n",
      "   from /Users/filippo/miniconda3/envs/MAECap/lib/python3.11/site-packages/torch/~numpy\n",
      "  Moving to /Users/filippo/miniconda3/envs/MAECap/lib/python3.11/site-packages/torch/_ops.py\n",
      "   from /private/var/folders/1y/qqxfq_4d3bv6t32r2gml_0qh0000gn/T/pip-uninstall-noqb5ikh/_ops.py\n",
      "  Moving to /Users/filippo/miniconda3/envs/MAECap/lib/python3.11/site-packages/torch/_prims/\n",
      "   from /Users/filippo/miniconda3/envs/MAECap/lib/python3.11/site-packages/torch/~prims\n",
      "  Moving to /Users/filippo/miniconda3/envs/MAECap/lib/python3.11/site-packages/torch/_prims_common/\n",
      "   from /Users/filippo/miniconda3/envs/MAECap/lib/python3.11/site-packages/torch/~prims_common\n",
      "  Moving to /Users/filippo/miniconda3/envs/MAECap/lib/python3.11/site-packages/torch/_python_dispatcher.py\n",
      "   from /private/var/folders/1y/qqxfq_4d3bv6t32r2gml_0qh0000gn/T/pip-uninstall-noqb5ikh/_python_dispatcher.py\n",
      "  Moving to /Users/filippo/miniconda3/envs/MAECap/lib/python3.11/site-packages/torch/_refs/\n",
      "   from /Users/filippo/miniconda3/envs/MAECap/lib/python3.11/site-packages/torch/~refs\n",
      "  Moving to /Users/filippo/miniconda3/envs/MAECap/lib/python3.11/site-packages/torch/_size_docs.py\n",
      "   from /private/var/folders/1y/qqxfq_4d3bv6t32r2gml_0qh0000gn/T/pip-uninstall-noqb5ikh/_size_docs.py\n",
      "  Moving to /Users/filippo/miniconda3/envs/MAECap/lib/python3.11/site-packages/torch/_sources.py\n",
      "   from /private/var/folders/1y/qqxfq_4d3bv6t32r2gml_0qh0000gn/T/pip-uninstall-noqb5ikh/_sources.py\n",
      "  Moving to /Users/filippo/miniconda3/envs/MAECap/lib/python3.11/site-packages/torch/_storage_docs.py\n",
      "   from /private/var/folders/1y/qqxfq_4d3bv6t32r2gml_0qh0000gn/T/pip-uninstall-noqb5ikh/_storage_docs.py\n",
      "  Moving to /Users/filippo/miniconda3/envs/MAECap/lib/python3.11/site-packages/torch/_streambase.py\n",
      "   from /private/var/folders/1y/qqxfq_4d3bv6t32r2gml_0qh0000gn/T/pip-uninstall-noqb5ikh/_streambase.py\n",
      "  Moving to /Users/filippo/miniconda3/envs/MAECap/lib/python3.11/site-packages/torch/_strobelight/\n",
      "   from /Users/filippo/miniconda3/envs/MAECap/lib/python3.11/site-packages/torch/~strobelight\n",
      "  Moving to /Users/filippo/miniconda3/envs/MAECap/lib/python3.11/site-packages/torch/_subclasses/\n",
      "   from /Users/filippo/miniconda3/envs/MAECap/lib/python3.11/site-packages/torch/~subclasses\n",
      "  Moving to /Users/filippo/miniconda3/envs/MAECap/lib/python3.11/site-packages/torch/_tensor.py\n",
      "   from /private/var/folders/1y/qqxfq_4d3bv6t32r2gml_0qh0000gn/T/pip-uninstall-noqb5ikh/_tensor.py\n",
      "  Moving to /Users/filippo/miniconda3/envs/MAECap/lib/python3.11/site-packages/torch/_tensor_docs.py\n",
      "   from /private/var/folders/1y/qqxfq_4d3bv6t32r2gml_0qh0000gn/T/pip-uninstall-noqb5ikh/_tensor_docs.py\n",
      "  Moving to /Users/filippo/miniconda3/envs/MAECap/lib/python3.11/site-packages/torch/_tensor_str.py\n",
      "   from /private/var/folders/1y/qqxfq_4d3bv6t32r2gml_0qh0000gn/T/pip-uninstall-noqb5ikh/_tensor_str.py\n",
      "  Moving to /Users/filippo/miniconda3/envs/MAECap/lib/python3.11/site-packages/torch/_thread_safe_fork.py\n",
      "   from /private/var/folders/1y/qqxfq_4d3bv6t32r2gml_0qh0000gn/T/pip-uninstall-noqb5ikh/_thread_safe_fork.py\n",
      "  Moving to /Users/filippo/miniconda3/envs/MAECap/lib/python3.11/site-packages/torch/_torch_docs.py\n",
      "   from /private/var/folders/1y/qqxfq_4d3bv6t32r2gml_0qh0000gn/T/pip-uninstall-noqb5ikh/_torch_docs.py\n",
      "  Moving to /Users/filippo/miniconda3/envs/MAECap/lib/python3.11/site-packages/torch/_utils.py\n",
      "   from /private/var/folders/1y/qqxfq_4d3bv6t32r2gml_0qh0000gn/T/pip-uninstall-noqb5ikh/_utils.py\n",
      "  Moving to /Users/filippo/miniconda3/envs/MAECap/lib/python3.11/site-packages/torch/_utils_internal.py\n",
      "   from /private/var/folders/1y/qqxfq_4d3bv6t32r2gml_0qh0000gn/T/pip-uninstall-noqb5ikh/_utils_internal.py\n",
      "  Moving to /Users/filippo/miniconda3/envs/MAECap/lib/python3.11/site-packages/torch/_vendor/\n",
      "   from /Users/filippo/miniconda3/envs/MAECap/lib/python3.11/site-packages/torch/~vendor\n",
      "  Moving to /Users/filippo/miniconda3/envs/MAECap/lib/python3.11/site-packages/torch/_vmap_internals.py\n",
      "   from /private/var/folders/1y/qqxfq_4d3bv6t32r2gml_0qh0000gn/T/pip-uninstall-noqb5ikh/_vmap_internals.py\n",
      "  Moving to /Users/filippo/miniconda3/envs/MAECap/lib/python3.11/site-packages/torch/_weights_only_unpickler.py\n",
      "   from /private/var/folders/1y/qqxfq_4d3bv6t32r2gml_0qh0000gn/T/pip-uninstall-noqb5ikh/_weights_only_unpickler.py\n",
      "  Moving to /Users/filippo/miniconda3/envs/MAECap/lib/python3.11/site-packages/torch/accelerator/\n",
      "   from /Users/filippo/miniconda3/envs/MAECap/lib/python3.11/site-packages/torch/~ccelerator\n",
      "  Moving to /Users/filippo/miniconda3/envs/MAECap/lib/python3.11/site-packages/torch/amp/\n",
      "   from /Users/filippo/miniconda3/envs/MAECap/lib/python3.11/site-packages/torch/~mp\n",
      "  Moving to /Users/filippo/miniconda3/envs/MAECap/lib/python3.11/site-packages/torch/ao/\n",
      "   from /Users/filippo/miniconda3/envs/MAECap/lib/python3.11/site-packages/torch/~o\n",
      "  Moving to /Users/filippo/miniconda3/envs/MAECap/lib/python3.11/site-packages/torch/autograd/\n",
      "   from /Users/filippo/miniconda3/envs/MAECap/lib/python3.11/site-packages/torch/~utograd\n",
      "  Moving to /Users/filippo/miniconda3/envs/MAECap/lib/python3.11/site-packages/torch/backends/\n",
      "   from /Users/filippo/miniconda3/envs/MAECap/lib/python3.11/site-packages/torch/~ackends\n",
      "  Moving to /Users/filippo/miniconda3/envs/MAECap/lib/python3.11/site-packages/torch/bin/torch_shm_manager\n",
      "   from /private/var/folders/1y/qqxfq_4d3bv6t32r2gml_0qh0000gn/T/pip-uninstall-noqb5ikh/bin/torch_shm_manager\n",
      "  Moving to /Users/filippo/miniconda3/envs/MAECap/lib/python3.11/site-packages/torch/compiler/\n",
      "   from /Users/filippo/miniconda3/envs/MAECap/lib/python3.11/site-packages/torch/~ompiler\n",
      "  Moving to /Users/filippo/miniconda3/envs/MAECap/lib/python3.11/site-packages/torch/contrib/\n",
      "   from /Users/filippo/miniconda3/envs/MAECap/lib/python3.11/site-packages/torch/~ontrib\n",
      "  Moving to /Users/filippo/miniconda3/envs/MAECap/lib/python3.11/site-packages/torch/cpu/\n",
      "   from /Users/filippo/miniconda3/envs/MAECap/lib/python3.11/site-packages/torch/~pu\n",
      "  Moving to /Users/filippo/miniconda3/envs/MAECap/lib/python3.11/site-packages/torch/cuda/\n",
      "   from /Users/filippo/miniconda3/envs/MAECap/lib/python3.11/site-packages/torch/~uda\n",
      "  Moving to /Users/filippo/miniconda3/envs/MAECap/lib/python3.11/site-packages/torch/distributed/\n",
      "   from /Users/filippo/miniconda3/envs/MAECap/lib/python3.11/site-packages/torch/~istributed\n",
      "  Moving to /Users/filippo/miniconda3/envs/MAECap/lib/python3.11/site-packages/torch/distributions/\n",
      "   from /Users/filippo/miniconda3/envs/MAECap/lib/python3.11/site-packages/torch/~istributions\n",
      "  Moving to /Users/filippo/miniconda3/envs/MAECap/lib/python3.11/site-packages/torch/export/\n",
      "   from /Users/filippo/miniconda3/envs/MAECap/lib/python3.11/site-packages/torch/~xport\n",
      "  Moving to /Users/filippo/miniconda3/envs/MAECap/lib/python3.11/site-packages/torch/fft/\n",
      "   from /Users/filippo/miniconda3/envs/MAECap/lib/python3.11/site-packages/torch/~ft\n",
      "  Moving to /Users/filippo/miniconda3/envs/MAECap/lib/python3.11/site-packages/torch/func/\n",
      "   from /Users/filippo/miniconda3/envs/MAECap/lib/python3.11/site-packages/torch/~unc\n",
      "  Moving to /Users/filippo/miniconda3/envs/MAECap/lib/python3.11/site-packages/torch/functional.py\n",
      "   from /private/var/folders/1y/qqxfq_4d3bv6t32r2gml_0qh0000gn/T/pip-uninstall-noqb5ikh/functional.py\n",
      "  Moving to /Users/filippo/miniconda3/envs/MAECap/lib/python3.11/site-packages/torch/futures/\n",
      "   from /Users/filippo/miniconda3/envs/MAECap/lib/python3.11/site-packages/torch/~utures\n",
      "  Moving to /Users/filippo/miniconda3/envs/MAECap/lib/python3.11/site-packages/torch/fx/\n",
      "   from /Users/filippo/miniconda3/envs/MAECap/lib/python3.11/site-packages/torch/~x\n",
      "  Moving to /Users/filippo/miniconda3/envs/MAECap/lib/python3.11/site-packages/torch/hub.py\n",
      "   from /private/var/folders/1y/qqxfq_4d3bv6t32r2gml_0qh0000gn/T/pip-uninstall-noqb5ikh/hub.py\n",
      "  Moving to /Users/filippo/miniconda3/envs/MAECap/lib/python3.11/site-packages/torch/include/clog.h\n",
      "   from /private/var/folders/1y/qqxfq_4d3bv6t32r2gml_0qh0000gn/T/pip-uninstall-noqb5ikh/include/clog.h\n",
      "  Moving to /Users/filippo/miniconda3/envs/MAECap/lib/python3.11/site-packages/torch/include/cpuinfo.h\n",
      "   from /private/var/folders/1y/qqxfq_4d3bv6t32r2gml_0qh0000gn/T/pip-uninstall-noqb5ikh/include/cpuinfo.h\n",
      "  Moving to /Users/filippo/miniconda3/envs/MAECap/lib/python3.11/site-packages/torch/include/experiments-config.h\n",
      "   from /private/var/folders/1y/qqxfq_4d3bv6t32r2gml_0qh0000gn/T/pip-uninstall-noqb5ikh/include/experiments-config.h\n",
      "  Moving to /Users/filippo/miniconda3/envs/MAECap/lib/python3.11/site-packages/torch/include/fp16.h\n",
      "   from /private/var/folders/1y/qqxfq_4d3bv6t32r2gml_0qh0000gn/T/pip-uninstall-noqb5ikh/include/fp16.h\n",
      "  Moving to /Users/filippo/miniconda3/envs/MAECap/lib/python3.11/site-packages/torch/include/fxdiv.h\n",
      "   from /private/var/folders/1y/qqxfq_4d3bv6t32r2gml_0qh0000gn/T/pip-uninstall-noqb5ikh/include/fxdiv.h\n",
      "  Moving to /Users/filippo/miniconda3/envs/MAECap/lib/python3.11/site-packages/torch/include/kineto/\n",
      "   from /Users/filippo/miniconda3/envs/MAECap/lib/python3.11/site-packages/torch/include/~ineto\n",
      "  Moving to /Users/filippo/miniconda3/envs/MAECap/lib/python3.11/site-packages/torch/include/libshm.h\n",
      "   from /private/var/folders/1y/qqxfq_4d3bv6t32r2gml_0qh0000gn/T/pip-uninstall-noqb5ikh/include/libshm.h\n",
      "  Moving to /Users/filippo/miniconda3/envs/MAECap/lib/python3.11/site-packages/torch/include/nnpack.h\n",
      "   from /private/var/folders/1y/qqxfq_4d3bv6t32r2gml_0qh0000gn/T/pip-uninstall-noqb5ikh/include/nnpack.h\n",
      "  Moving to /Users/filippo/miniconda3/envs/MAECap/lib/python3.11/site-packages/torch/include/psimd.h\n",
      "   from /private/var/folders/1y/qqxfq_4d3bv6t32r2gml_0qh0000gn/T/pip-uninstall-noqb5ikh/include/psimd.h\n",
      "  Moving to /Users/filippo/miniconda3/envs/MAECap/lib/python3.11/site-packages/torch/include/pthreadpool.h\n",
      "   from /private/var/folders/1y/qqxfq_4d3bv6t32r2gml_0qh0000gn/T/pip-uninstall-noqb5ikh/include/pthreadpool.h\n",
      "  Moving to /Users/filippo/miniconda3/envs/MAECap/lib/python3.11/site-packages/torch/include/qnnpack_func.h\n",
      "   from /private/var/folders/1y/qqxfq_4d3bv6t32r2gml_0qh0000gn/T/pip-uninstall-noqb5ikh/include/qnnpack_func.h\n",
      "  Moving to /Users/filippo/miniconda3/envs/MAECap/lib/python3.11/site-packages/torch/include/xnnpack.h\n",
      "   from /private/var/folders/1y/qqxfq_4d3bv6t32r2gml_0qh0000gn/T/pip-uninstall-noqb5ikh/include/xnnpack.h\n",
      "  Moving to /Users/filippo/miniconda3/envs/MAECap/lib/python3.11/site-packages/torch/jit/\n",
      "   from /Users/filippo/miniconda3/envs/MAECap/lib/python3.11/site-packages/torch/~it\n",
      "  Moving to /Users/filippo/miniconda3/envs/MAECap/lib/python3.11/site-packages/torch/lib/\n",
      "   from /Users/filippo/miniconda3/envs/MAECap/lib/python3.11/site-packages/torch/~ib\n",
      "  Moving to /Users/filippo/miniconda3/envs/MAECap/lib/python3.11/site-packages/torch/library.py\n",
      "   from /private/var/folders/1y/qqxfq_4d3bv6t32r2gml_0qh0000gn/T/pip-uninstall-noqb5ikh/library.py\n",
      "  Moving to /Users/filippo/miniconda3/envs/MAECap/lib/python3.11/site-packages/torch/linalg/\n",
      "   from /Users/filippo/miniconda3/envs/MAECap/lib/python3.11/site-packages/torch/~inalg\n",
      "  Moving to /Users/filippo/miniconda3/envs/MAECap/lib/python3.11/site-packages/torch/masked/\n",
      "   from /Users/filippo/miniconda3/envs/MAECap/lib/python3.11/site-packages/torch/~asked\n",
      "  Moving to /Users/filippo/miniconda3/envs/MAECap/lib/python3.11/site-packages/torch/monitor/\n",
      "   from /Users/filippo/miniconda3/envs/MAECap/lib/python3.11/site-packages/torch/~onitor\n",
      "  Moving to /Users/filippo/miniconda3/envs/MAECap/lib/python3.11/site-packages/torch/mps/\n",
      "   from /Users/filippo/miniconda3/envs/MAECap/lib/python3.11/site-packages/torch/~ps\n",
      "  Moving to /Users/filippo/miniconda3/envs/MAECap/lib/python3.11/site-packages/torch/mtia/\n",
      "   from /Users/filippo/miniconda3/envs/MAECap/lib/python3.11/site-packages/torch/~tia\n",
      "  Moving to /Users/filippo/miniconda3/envs/MAECap/lib/python3.11/site-packages/torch/multiprocessing/\n",
      "   from /Users/filippo/miniconda3/envs/MAECap/lib/python3.11/site-packages/torch/~ultiprocessing\n",
      "  Moving to /Users/filippo/miniconda3/envs/MAECap/lib/python3.11/site-packages/torch/nested/\n",
      "   from /Users/filippo/miniconda3/envs/MAECap/lib/python3.11/site-packages/torch/~ested\n",
      "  Moving to /Users/filippo/miniconda3/envs/MAECap/lib/python3.11/site-packages/torch/nn/\n",
      "   from /Users/filippo/miniconda3/envs/MAECap/lib/python3.11/site-packages/torch/~n\n",
      "  Moving to /Users/filippo/miniconda3/envs/MAECap/lib/python3.11/site-packages/torch/onnx/__init__.py\n",
      "   from /private/var/folders/1y/qqxfq_4d3bv6t32r2gml_0qh0000gn/T/pip-uninstall-noqb5ikh/onnx/__init__.py\n",
      "  Moving to /Users/filippo/miniconda3/envs/MAECap/lib/python3.11/site-packages/torch/onnx/__pycache__/__init__.cpython-311.pyc\n",
      "   from /private/var/folders/1y/qqxfq_4d3bv6t32r2gml_0qh0000gn/T/pip-uninstall-noqb5ikh/onnx/__pycache__/__init__.cpython-311.pyc\n",
      "  Moving to /Users/filippo/miniconda3/envs/MAECap/lib/python3.11/site-packages/torch/onnx/__pycache__/_constants.cpython-311.pyc\n",
      "   from /private/var/folders/1y/qqxfq_4d3bv6t32r2gml_0qh0000gn/T/pip-uninstall-noqb5ikh/onnx/__pycache__/_constants.cpython-311.pyc\n",
      "  Moving to /Users/filippo/miniconda3/envs/MAECap/lib/python3.11/site-packages/torch/onnx/__pycache__/_experimental.cpython-311.pyc\n",
      "   from /private/var/folders/1y/qqxfq_4d3bv6t32r2gml_0qh0000gn/T/pip-uninstall-noqb5ikh/onnx/__pycache__/_experimental.cpython-311.pyc\n",
      "  Moving to /Users/filippo/miniconda3/envs/MAECap/lib/python3.11/site-packages/torch/onnx/__pycache__/_flags.cpython-311.pyc\n",
      "   from /private/var/folders/1y/qqxfq_4d3bv6t32r2gml_0qh0000gn/T/pip-uninstall-noqb5ikh/onnx/__pycache__/_flags.cpython-311.pyc\n",
      "  Moving to /Users/filippo/miniconda3/envs/MAECap/lib/python3.11/site-packages/torch/onnx/__pycache__/_globals.cpython-311.pyc\n",
      "   from /private/var/folders/1y/qqxfq_4d3bv6t32r2gml_0qh0000gn/T/pip-uninstall-noqb5ikh/onnx/__pycache__/_globals.cpython-311.pyc\n",
      "  Moving to /Users/filippo/miniconda3/envs/MAECap/lib/python3.11/site-packages/torch/onnx/__pycache__/_onnx_supported_ops.cpython-311.pyc\n",
      "   from /private/var/folders/1y/qqxfq_4d3bv6t32r2gml_0qh0000gn/T/pip-uninstall-noqb5ikh/onnx/__pycache__/_onnx_supported_ops.cpython-311.pyc\n",
      "  Moving to /Users/filippo/miniconda3/envs/MAECap/lib/python3.11/site-packages/torch/onnx/__pycache__/_type_utils.cpython-311.pyc\n",
      "   from /private/var/folders/1y/qqxfq_4d3bv6t32r2gml_0qh0000gn/T/pip-uninstall-noqb5ikh/onnx/__pycache__/_type_utils.cpython-311.pyc\n",
      "  Moving to /Users/filippo/miniconda3/envs/MAECap/lib/python3.11/site-packages/torch/onnx/__pycache__/errors.cpython-311.pyc\n",
      "   from /private/var/folders/1y/qqxfq_4d3bv6t32r2gml_0qh0000gn/T/pip-uninstall-noqb5ikh/onnx/__pycache__/errors.cpython-311.pyc\n",
      "  Moving to /Users/filippo/miniconda3/envs/MAECap/lib/python3.11/site-packages/torch/onnx/__pycache__/operators.cpython-311.pyc\n",
      "   from /private/var/folders/1y/qqxfq_4d3bv6t32r2gml_0qh0000gn/T/pip-uninstall-noqb5ikh/onnx/__pycache__/operators.cpython-311.pyc\n",
      "  Moving to /Users/filippo/miniconda3/envs/MAECap/lib/python3.11/site-packages/torch/onnx/__pycache__/symbolic_caffe2.cpython-311.pyc\n",
      "   from /private/var/folders/1y/qqxfq_4d3bv6t32r2gml_0qh0000gn/T/pip-uninstall-noqb5ikh/onnx/__pycache__/symbolic_caffe2.cpython-311.pyc\n",
      "  Moving to /Users/filippo/miniconda3/envs/MAECap/lib/python3.11/site-packages/torch/onnx/__pycache__/symbolic_helper.cpython-311.pyc\n",
      "   from /private/var/folders/1y/qqxfq_4d3bv6t32r2gml_0qh0000gn/T/pip-uninstall-noqb5ikh/onnx/__pycache__/symbolic_helper.cpython-311.pyc\n",
      "  Moving to /Users/filippo/miniconda3/envs/MAECap/lib/python3.11/site-packages/torch/onnx/__pycache__/symbolic_opset10.cpython-311.pyc\n",
      "   from /private/var/folders/1y/qqxfq_4d3bv6t32r2gml_0qh0000gn/T/pip-uninstall-noqb5ikh/onnx/__pycache__/symbolic_opset10.cpython-311.pyc\n",
      "  Moving to /Users/filippo/miniconda3/envs/MAECap/lib/python3.11/site-packages/torch/onnx/__pycache__/symbolic_opset11.cpython-311.pyc\n",
      "   from /private/var/folders/1y/qqxfq_4d3bv6t32r2gml_0qh0000gn/T/pip-uninstall-noqb5ikh/onnx/__pycache__/symbolic_opset11.cpython-311.pyc\n",
      "  Moving to /Users/filippo/miniconda3/envs/MAECap/lib/python3.11/site-packages/torch/onnx/__pycache__/symbolic_opset12.cpython-311.pyc\n",
      "   from /private/var/folders/1y/qqxfq_4d3bv6t32r2gml_0qh0000gn/T/pip-uninstall-noqb5ikh/onnx/__pycache__/symbolic_opset12.cpython-311.pyc\n",
      "  Moving to /Users/filippo/miniconda3/envs/MAECap/lib/python3.11/site-packages/torch/onnx/__pycache__/symbolic_opset13.cpython-311.pyc\n",
      "   from /private/var/folders/1y/qqxfq_4d3bv6t32r2gml_0qh0000gn/T/pip-uninstall-noqb5ikh/onnx/__pycache__/symbolic_opset13.cpython-311.pyc\n",
      "  Moving to /Users/filippo/miniconda3/envs/MAECap/lib/python3.11/site-packages/torch/onnx/__pycache__/symbolic_opset14.cpython-311.pyc\n",
      "   from /private/var/folders/1y/qqxfq_4d3bv6t32r2gml_0qh0000gn/T/pip-uninstall-noqb5ikh/onnx/__pycache__/symbolic_opset14.cpython-311.pyc\n",
      "  Moving to /Users/filippo/miniconda3/envs/MAECap/lib/python3.11/site-packages/torch/onnx/__pycache__/symbolic_opset15.cpython-311.pyc\n",
      "   from /private/var/folders/1y/qqxfq_4d3bv6t32r2gml_0qh0000gn/T/pip-uninstall-noqb5ikh/onnx/__pycache__/symbolic_opset15.cpython-311.pyc\n",
      "  Moving to /Users/filippo/miniconda3/envs/MAECap/lib/python3.11/site-packages/torch/onnx/__pycache__/symbolic_opset16.cpython-311.pyc\n",
      "   from /private/var/folders/1y/qqxfq_4d3bv6t32r2gml_0qh0000gn/T/pip-uninstall-noqb5ikh/onnx/__pycache__/symbolic_opset16.cpython-311.pyc\n",
      "  Moving to /Users/filippo/miniconda3/envs/MAECap/lib/python3.11/site-packages/torch/onnx/__pycache__/symbolic_opset17.cpython-311.pyc\n",
      "   from /private/var/folders/1y/qqxfq_4d3bv6t32r2gml_0qh0000gn/T/pip-uninstall-noqb5ikh/onnx/__pycache__/symbolic_opset17.cpython-311.pyc\n",
      "  Moving to /Users/filippo/miniconda3/envs/MAECap/lib/python3.11/site-packages/torch/onnx/__pycache__/symbolic_opset18.cpython-311.pyc\n",
      "   from /private/var/folders/1y/qqxfq_4d3bv6t32r2gml_0qh0000gn/T/pip-uninstall-noqb5ikh/onnx/__pycache__/symbolic_opset18.cpython-311.pyc\n",
      "  Moving to /Users/filippo/miniconda3/envs/MAECap/lib/python3.11/site-packages/torch/onnx/__pycache__/symbolic_opset19.cpython-311.pyc\n",
      "   from /private/var/folders/1y/qqxfq_4d3bv6t32r2gml_0qh0000gn/T/pip-uninstall-noqb5ikh/onnx/__pycache__/symbolic_opset19.cpython-311.pyc\n",
      "  Moving to /Users/filippo/miniconda3/envs/MAECap/lib/python3.11/site-packages/torch/onnx/__pycache__/symbolic_opset20.cpython-311.pyc\n",
      "   from /private/var/folders/1y/qqxfq_4d3bv6t32r2gml_0qh0000gn/T/pip-uninstall-noqb5ikh/onnx/__pycache__/symbolic_opset20.cpython-311.pyc\n",
      "  Moving to /Users/filippo/miniconda3/envs/MAECap/lib/python3.11/site-packages/torch/onnx/__pycache__/symbolic_opset7.cpython-311.pyc\n",
      "   from /private/var/folders/1y/qqxfq_4d3bv6t32r2gml_0qh0000gn/T/pip-uninstall-noqb5ikh/onnx/__pycache__/symbolic_opset7.cpython-311.pyc\n",
      "  Moving to /Users/filippo/miniconda3/envs/MAECap/lib/python3.11/site-packages/torch/onnx/__pycache__/symbolic_opset8.cpython-311.pyc\n",
      "   from /private/var/folders/1y/qqxfq_4d3bv6t32r2gml_0qh0000gn/T/pip-uninstall-noqb5ikh/onnx/__pycache__/symbolic_opset8.cpython-311.pyc\n",
      "  Moving to /Users/filippo/miniconda3/envs/MAECap/lib/python3.11/site-packages/torch/onnx/__pycache__/symbolic_opset9.cpython-311.pyc\n",
      "   from /private/var/folders/1y/qqxfq_4d3bv6t32r2gml_0qh0000gn/T/pip-uninstall-noqb5ikh/onnx/__pycache__/symbolic_opset9.cpython-311.pyc\n",
      "  Moving to /Users/filippo/miniconda3/envs/MAECap/lib/python3.11/site-packages/torch/onnx/__pycache__/utils.cpython-311.pyc\n",
      "   from /private/var/folders/1y/qqxfq_4d3bv6t32r2gml_0qh0000gn/T/pip-uninstall-noqb5ikh/onnx/__pycache__/utils.cpython-311.pyc\n",
      "  Moving to /Users/filippo/miniconda3/envs/MAECap/lib/python3.11/site-packages/torch/onnx/__pycache__/verification.cpython-311.pyc\n",
      "   from /private/var/folders/1y/qqxfq_4d3bv6t32r2gml_0qh0000gn/T/pip-uninstall-noqb5ikh/onnx/__pycache__/verification.cpython-311.pyc\n",
      "  Moving to /Users/filippo/miniconda3/envs/MAECap/lib/python3.11/site-packages/torch/onnx/_constants.py\n",
      "   from /private/var/folders/1y/qqxfq_4d3bv6t32r2gml_0qh0000gn/T/pip-uninstall-noqb5ikh/onnx/_constants.py\n",
      "  Moving to /Users/filippo/miniconda3/envs/MAECap/lib/python3.11/site-packages/torch/onnx/_experimental.py\n",
      "   from /private/var/folders/1y/qqxfq_4d3bv6t32r2gml_0qh0000gn/T/pip-uninstall-noqb5ikh/onnx/_experimental.py\n",
      "  Moving to /Users/filippo/miniconda3/envs/MAECap/lib/python3.11/site-packages/torch/onnx/_flags.py\n",
      "   from /private/var/folders/1y/qqxfq_4d3bv6t32r2gml_0qh0000gn/T/pip-uninstall-noqb5ikh/onnx/_flags.py\n",
      "  Moving to /Users/filippo/miniconda3/envs/MAECap/lib/python3.11/site-packages/torch/onnx/_globals.py\n",
      "   from /private/var/folders/1y/qqxfq_4d3bv6t32r2gml_0qh0000gn/T/pip-uninstall-noqb5ikh/onnx/_globals.py\n",
      "  Moving to /Users/filippo/miniconda3/envs/MAECap/lib/python3.11/site-packages/torch/onnx/_internal/\n",
      "   from /Users/filippo/miniconda3/envs/MAECap/lib/python3.11/site-packages/torch/onnx/~internal\n",
      "  Moving to /Users/filippo/miniconda3/envs/MAECap/lib/python3.11/site-packages/torch/onnx/_onnx_supported_ops.py\n",
      "   from /private/var/folders/1y/qqxfq_4d3bv6t32r2gml_0qh0000gn/T/pip-uninstall-noqb5ikh/onnx/_onnx_supported_ops.py\n",
      "  Moving to /Users/filippo/miniconda3/envs/MAECap/lib/python3.11/site-packages/torch/onnx/_type_utils.py\n",
      "   from /private/var/folders/1y/qqxfq_4d3bv6t32r2gml_0qh0000gn/T/pip-uninstall-noqb5ikh/onnx/_type_utils.py\n",
      "  Moving to /Users/filippo/miniconda3/envs/MAECap/lib/python3.11/site-packages/torch/onnx/errors.py\n",
      "   from /private/var/folders/1y/qqxfq_4d3bv6t32r2gml_0qh0000gn/T/pip-uninstall-noqb5ikh/onnx/errors.py\n",
      "  Moving to /Users/filippo/miniconda3/envs/MAECap/lib/python3.11/site-packages/torch/onnx/operators.py\n",
      "   from /private/var/folders/1y/qqxfq_4d3bv6t32r2gml_0qh0000gn/T/pip-uninstall-noqb5ikh/onnx/operators.py\n",
      "  Moving to /Users/filippo/miniconda3/envs/MAECap/lib/python3.11/site-packages/torch/onnx/symbolic_caffe2.py\n",
      "   from /private/var/folders/1y/qqxfq_4d3bv6t32r2gml_0qh0000gn/T/pip-uninstall-noqb5ikh/onnx/symbolic_caffe2.py\n",
      "  Moving to /Users/filippo/miniconda3/envs/MAECap/lib/python3.11/site-packages/torch/onnx/symbolic_helper.py\n",
      "   from /private/var/folders/1y/qqxfq_4d3bv6t32r2gml_0qh0000gn/T/pip-uninstall-noqb5ikh/onnx/symbolic_helper.py\n",
      "  Moving to /Users/filippo/miniconda3/envs/MAECap/lib/python3.11/site-packages/torch/onnx/symbolic_opset10.py\n",
      "   from /private/var/folders/1y/qqxfq_4d3bv6t32r2gml_0qh0000gn/T/pip-uninstall-noqb5ikh/onnx/symbolic_opset10.py\n",
      "  Moving to /Users/filippo/miniconda3/envs/MAECap/lib/python3.11/site-packages/torch/onnx/symbolic_opset11.py\n",
      "   from /private/var/folders/1y/qqxfq_4d3bv6t32r2gml_0qh0000gn/T/pip-uninstall-noqb5ikh/onnx/symbolic_opset11.py\n",
      "  Moving to /Users/filippo/miniconda3/envs/MAECap/lib/python3.11/site-packages/torch/onnx/symbolic_opset12.py\n",
      "   from /private/var/folders/1y/qqxfq_4d3bv6t32r2gml_0qh0000gn/T/pip-uninstall-noqb5ikh/onnx/symbolic_opset12.py\n",
      "  Moving to /Users/filippo/miniconda3/envs/MAECap/lib/python3.11/site-packages/torch/onnx/symbolic_opset13.py\n",
      "   from /private/var/folders/1y/qqxfq_4d3bv6t32r2gml_0qh0000gn/T/pip-uninstall-noqb5ikh/onnx/symbolic_opset13.py\n",
      "  Moving to /Users/filippo/miniconda3/envs/MAECap/lib/python3.11/site-packages/torch/onnx/symbolic_opset14.py\n",
      "   from /private/var/folders/1y/qqxfq_4d3bv6t32r2gml_0qh0000gn/T/pip-uninstall-noqb5ikh/onnx/symbolic_opset14.py\n",
      "  Moving to /Users/filippo/miniconda3/envs/MAECap/lib/python3.11/site-packages/torch/onnx/symbolic_opset15.py\n",
      "   from /private/var/folders/1y/qqxfq_4d3bv6t32r2gml_0qh0000gn/T/pip-uninstall-noqb5ikh/onnx/symbolic_opset15.py\n",
      "  Moving to /Users/filippo/miniconda3/envs/MAECap/lib/python3.11/site-packages/torch/onnx/symbolic_opset16.py\n",
      "   from /private/var/folders/1y/qqxfq_4d3bv6t32r2gml_0qh0000gn/T/pip-uninstall-noqb5ikh/onnx/symbolic_opset16.py\n",
      "  Moving to /Users/filippo/miniconda3/envs/MAECap/lib/python3.11/site-packages/torch/onnx/symbolic_opset17.py\n",
      "   from /private/var/folders/1y/qqxfq_4d3bv6t32r2gml_0qh0000gn/T/pip-uninstall-noqb5ikh/onnx/symbolic_opset17.py\n",
      "  Moving to /Users/filippo/miniconda3/envs/MAECap/lib/python3.11/site-packages/torch/onnx/symbolic_opset18.py\n",
      "   from /private/var/folders/1y/qqxfq_4d3bv6t32r2gml_0qh0000gn/T/pip-uninstall-noqb5ikh/onnx/symbolic_opset18.py\n",
      "  Moving to /Users/filippo/miniconda3/envs/MAECap/lib/python3.11/site-packages/torch/onnx/symbolic_opset19.py\n",
      "   from /private/var/folders/1y/qqxfq_4d3bv6t32r2gml_0qh0000gn/T/pip-uninstall-noqb5ikh/onnx/symbolic_opset19.py\n",
      "  Moving to /Users/filippo/miniconda3/envs/MAECap/lib/python3.11/site-packages/torch/onnx/symbolic_opset20.py\n",
      "   from /private/var/folders/1y/qqxfq_4d3bv6t32r2gml_0qh0000gn/T/pip-uninstall-noqb5ikh/onnx/symbolic_opset20.py\n",
      "  Moving to /Users/filippo/miniconda3/envs/MAECap/lib/python3.11/site-packages/torch/onnx/symbolic_opset7.py\n",
      "   from /private/var/folders/1y/qqxfq_4d3bv6t32r2gml_0qh0000gn/T/pip-uninstall-noqb5ikh/onnx/symbolic_opset7.py\n",
      "  Moving to /Users/filippo/miniconda3/envs/MAECap/lib/python3.11/site-packages/torch/onnx/symbolic_opset8.py\n",
      "   from /private/var/folders/1y/qqxfq_4d3bv6t32r2gml_0qh0000gn/T/pip-uninstall-noqb5ikh/onnx/symbolic_opset8.py\n",
      "  Moving to /Users/filippo/miniconda3/envs/MAECap/lib/python3.11/site-packages/torch/onnx/symbolic_opset9.py\n",
      "   from /private/var/folders/1y/qqxfq_4d3bv6t32r2gml_0qh0000gn/T/pip-uninstall-noqb5ikh/onnx/symbolic_opset9.py\n",
      "  Moving to /Users/filippo/miniconda3/envs/MAECap/lib/python3.11/site-packages/torch/onnx/utils.py\n",
      "   from /private/var/folders/1y/qqxfq_4d3bv6t32r2gml_0qh0000gn/T/pip-uninstall-noqb5ikh/onnx/utils.py\n",
      "  Moving to /Users/filippo/miniconda3/envs/MAECap/lib/python3.11/site-packages/torch/onnx/verification.py\n",
      "   from /private/var/folders/1y/qqxfq_4d3bv6t32r2gml_0qh0000gn/T/pip-uninstall-noqb5ikh/onnx/verification.py\n",
      "  Moving to /Users/filippo/miniconda3/envs/MAECap/lib/python3.11/site-packages/torch/optim/\n",
      "   from /Users/filippo/miniconda3/envs/MAECap/lib/python3.11/site-packages/torch/~ptim\n",
      "  Moving to /Users/filippo/miniconda3/envs/MAECap/lib/python3.11/site-packages/torch/overrides.py\n",
      "   from /private/var/folders/1y/qqxfq_4d3bv6t32r2gml_0qh0000gn/T/pip-uninstall-noqb5ikh/overrides.py\n",
      "  Moving to /Users/filippo/miniconda3/envs/MAECap/lib/python3.11/site-packages/torch/package/\n",
      "   from /Users/filippo/miniconda3/envs/MAECap/lib/python3.11/site-packages/torch/~ackage\n",
      "  Moving to /Users/filippo/miniconda3/envs/MAECap/lib/python3.11/site-packages/torch/profiler/\n",
      "   from /Users/filippo/miniconda3/envs/MAECap/lib/python3.11/site-packages/torch/~rofiler\n",
      "  Moving to /Users/filippo/miniconda3/envs/MAECap/lib/python3.11/site-packages/torch/py.typed\n",
      "   from /private/var/folders/1y/qqxfq_4d3bv6t32r2gml_0qh0000gn/T/pip-uninstall-noqb5ikh/py.typed\n",
      "  Moving to /Users/filippo/miniconda3/envs/MAECap/lib/python3.11/site-packages/torch/quantization/\n",
      "   from /Users/filippo/miniconda3/envs/MAECap/lib/python3.11/site-packages/torch/~uantization\n",
      "  Moving to /Users/filippo/miniconda3/envs/MAECap/lib/python3.11/site-packages/torch/quasirandom.py\n",
      "   from /private/var/folders/1y/qqxfq_4d3bv6t32r2gml_0qh0000gn/T/pip-uninstall-noqb5ikh/quasirandom.py\n",
      "  Moving to /Users/filippo/miniconda3/envs/MAECap/lib/python3.11/site-packages/torch/random.py\n",
      "   from /private/var/folders/1y/qqxfq_4d3bv6t32r2gml_0qh0000gn/T/pip-uninstall-noqb5ikh/random.py\n",
      "  Moving to /Users/filippo/miniconda3/envs/MAECap/lib/python3.11/site-packages/torch/return_types.py\n",
      "   from /private/var/folders/1y/qqxfq_4d3bv6t32r2gml_0qh0000gn/T/pip-uninstall-noqb5ikh/return_types.py\n",
      "  Moving to /Users/filippo/miniconda3/envs/MAECap/lib/python3.11/site-packages/torch/return_types.pyi\n",
      "   from /private/var/folders/1y/qqxfq_4d3bv6t32r2gml_0qh0000gn/T/pip-uninstall-noqb5ikh/return_types.pyi\n",
      "  Moving to /Users/filippo/miniconda3/envs/MAECap/lib/python3.11/site-packages/torch/serialization.py\n",
      "   from /private/var/folders/1y/qqxfq_4d3bv6t32r2gml_0qh0000gn/T/pip-uninstall-noqb5ikh/serialization.py\n",
      "  Moving to /Users/filippo/miniconda3/envs/MAECap/lib/python3.11/site-packages/torch/signal/\n",
      "   from /Users/filippo/miniconda3/envs/MAECap/lib/python3.11/site-packages/torch/~ignal\n",
      "  Moving to /Users/filippo/miniconda3/envs/MAECap/lib/python3.11/site-packages/torch/sparse/\n",
      "   from /Users/filippo/miniconda3/envs/MAECap/lib/python3.11/site-packages/torch/~parse\n",
      "  Moving to /Users/filippo/miniconda3/envs/MAECap/lib/python3.11/site-packages/torch/special/\n",
      "   from /Users/filippo/miniconda3/envs/MAECap/lib/python3.11/site-packages/torch/~pecial\n",
      "  Moving to /Users/filippo/miniconda3/envs/MAECap/lib/python3.11/site-packages/torch/storage.py\n",
      "   from /private/var/folders/1y/qqxfq_4d3bv6t32r2gml_0qh0000gn/T/pip-uninstall-noqb5ikh/storage.py\n",
      "  Moving to /Users/filippo/miniconda3/envs/MAECap/lib/python3.11/site-packages/torch/testing/\n",
      "   from /Users/filippo/miniconda3/envs/MAECap/lib/python3.11/site-packages/torch/~esting\n",
      "  Moving to /Users/filippo/miniconda3/envs/MAECap/lib/python3.11/site-packages/torch/torch_version.py\n",
      "   from /private/var/folders/1y/qqxfq_4d3bv6t32r2gml_0qh0000gn/T/pip-uninstall-noqb5ikh/torch_version.py\n",
      "  Moving to /Users/filippo/miniconda3/envs/MAECap/lib/python3.11/site-packages/torch/types.py\n",
      "   from /private/var/folders/1y/qqxfq_4d3bv6t32r2gml_0qh0000gn/T/pip-uninstall-noqb5ikh/types.py\n",
      "  Moving to /Users/filippo/miniconda3/envs/MAECap/lib/python3.11/site-packages/torch/utils/\n",
      "   from /Users/filippo/miniconda3/envs/MAECap/lib/python3.11/site-packages/torch/~tils\n",
      "  Moving to /Users/filippo/miniconda3/envs/MAECap/lib/python3.11/site-packages/torch/version.py\n",
      "   from /private/var/folders/1y/qqxfq_4d3bv6t32r2gml_0qh0000gn/T/pip-uninstall-noqb5ikh/version.py\n",
      "  Moving to /Users/filippo/miniconda3/envs/MAECap/lib/python3.11/site-packages/torch/xpu/\n",
      "   from /Users/filippo/miniconda3/envs/MAECap/lib/python3.11/site-packages/torch/~-u\n",
      "  Moving to /Users/filippo/miniconda3/envs/MAECap/lib/python3.11/site-packages/torchgen/\n",
      "   from /Users/filippo/miniconda3/envs/MAECap/lib/python3.11/site-packages/~orchgen\n",
      "  Moving to /Users/filippo/miniconda3/envs/MAECap/share/cmake/ATen/\n",
      "   from /Users/filippo/miniconda3/envs/MAECap/share/cmake/~Ten\n",
      "  Moving to /Users/filippo/miniconda3/envs/MAECap/share/cmake/Caffe2/\n",
      "   from /Users/filippo/miniconda3/envs/MAECap/share/cmake/~affe2\n",
      "  Moving to /Users/filippo/miniconda3/envs/MAECap/share/cmake/Tensorpipe/\n",
      "   from /Users/filippo/miniconda3/envs/MAECap/share/cmake/~ensorpipe\n",
      "  Moving to /Users/filippo/miniconda3/envs/MAECap/share/cmake/Torch/\n",
      "   from /Users/filippo/miniconda3/envs/MAECap/share/cmake/~orch\n",
      "\u001b[31mERROR: Could not install packages due to an OSError: [Errno 2] No such file or directory: '/Users/filippo/miniconda3/envs/MAECap/lib/python3.11/site-packages/torch/include/ATen/ATen.h'\n",
      "\u001b[0m\u001b[31m\n",
      "\u001b[0mNote: you may need to restart the kernel to use updated packages.\n"
     ]
    }
   ],
   "source": [
    "%pip install -r requirements.txt"
   ]
  },
  {
   "cell_type": "code",
   "execution_count": 2,
   "metadata": {},
   "outputs": [],
   "source": [
    "import IPython.display as ipd\n",
    "import torch\n",
    "import torchaudio\n",
    "import os\n",
    "from tqdm import tqdm\n",
    "import numpy as np\n",
    "import matplotlib.pyplot as plt\n",
    "import librosa\n",
    "from torchmetrics.audio import ScaleInvariantSignalDistortionRatio, SignalDistortionRatio\n",
    "import norbert\n",
    "import shutil\n"
   ]
  },
  {
   "cell_type": "markdown",
   "metadata": {},
   "source": [
    "## Loading of the Model and Device Selection"
   ]
  },
  {
   "cell_type": "code",
   "execution_count": 3,
   "metadata": {},
   "outputs": [
    {
     "data": {
      "text/plain": [
       "HDemucs(\n",
       "  (freq_encoder): ModuleList(\n",
       "    (0): _HEncLayer(\n",
       "      (conv): Conv2d(4, 48, kernel_size=(8, 1), stride=(4, 1), padding=(2, 0))\n",
       "      (norm1): Identity()\n",
       "      (rewrite): Conv2d(48, 96, kernel_size=(1, 1), stride=(1, 1))\n",
       "      (norm2): Identity()\n",
       "      (dconv): _DConv(\n",
       "        (layers): ModuleList(\n",
       "          (0): Sequential(\n",
       "            (0): Conv1d(48, 12, kernel_size=(3,), stride=(1,), padding=(1,))\n",
       "            (1): GroupNorm(1, 12, eps=1e-05, affine=True)\n",
       "            (2): GELU(approximate='none')\n",
       "            (3): Conv1d(12, 96, kernel_size=(1,), stride=(1,))\n",
       "            (4): GroupNorm(1, 96, eps=1e-05, affine=True)\n",
       "            (5): GLU(dim=1)\n",
       "            (6): _LayerScale()\n",
       "          )\n",
       "          (1): Sequential(\n",
       "            (0): Conv1d(48, 12, kernel_size=(3,), stride=(1,), padding=(2,), dilation=(2,))\n",
       "            (1): GroupNorm(1, 12, eps=1e-05, affine=True)\n",
       "            (2): GELU(approximate='none')\n",
       "            (3): Conv1d(12, 96, kernel_size=(1,), stride=(1,))\n",
       "            (4): GroupNorm(1, 96, eps=1e-05, affine=True)\n",
       "            (5): GLU(dim=1)\n",
       "            (6): _LayerScale()\n",
       "          )\n",
       "        )\n",
       "      )\n",
       "    )\n",
       "    (1): _HEncLayer(\n",
       "      (conv): Conv2d(48, 96, kernel_size=(8, 1), stride=(4, 1), padding=(2, 0))\n",
       "      (norm1): Identity()\n",
       "      (rewrite): Conv2d(96, 192, kernel_size=(1, 1), stride=(1, 1))\n",
       "      (norm2): Identity()\n",
       "      (dconv): _DConv(\n",
       "        (layers): ModuleList(\n",
       "          (0): Sequential(\n",
       "            (0): Conv1d(96, 24, kernel_size=(3,), stride=(1,), padding=(1,))\n",
       "            (1): GroupNorm(1, 24, eps=1e-05, affine=True)\n",
       "            (2): GELU(approximate='none')\n",
       "            (3): Conv1d(24, 192, kernel_size=(1,), stride=(1,))\n",
       "            (4): GroupNorm(1, 192, eps=1e-05, affine=True)\n",
       "            (5): GLU(dim=1)\n",
       "            (6): _LayerScale()\n",
       "          )\n",
       "          (1): Sequential(\n",
       "            (0): Conv1d(96, 24, kernel_size=(3,), stride=(1,), padding=(2,), dilation=(2,))\n",
       "            (1): GroupNorm(1, 24, eps=1e-05, affine=True)\n",
       "            (2): GELU(approximate='none')\n",
       "            (3): Conv1d(24, 192, kernel_size=(1,), stride=(1,))\n",
       "            (4): GroupNorm(1, 192, eps=1e-05, affine=True)\n",
       "            (5): GLU(dim=1)\n",
       "            (6): _LayerScale()\n",
       "          )\n",
       "        )\n",
       "      )\n",
       "    )\n",
       "    (2): _HEncLayer(\n",
       "      (conv): Conv2d(96, 192, kernel_size=(8, 1), stride=(4, 1), padding=(2, 0))\n",
       "      (norm1): Identity()\n",
       "      (rewrite): Conv2d(192, 384, kernel_size=(1, 1), stride=(1, 1))\n",
       "      (norm2): Identity()\n",
       "      (dconv): _DConv(\n",
       "        (layers): ModuleList(\n",
       "          (0): Sequential(\n",
       "            (0): Conv1d(192, 48, kernel_size=(3,), stride=(1,), padding=(1,))\n",
       "            (1): GroupNorm(1, 48, eps=1e-05, affine=True)\n",
       "            (2): GELU(approximate='none')\n",
       "            (3): Conv1d(48, 384, kernel_size=(1,), stride=(1,))\n",
       "            (4): GroupNorm(1, 384, eps=1e-05, affine=True)\n",
       "            (5): GLU(dim=1)\n",
       "            (6): _LayerScale()\n",
       "          )\n",
       "          (1): Sequential(\n",
       "            (0): Conv1d(192, 48, kernel_size=(3,), stride=(1,), padding=(2,), dilation=(2,))\n",
       "            (1): GroupNorm(1, 48, eps=1e-05, affine=True)\n",
       "            (2): GELU(approximate='none')\n",
       "            (3): Conv1d(48, 384, kernel_size=(1,), stride=(1,))\n",
       "            (4): GroupNorm(1, 384, eps=1e-05, affine=True)\n",
       "            (5): GLU(dim=1)\n",
       "            (6): _LayerScale()\n",
       "          )\n",
       "        )\n",
       "      )\n",
       "    )\n",
       "    (3): _HEncLayer(\n",
       "      (conv): Conv2d(192, 384, kernel_size=(8, 1), stride=(4, 1), padding=(2, 0))\n",
       "      (norm1): Identity()\n",
       "      (rewrite): Conv2d(384, 768, kernel_size=(1, 1), stride=(1, 1))\n",
       "      (norm2): Identity()\n",
       "      (dconv): _DConv(\n",
       "        (layers): ModuleList(\n",
       "          (0): Sequential(\n",
       "            (0): Conv1d(384, 96, kernel_size=(3,), stride=(1,), padding=(1,))\n",
       "            (1): GroupNorm(1, 96, eps=1e-05, affine=True)\n",
       "            (2): GELU(approximate='none')\n",
       "            (3): Conv1d(96, 768, kernel_size=(1,), stride=(1,))\n",
       "            (4): GroupNorm(1, 768, eps=1e-05, affine=True)\n",
       "            (5): GLU(dim=1)\n",
       "            (6): _LayerScale()\n",
       "          )\n",
       "          (1): Sequential(\n",
       "            (0): Conv1d(384, 96, kernel_size=(3,), stride=(1,), padding=(2,), dilation=(2,))\n",
       "            (1): GroupNorm(1, 96, eps=1e-05, affine=True)\n",
       "            (2): GELU(approximate='none')\n",
       "            (3): Conv1d(96, 768, kernel_size=(1,), stride=(1,))\n",
       "            (4): GroupNorm(1, 768, eps=1e-05, affine=True)\n",
       "            (5): GLU(dim=1)\n",
       "            (6): _LayerScale()\n",
       "          )\n",
       "        )\n",
       "      )\n",
       "    )\n",
       "    (4): _HEncLayer(\n",
       "      (conv): Conv2d(384, 768, kernel_size=(8, 1), stride=(4, 1))\n",
       "      (norm1): GroupNorm(4, 768, eps=1e-05, affine=True)\n",
       "      (rewrite): Conv2d(768, 1536, kernel_size=(1, 1), stride=(1, 1))\n",
       "      (norm2): GroupNorm(4, 1536, eps=1e-05, affine=True)\n",
       "      (dconv): _DConv(\n",
       "        (layers): ModuleList(\n",
       "          (0): Sequential(\n",
       "            (0): Conv1d(768, 192, kernel_size=(3,), stride=(1,), padding=(1,))\n",
       "            (1): GroupNorm(1, 192, eps=1e-05, affine=True)\n",
       "            (2): GELU(approximate='none')\n",
       "            (3): _BLSTM(\n",
       "              (lstm): LSTM(192, 192, num_layers=2, bidirectional=True)\n",
       "              (linear): Linear(in_features=384, out_features=192, bias=True)\n",
       "            )\n",
       "            (4): _LocalState(\n",
       "              (content): Conv1d(192, 192, kernel_size=(1,), stride=(1,))\n",
       "              (query): Conv1d(192, 192, kernel_size=(1,), stride=(1,))\n",
       "              (key): Conv1d(192, 192, kernel_size=(1,), stride=(1,))\n",
       "              (query_decay): Conv1d(192, 16, kernel_size=(1,), stride=(1,))\n",
       "              (proj): Conv1d(192, 192, kernel_size=(1,), stride=(1,))\n",
       "            )\n",
       "            (5): Conv1d(192, 1536, kernel_size=(1,), stride=(1,))\n",
       "            (6): GroupNorm(1, 1536, eps=1e-05, affine=True)\n",
       "            (7): GLU(dim=1)\n",
       "            (8): _LayerScale()\n",
       "          )\n",
       "          (1): Sequential(\n",
       "            (0): Conv1d(768, 192, kernel_size=(3,), stride=(1,), padding=(2,), dilation=(2,))\n",
       "            (1): GroupNorm(1, 192, eps=1e-05, affine=True)\n",
       "            (2): GELU(approximate='none')\n",
       "            (3): _BLSTM(\n",
       "              (lstm): LSTM(192, 192, num_layers=2, bidirectional=True)\n",
       "              (linear): Linear(in_features=384, out_features=192, bias=True)\n",
       "            )\n",
       "            (4): _LocalState(\n",
       "              (content): Conv1d(192, 192, kernel_size=(1,), stride=(1,))\n",
       "              (query): Conv1d(192, 192, kernel_size=(1,), stride=(1,))\n",
       "              (key): Conv1d(192, 192, kernel_size=(1,), stride=(1,))\n",
       "              (query_decay): Conv1d(192, 16, kernel_size=(1,), stride=(1,))\n",
       "              (proj): Conv1d(192, 192, kernel_size=(1,), stride=(1,))\n",
       "            )\n",
       "            (5): Conv1d(192, 1536, kernel_size=(1,), stride=(1,))\n",
       "            (6): GroupNorm(1, 1536, eps=1e-05, affine=True)\n",
       "            (7): GLU(dim=1)\n",
       "            (8): _LayerScale()\n",
       "          )\n",
       "        )\n",
       "      )\n",
       "    )\n",
       "    (5): _HEncLayer(\n",
       "      (conv): Conv1d(768, 1536, kernel_size=(4,), stride=(2,), padding=(1,))\n",
       "      (norm1): GroupNorm(4, 1536, eps=1e-05, affine=True)\n",
       "      (rewrite): Conv1d(1536, 3072, kernel_size=(1,), stride=(1,))\n",
       "      (norm2): GroupNorm(4, 3072, eps=1e-05, affine=True)\n",
       "      (dconv): _DConv(\n",
       "        (layers): ModuleList(\n",
       "          (0): Sequential(\n",
       "            (0): Conv1d(1536, 384, kernel_size=(3,), stride=(1,), padding=(1,))\n",
       "            (1): GroupNorm(1, 384, eps=1e-05, affine=True)\n",
       "            (2): GELU(approximate='none')\n",
       "            (3): _BLSTM(\n",
       "              (lstm): LSTM(384, 384, num_layers=2, bidirectional=True)\n",
       "              (linear): Linear(in_features=768, out_features=384, bias=True)\n",
       "            )\n",
       "            (4): _LocalState(\n",
       "              (content): Conv1d(384, 384, kernel_size=(1,), stride=(1,))\n",
       "              (query): Conv1d(384, 384, kernel_size=(1,), stride=(1,))\n",
       "              (key): Conv1d(384, 384, kernel_size=(1,), stride=(1,))\n",
       "              (query_decay): Conv1d(384, 16, kernel_size=(1,), stride=(1,))\n",
       "              (proj): Conv1d(384, 384, kernel_size=(1,), stride=(1,))\n",
       "            )\n",
       "            (5): Conv1d(384, 3072, kernel_size=(1,), stride=(1,))\n",
       "            (6): GroupNorm(1, 3072, eps=1e-05, affine=True)\n",
       "            (7): GLU(dim=1)\n",
       "            (8): _LayerScale()\n",
       "          )\n",
       "          (1): Sequential(\n",
       "            (0): Conv1d(1536, 384, kernel_size=(3,), stride=(1,), padding=(2,), dilation=(2,))\n",
       "            (1): GroupNorm(1, 384, eps=1e-05, affine=True)\n",
       "            (2): GELU(approximate='none')\n",
       "            (3): _BLSTM(\n",
       "              (lstm): LSTM(384, 384, num_layers=2, bidirectional=True)\n",
       "              (linear): Linear(in_features=768, out_features=384, bias=True)\n",
       "            )\n",
       "            (4): _LocalState(\n",
       "              (content): Conv1d(384, 384, kernel_size=(1,), stride=(1,))\n",
       "              (query): Conv1d(384, 384, kernel_size=(1,), stride=(1,))\n",
       "              (key): Conv1d(384, 384, kernel_size=(1,), stride=(1,))\n",
       "              (query_decay): Conv1d(384, 16, kernel_size=(1,), stride=(1,))\n",
       "              (proj): Conv1d(384, 384, kernel_size=(1,), stride=(1,))\n",
       "            )\n",
       "            (5): Conv1d(384, 3072, kernel_size=(1,), stride=(1,))\n",
       "            (6): GroupNorm(1, 3072, eps=1e-05, affine=True)\n",
       "            (7): GLU(dim=1)\n",
       "            (8): _LayerScale()\n",
       "          )\n",
       "        )\n",
       "      )\n",
       "    )\n",
       "  )\n",
       "  (freq_decoder): ModuleList(\n",
       "    (0): _HDecLayer(\n",
       "      (conv_tr): ConvTranspose1d(1536, 768, kernel_size=(4,), stride=(2,))\n",
       "      (norm2): GroupNorm(4, 768, eps=1e-05, affine=True)\n",
       "      (rewrite): Conv1d(1536, 3072, kernel_size=(3,), stride=(1,), padding=(1,))\n",
       "      (norm1): GroupNorm(4, 3072, eps=1e-05, affine=True)\n",
       "    )\n",
       "    (1): _HDecLayer(\n",
       "      (conv_tr): ConvTranspose2d(768, 384, kernel_size=(8, 1), stride=(4, 1))\n",
       "      (norm2): GroupNorm(4, 384, eps=1e-05, affine=True)\n",
       "      (rewrite): Conv2d(768, 1536, kernel_size=(3, 3), stride=(1, 1), padding=(1, 1))\n",
       "      (norm1): GroupNorm(4, 1536, eps=1e-05, affine=True)\n",
       "    )\n",
       "    (2): _HDecLayer(\n",
       "      (conv_tr): ConvTranspose2d(384, 192, kernel_size=(8, 1), stride=(4, 1))\n",
       "      (norm2): Identity()\n",
       "      (rewrite): Conv2d(384, 768, kernel_size=(3, 3), stride=(1, 1), padding=(1, 1))\n",
       "      (norm1): Identity()\n",
       "    )\n",
       "    (3): _HDecLayer(\n",
       "      (conv_tr): ConvTranspose2d(192, 96, kernel_size=(8, 1), stride=(4, 1))\n",
       "      (norm2): Identity()\n",
       "      (rewrite): Conv2d(192, 384, kernel_size=(3, 3), stride=(1, 1), padding=(1, 1))\n",
       "      (norm1): Identity()\n",
       "    )\n",
       "    (4): _HDecLayer(\n",
       "      (conv_tr): ConvTranspose2d(96, 48, kernel_size=(8, 1), stride=(4, 1))\n",
       "      (norm2): Identity()\n",
       "      (rewrite): Conv2d(96, 192, kernel_size=(3, 3), stride=(1, 1), padding=(1, 1))\n",
       "      (norm1): Identity()\n",
       "    )\n",
       "    (5): _HDecLayer(\n",
       "      (conv_tr): ConvTranspose2d(48, 16, kernel_size=(8, 1), stride=(4, 1))\n",
       "      (norm2): Identity()\n",
       "      (rewrite): Conv2d(48, 96, kernel_size=(3, 3), stride=(1, 1), padding=(1, 1))\n",
       "      (norm1): Identity()\n",
       "    )\n",
       "  )\n",
       "  (time_encoder): ModuleList(\n",
       "    (0): _HEncLayer(\n",
       "      (conv): Conv1d(2, 48, kernel_size=(8,), stride=(4,), padding=(2,))\n",
       "      (norm1): Identity()\n",
       "      (rewrite): Conv1d(48, 96, kernel_size=(1,), stride=(1,))\n",
       "      (norm2): Identity()\n",
       "      (dconv): _DConv(\n",
       "        (layers): ModuleList(\n",
       "          (0): Sequential(\n",
       "            (0): Conv1d(48, 12, kernel_size=(3,), stride=(1,), padding=(1,))\n",
       "            (1): GroupNorm(1, 12, eps=1e-05, affine=True)\n",
       "            (2): GELU(approximate='none')\n",
       "            (3): Conv1d(12, 96, kernel_size=(1,), stride=(1,))\n",
       "            (4): GroupNorm(1, 96, eps=1e-05, affine=True)\n",
       "            (5): GLU(dim=1)\n",
       "            (6): _LayerScale()\n",
       "          )\n",
       "          (1): Sequential(\n",
       "            (0): Conv1d(48, 12, kernel_size=(3,), stride=(1,), padding=(2,), dilation=(2,))\n",
       "            (1): GroupNorm(1, 12, eps=1e-05, affine=True)\n",
       "            (2): GELU(approximate='none')\n",
       "            (3): Conv1d(12, 96, kernel_size=(1,), stride=(1,))\n",
       "            (4): GroupNorm(1, 96, eps=1e-05, affine=True)\n",
       "            (5): GLU(dim=1)\n",
       "            (6): _LayerScale()\n",
       "          )\n",
       "        )\n",
       "      )\n",
       "    )\n",
       "    (1): _HEncLayer(\n",
       "      (conv): Conv1d(48, 96, kernel_size=(8,), stride=(4,), padding=(2,))\n",
       "      (norm1): Identity()\n",
       "      (rewrite): Conv1d(96, 192, kernel_size=(1,), stride=(1,))\n",
       "      (norm2): Identity()\n",
       "      (dconv): _DConv(\n",
       "        (layers): ModuleList(\n",
       "          (0): Sequential(\n",
       "            (0): Conv1d(96, 24, kernel_size=(3,), stride=(1,), padding=(1,))\n",
       "            (1): GroupNorm(1, 24, eps=1e-05, affine=True)\n",
       "            (2): GELU(approximate='none')\n",
       "            (3): Conv1d(24, 192, kernel_size=(1,), stride=(1,))\n",
       "            (4): GroupNorm(1, 192, eps=1e-05, affine=True)\n",
       "            (5): GLU(dim=1)\n",
       "            (6): _LayerScale()\n",
       "          )\n",
       "          (1): Sequential(\n",
       "            (0): Conv1d(96, 24, kernel_size=(3,), stride=(1,), padding=(2,), dilation=(2,))\n",
       "            (1): GroupNorm(1, 24, eps=1e-05, affine=True)\n",
       "            (2): GELU(approximate='none')\n",
       "            (3): Conv1d(24, 192, kernel_size=(1,), stride=(1,))\n",
       "            (4): GroupNorm(1, 192, eps=1e-05, affine=True)\n",
       "            (5): GLU(dim=1)\n",
       "            (6): _LayerScale()\n",
       "          )\n",
       "        )\n",
       "      )\n",
       "    )\n",
       "    (2): _HEncLayer(\n",
       "      (conv): Conv1d(96, 192, kernel_size=(8,), stride=(4,), padding=(2,))\n",
       "      (norm1): Identity()\n",
       "      (rewrite): Conv1d(192, 384, kernel_size=(1,), stride=(1,))\n",
       "      (norm2): Identity()\n",
       "      (dconv): _DConv(\n",
       "        (layers): ModuleList(\n",
       "          (0): Sequential(\n",
       "            (0): Conv1d(192, 48, kernel_size=(3,), stride=(1,), padding=(1,))\n",
       "            (1): GroupNorm(1, 48, eps=1e-05, affine=True)\n",
       "            (2): GELU(approximate='none')\n",
       "            (3): Conv1d(48, 384, kernel_size=(1,), stride=(1,))\n",
       "            (4): GroupNorm(1, 384, eps=1e-05, affine=True)\n",
       "            (5): GLU(dim=1)\n",
       "            (6): _LayerScale()\n",
       "          )\n",
       "          (1): Sequential(\n",
       "            (0): Conv1d(192, 48, kernel_size=(3,), stride=(1,), padding=(2,), dilation=(2,))\n",
       "            (1): GroupNorm(1, 48, eps=1e-05, affine=True)\n",
       "            (2): GELU(approximate='none')\n",
       "            (3): Conv1d(48, 384, kernel_size=(1,), stride=(1,))\n",
       "            (4): GroupNorm(1, 384, eps=1e-05, affine=True)\n",
       "            (5): GLU(dim=1)\n",
       "            (6): _LayerScale()\n",
       "          )\n",
       "        )\n",
       "      )\n",
       "    )\n",
       "    (3): _HEncLayer(\n",
       "      (conv): Conv1d(192, 384, kernel_size=(8,), stride=(4,), padding=(2,))\n",
       "      (norm1): Identity()\n",
       "      (rewrite): Conv1d(384, 768, kernel_size=(1,), stride=(1,))\n",
       "      (norm2): Identity()\n",
       "      (dconv): _DConv(\n",
       "        (layers): ModuleList(\n",
       "          (0): Sequential(\n",
       "            (0): Conv1d(384, 96, kernel_size=(3,), stride=(1,), padding=(1,))\n",
       "            (1): GroupNorm(1, 96, eps=1e-05, affine=True)\n",
       "            (2): GELU(approximate='none')\n",
       "            (3): Conv1d(96, 768, kernel_size=(1,), stride=(1,))\n",
       "            (4): GroupNorm(1, 768, eps=1e-05, affine=True)\n",
       "            (5): GLU(dim=1)\n",
       "            (6): _LayerScale()\n",
       "          )\n",
       "          (1): Sequential(\n",
       "            (0): Conv1d(384, 96, kernel_size=(3,), stride=(1,), padding=(2,), dilation=(2,))\n",
       "            (1): GroupNorm(1, 96, eps=1e-05, affine=True)\n",
       "            (2): GELU(approximate='none')\n",
       "            (3): Conv1d(96, 768, kernel_size=(1,), stride=(1,))\n",
       "            (4): GroupNorm(1, 768, eps=1e-05, affine=True)\n",
       "            (5): GLU(dim=1)\n",
       "            (6): _LayerScale()\n",
       "          )\n",
       "        )\n",
       "      )\n",
       "    )\n",
       "    (4): _HEncLayer(\n",
       "      (conv): Conv1d(384, 768, kernel_size=(8,), stride=(4,), padding=(2,))\n",
       "      (norm1): GroupNorm(4, 768, eps=1e-05, affine=True)\n",
       "      (rewrite): Identity()\n",
       "      (norm2): Identity()\n",
       "      (dconv): Identity()\n",
       "    )\n",
       "  )\n",
       "  (time_decoder): ModuleList(\n",
       "    (0): _HDecLayer(\n",
       "      (conv_tr): ConvTranspose1d(768, 384, kernel_size=(8,), stride=(4,))\n",
       "      (norm2): GroupNorm(4, 384, eps=1e-05, affine=True)\n",
       "      (rewrite): Identity()\n",
       "      (norm1): Identity()\n",
       "    )\n",
       "    (1): _HDecLayer(\n",
       "      (conv_tr): ConvTranspose1d(384, 192, kernel_size=(8,), stride=(4,))\n",
       "      (norm2): Identity()\n",
       "      (rewrite): Conv1d(384, 768, kernel_size=(3,), stride=(1,), padding=(1,))\n",
       "      (norm1): Identity()\n",
       "    )\n",
       "    (2): _HDecLayer(\n",
       "      (conv_tr): ConvTranspose1d(192, 96, kernel_size=(8,), stride=(4,))\n",
       "      (norm2): Identity()\n",
       "      (rewrite): Conv1d(192, 384, kernel_size=(3,), stride=(1,), padding=(1,))\n",
       "      (norm1): Identity()\n",
       "    )\n",
       "    (3): _HDecLayer(\n",
       "      (conv_tr): ConvTranspose1d(96, 48, kernel_size=(8,), stride=(4,))\n",
       "      (norm2): Identity()\n",
       "      (rewrite): Conv1d(96, 192, kernel_size=(3,), stride=(1,), padding=(1,))\n",
       "      (norm1): Identity()\n",
       "    )\n",
       "    (4): _HDecLayer(\n",
       "      (conv_tr): ConvTranspose1d(48, 8, kernel_size=(8,), stride=(4,))\n",
       "      (norm2): Identity()\n",
       "      (rewrite): Conv1d(48, 96, kernel_size=(3,), stride=(1,), padding=(1,))\n",
       "      (norm1): Identity()\n",
       "    )\n",
       "  )\n",
       "  (freq_emb): _ScaledEmbedding(\n",
       "    (embedding): Embedding(512, 48)\n",
       "  )\n",
       ")"
      ]
     },
     "execution_count": 3,
     "metadata": {},
     "output_type": "execute_result"
    }
   ],
   "source": [
    "bundle = torchaudio.pipelines.HDEMUCS_HIGH_MUSDB_PLUS\n",
    "model = bundle.get_model()\n",
    "sample_rate = bundle.sample_rate\n",
    "\n",
    "cpu_device = torch.device(\"cpu\")\n",
    "device = torch.device(\"cuda:0\" if torch.cuda.is_available() else \"cpu\") # windows\n",
    "device = torch.device(\"mps\" if torch.backends.mps.is_available() else \"cpu\") # macOS\n",
    "model.to(device)"
   ]
  },
  {
   "cell_type": "markdown",
   "metadata": {},
   "source": [
    "Device Check:"
   ]
  },
  {
   "cell_type": "code",
   "execution_count": 4,
   "metadata": {},
   "outputs": [
    {
     "data": {
      "text/plain": [
       "device(type='mps')"
      ]
     },
     "execution_count": 4,
     "metadata": {},
     "output_type": "execute_result"
    }
   ],
   "source": [
    "device"
   ]
  },
  {
   "cell_type": "markdown",
   "metadata": {},
   "source": [
    "## Loading of the Dataset and Dataset Preparation"
   ]
  },
  {
   "cell_type": "markdown",
   "metadata": {},
   "source": [
    "Download the dataset at: https://zenodo.org/records/3338373"
   ]
  },
  {
   "cell_type": "markdown",
   "metadata": {},
   "source": [
    "Global variables:"
   ]
  },
  {
   "cell_type": "code",
   "execution_count": 5,
   "metadata": {},
   "outputs": [],
   "source": [
    "SEGMENT_LENGTH = 30  # 30 seconds of audio from each song\n",
    "DATASET_FOLDER =  \"./musdb18hq/test\" # dataset should be inside the project folder\n",
    "DATASET_FOLDER_TRIMMED = \"./musdb18hq_trimmed\" # trimmed dataset will be saved here"
   ]
  },
  {
   "cell_type": "markdown",
   "metadata": {},
   "source": [
    "Dictionary creation\n",
    "\n",
    "(Dataset Structure: `{track_folder -> {stem_name -> waveform}`)\n"
   ]
  },
  {
   "cell_type": "code",
   "execution_count": 6,
   "metadata": {},
   "outputs": [],
   "source": [
    "def get_max_non_silence_start(song):\n",
    "    \"\"\"\n",
    "    Given a song (dictionary of stem names -> waveform),\n",
    "    use librosa.effects.trim to find the starting index of non-silent \n",
    "    segments for each stem and return the highest start index.\n",
    "    \"\"\"\n",
    "    max_start = 0\n",
    "    for stem, waveform in song.items():\n",
    "        # Convert tensor waveform to numpy if necessary\n",
    "        if hasattr(waveform, \"detach\"):\n",
    "            waveform_np = waveform.detach().cpu().numpy()\n",
    "        else:\n",
    "            waveform_np = waveform\n",
    "        \n",
    "        # If waveform is multi-channel (shape: channels x samples)\n",
    "        if waveform_np.ndim > 1:\n",
    "            # Convert to mono using librosa.to_mono\n",
    "            waveform_np = librosa.to_mono(waveform_np)\n",
    "        else:\n",
    "            waveform_np = waveform_np.squeeze()\n",
    "\n",
    "        # Trim leading and trailing silence\n",
    "        # trim returns a tuple (trimmed_audio, (start, end))\n",
    "        trimmed, indices = librosa.effects.trim(waveform_np)\n",
    "        if indices.size and indices[0] > max_start:\n",
    "            max_start = indices[0]\n",
    "            \n",
    "    return max_start\n",
    "def is_stem_silent(waveform, threshold=1e-4):\n",
    "    \"\"\"\n",
    "    Determines if a given song stem is not silent.\n",
    "    \n",
    "    Args:\n",
    "        waveform (torch.Tensor or np.ndarray): The audio waveform of the stem.\n",
    "        threshold (float): The amplitude threshold below which the stem is considered silent.\n",
    "    \n",
    "    Returns:\n",
    "        bool: True if the stem is not silent, False otherwise.\n",
    "    \"\"\"\n",
    "    # Convert tensor waveform to numpy if necessary\n",
    "    if hasattr(waveform, \"detach\"):\n",
    "        waveform = waveform.detach().cpu().numpy()\n",
    "    \n",
    "    # If waveform is multi-channel (shape: channels x samples), convert to mono\n",
    "    if waveform.ndim > 1:\n",
    "        waveform = librosa.to_mono(waveform)\n",
    "    \n",
    "    # Check if the maximum absolute amplitude exceeds the threshold\n",
    "    return np.max(np.abs(waveform)) < threshold\n",
    "def load_and_process_dataset():\n",
    "    \"\"\"\n",
    "    Load the dataset from the specified folder.\n",
    "    Each subfolder in the dataset corresponds to a song.\n",
    "    Each song contains multiple stems (e.g., mixture, drums, bass, etc.).\n",
    "    Returns:\n",
    "        dataset_dict (dict): A dictionary where keys are track folders and values are dictionaries of stems.\n",
    "    \"\"\"\n",
    "\n",
    "    # sorted list of folders in the dataset\n",
    "    track_folders = sorted(\n",
    "        folder for folder in os.listdir(DATASET_FOLDER)\n",
    "        if os.path.isdir(os.path.join(DATASET_FOLDER, folder))\n",
    "    )\n",
    "\n",
    "    # Dictionary to store {track_folder -> {stem_name -> waveform}}\n",
    "    dataset_dict = {}\n",
    "\n",
    "    # Each subfolder in musdb18hq/test corresponds to a song\n",
    "    for track_folder in tqdm(track_folders):\n",
    "        track_path = os.path.join(DATASET_FOLDER, track_folder)\n",
    "        if not os.path.isdir(track_path):\n",
    "            continue\n",
    "\n",
    "        # Prepare a sub-dictionary for this song\n",
    "        stems_dict = {}\n",
    "        stem_names = [\"mixture\", \"drums\", \"bass\", \"vocals\", \"other\"]\n",
    "        \n",
    "        for stem_name in stem_names:\n",
    "            file_path = os.path.abspath(os.path.join(track_path, f\"{stem_name}.wav\"))\n",
    "            \n",
    "            if not os.path.isfile(file_path):\n",
    "                print(f\"Warning: file not found {file_path}\")\n",
    "                continue\n",
    "\n",
    "            # Load full audio\n",
    "            # print(f\"Loading {track_folder}\" + f\" - {stem_name}\")\n",
    "            waveform, sr = torchaudio.load(file_path)\n",
    "\n",
    "            stems_dict[stem_name] = waveform\n",
    "        \n",
    "        max_start = get_max_non_silence_start(stems_dict)\n",
    "\n",
    "        # If the stem is silent, remove it from the dictionary else trim it\n",
    "        for stem_name, waveform in stems_dict.items():\n",
    "            if is_stem_silent(waveform) or waveform.shape[1] < SEGMENT_LENGTH * sample_rate + max_start:\n",
    "                print(f\"Removing silent stem: {stem_name}\")\n",
    "                del stems_dict[stem_name]\n",
    "            else:\n",
    "                # Trim the waveform to the max_start to segment samples\n",
    "                duration = SEGMENT_LENGTH * sample_rate + max_start\n",
    "                stems_dict[stem_name] = waveform[:, max_start:duration]\n",
    "\n",
    "        dataset_dict[track_folder] = stems_dict\n",
    "\n",
    "    return dataset_dict\n",
    "\n",
    "\n",
    "def load_dataset(path=DATASET_FOLDER_TRIMMED):\n",
    "    \"\"\"\n",
    "        Load the dataset from the specified folder.\n",
    "        Each subfolder in the dataset corresponds to a song.\n",
    "        Each song contains multiple stems (e.g., mixture, drums, bass, etc.).\n",
    "    Args:\n",
    "        path (str): Path to the dataset folder.\n",
    "    Returns:\n",
    "        dataset_dict (dict): A dictionary where keys are track folders and values are dictionaries of stems.\n",
    "    \"\"\"\n",
    "    dataset_dict = {}\n",
    "\n",
    "    for track_folder in tqdm(os.listdir(path)):\n",
    "        track_path = os.path.join(path, track_folder)\n",
    "        if not os.path.isdir(track_path):\n",
    "            continue\n",
    "\n",
    "        # Prepare a sub-dictionary for this song\n",
    "        stems_dict = {}\n",
    "        \n",
    "        for stem_name in [\"mixture\", \"drums\", \"bass\", \"vocals\", \"other\", \"new_mixture\"]:\n",
    "            file_path = os.path.abspath(os.path.join(track_path, f\"{stem_name}.wav\"))\n",
    "            \n",
    "            if not os.path.isfile(file_path):\n",
    "                print(f\"Warning: file not found {file_path}\")\n",
    "                continue\n",
    "\n",
    "            # Load full audio\n",
    "            waveform, sr = torchaudio.load(file_path)\n",
    "\n",
    "            stems_dict[stem_name] = waveform\n",
    "            \n",
    "        dataset_dict[track_folder] = stems_dict\n",
    "        \n",
    "    return dataset_dict\n",
    "\n",
    "def create_dataset(dataset_dict):\n",
    "    \"\"\"\n",
    "    Create a dataset of trimmed audio files from the musdb18hq dataset.\n",
    "    The dataset is saved in the DATASET_FOLDER_TRIMMED folder.\n",
    "    It processes each track folder, saves the stems as individual files,\n",
    "    and generates a new_mixture file as the sum of the stems.\n",
    "    Args:\n",
    "        dataset_dict (dict): A dictionary where keys are track folders and values are dictionaries of stems.\n",
    "    Returns:\n",
    "        None\n",
    "    \"\"\"\n",
    "    for track_folder, stems_dict in tqdm(dataset_dict.items()):\n",
    "    \n",
    "        track_path = os.path.join(DATASET_FOLDER_TRIMMED, track_folder)\n",
    "        os.makedirs(track_path, exist_ok=True)\n",
    "        \n",
    "        # Add new_mixture file to the track folder as the sum of the stems\n",
    "        new_mixture = torch.zeros((2, SEGMENT_LENGTH * sample_rate))\n",
    "        for stem_name, waveform in stems_dict.items():\n",
    "            \n",
    "            file_path = os.path.join(track_path, f\"{stem_name}.wav\")\n",
    "            torchaudio.save(file_path, waveform, sample_rate=sample_rate)\n",
    "\n",
    "            # Generation of the new_mixture file\n",
    "            if stem_name != \"mixture\":\n",
    "                new_mixture += waveform\n",
    "\n",
    "        # make the new_mixture the same loudness as the original mixture\n",
    "        if \"mixture\" in stems_dict:\n",
    "            original_mixture = stems_dict[\"mixture\"]\n",
    "\n",
    "            # Scale the new mixture to match the volume of the original mixture\n",
    "            original_max_value = torch.max(torch.abs(original_mixture))\n",
    "            new_max_value = torch.max(torch.abs(new_mixture))\n",
    "            if new_max_value > 0:\n",
    "                new_mixture *= (original_max_value / new_max_value)\n",
    "        else:\n",
    "            # If there is no original mixture, just normalize the new_mixture\n",
    "            new_mixture = new_mixture / torch.max(torch.abs(new_mixture))\n",
    "\n",
    "\n",
    "        # Raise an error if the new_mixture is not normalized\n",
    "        if torch.max(torch.abs(new_mixture)) > 1:\n",
    "            # delete dataset folder if error occurs\n",
    "            if os.path.isdir(DATASET_FOLDER_TRIMMED):\n",
    "                print(f\"Deleting dataset folder {DATASET_FOLDER_TRIMMED} due to error.\")\n",
    "                shutil.rmtree(DATASET_FOLDER_TRIMMED)\n",
    "\n",
    "            raise ValueError(f\"new_mixture for {track_folder} is not normalized. Max value: {torch.max(torch.abs(new_mixture))}\")\n",
    "        \n",
    "        \n",
    "        # Trim the new_mixture to the desired length\n",
    "        new_mixture = new_mixture[:, :SEGMENT_LENGTH * sample_rate]\n",
    "        new_mixture_path = os.path.join(track_path, \"new_mixture.wav\")\n",
    "        torchaudio.save(new_mixture_path, new_mixture, sample_rate)\n",
    "        #print(f\"Saved new mixture to {new_mixture_path}\")\n",
    "        \n",
    "        # Add the new_mixture to stems_dict and update dataset_dict\n",
    "        stems_dict[\"new_mixture\"] = new_mixture\n",
    "        dataset_dict[track_folder] = stems_dict  # Update the dataset_dict explicitly\n",
    "        #print(f\"Added new_mixture to stems_dict for track {track_folder}\")\n",
    "\n",
    "\n",
    "def load_or_create_trimmed_dataset():\n",
    "    \"\"\"\n",
    "    Load or create the trimmed dataset.\n",
    "    If the dataset already exists, it loads the dataset from the musdb18hq_trimmed folder.\n",
    "    If the dataset does not exist, it processes the musdb18hq/test folder and saves the trimmed dataset.\n",
    "    Returns:\n",
    "        dataset_dict (dict): A dictionary where keys are track folders and values are dictionaries of stems.\n",
    "    \"\"\"\n",
    "    # Check if the trimmed dataset already exists\n",
    "    if os.path.isdir(DATASET_FOLDER_TRIMMED):\n",
    "        print(\"Dataset already exists.\")\n",
    "\n",
    "        # Load the trimmed dataset\n",
    "        dataset_dict = load_dataset(DATASET_FOLDER_TRIMMED)\n",
    "        print(\"Dataset loaded.\")\n",
    "    else:\n",
    "        print(\"Loading dataset...\")\n",
    "        dataset_dict = load_and_process_dataset()\n",
    "        print(\"Dataset loaded.\")\n",
    "    \n",
    "        # Save the trimmed dataset\n",
    "        os.makedirs(DATASET_FOLDER_TRIMMED, exist_ok=True)\n",
    "        create_dataset(dataset_dict)\n",
    "\n",
    "        print(\"Trimmed dataset saved.\")\n",
    "    \n",
    "    return dataset_dict"
   ]
  },
  {
   "cell_type": "markdown",
   "metadata": {},
   "source": [
    "Save the new DATASET FOLDER"
   ]
  },
  {
   "cell_type": "code",
   "execution_count": 7,
   "metadata": {},
   "outputs": [
    {
     "name": "stdout",
     "output_type": "stream",
     "text": [
      "Dataset already exists.\n"
     ]
    },
    {
     "name": "stderr",
     "output_type": "stream",
     "text": [
      "100%|██████████| 50/50 [00:03<00:00, 12.51it/s]"
     ]
    },
    {
     "name": "stdout",
     "output_type": "stream",
     "text": [
      "Dataset loaded.\n"
     ]
    },
    {
     "name": "stderr",
     "output_type": "stream",
     "text": [
      "\n"
     ]
    }
   ],
   "source": [
    "dataset_dict = load_or_create_trimmed_dataset()"
   ]
  },
  {
   "cell_type": "markdown",
   "metadata": {},
   "source": [
    "Trimmed tracks check"
   ]
  },
  {
   "cell_type": "code",
   "execution_count": 8,
   "metadata": {},
   "outputs": [
    {
     "name": "stdout",
     "output_type": "stream",
     "text": [
      "Number of keys in dataset_dict: 50\n",
      "First track folder: Moosmusic - Big Dummy Shake\n",
      "Contents of the first track folder:\n",
      " - mixture: torch.Size([2, 1323000])\n",
      " - drums: torch.Size([2, 1323000])\n",
      " - bass: torch.Size([2, 1323000])\n",
      " - vocals: torch.Size([2, 1323000])\n",
      " - other: torch.Size([2, 1323000])\n",
      " - new_mixture: torch.Size([2, 1323000])\n"
     ]
    }
   ],
   "source": [
    "print(\"Number of keys in dataset_dict:\", len(dataset_dict))\n",
    "\n",
    "# Check the first track folder and its contents\n",
    "first_track_folder = list(dataset_dict.keys())[0]\n",
    "print(\"First track folder:\", first_track_folder)\n",
    "print(\"Contents of the first track folder:\")\n",
    "def print_stem_shapes(first_track_folder):\n",
    "    for stem_name in dataset_dict[first_track_folder].keys():\n",
    "        print(f\" - {stem_name}: {dataset_dict[first_track_folder][stem_name].shape}\")\n",
    "\n",
    "print_stem_shapes(first_track_folder)\n"
   ]
  },
  {
   "cell_type": "code",
   "execution_count": 9,
   "metadata": {},
   "outputs": [],
   "source": [
    "# reduce to 10 tracks the dataset_dict\n",
    "dataset_dict_reduced = {k: dataset_dict[k] for k in list(dataset_dict)[:10]}"
   ]
  },
  {
   "cell_type": "markdown",
   "metadata": {},
   "source": [
    "Function to separate the sources\n"
   ]
  },
  {
   "cell_type": "code",
   "execution_count": 10,
   "metadata": {},
   "outputs": [],
   "source": [
    "def separate_sources(\n",
    "    model,\n",
    "    mix,\n",
    "    sample_rate=sample_rate,\n",
    "    overlap=0.0,  # set to 0.0 to avoid chunk repetition\n",
    "    device=None,\n",
    "    normalize=False,\n",
    "):\n",
    "    \"\"\"\n",
    "    Separate sources from a mixture using the provided model.\n",
    "    Args:\n",
    "        model: The separation model.\n",
    "        mix: The input mixture tensor (batch, channels, length).\n",
    "        sample_rate: Sample rate of the audio.\n",
    "        overlap: Overlap between segments in seconds.\n",
    "        device: Device to run the model on (CPU or GPU).\n",
    "        normalize: Whether to normalize the input mixture.\n",
    "    Returns:\n",
    "        final: The separated sources tensor (batch, sources[drums, bass, other, vocel], channels, length). #CORRECT ORDER UPDATED\n",
    "    \"\"\"\n",
    "\n",
    "    if device is None:\n",
    "        device = mix.device\n",
    "    else:\n",
    "        device = torch.device(device)\n",
    "\n",
    "    model.to(device)\n",
    "    \n",
    "    batch, channels, length = mix.shape\n",
    "\n",
    "    # normalize the input by its RMS\n",
    "    if normalize:\n",
    "        # mix = mix / torch.sqrt(torch.mean(mix ** 2, dim=-1, keepdim=True))\n",
    "        mix = mix / torch.max(torch.abs(mix))\n",
    "\n",
    "    # chunk_len for entire 30s, no overlap\n",
    "    chunk_len = int(mix.shape[2] * (1 + overlap))  # effectively 30s if overlap=0\n",
    "    start = 0\n",
    "    end = chunk_len\n",
    "\n",
    "    overlap_frames = int(overlap * sample_rate)\n",
    "    fade = torchaudio.transforms.Fade(fade_in_len=0, fade_out_len=overlap_frames, fade_shape=\"linear\")\n",
    "\n",
    "    # Prepare final buffer\n",
    "    final = torch.zeros(batch, len(model.sources), channels, length, device=device)\n",
    "\n",
    "    while start < length - overlap_frames:\n",
    "        chunk = mix[:, :, start:end]\n",
    "        with torch.no_grad():\n",
    "            out = model(chunk).to(device)\n",
    "            \n",
    "        out = fade(out)\n",
    "        final[:, :, :, start:end] += out\n",
    "\n",
    "        if start == 0:\n",
    "            fade.fade_in_len = overlap_frames\n",
    "            start += chunk_len - overlap_frames\n",
    "        else:\n",
    "            start += chunk_len\n",
    "        end += chunk_len\n",
    "        if end >= length:\n",
    "            fade.fade_out_len = 0\n",
    "\n",
    "    return final"
   ]
  },
  {
   "cell_type": "markdown",
   "metadata": {},
   "source": [
    "Evaluation of the results"
   ]
  },
  {
   "cell_type": "code",
   "execution_count": 11,
   "metadata": {},
   "outputs": [],
   "source": [
    "def evaluate_sdr(original_stem: torch.Tensor, predicted_stem: torch.Tensor,\n",
    "                 device: torch.device=None, sdr_type: str = \"scale_invariant\") -> float:\n",
    "    if device is None:\n",
    "        device = original_stem.device\n",
    "\n",
    "    original_stem = original_stem.to(device)\n",
    "    predicted_stem = predicted_stem.to(device)\n",
    "    \n",
    "    if sdr_type == \"scale_invariant\":\n",
    "        sdr_metric = ScaleInvariantSignalDistortionRatio().to(device)\n",
    "        return sdr_metric(predicted_stem, original_stem).item()\n",
    "    \n",
    "    elif sdr_type == \"standard\":\n",
    "        # Sposta su CPU e converti in float64 (lo fa TorchMetrics comunque)\n",
    "        original_stem_cpu = original_stem.to('cpu')\n",
    "        predicted_stem_cpu = predicted_stem.to('cpu')\n",
    "\n",
    "        sdr_metric = SignalDistortionRatio(zero_mean=False)\n",
    "        return sdr_metric(predicted_stem_cpu, original_stem_cpu).item()\n",
    "\n",
    "    else:\n",
    "        raise ValueError(\"sdr_type must be either 'scale_invariant' or 'standard'.\")\n"
   ]
  },
  {
   "cell_type": "markdown",
   "metadata": {},
   "source": [
    "Testing the effect of the volume on the SDR on the same stem"
   ]
  },
  {
   "cell_type": "code",
   "execution_count": 12,
   "metadata": {},
   "outputs": [
    {
     "name": "stderr",
     "output_type": "stream",
     "text": [
      "Processing tracks: 100%|██████████| 50/50 [00:01<00:00, 42.66it/s]"
     ]
    },
    {
     "name": "stdout",
     "output_type": "stream",
     "text": [
      "\n",
      "Average SDR for original volume vs. itself: 104.82 dB\n",
      "Average SDR for different volume vs. original: 92.78 dB\n",
      "Difference in SDR: 12.04 dB\n"
     ]
    },
    {
     "name": "stderr",
     "output_type": "stream",
     "text": [
      "\n"
     ]
    }
   ],
   "source": [
    "def assess_sdr_for_volume_change(volume_change_factor=0.25, verbose=True):\n",
    "    \"\"\"\n",
    "    Assess the Scale-Invariant Signal-to-Distortion Ratio (SDR) for a volume change scenario.\n",
    "    This function retrieves a specific track from the dataset, modifies its volume, and evaluates the SDR\n",
    "    between the original stem and the modified stem.\n",
    "    Args:\n",
    "        volume_change_factor (float): Factor by which to change the volume of the stem (default: 0.25 (-12 dB)).\n",
    "        verbose (bool): If True, prints detailed information about the SDR calculations.\n",
    "    Returns:\n",
    "        tuple: SDR values for the original stem against itself and the modified stem against the original.\n",
    "    \"\"\"\n",
    "    track_names = list(dataset_dict.keys())\n",
    "\n",
    "    sdr_results = []\n",
    "\n",
    "    for track_chosen in tqdm(track_names, desc=\"Processing tracks\"):\n",
    "        # Retrieve the original \"vocals\" waveform from the specified track\n",
    "        original_stem_test = dataset_dict[track_chosen][\"vocals\"]\n",
    "\n",
    "        # Create a new version with a different volume\n",
    "        different_vol_stem_test = original_stem_test * volume_change_factor\n",
    "\n",
    "        # Evaluate SDR when comparing the original stem to itself\n",
    "        sdr_original = evaluate_sdr(original_stem_test, original_stem_test, device=device)\n",
    "\n",
    "        # Evaluate SDR when comparing the scaled stem to the original\n",
    "        sdr_different = evaluate_sdr(original_stem_test, different_vol_stem_test, device=device)\n",
    "\n",
    "        # Append results for this track\n",
    "        sdr_results.append({\n",
    "            \"track\": track_chosen,\n",
    "            \"sdr_original\": sdr_original,\n",
    "            \"sdr_different\": sdr_different\n",
    "        })\n",
    "    \n",
    "    # Calculate the average SDR values across all tracks\n",
    "    sdr_original = np.mean([result[\"sdr_original\"] for result in sdr_results])\n",
    "    sdr_different = np.mean([result[\"sdr_different\"] for result in sdr_results])\n",
    "    if verbose:\n",
    "        print(f\"\\nAverage SDR for original volume vs. itself: {sdr_original:.2f} dB\")\n",
    "        print(f\"Average SDR for different volume vs. original: {sdr_different:.2f} dB\")\n",
    "        print(f\"Difference in SDR: {sdr_original - sdr_different:.2f} dB\")\n",
    "\n",
    "    return sdr_original, sdr_different\n",
    "\n",
    "sdr_original, sdr_different = assess_sdr_for_volume_change()"
   ]
  },
  {
   "cell_type": "markdown",
   "metadata": {},
   "source": [
    "Evaluation of the model in standard usage"
   ]
  },
  {
   "cell_type": "markdown",
   "metadata": {},
   "source": [
    "<b> `compute_sdrs` </b>\n",
    "This function computes the Scale-Invariant Signal-to-Distortion Ratio (SDR) for each stem. It compares the original stems from `stems_dict` with the predicted stems from `separated_sources` using the `evaluate_sdr` function. The SDR values are stored in a dictionary (`sdr_results`) with stem names as keys."
   ]
  },
  {
   "cell_type": "code",
   "execution_count": 13,
   "metadata": {},
   "outputs": [],
   "source": [
    "def compute_sdrs(model, device, stems_dict, separated_sources, sdr_type):\n",
    "    \"\"\"Compute SDRs for each stem.\"\"\"\n",
    "    sdr_results = {stem: [] for stem in model.sources}\n",
    "    for i, stem_name in enumerate(model.sources):\n",
    "        # test normalization\n",
    "        original_stem = stems_dict[stem_name].to(device)\n",
    "        predicted_stem = separated_sources[0, i].to(device)\n",
    "        sdr_value = evaluate_sdr(original_stem, predicted_stem, device=device, sdr_type=sdr_type)\n",
    "        sdr_results[stem_name].append(sdr_value)\n",
    "\n",
    "    return sdr_results"
   ]
  },
  {
   "cell_type": "code",
   "execution_count": 14,
   "metadata": {},
   "outputs": [],
   "source": [
    "def evaluate_sdr_across_dataset(dataset_dict, model, sample_rate, device, normalize, sdr_type, verbose=False):\n",
    "    \"\"\"\n",
    "    Evaluate the SDR for each track in the dataset.\n",
    "    Args:\n",
    "        dataset_dict (dict): Dictionary containing the dataset.\n",
    "        model: The separation model.\n",
    "        sample_rate: Sample rate of the audio.\n",
    "        device: Device to run the model on (CPU or GPU).\n",
    "        normalize: Whether to normalize the input mixture.\n",
    "        verbose (bool): Whether to print detailed logs.\n",
    "        sdr_type (str): Type of SDR to compute \"standard\" or \"scale_invariant\" (default: \"scale_invariant\").\n",
    "    Returns:\n",
    "        average_sdr (dict): Dictionary containing the average SDR for each stem.\n",
    "    \"\"\"\n",
    "    sdr_results = {stem: [] for stem in [\"bass\", \"drums\", \"vocals\", \"other\"]}\n",
    "\n",
    "    sdr_results_list = []\n",
    "\n",
    "    for track_name, stems_dict in tqdm(dataset_dict.items()):\n",
    "        if verbose:\n",
    "            print(f\"Processing track: {track_name}\")\n",
    "\n",
    "        # Ensure the mixture exists in the stems\n",
    "        if \"new_mixture\" not in stems_dict:\n",
    "            mixture = stems_dict[\"mixture\"].to(device).unsqueeze(0)  \n",
    "            if verbose:\n",
    "                print(f\"Skipping track {track_name} as it does not contain a new mixture.\")\n",
    "        else:\n",
    "            # Load the mixture and move it to the correct device\n",
    "            mixture = stems_dict[\"new_mixture\"].to(device).unsqueeze(0)  # Add batch dimension\n",
    "        \n",
    "        # Perform source separation\n",
    "        separated_sources = separate_sources(model, mixture, sample_rate=sample_rate, device=device, normalize=normalize)\n",
    "\n",
    "        # Evaluate SDR for each stem\n",
    "        sdr_results = compute_sdrs(model, device, stems_dict, separated_sources, sdr_type=sdr_type)\n",
    "\n",
    "        if verbose:\n",
    "            print(f\"SDR results for track {track_name}:\")\n",
    "            for stem, sdr_value in sdr_results.items():\n",
    "                print(f\"{stem}: {sdr_value[0]:.2f} dB\")\n",
    "        \n",
    "        # Convert sdr_results to a tensor for this track\n",
    "        sdr_tensor = torch.tensor([sdr_results[stem][0] for stem in model.sources])\n",
    "        \n",
    "        # Append the SDR tensor to the collection\n",
    "        sdr_results_list.append(sdr_tensor)\n",
    "\n",
    "    # Calculate the average and standard deviation SDR for each stem\n",
    "    if sdr_results_list:\n",
    "        sdr_collection = torch.stack(sdr_results_list)\n",
    "        average_sdr = {stem: torch.mean(sdr_collection[:, i]).item() for i, stem in enumerate(model.sources)}\n",
    "        std_sdr = {stem: torch.std(sdr_collection[:, i]).item() for i, stem in enumerate(model.sources)}\n",
    "    else:\n",
    "        average_sdr = {stem: None for stem in model.sources}\n",
    "        std_sdr = {stem: None for stem in model.sources}\n",
    "\n",
    "    if verbose:\n",
    "        print(\"\\nAverage SDR for each stem:\")\n",
    "        for stem, avg_sdr in average_sdr.items():\n",
    "            print(f\"{stem}: {avg_sdr:.2f} dB\" if avg_sdr is not None else f\"{stem}: No data\")\n",
    "        print(\"\\nStandard Deviation of SDR for each stem:\")\n",
    "        for stem, std in std_sdr.items():\n",
    "            print(f\"{stem}: {std:.2f} dB\" if std is not None else f\"{stem}: No data\")\n",
    "\n",
    "    return sdr_collection"
   ]
  },
  {
   "cell_type": "code",
   "execution_count": 15,
   "metadata": {},
   "outputs": [
    {
     "name": "stderr",
     "output_type": "stream",
     "text": [
      "100%|██████████| 50/50 [00:37<00:00,  1.35it/s]\n"
     ]
    }
   ],
   "source": [
    "# Evaluate SDR across the dataset using the provided function using no normalization.\n",
    "sdr_collection = evaluate_sdr_across_dataset(dataset_dict, model, sample_rate, device, sdr_type=\"scale_invariant\", normalize=False)"
   ]
  },
  {
   "cell_type": "code",
   "execution_count": 16,
   "metadata": {},
   "outputs": [],
   "source": [
    "def plot_sdr_results(sdr_collection, model, name):\n",
    "    \"\"\"\n",
    "    Create a box plot for the SDR results for each stem using raw data.\n",
    "\n",
    "    Args:\n",
    "        sdr_collection (torch.Tensor): Tensor containing all SDR results [n_samples, n_stems].\n",
    "        model: Model object containing the sources list.\n",
    "        name (str): Name of the plot to be displayed.\n",
    "    \"\"\"\n",
    "    stems = model.sources\n",
    "    \n",
    "    plt.figure(figsize=(10, 6))\n",
    "\n",
    "    plt.rcParams.update({'font.size': 16})  # Sets default font size for all elements\n",
    "    \n",
    "    # Extract data for each stem\n",
    "    box_data = [sdr_collection[:, i].numpy() for i in range(len(stems))]\n",
    "    \n",
    "    box_plot = plt.boxplot(box_data, labels=stems, patch_artist=True, showfliers=False, orientation=\"horizontal\", notch=True)\n",
    "    \n",
    "    # Color the boxes\n",
    "    colors = ['blue', 'orange', 'green', 'red']\n",
    "    for patch, color in zip(box_plot['boxes'], colors):\n",
    "        patch.set_facecolor(color)\n",
    "        patch.set_alpha(0.7)\n",
    "    \n",
    "    plt.xlabel('SI-SDR (dB)')\n",
    "    plt.ylabel('Stem')\n",
    "    plt.grid(axis='x', alpha=0.3)\n",
    "    if name is None:\n",
    "        plt.title('Box Plot of SDR Results for Each Stem when stem trakc gain is changed')\n",
    "    else:\n",
    "        plt.savefig(f\"{name}_sdr_results.eps\", format='eps', dpi=300, bbox_inches='tight')\n",
    "    plt.show()"
   ]
  },
  {
   "cell_type": "code",
   "execution_count": 17,
   "metadata": {},
   "outputs": [
    {
     "name": "stderr",
     "output_type": "stream",
     "text": [
      "/var/folders/1y/qqxfq_4d3bv6t32r2gml_0qh0000gn/T/ipykernel_89716/4245230490.py:19: MatplotlibDeprecationWarning: The 'labels' parameter of boxplot() has been renamed 'tick_labels' since Matplotlib 3.9; support for the old name will be dropped in 3.11.\n",
      "  box_plot = plt.boxplot(box_data, labels=stems, patch_artist=True, showfliers=False, orientation=\"horizontal\", notch=True)\n",
      "The PostScript backend does not support transparency; partially transparent artists will be rendered opaque.\n"
     ]
    },
    {
     "data": {
      "image/png": "[encoded data removed]",
      "text/plain": [
       "<Figure size 1000x600 with 1 Axes>"
      ]
     },
     "metadata": {},
     "output_type": "display_data"
    }
   ],
   "source": [
    "plot_sdr_results(sdr_collection, model, name=\"boxx_plot_sdr_results\")"
   ]
  },
  {
   "cell_type": "markdown",
   "metadata": {},
   "source": [
    "### Entire Dataset Loading and analysis"
   ]
  },
  {
   "cell_type": "markdown",
   "metadata": {},
   "source": [
    "The following cells has to be run only if we want to compute the standard SDR with mireval of the stems extracted by the HDemucs model. Here no pre-processing on the dataset is done."
   ]
  },
  {
   "cell_type": "code",
   "execution_count": 18,
   "metadata": {},
   "outputs": [
    {
     "name": "stderr",
     "output_type": "stream",
     "text": [
      "  2%|▏         | 1/51 [00:00<00:25,  1.99it/s]"
     ]
    },
    {
     "name": "stdout",
     "output_type": "stream",
     "text": [
      "Warning: file not found /Users/filippo/Library/CloudStorage/OneDrive-PolitecnicodiMilano/Corsi/Music and Acoustic Engineering Capstone 🗝️/Git/DEMIXING/musdb18hq/test/Moosmusic - Big Dummy Shake/new_mixture.wav\n"
     ]
    },
    {
     "name": "stderr",
     "output_type": "stream",
     "text": [
      "  4%|▍         | 2/51 [00:00<00:23,  2.04it/s]"
     ]
    },
    {
     "name": "stdout",
     "output_type": "stream",
     "text": [
      "Warning: file not found /Users/filippo/Library/CloudStorage/OneDrive-PolitecnicodiMilano/Corsi/Music and Acoustic Engineering Capstone 🗝️/Git/DEMIXING/musdb18hq/test/The Mountaineering Club - Mallory/new_mixture.wav\n"
     ]
    },
    {
     "name": "stderr",
     "output_type": "stream",
     "text": [
      "  6%|▌         | 3/51 [00:01<00:22,  2.11it/s]"
     ]
    },
    {
     "name": "stdout",
     "output_type": "stream",
     "text": [
      "Warning: file not found /Users/filippo/Library/CloudStorage/OneDrive-PolitecnicodiMilano/Corsi/Music and Acoustic Engineering Capstone 🗝️/Git/DEMIXING/musdb18hq/test/Bobby Nobody - Stitch Up/new_mixture.wav\n"
     ]
    },
    {
     "name": "stderr",
     "output_type": "stream",
     "text": [
      "  8%|▊         | 4/51 [00:01<00:22,  2.10it/s]"
     ]
    },
    {
     "name": "stdout",
     "output_type": "stream",
     "text": [
      "Warning: file not found /Users/filippo/Library/CloudStorage/OneDrive-PolitecnicodiMilano/Corsi/Music and Acoustic Engineering Capstone 🗝️/Git/DEMIXING/musdb18hq/test/Punkdisco - Oral Hygiene/new_mixture.wav\n"
     ]
    },
    {
     "name": "stderr",
     "output_type": "stream",
     "text": [
      " 10%|▉         | 5/51 [00:02<00:20,  2.23it/s]"
     ]
    },
    {
     "name": "stdout",
     "output_type": "stream",
     "text": [
      "Warning: file not found /Users/filippo/Library/CloudStorage/OneDrive-PolitecnicodiMilano/Corsi/Music and Acoustic Engineering Capstone 🗝️/Git/DEMIXING/musdb18hq/test/Lyndsey Ollard - Catching Up/new_mixture.wav\n"
     ]
    },
    {
     "name": "stderr",
     "output_type": "stream",
     "text": [
      " 12%|█▏        | 6/51 [00:02<00:18,  2.37it/s]"
     ]
    },
    {
     "name": "stdout",
     "output_type": "stream",
     "text": [
      "Warning: file not found /Users/filippo/Library/CloudStorage/OneDrive-PolitecnicodiMilano/Corsi/Music and Acoustic Engineering Capstone 🗝️/Git/DEMIXING/musdb18hq/test/Al James - Schoolboy Facination/new_mixture.wav\n"
     ]
    },
    {
     "name": "stderr",
     "output_type": "stream",
     "text": [
      " 14%|█▎        | 7/51 [00:03<00:18,  2.44it/s]"
     ]
    },
    {
     "name": "stdout",
     "output_type": "stream",
     "text": [
      "Warning: file not found /Users/filippo/Library/CloudStorage/OneDrive-PolitecnicodiMilano/Corsi/Music and Acoustic Engineering Capstone 🗝️/Git/DEMIXING/musdb18hq/test/James Elder & Mark M Thompson - The English Actor/new_mixture.wav\n"
     ]
    },
    {
     "name": "stderr",
     "output_type": "stream",
     "text": [
      " 18%|█▊        | 9/51 [00:03<00:14,  2.99it/s]"
     ]
    },
    {
     "name": "stdout",
     "output_type": "stream",
     "text": [
      "Warning: file not found /Users/filippo/Library/CloudStorage/OneDrive-PolitecnicodiMilano/Corsi/Music and Acoustic Engineering Capstone 🗝️/Git/DEMIXING/musdb18hq/test/Juliet's Rescue - Heartbeats/new_mixture.wav\n"
     ]
    },
    {
     "name": "stderr",
     "output_type": "stream",
     "text": [
      " 20%|█▉        | 10/51 [00:04<00:14,  2.78it/s]"
     ]
    },
    {
     "name": "stdout",
     "output_type": "stream",
     "text": [
      "Warning: file not found /Users/filippo/Library/CloudStorage/OneDrive-PolitecnicodiMilano/Corsi/Music and Acoustic Engineering Capstone 🗝️/Git/DEMIXING/musdb18hq/test/The Easton Ellises - Falcon 69/new_mixture.wav\n"
     ]
    },
    {
     "name": "stderr",
     "output_type": "stream",
     "text": [
      " 22%|██▏       | 11/51 [00:04<00:16,  2.48it/s]"
     ]
    },
    {
     "name": "stdout",
     "output_type": "stream",
     "text": [
      "Warning: file not found /Users/filippo/Library/CloudStorage/OneDrive-PolitecnicodiMilano/Corsi/Music and Acoustic Engineering Capstone 🗝️/Git/DEMIXING/musdb18hq/test/Secretariat - Borderline/new_mixture.wav\n"
     ]
    },
    {
     "name": "stderr",
     "output_type": "stream",
     "text": [
      " 24%|██▎       | 12/51 [00:05<00:17,  2.22it/s]"
     ]
    },
    {
     "name": "stdout",
     "output_type": "stream",
     "text": [
      "Warning: file not found /Users/filippo/Library/CloudStorage/OneDrive-PolitecnicodiMilano/Corsi/Music and Acoustic Engineering Capstone 🗝️/Git/DEMIXING/musdb18hq/test/The Long Wait - Dark Horses/new_mixture.wav\n"
     ]
    },
    {
     "name": "stderr",
     "output_type": "stream",
     "text": [
      " 25%|██▌       | 13/51 [00:05<00:18,  2.05it/s]"
     ]
    },
    {
     "name": "stdout",
     "output_type": "stream",
     "text": [
      "Warning: file not found /Users/filippo/Library/CloudStorage/OneDrive-PolitecnicodiMilano/Corsi/Music and Acoustic Engineering Capstone 🗝️/Git/DEMIXING/musdb18hq/test/Sambasevam Shanmugam - Kaathaadi/new_mixture.wav\n"
     ]
    },
    {
     "name": "stderr",
     "output_type": "stream",
     "text": [
      " 27%|██▋       | 14/51 [00:06<00:16,  2.27it/s]"
     ]
    },
    {
     "name": "stdout",
     "output_type": "stream",
     "text": [
      "Warning: file not found /Users/filippo/Library/CloudStorage/OneDrive-PolitecnicodiMilano/Corsi/Music and Acoustic Engineering Capstone 🗝️/Git/DEMIXING/musdb18hq/test/Signe Jakobsen - What Have You Done To Me/new_mixture.wav\n"
     ]
    },
    {
     "name": "stderr",
     "output_type": "stream",
     "text": [
      " 29%|██▉       | 15/51 [00:06<00:17,  2.10it/s]"
     ]
    },
    {
     "name": "stdout",
     "output_type": "stream",
     "text": [
      "Warning: file not found /Users/filippo/Library/CloudStorage/OneDrive-PolitecnicodiMilano/Corsi/Music and Acoustic Engineering Capstone 🗝️/Git/DEMIXING/musdb18hq/test/Girls Under Glass - We Feel Alright/new_mixture.wav\n"
     ]
    },
    {
     "name": "stderr",
     "output_type": "stream",
     "text": [
      " 31%|███▏      | 16/51 [00:07<00:16,  2.08it/s]"
     ]
    },
    {
     "name": "stdout",
     "output_type": "stream",
     "text": [
      "Warning: file not found /Users/filippo/Library/CloudStorage/OneDrive-PolitecnicodiMilano/Corsi/Music and Acoustic Engineering Capstone 🗝️/Git/DEMIXING/musdb18hq/test/Mu - Too Bright/new_mixture.wav\n"
     ]
    },
    {
     "name": "stderr",
     "output_type": "stream",
     "text": [
      " 33%|███▎      | 17/51 [00:07<00:15,  2.13it/s]"
     ]
    },
    {
     "name": "stdout",
     "output_type": "stream",
     "text": [
      "Warning: file not found /Users/filippo/Library/CloudStorage/OneDrive-PolitecnicodiMilano/Corsi/Music and Acoustic Engineering Capstone 🗝️/Git/DEMIXING/musdb18hq/test/Speak Softly - Broken Man/new_mixture.wav\n"
     ]
    },
    {
     "name": "stderr",
     "output_type": "stream",
     "text": [
      " 35%|███▌      | 18/51 [00:08<00:19,  1.73it/s]"
     ]
    },
    {
     "name": "stdout",
     "output_type": "stream",
     "text": [
      "Warning: file not found /Users/filippo/Library/CloudStorage/OneDrive-PolitecnicodiMilano/Corsi/Music and Acoustic Engineering Capstone 🗝️/Git/DEMIXING/musdb18hq/test/Georgia Wonder - Siren/new_mixture.wav\n"
     ]
    },
    {
     "name": "stderr",
     "output_type": "stream",
     "text": [
      " 37%|███▋      | 19/51 [00:08<00:16,  1.92it/s]"
     ]
    },
    {
     "name": "stdout",
     "output_type": "stream",
     "text": [
      "Warning: file not found /Users/filippo/Library/CloudStorage/OneDrive-PolitecnicodiMilano/Corsi/Music and Acoustic Engineering Capstone 🗝️/Git/DEMIXING/musdb18hq/test/Arise - Run Run Run/new_mixture.wav\n"
     ]
    },
    {
     "name": "stderr",
     "output_type": "stream",
     "text": [
      " 39%|███▉      | 20/51 [00:09<00:15,  2.05it/s]"
     ]
    },
    {
     "name": "stdout",
     "output_type": "stream",
     "text": [
      "Warning: file not found /Users/filippo/Library/CloudStorage/OneDrive-PolitecnicodiMilano/Corsi/Music and Acoustic Engineering Capstone 🗝️/Git/DEMIXING/musdb18hq/test/Raft Monk - Tiring/new_mixture.wav\n"
     ]
    },
    {
     "name": "stderr",
     "output_type": "stream",
     "text": [
      " 41%|████      | 21/51 [00:09<00:15,  1.97it/s]"
     ]
    },
    {
     "name": "stdout",
     "output_type": "stream",
     "text": [
      "Warning: file not found /Users/filippo/Library/CloudStorage/OneDrive-PolitecnicodiMilano/Corsi/Music and Acoustic Engineering Capstone 🗝️/Git/DEMIXING/musdb18hq/test/M.E.R.C. Music - Knockout/new_mixture.wav\n"
     ]
    },
    {
     "name": "stderr",
     "output_type": "stream",
     "text": [
      " 43%|████▎     | 22/51 [00:10<00:13,  2.09it/s]"
     ]
    },
    {
     "name": "stdout",
     "output_type": "stream",
     "text": [
      "Warning: file not found /Users/filippo/Library/CloudStorage/OneDrive-PolitecnicodiMilano/Corsi/Music and Acoustic Engineering Capstone 🗝️/Git/DEMIXING/musdb18hq/test/Triviul feat. The Fiend - Widow/new_mixture.wav\n"
     ]
    },
    {
     "name": "stderr",
     "output_type": "stream",
     "text": [
      " 45%|████▌     | 23/51 [00:10<00:11,  2.34it/s]"
     ]
    },
    {
     "name": "stdout",
     "output_type": "stream",
     "text": [
      "Warning: file not found /Users/filippo/Library/CloudStorage/OneDrive-PolitecnicodiMilano/Corsi/Music and Acoustic Engineering Capstone 🗝️/Git/DEMIXING/musdb18hq/test/Tom McKenzie - Directions/new_mixture.wav\n"
     ]
    },
    {
     "name": "stderr",
     "output_type": "stream",
     "text": [
      " 47%|████▋     | 24/51 [00:10<00:12,  2.21it/s]"
     ]
    },
    {
     "name": "stdout",
     "output_type": "stream",
     "text": [
      "Warning: file not found /Users/filippo/Library/CloudStorage/OneDrive-PolitecnicodiMilano/Corsi/Music and Acoustic Engineering Capstone 🗝️/Git/DEMIXING/musdb18hq/test/Timboz - Pony/new_mixture.wav\n"
     ]
    },
    {
     "name": "stderr",
     "output_type": "stream",
     "text": [
      " 49%|████▉     | 25/51 [00:11<00:13,  1.91it/s]"
     ]
    },
    {
     "name": "stdout",
     "output_type": "stream",
     "text": [
      "Warning: file not found /Users/filippo/Library/CloudStorage/OneDrive-PolitecnicodiMilano/Corsi/Music and Acoustic Engineering Capstone 🗝️/Git/DEMIXING/musdb18hq/test/BKS - Bulldozer/new_mixture.wav\n"
     ]
    },
    {
     "name": "stderr",
     "output_type": "stream",
     "text": [
      " 51%|█████     | 26/51 [00:12<00:14,  1.78it/s]"
     ]
    },
    {
     "name": "stdout",
     "output_type": "stream",
     "text": [
      "Warning: file not found /Users/filippo/Library/CloudStorage/OneDrive-PolitecnicodiMilano/Corsi/Music and Acoustic Engineering Capstone 🗝️/Git/DEMIXING/musdb18hq/test/The Sunshine Garcia Band - For I Am The Moon/new_mixture.wav\n"
     ]
    },
    {
     "name": "stderr",
     "output_type": "stream",
     "text": [
      " 53%|█████▎    | 27/51 [00:12<00:13,  1.84it/s]"
     ]
    },
    {
     "name": "stdout",
     "output_type": "stream",
     "text": [
      "Warning: file not found /Users/filippo/Library/CloudStorage/OneDrive-PolitecnicodiMilano/Corsi/Music and Acoustic Engineering Capstone 🗝️/Git/DEMIXING/musdb18hq/test/The Easton Ellises (Baumi) - SDRNR/new_mixture.wav\n"
     ]
    },
    {
     "name": "stderr",
     "output_type": "stream",
     "text": [
      " 55%|█████▍    | 28/51 [00:13<00:11,  1.94it/s]"
     ]
    },
    {
     "name": "stdout",
     "output_type": "stream",
     "text": [
      "Warning: file not found /Users/filippo/Library/CloudStorage/OneDrive-PolitecnicodiMilano/Corsi/Music and Acoustic Engineering Capstone 🗝️/Git/DEMIXING/musdb18hq/test/AM Contra - Heart Peripheral/new_mixture.wav\n"
     ]
    },
    {
     "name": "stderr",
     "output_type": "stream",
     "text": [
      " 57%|█████▋    | 29/51 [00:13<00:12,  1.79it/s]"
     ]
    },
    {
     "name": "stdout",
     "output_type": "stream",
     "text": [
      "Warning: file not found /Users/filippo/Library/CloudStorage/OneDrive-PolitecnicodiMilano/Corsi/Music and Acoustic Engineering Capstone 🗝️/Git/DEMIXING/musdb18hq/test/The Doppler Shift - Atrophy/new_mixture.wav\n"
     ]
    },
    {
     "name": "stderr",
     "output_type": "stream",
     "text": [
      " 59%|█████▉    | 30/51 [00:14<00:11,  1.83it/s]"
     ]
    },
    {
     "name": "stdout",
     "output_type": "stream",
     "text": [
      "Warning: file not found /Users/filippo/Library/CloudStorage/OneDrive-PolitecnicodiMilano/Corsi/Music and Acoustic Engineering Capstone 🗝️/Git/DEMIXING/musdb18hq/test/Motor Tapes - Shore/new_mixture.wav\n"
     ]
    },
    {
     "name": "stderr",
     "output_type": "stream",
     "text": [
      " 61%|██████    | 31/51 [00:14<00:10,  1.98it/s]"
     ]
    },
    {
     "name": "stdout",
     "output_type": "stream",
     "text": [
      "Warning: file not found /Users/filippo/Library/CloudStorage/OneDrive-PolitecnicodiMilano/Corsi/Music and Acoustic Engineering Capstone 🗝️/Git/DEMIXING/musdb18hq/test/Detsky Sad - Walkie Talkie/new_mixture.wav\n"
     ]
    },
    {
     "name": "stderr",
     "output_type": "stream",
     "text": [
      " 63%|██████▎   | 32/51 [00:15<00:09,  1.91it/s]"
     ]
    },
    {
     "name": "stdout",
     "output_type": "stream",
     "text": [
      "Warning: file not found /Users/filippo/Library/CloudStorage/OneDrive-PolitecnicodiMilano/Corsi/Music and Acoustic Engineering Capstone 🗝️/Git/DEMIXING/musdb18hq/test/Buitraker - Revo X/new_mixture.wav\n"
     ]
    },
    {
     "name": "stderr",
     "output_type": "stream",
     "text": [
      " 65%|██████▍   | 33/51 [00:15<00:09,  1.83it/s]"
     ]
    },
    {
     "name": "stdout",
     "output_type": "stream",
     "text": [
      "Warning: file not found /Users/filippo/Library/CloudStorage/OneDrive-PolitecnicodiMilano/Corsi/Music and Acoustic Engineering Capstone 🗝️/Git/DEMIXING/musdb18hq/test/Little Chicago's Finest - My Own/new_mixture.wav\n"
     ]
    },
    {
     "name": "stderr",
     "output_type": "stream",
     "text": [
      " 67%|██████▋   | 34/51 [00:16<00:08,  1.89it/s]"
     ]
    },
    {
     "name": "stdout",
     "output_type": "stream",
     "text": [
      "Warning: file not found /Users/filippo/Library/CloudStorage/OneDrive-PolitecnicodiMilano/Corsi/Music and Acoustic Engineering Capstone 🗝️/Git/DEMIXING/musdb18hq/test/Zeno - Signs/new_mixture.wav\n"
     ]
    },
    {
     "name": "stderr",
     "output_type": "stream",
     "text": [
      " 69%|██████▊   | 35/51 [00:16<00:07,  2.13it/s]"
     ]
    },
    {
     "name": "stdout",
     "output_type": "stream",
     "text": [
      "Warning: file not found /Users/filippo/Library/CloudStorage/OneDrive-PolitecnicodiMilano/Corsi/Music and Acoustic Engineering Capstone 🗝️/Git/DEMIXING/musdb18hq/test/Hollow Ground - Ill Fate/new_mixture.wav\n"
     ]
    },
    {
     "name": "stderr",
     "output_type": "stream",
     "text": [
      " 71%|███████   | 36/51 [00:17<00:07,  2.03it/s]"
     ]
    },
    {
     "name": "stdout",
     "output_type": "stream",
     "text": [
      "Warning: file not found /Users/filippo/Library/CloudStorage/OneDrive-PolitecnicodiMilano/Corsi/Music and Acoustic Engineering Capstone 🗝️/Git/DEMIXING/musdb18hq/test/Cristina Vane - So Easy/new_mixture.wav\n"
     ]
    },
    {
     "name": "stderr",
     "output_type": "stream",
     "text": [
      " 73%|███████▎  | 37/51 [00:17<00:07,  1.91it/s]"
     ]
    },
    {
     "name": "stdout",
     "output_type": "stream",
     "text": [
      "Warning: file not found /Users/filippo/Library/CloudStorage/OneDrive-PolitecnicodiMilano/Corsi/Music and Acoustic Engineering Capstone 🗝️/Git/DEMIXING/musdb18hq/test/Speak Softly - Like Horses/new_mixture.wav\n"
     ]
    },
    {
     "name": "stderr",
     "output_type": "stream",
     "text": [
      " 75%|███████▍  | 38/51 [00:18<00:06,  1.94it/s]"
     ]
    },
    {
     "name": "stdout",
     "output_type": "stream",
     "text": [
      "Warning: file not found /Users/filippo/Library/CloudStorage/OneDrive-PolitecnicodiMilano/Corsi/Music and Acoustic Engineering Capstone 🗝️/Git/DEMIXING/musdb18hq/test/Side Effects Project - Sing With Me/new_mixture.wav\n"
     ]
    },
    {
     "name": "stderr",
     "output_type": "stream",
     "text": [
      " 76%|███████▋  | 39/51 [00:19<00:07,  1.62it/s]"
     ]
    },
    {
     "name": "stdout",
     "output_type": "stream",
     "text": [
      "Warning: file not found /Users/filippo/Library/CloudStorage/OneDrive-PolitecnicodiMilano/Corsi/Music and Acoustic Engineering Capstone 🗝️/Git/DEMIXING/musdb18hq/test/Skelpolu - Resurrection/new_mixture.wav\n"
     ]
    },
    {
     "name": "stderr",
     "output_type": "stream",
     "text": [
      " 78%|███████▊  | 40/51 [00:19<00:07,  1.56it/s]"
     ]
    },
    {
     "name": "stdout",
     "output_type": "stream",
     "text": [
      "Warning: file not found /Users/filippo/Library/CloudStorage/OneDrive-PolitecnicodiMilano/Corsi/Music and Acoustic Engineering Capstone 🗝️/Git/DEMIXING/musdb18hq/test/Nerve 9 - Pray For The Rain/new_mixture.wav\n"
     ]
    },
    {
     "name": "stderr",
     "output_type": "stream",
     "text": [
      " 80%|████████  | 41/51 [00:20<00:06,  1.66it/s]"
     ]
    },
    {
     "name": "stdout",
     "output_type": "stream",
     "text": [
      "Warning: file not found /Users/filippo/Library/CloudStorage/OneDrive-PolitecnicodiMilano/Corsi/Music and Acoustic Engineering Capstone 🗝️/Git/DEMIXING/musdb18hq/test/Louis Cressy Band - Good Time/new_mixture.wav\n"
     ]
    },
    {
     "name": "stderr",
     "output_type": "stream",
     "text": [
      " 82%|████████▏ | 42/51 [00:20<00:04,  1.89it/s]"
     ]
    },
    {
     "name": "stdout",
     "output_type": "stream",
     "text": [
      "Warning: file not found /Users/filippo/Library/CloudStorage/OneDrive-PolitecnicodiMilano/Corsi/Music and Acoustic Engineering Capstone 🗝️/Git/DEMIXING/musdb18hq/test/Angels In Amplifiers - I'm Alright/new_mixture.wav\n"
     ]
    },
    {
     "name": "stderr",
     "output_type": "stream",
     "text": [
      " 84%|████████▍ | 43/51 [00:21<00:04,  1.96it/s]"
     ]
    },
    {
     "name": "stdout",
     "output_type": "stream",
     "text": [
      "Warning: file not found /Users/filippo/Library/CloudStorage/OneDrive-PolitecnicodiMilano/Corsi/Music and Acoustic Engineering Capstone 🗝️/Git/DEMIXING/musdb18hq/test/Ben Carrigan - We'll Talk About It All Tonight/new_mixture.wav\n"
     ]
    },
    {
     "name": "stderr",
     "output_type": "stream",
     "text": [
      " 86%|████████▋ | 44/51 [00:21<00:03,  2.09it/s]"
     ]
    },
    {
     "name": "stdout",
     "output_type": "stream",
     "text": [
      "Warning: file not found /Users/filippo/Library/CloudStorage/OneDrive-PolitecnicodiMilano/Corsi/Music and Acoustic Engineering Capstone 🗝️/Git/DEMIXING/musdb18hq/test/BKS - Too Much/new_mixture.wav\n"
     ]
    },
    {
     "name": "stderr",
     "output_type": "stream",
     "text": [
      " 88%|████████▊ | 45/51 [00:22<00:02,  2.13it/s]"
     ]
    },
    {
     "name": "stdout",
     "output_type": "stream",
     "text": [
      "Warning: file not found /Users/filippo/Library/CloudStorage/OneDrive-PolitecnicodiMilano/Corsi/Music and Acoustic Engineering Capstone 🗝️/Git/DEMIXING/musdb18hq/test/Carlos Gonzalez - A Place For Us/new_mixture.wav\n"
     ]
    },
    {
     "name": "stderr",
     "output_type": "stream",
     "text": [
      " 90%|█████████ | 46/51 [00:22<00:02,  2.17it/s]"
     ]
    },
    {
     "name": "stdout",
     "output_type": "stream",
     "text": [
      "Warning: file not found /Users/filippo/Library/CloudStorage/OneDrive-PolitecnicodiMilano/Corsi/Music and Acoustic Engineering Capstone 🗝️/Git/DEMIXING/musdb18hq/test/Secretariat - Over The Top/new_mixture.wav\n"
     ]
    },
    {
     "name": "stderr",
     "output_type": "stream",
     "text": [
      " 92%|█████████▏| 47/51 [00:22<00:01,  2.30it/s]"
     ]
    },
    {
     "name": "stdout",
     "output_type": "stream",
     "text": [
      "Warning: file not found /Users/filippo/Library/CloudStorage/OneDrive-PolitecnicodiMilano/Corsi/Music and Acoustic Engineering Capstone 🗝️/Git/DEMIXING/musdb18hq/test/We Fell From The Sky - Not You/new_mixture.wav\n"
     ]
    },
    {
     "name": "stderr",
     "output_type": "stream",
     "text": [
      " 94%|█████████▍| 48/51 [00:23<00:01,  2.45it/s]"
     ]
    },
    {
     "name": "stdout",
     "output_type": "stream",
     "text": [
      "Warning: file not found /Users/filippo/Library/CloudStorage/OneDrive-PolitecnicodiMilano/Corsi/Music and Acoustic Engineering Capstone 🗝️/Git/DEMIXING/musdb18hq/test/Enda Reilly - Cur An Long Ag Seol/new_mixture.wav\n"
     ]
    },
    {
     "name": "stderr",
     "output_type": "stream",
     "text": [
      " 96%|█████████▌| 49/51 [00:23<00:00,  2.25it/s]"
     ]
    },
    {
     "name": "stdout",
     "output_type": "stream",
     "text": [
      "Warning: file not found /Users/filippo/Library/CloudStorage/OneDrive-PolitecnicodiMilano/Corsi/Music and Acoustic Engineering Capstone 🗝️/Git/DEMIXING/musdb18hq/test/Forkupines - Semantics/new_mixture.wav\n"
     ]
    },
    {
     "name": "stderr",
     "output_type": "stream",
     "text": [
      "100%|██████████| 51/51 [00:24<00:00,  2.10it/s]"
     ]
    },
    {
     "name": "stdout",
     "output_type": "stream",
     "text": [
      "Warning: file not found /Users/filippo/Library/CloudStorage/OneDrive-PolitecnicodiMilano/Corsi/Music and Acoustic Engineering Capstone 🗝️/Git/DEMIXING/musdb18hq/test/PR - Happy Daze/new_mixture.wav\n",
      "Warning: file not found /Users/filippo/Library/CloudStorage/OneDrive-PolitecnicodiMilano/Corsi/Music and Acoustic Engineering Capstone 🗝️/Git/DEMIXING/musdb18hq/test/PR - Oh No/new_mixture.wav\n"
     ]
    },
    {
     "name": "stderr",
     "output_type": "stream",
     "text": [
      "\n"
     ]
    }
   ],
   "source": [
    "entire_dataset_dict = load_dataset(DATASET_FOLDER)"
   ]
  },
  {
   "cell_type": "markdown",
   "metadata": {},
   "source": [
    "Check if new_mixture is present or not"
   ]
  },
  {
   "cell_type": "code",
   "execution_count": null,
   "metadata": {},
   "outputs": [
    {
     "name": "stdout",
     "output_type": "stream",
     "text": [
      "dict_keys(['mixture', 'drums', 'bass', 'vocals', 'other'])\n"
     ]
    },
    {
     "ename": "",
     "evalue": "",
     "output_type": "error",
     "traceback": [
      "\u001b[1;31mThe Kernel crashed while executing code in the current cell or a previous cell. \n",
      "\u001b[1;31mPlease review the code in the cell(s) to identify a possible cause of the failure. \n",
      "\u001b[1;31mClick <a href='https://aka.ms/vscodeJupyterKernelCrash'>here</a> for more info. \n",
      "\u001b[1;31mView Jupyter <a href='command:jupyter.viewOutput'>log</a> for further details."
     ]
    }
   ],
   "source": [
    "print(entire_dataset_dict['Moosmusic - Big Dummy Shake'].keys())"
   ]
  },
  {
   "cell_type": "code",
   "execution_count": null,
   "metadata": {},
   "outputs": [
    {
     "name": "stderr",
     "output_type": "stream",
     "text": [
      "  0%|          | 0/50 [00:00<?, ?it/s]"
     ]
    },
    {
     "name": "stdout",
     "output_type": "stream",
     "text": [
      "Processing track: Moosmusic - Big Dummy Shake\n",
      "Skipping track Moosmusic - Big Dummy Shake as it does not contain a new mixture.\n"
     ]
    },
    {
     "name": "stderr",
     "output_type": "stream",
     "text": [
      "  2%|▏         | 1/50 [01:05<53:10, 65.10s/it]"
     ]
    },
    {
     "name": "stdout",
     "output_type": "stream",
     "text": [
      "SDR results for track Moosmusic - Big Dummy Shake:\n",
      "drums: 13.27 dB\n",
      "bass: 10.24 dB\n",
      "other: 7.64 dB\n",
      "vocals: 11.79 dB\n",
      "Processing track: The Mountaineering Club - Mallory\n",
      "Skipping track The Mountaineering Club - Mallory as it does not contain a new mixture.\n"
     ]
    },
    {
     "name": "stderr",
     "output_type": "stream",
     "text": [
      "  4%|▍         | 2/50 [02:16<55:05, 68.86s/it]"
     ]
    },
    {
     "name": "stdout",
     "output_type": "stream",
     "text": [
      "SDR results for track The Mountaineering Club - Mallory:\n",
      "drums: 12.90 dB\n",
      "bass: 12.67 dB\n",
      "other: 8.37 dB\n",
      "vocals: 11.60 dB\n",
      "Processing track: Bobby Nobody - Stitch Up\n",
      "Skipping track Bobby Nobody - Stitch Up as it does not contain a new mixture.\n"
     ]
    },
    {
     "name": "stderr",
     "output_type": "stream",
     "text": [
      "  6%|▌         | 3/50 [03:18<51:34, 65.83s/it]"
     ]
    },
    {
     "name": "stdout",
     "output_type": "stream",
     "text": [
      "SDR results for track Bobby Nobody - Stitch Up:\n",
      "drums: 7.93 dB\n",
      "bass: 10.06 dB\n",
      "other: 6.79 dB\n",
      "vocals: 9.49 dB\n",
      "Processing track: Punkdisco - Oral Hygiene\n",
      "Skipping track Punkdisco - Oral Hygiene as it does not contain a new mixture.\n"
     ]
    },
    {
     "name": "stderr",
     "output_type": "stream",
     "text": [
      "  8%|▊         | 4/50 [04:22<49:46, 64.93s/it]"
     ]
    },
    {
     "name": "stdout",
     "output_type": "stream",
     "text": [
      "SDR results for track Punkdisco - Oral Hygiene:\n",
      "drums: 16.06 dB\n",
      "bass: 16.24 dB\n",
      "other: 6.58 dB\n",
      "vocals: 10.61 dB\n",
      "Processing track: Lyndsey Ollard - Catching Up\n",
      "Skipping track Lyndsey Ollard - Catching Up as it does not contain a new mixture.\n"
     ]
    },
    {
     "name": "stderr",
     "output_type": "stream",
     "text": [
      " 10%|█         | 5/50 [05:27<48:52, 65.16s/it]"
     ]
    },
    {
     "name": "stdout",
     "output_type": "stream",
     "text": [
      "SDR results for track Lyndsey Ollard - Catching Up:\n",
      "drums: 8.41 dB\n",
      "bass: 11.83 dB\n",
      "other: 7.44 dB\n",
      "vocals: 15.44 dB\n",
      "Processing track: Al James - Schoolboy Facination\n",
      "Skipping track Al James - Schoolboy Facination as it does not contain a new mixture.\n"
     ]
    },
    {
     "name": "stderr",
     "output_type": "stream",
     "text": [
      " 12%|█▏        | 6/50 [06:26<46:05, 62.85s/it]"
     ]
    },
    {
     "name": "stdout",
     "output_type": "stream",
     "text": [
      "SDR results for track Al James - Schoolboy Facination:\n",
      "drums: 6.89 dB\n",
      "bass: 12.25 dB\n",
      "other: 3.27 dB\n",
      "vocals: 8.17 dB\n",
      "Processing track: James Elder & Mark M Thompson - The English Actor\n",
      "Skipping track James Elder & Mark M Thompson - The English Actor as it does not contain a new mixture.\n"
     ]
    },
    {
     "name": "stderr",
     "output_type": "stream",
     "text": [
      " 14%|█▍        | 7/50 [07:24<43:51, 61.21s/it]"
     ]
    },
    {
     "name": "stdout",
     "output_type": "stream",
     "text": [
      "SDR results for track James Elder & Mark M Thompson - The English Actor:\n",
      "drums: 10.41 dB\n",
      "bass: 8.75 dB\n",
      "other: 6.91 dB\n",
      "vocals: 7.79 dB\n",
      "Processing track: Juliet's Rescue - Heartbeats\n",
      "Skipping track Juliet's Rescue - Heartbeats as it does not contain a new mixture.\n"
     ]
    },
    {
     "name": "stderr",
     "output_type": "stream",
     "text": [
      " 16%|█▌        | 8/50 [08:52<48:47, 69.71s/it]"
     ]
    },
    {
     "name": "stdout",
     "output_type": "stream",
     "text": [
      "SDR results for track Juliet's Rescue - Heartbeats:\n",
      "drums: 15.93 dB\n",
      "bass: 5.09 dB\n",
      "other: 8.04 dB\n",
      "vocals: 10.06 dB\n",
      "Processing track: The Easton Ellises - Falcon 69\n",
      "Skipping track The Easton Ellises - Falcon 69 as it does not contain a new mixture.\n"
     ]
    },
    {
     "name": "stderr",
     "output_type": "stream",
     "text": [
      " 18%|█▊        | 9/50 [10:12<50:00, 73.19s/it]"
     ]
    },
    {
     "name": "stdout",
     "output_type": "stream",
     "text": [
      "SDR results for track The Easton Ellises - Falcon 69:\n",
      "drums: 10.49 dB\n",
      "bass: 8.79 dB\n",
      "other: 3.93 dB\n",
      "vocals: 4.84 dB\n",
      "Processing track: Secretariat - Borderline\n",
      "Skipping track Secretariat - Borderline as it does not contain a new mixture.\n"
     ]
    },
    {
     "name": "stderr",
     "output_type": "stream",
     "text": [
      " 20%|██        | 10/50 [11:45<52:53, 79.33s/it]"
     ]
    },
    {
     "name": "stdout",
     "output_type": "stream",
     "text": [
      "SDR results for track Secretariat - Borderline:\n",
      "drums: 7.80 dB\n",
      "bass: 6.67 dB\n",
      "other: 8.97 dB\n",
      "vocals: 7.97 dB\n",
      "Processing track: The Long Wait - Dark Horses\n",
      "Skipping track The Long Wait - Dark Horses as it does not contain a new mixture.\n"
     ]
    },
    {
     "name": "stderr",
     "output_type": "stream",
     "text": [
      " 22%|██▏       | 11/50 [13:43<59:15, 91.16s/it]"
     ]
    },
    {
     "name": "stdout",
     "output_type": "stream",
     "text": [
      "SDR results for track The Long Wait - Dark Horses:\n",
      "drums: 9.13 dB\n",
      "bass: 9.89 dB\n",
      "other: 7.08 dB\n",
      "vocals: 9.23 dB\n",
      "Processing track: Sambasevam Shanmugam - Kaathaadi\n",
      "Skipping track Sambasevam Shanmugam - Kaathaadi as it does not contain a new mixture.\n"
     ]
    },
    {
     "name": "stderr",
     "output_type": "stream",
     "text": [
      " 24%|██▍       | 12/50 [15:49<1:04:25, 101.72s/it]"
     ]
    },
    {
     "name": "stdout",
     "output_type": "stream",
     "text": [
      "SDR results for track Sambasevam Shanmugam - Kaathaadi:\n",
      "drums: 10.72 dB\n",
      "bass: 14.82 dB\n",
      "other: 10.28 dB\n",
      "vocals: 13.37 dB\n",
      "Processing track: Signe Jakobsen - What Have You Done To Me\n",
      "Skipping track Signe Jakobsen - What Have You Done To Me as it does not contain a new mixture.\n"
     ]
    },
    {
     "name": "stderr",
     "output_type": "stream",
     "text": [
      " 26%|██▌       | 13/50 [16:32<51:39, 83.76s/it]   "
     ]
    },
    {
     "name": "stdout",
     "output_type": "stream",
     "text": [
      "SDR results for track Signe Jakobsen - What Have You Done To Me:\n",
      "drums: 6.10 dB\n",
      "bass: 5.37 dB\n",
      "other: 7.28 dB\n",
      "vocals: 10.96 dB\n",
      "Processing track: Girls Under Glass - We Feel Alright\n",
      "Skipping track Girls Under Glass - We Feel Alright as it does not contain a new mixture.\n"
     ]
    },
    {
     "name": "stderr",
     "output_type": "stream",
     "text": [
      " 28%|██▊       | 14/50 [18:24<55:24, 92.36s/it]"
     ]
    },
    {
     "name": "stdout",
     "output_type": "stream",
     "text": [
      "SDR results for track Girls Under Glass - We Feel Alright:\n",
      "drums: 12.16 dB\n",
      "bass: 8.79 dB\n",
      "other: 7.73 dB\n",
      "vocals: 5.90 dB\n",
      "Processing track: Mu - Too Bright\n",
      "Skipping track Mu - Too Bright as it does not contain a new mixture.\n"
     ]
    },
    {
     "name": "stderr",
     "output_type": "stream",
     "text": [
      " 30%|███       | 15/50 [19:49<52:31, 90.03s/it]"
     ]
    },
    {
     "name": "stdout",
     "output_type": "stream",
     "text": [
      "SDR results for track Mu - Too Bright:\n",
      "drums: 15.44 dB\n",
      "bass: 12.70 dB\n",
      "other: 8.71 dB\n",
      "vocals: 10.45 dB\n",
      "Processing track: Speak Softly - Broken Man\n",
      "Skipping track Speak Softly - Broken Man as it does not contain a new mixture.\n"
     ]
    },
    {
     "name": "stderr",
     "output_type": "stream",
     "text": [
      " 32%|███▏      | 16/50 [21:06<48:55, 86.34s/it]"
     ]
    },
    {
     "name": "stdout",
     "output_type": "stream",
     "text": [
      "SDR results for track Speak Softly - Broken Man:\n",
      "drums: 13.47 dB\n",
      "bass: 21.72 dB\n",
      "other: 11.37 dB\n",
      "vocals: 6.66 dB\n",
      "Processing track: Georgia Wonder - Siren\n",
      "Skipping track Georgia Wonder - Siren as it does not contain a new mixture.\n"
     ]
    }
   ],
   "source": [
    "sdr_collection_entire_dataset = evaluate_sdr_across_dataset(entire_dataset_dict, model, sample_rate, cpu_device, sdr_type=\"standard\", normalize=False, verbose=True)"
   ]
  },
  {
   "cell_type": "code",
   "execution_count": null,
   "metadata": {},
   "outputs": [],
   "source": [
    "plot_sdr_results(sdr_collection_entire_dataset, model, name=\"boxx_plot_sdr_results\")"
   ]
  },
  {
   "cell_type": "markdown",
   "metadata": {},
   "source": [
    "## Motivation"
   ]
  },
  {
   "cell_type": "code",
   "execution_count": null,
   "metadata": {},
   "outputs": [],
   "source": [
    "def generate_new_mixture_with_original_stems(mix, device, stems_dict, target_stem, step, steps):\n",
    "    \"\"\"\n",
    "    Generate a new mixture by adding up the original stems of the song and increasing\n",
    "    the volume of the target stem linearly based on the step and steps.\n",
    "\n",
    "    Args:\n",
    "        mix (torch.Tensor): Original mixture tensor.\n",
    "        device (torch.device): Device to run the computation on.\n",
    "        stems_dict (dict): Dictionary containing the original stems of the song.\n",
    "        target_stem (str): The stem to be enhanced in the new mixture.\n",
    "        step (int): Current step in the progressive inference.\n",
    "        steps (int): Total number of steps in the progressive inference.\n",
    "\n",
    "    Returns:\n",
    "        torch.Tensor: The new mixture tensor.\n",
    "        float: Beta value indicating the proportion of the target stem in the new mixture.\n",
    "    \"\"\"\n",
    "    new_mix = torch.zeros_like(mix)\n",
    "\n",
    "    beta = step / steps\n",
    "\n",
    "    for stem_name, waveform in stems_dict.items():\n",
    "        if stem_name == target_stem:\n",
    "            # Keep the target stem at normal volume\n",
    "            new_mix += waveform.to(device)\n",
    "        else:\n",
    "            # Decrease the volume of other stems linearly\n",
    "            new_mix += waveform.to(device) * (1-beta)\n",
    "\n",
    "\n",
    "    tmp_mix = torch.zeros_like(mix)\n",
    "    for stem_name, waveform in stems_dict.items():\n",
    "        tmp_mix += waveform.to(device) \n",
    "\n",
    "    # calculate the volume of tmp_mix\n",
    "    max_tmp_mix = torch.max(torch.abs(tmp_mix))\n",
    "\n",
    "    # claculate the volume of the mix\n",
    "    max_mix = torch.max(torch.abs(mix))\n",
    "\n",
    "    # scale the new_mix to have the same loudness as the mix\n",
    "    new_mix *= (max_mix / max_tmp_mix)\n",
    "\n",
    "    return new_mix, beta"
   ]
  },
  {
   "cell_type": "code",
   "execution_count": null,
   "metadata": {},
   "outputs": [],
   "source": [
    "def schedule(initial_gains, step, steps, target_stem, schedule_type):\n",
    "    \"\"\"\n",
    "    Create a schedule for all stems' gains except the target stem based on the specified schedule type.\n",
    "\n",
    "    Args:\n",
    "        initial_gains (dict): Dictionary of initial gains for each stem.\n",
    "        step (int): The current step in the schedule.\n",
    "        steps (int): The total number of steps in the schedule.\n",
    "        target_stem (str): The stem to keep unchanged.\n",
    "        schedule_type (str): The type of schedule ('linear', or 'constant').\n",
    "\n",
    "    Returns:\n",
    "        dict: Updated gains for each stem.\n",
    "    \"\"\"\n",
    "    updated_gains = initial_gains.copy()\n",
    "\n",
    "    for stem_name in updated_gains:\n",
    "        if stem_name != target_stem:\n",
    "            if schedule_type == \"linear\":\n",
    "                # Linear decrease for non-target stems\n",
    "                updated_gains[stem_name] = initial_gains[stem_name] * (1 - step / steps)\n",
    "            elif schedule_type == \"constant\":\n",
    "                # Constant gain for non-target stems\n",
    "                updated_gains[stem_name] = initial_gains[stem_name]\n",
    "            else:\n",
    "                raise ValueError(\"Invalid schedule type. Choose from 'linear', or 'constant'.\")\n",
    "        # Target stem remains unchanged at its initial gain\n",
    "\n",
    "    return updated_gains"
   ]
  },
  {
   "cell_type": "code",
   "execution_count": null,
   "metadata": {},
   "outputs": [],
   "source": [
    "def add_up_all_sources(model, mix, target_stem, initial_gains, steps, schedule_type, separated_sources, step):\n",
    "    \"\"\"\n",
    "    Generate a new mixture based on the current step and schedule type.\n",
    "    Args:\n",
    "        model: The separation model.\n",
    "        mix: The input mixture tensor (batch, channels, length).\n",
    "        target_stem: The target stem to be enhanced.\n",
    "        initial_gains: Initial gains for each stem.\n",
    "        steps: Number of steps for progressive inference.\n",
    "        schedule_type: Type of schedule ('linear', 'exponential', or 'constant').\n",
    "        separated_sources: The separated sources tensor (batch, sources, channels, length).\n",
    "        step: Current step in the schedule.\n",
    "    Returns:\n",
    "        new_mix: The new mixture tensor after applying the gains.\n",
    "    \"\"\"\n",
    "    # update the gains based on the schedule\n",
    "    gains = schedule(initial_gains, step, steps, target_stem=target_stem, schedule_type=schedule_type)\n",
    "\n",
    "    beta = None\n",
    "\n",
    "    # create the new mixture and apply the gains to the separated sources\n",
    "    new_mix = torch.zeros_like(mix)\n",
    "    for i, stem_name in enumerate(model.sources):\n",
    "        new_mix += separated_sources[:, i] * gains[stem_name]\n",
    "        if stem_name != target_stem and beta is None:\n",
    "            beta = 1 - gains[stem_name]\n",
    "\n",
    "    return new_mix, beta\n"
   ]
  },
  {
   "cell_type": "code",
   "execution_count": null,
   "metadata": {},
   "outputs": [],
   "source": [
    "def add_target_to_mixture(mix, separated_sources, index, step, steps):\n",
    "    \"\"\"\n",
    "    Create a new mixture by applying a function inspired by diffusion models.\n",
    "    This function progressively adds the target stem from the separated sources to the original mixture.\n",
    "    The amount added is controlled by the step in the progressive inference.\n",
    "    The new mixture is normalized to ensure it does not exceed the maximum amplitude.\n",
    "\n",
    "    Args:\n",
    "        mix (torch.Tensor): Original mixture tensor.\n",
    "        separated_sources (torch.Tensor): Tensor of separated sources.\n",
    "        index (int): Index of the target stem in the separated sources.\n",
    "        step (int): Current step in the progressive inference.\n",
    "        steps (int): Total number of steps.\n",
    "\n",
    "    Returns:\n",
    "        torch.Tensor: New mixture tensor.\n",
    "        float: Beta value indicating the proportion of the target stem added to the mixture.\n",
    "    \"\"\"\n",
    "    new_mix = torch.zeros_like(mix)\n",
    "    beta = step / steps\n",
    "    new_mix = mix * (1 - beta) + separated_sources[:, index] * beta\n",
    "    \n",
    "    return new_mix, beta\n"
   ]
  },
  {
   "cell_type": "code",
   "execution_count": null,
   "metadata": {},
   "outputs": [],
   "source": [
    "def wiener_filtering(separated_sources, reference_stem, stem_index):\n",
    "    \"\"\"\n",
    "    Apply Wiener filtering to improve the separation of a target stem.\n",
    "\n",
    "    Args:\n",
    "        separated_sources (torch.Tensor): Tensor of separated sources (batch, sources, channels, length).\n",
    "        reference_stem (torch.Tensor): Reference stem tensor (channels, length).\n",
    "        stem_index (int): Index of the target stem in separated_sources.\n",
    "\n",
    "    Returns:\n",
    "        torch.Tensor: Tensor of the filtered target stem.\n",
    "    \"\"\"\n",
    "    # Compute the accompaniment by subtracting the target stem from the reference stem\n",
    "    accomp = (reference_stem - separated_sources[:, stem_index]).squeeze(0)\n",
    "\n",
    "    # Extract the target stem\n",
    "    separated_stem = separated_sources[:, stem_index].squeeze(0)\n",
    "\n",
    "    # Perform STFT for each channel of the target and accompaniment\n",
    "    target_spec_list = [librosa.stft(separated_stem[channel].cpu().numpy()).T for channel in range(separated_stem.shape[0])]\n",
    "    accomp_spec_list = [librosa.stft(accomp[channel].cpu().numpy()).T for channel in range(accomp.shape[0])]\n",
    "\n",
    "    # Compute magnitude and phase for the target and accompaniment\n",
    "    target_mag = np.stack([np.abs(spec) for spec in target_spec_list], axis=-1)\n",
    "    target_phase = np.stack([np.angle(spec) for spec in target_spec_list], axis=-1)\n",
    "    accomp_mag = np.stack([np.abs(spec) for spec in accomp_spec_list], axis=-1)\n",
    "\n",
    "    # Prepare inputs for Wiener filtering\n",
    "    mix_spec = librosa.stft(reference_stem.cpu().numpy()).T\n",
    "    sources = np.transpose(np.stack([target_mag, accomp_mag], axis=0), [1, 2, 3, 0])\n",
    "\n",
    "    # Apply Wiener filtering\n",
    "    specs = norbert.wiener(sources, mix_spec)\n",
    "\n",
    "    # Reconstruct the target spectrogram with the original phase\n",
    "    target_spec = np.abs(specs[:, :, :, 0]) * np.exp(1j * target_phase)\n",
    "\n",
    "    # Perform inverse STFT for each channel\n",
    "    pred_audio_list = [librosa.istft(target_spec[:, :, channel].T) for channel in range(target_spec.shape[2])]\n",
    "\n",
    "    # Combine channels to create the stereo output\n",
    "    pred_audio = np.stack(pred_audio_list, axis=-1).T\n",
    "\n",
    "    # Convert the result to a tensor and adjust dimensions to match separated_sources\n",
    "    pred_audio_tensor = torch.from_numpy(pred_audio).to(reference_stem.device).unsqueeze(0).unsqueeze(0)\n",
    "\n",
    "    # Ensure compatibility with separated_sources dimensions\n",
    "    if pred_audio_tensor.shape[2] != separated_sources.shape[2]:\n",
    "        pred_audio_tensor = pred_audio_tensor.repeat(1, separated_sources.shape[2], 1)\n",
    "\n",
    "    if pred_audio_tensor.shape[3] != separated_sources.shape[3]:\n",
    "        if pred_audio_tensor.shape[3] < separated_sources.shape[3]:\n",
    "            pred_audio_tensor = torch.nn.functional.pad(pred_audio_tensor, (0, separated_sources.shape[3] - pred_audio_tensor.shape[3]))\n",
    "        else:\n",
    "            pred_audio_tensor = pred_audio_tensor[:, :, :, :separated_sources.shape[3]]\n",
    "\n",
    "    return pred_audio_tensor\n"
   ]
  },
  {
   "cell_type": "code",
   "execution_count": null,
   "metadata": {},
   "outputs": [],
   "source": [
    "def progressive_inference(\n",
    "    model,\n",
    "    mix,\n",
    "    target_stem,\n",
    "    reference_stems,\n",
    "    initial_gains,\n",
    "    sample_rate,\n",
    "    mixture_update_mode=\"add sources\",\n",
    "    overlap=0.0, \n",
    "    device=None,\n",
    "    normalize=True,\n",
    "    wiener_filter=False,\n",
    "    steps=10,\n",
    "    schedule_type=\"linear\",\n",
    "    display_output=False\n",
    "):\n",
    "    \"\"\"\n",
    "    Perform progressive inference on the mixture using the specified model and schedule.\n",
    "    Args:\n",
    "        model: The separation model.\n",
    "        mix: The input mixture tensor (batch, channels, length).\n",
    "        target_stem: The target stem to be enhanced.\n",
    "        reference_stems: Dictionary of reference stems for evaluation.\n",
    "        initial_gains: Initial gains for each stem.\n",
    "        sample_rate: Sample rate of the audio.\n",
    "        mixture_update_mode: Mode for updating the mixture ('add sources', 'add to mixture' or 'oracle predictor').\n",
    "        overlap: Overlap between segments in seconds.\n",
    "        device: Device to run the model on (CPU or GPU).\n",
    "        normalize: Whether to normalize the input mixture.\n",
    "        wiener_filter: Whether to apply Wiener filtering to the target stem.\n",
    "        steps: Number of steps for progressive inference.\n",
    "        schedule_type: Type of schedule ('linear', 'exponential', or 'constant').\n",
    "        display_output: Whether to display the output audio tracks using IPython.display.\n",
    "    Returns:\n",
    "        separated_sources: The separated sources tensor (batch, sources, channels, length).\n",
    "        sdr_results: List of dictionaries containing SDR results for each step.\n",
    "    \"\"\"\n",
    "\n",
    "    sdr_results = []  # List to store SDR results for each step\n",
    "\n",
    "    target_index = model.sources.index(target_stem)\n",
    "\n",
    "    if device is None:\n",
    "        device = mix.device\n",
    "    else:\n",
    "        device = torch.device(device)\n",
    "\n",
    "    separated_sources = separate_sources(model, mix, sample_rate=sample_rate, overlap=overlap, device=device, normalize=normalize)\n",
    "\n",
    "    if wiener_filter:\n",
    "        print(\"Applying Wiener filtering...\")\n",
    "        separated_sources[:, target_index] = wiener_filtering(separated_sources, mix, target_index)\n",
    "\n",
    "    # Compute SDR for the initial step\n",
    "    initial_sdr_results = compute_sdrs(model, device, reference_stems, separated_sources)\n",
    "    sdr_results.append(initial_sdr_results)\n",
    "\n",
    "\n",
    "    # Progressive inference steps\n",
    "    for step in range(1 , steps + 1): # start from 1 to steps inclusive\n",
    "        # Update the mixture\n",
    "        if mixture_update_mode == \"oracle predictor\":\n",
    "            new_mix, beta = generate_new_mixture_with_original_stems(mix, device, reference_stems, target_stem, step, steps)\n",
    "        elif mixture_update_mode == \"add sources\":\n",
    "            new_mix, beta = add_up_all_sources(model, mix, target_stem, initial_gains, steps, schedule_type, separated_sources, step)\n",
    "        elif mixture_update_mode == \"add to mixture\":\n",
    "            new_mix, beta = add_target_to_mixture(mix, separated_sources, target_index, step, steps)\n",
    "        else:\n",
    "            raise ValueError(\"Invalid mixture update mode. Choose from 'add sources', 'add to mixture', or 'oracle predictor'.\")\n",
    "        \n",
    "        # Check for clipping and raise error if detected\n",
    "        max_amplitude = torch.max(torch.abs(new_mix))\n",
    "        if max_amplitude > 1.0:\n",
    "            print(f\"Audio clipping detected (max amplitude: {max_amplitude:.4f}). Normalizing to prevent distortion.\")\n",
    "            new_mix = new_mix / max_amplitude\n",
    "            \n",
    "        # Separate the new mixture\n",
    "        separated_sources = separate_sources(model, new_mix, sample_rate=sample_rate, overlap=overlap, device=device, normalize=normalize)\n",
    "\n",
    "        if wiener_filter:\n",
    "            print(\"Applying Wiener filtering...\")\n",
    "            separated_sources[:, target_index] = wiener_filtering(separated_sources, new_mix, target_index)\n",
    "\n",
    "        # Compute SDR for the current step\n",
    "        step_sdr_results = compute_sdrs(model, device, reference_stems, separated_sources)\n",
    "        sdr_results.append(step_sdr_results)\n",
    "\n",
    "        if display_output:\n",
    "            # display audio tracks in order to listen to the results using IPython.display\n",
    "            print(f\"Step {step}/{steps} - SDR Results:\")\n",
    "            for stem_name, sdr_value in step_sdr_results.items():\n",
    "                print(f\"{stem_name}: {sdr_value[0]:.2f} dB\")\n",
    "            print(f\"Beta: {beta:.2f}\")\n",
    "            print(\"Playing the track:\")\n",
    "            ipd.display(ipd.Audio(mix[0, :, :].cpu().numpy(), rate=sample_rate, normalize=False))\n",
    "            ipd.display(ipd.Audio(new_mix[0, :, :].cpu().numpy(), rate=sample_rate, normalize=False))\n",
    "            ipd.display(ipd.Audio(separated_sources[0, target_index].cpu().numpy(), rate=sample_rate, normalize=False))\n",
    "            ipd.display(ipd.Audio(reference_stems[target_stem], rate=sample_rate, normalize=False))\n",
    "\n",
    "\n",
    "    return separated_sources, sdr_results"
   ]
  },
  {
   "cell_type": "code",
   "execution_count": null,
   "metadata": {},
   "outputs": [],
   "source": [
    "def sdr_across_dataset(\n",
    "    dataset_dict,\n",
    "    model,\n",
    "    sample_rate,\n",
    "    device,\n",
    "    normalize = False,\n",
    "    overlap=0.0,\n",
    "    target_stem=\"vocals\",\n",
    "    steps=10,\n",
    "    mixture_update_mode=\"add sources\",\n",
    "    initial_gains=None,\n",
    "    schedule_type=\"linear\",\n",
    "    wiener_filter=False,\n",
    "    display_first_output=False,\n",
    "):\n",
    "    \"\"\"\n",
    "    Perform progressive inference across the dataset.\n",
    "    Args:\n",
    "        dataset_dict (dict): Dictionary containing the dataset.\n",
    "        model: The separation model.\n",
    "        sample_rate: Sample rate of the audio.\n",
    "        device: Device to run the model on (CPU or GPU).\n",
    "        normalize: Whether to normalize the input mixture.\n",
    "        overlap: Overlap between segments in seconds.\n",
    "        target_stem: The target stem to be enhanced.\n",
    "        steps: Number of steps for progressive inference.\n",
    "        mixture_update_mode: Mode for updating the mixture ('add sources' or 'add to mixture').\n",
    "        initial_gains: Initial gains for each stem.\n",
    "        schedule_type: Type of schedule ('linear', 'exponential', or 'constant').\n",
    "        k: Parameter for the smooth transition function.\n",
    "        wiener_filter: Whether to apply Wiener filtering to the target stem.\n",
    "    Returns:\n",
    "        average_sdr (dict): Dictionary containing the average SDR for each stem.\n",
    "    \"\"\"\n",
    "    if initial_gains is None:\n",
    "        initial_gains = {stem: 1 for stem in [\"bass\", \"drums\", \"vocals\", \"other\"]}\n",
    "\n",
    "    sdr_collection_list = [] # tensor to store SDR results for each track\n",
    "\n",
    "    for track_name, stems_dict in tqdm(dataset_dict.items()):\n",
    "\n",
    "        # Ensure the mixture exists in the stems\n",
    "        if \"new_mixture\" not in stems_dict:\n",
    "            print(f\"Skipping track {track_name} as it does not contain a new mixture.\")\n",
    "            continue\n",
    "\n",
    "        # Load the mixture and move it to the correct device\n",
    "        mixture = stems_dict[\"new_mixture\"].to(device).unsqueeze(0)  # Add batch dimension\n",
    "\n",
    "        # if is the first track display output = True\n",
    "        if display_first_output:\n",
    "            display_output = True if track_name == list(dataset_dict.keys())[0] else False\n",
    "        else:\n",
    "            display_output = False\n",
    "        \n",
    "        # Perform progressive inference\n",
    "        _ , sdr_results_single_track = progressive_inference(\n",
    "            model,\n",
    "            mixture,\n",
    "            target_stem,\n",
    "            reference_stems=stems_dict,\n",
    "            initial_gains=initial_gains,\n",
    "            sample_rate=sample_rate,\n",
    "            mixture_update_mode=mixture_update_mode,\n",
    "            overlap=overlap, \n",
    "            device=device,\n",
    "            normalize=normalize,\n",
    "            wiener_filter=wiener_filter,\n",
    "            steps=steps,\n",
    "            schedule_type=schedule_type,\n",
    "            display_output=display_output\n",
    "        )\n",
    "\n",
    "        # Convert sdr_results_single_track to a tensor\n",
    "        sdr_tensor = torch.tensor([list(sdr_results_single_track[step].values()) for step in range(steps)]).squeeze(-1)\n",
    "\n",
    "        # Append the SDR tensor to the collection\n",
    "        sdr_collection_list.append(sdr_tensor)\n",
    "    \n",
    "    # Evaluate the mean SDR for each stem\n",
    "    sdr_collection = torch.stack(sdr_collection_list)\n",
    "    sdr_collection_mean = torch.mean(sdr_collection, dim=0) \n",
    "    sdr_collection_std = torch.std(sdr_collection, dim=0)\n",
    "    sdr_collection_min_max = torch.min(sdr_collection, dim=0).values, torch.max(sdr_collection, dim=0).values\n",
    "    \n",
    "    return sdr_collection_mean , sdr_collection_std, sdr_collection_min_max\n"
   ]
  },
  {
   "cell_type": "code",
   "execution_count": null,
   "metadata": {},
   "outputs": [],
   "source": [
    "# Plot the SDR results with min and max values using dashed lines\n",
    "def plot_sdr_results(sdr_mean, sdr_min_max, name=None):\n",
    "    \"\"\"\n",
    "    Plot the SDR results for each stem with min/max values as dashed lines.\n",
    "\n",
    "    Args:\n",
    "        sdr_mean (torch.Tensor): Mean SDR values for each stem (shape: [steps, stems]).\n",
    "        sdr_min_max (tuple): Tuple of (min_values, max_values) tensors for each stem.\n",
    "        name (str): Name of the plot to be displayed or saved. If None, the plot will be displayed without saving.\n",
    "    Returns:\n",
    "        None\n",
    "    \"\"\"\n",
    "\n",
    "    # print average SDR results\n",
    "    print(\"Average SDR results per stem:\", sdr_mean)\n",
    "\n",
    "    # Convert average_sdr tensor to a dictionary with numpy values\n",
    "    average_sdr_dict = {\n",
    "        \"drums\": sdr_mean[:, 0].cpu().numpy(),\n",
    "        \"bass\": sdr_mean[:, 1].cpu().numpy(),\n",
    "        \"other\": sdr_mean[:, 2].cpu().numpy(),\n",
    "        \"vocals\": sdr_mean[:, 3].cpu().numpy()\n",
    "    }\n",
    "\n",
    "    # Convert min/max values\n",
    "    sdr_min_max_dict = {\n",
    "        \"drums\": (sdr_min_max[0][:, 0].cpu().numpy(), sdr_min_max[1][:, 0].cpu().numpy()),\n",
    "        \"bass\": (sdr_min_max[0][:, 1].cpu().numpy(), sdr_min_max[1][:, 1].cpu().numpy()),\n",
    "        \"other\": (sdr_min_max[0][:, 2].cpu().numpy(),sdr_min_max[1][:, 2].cpu().numpy()),\n",
    "        \"vocals\": (sdr_min_max[0][:, 3].cpu().numpy(),sdr_min_max[1][:, 3].cpu().numpy())\n",
    "    }\n",
    "\n",
    "    steps = np.arange(1, len(average_sdr_dict[\"bass\"]) + 1)\n",
    "\n",
    "    plt.figure(figsize=(12, 6))\n",
    "    colors = ['blue', 'orange', 'green', 'red']\n",
    "    \n",
    "    for stem, color in zip(average_sdr_dict.keys(), colors):\n",
    "        plt.plot(steps, average_sdr_dict[stem], label=f\"{stem.capitalize()} (mean)\", \n",
    "                color=color, linewidth=2)\n",
    "        \n",
    "        plt.fill_between(\n",
    "            steps,\n",
    "            sdr_min_max_dict[stem][0],\n",
    "            sdr_min_max_dict[stem][1],\n",
    "            color=color,\n",
    "            alpha=0.2\n",
    "        )\n",
    "\n",
    "    plt.xlabel('Steps')\n",
    "    plt.ylabel('Average SDR (dB)')\n",
    "    plt.legend()\n",
    "    plt.grid(alpha=0.3)\n",
    "    plt.tight_layout()\n",
    "    if name is None:\n",
    "        plt.title('Average SDR Results per Stem')\n",
    "    else:\n",
    "        plt.savefig(f\"{name}_sdr_results.eps\", format='eps', dpi=300, bbox_inches='tight')\n",
    "    plt.show()\n"
   ]
  },
  {
   "cell_type": "markdown",
   "metadata": {},
   "source": [
    "## Remixing with original stems (Oracle Predictor)"
   ]
  },
  {
   "cell_type": "code",
   "execution_count": null,
   "metadata": {},
   "outputs": [],
   "source": [
    "results = sdr_across_dataset(\n",
    "    dataset_dict,\n",
    "    model,\n",
    "    sample_rate,\n",
    "    device,\n",
    "    overlap=0.0,  # No overlap\n",
    "    target_stem=\"vocals\",\n",
    "    steps=10,\n",
    "    mixture_update_mode=\"oracle predictor\",  # Use oracle predictor for progressive inference\n",
    "    display_first_output=False,  # Display output for the first track only\n",
    ")"
   ]
  },
  {
   "cell_type": "code",
   "execution_count": null,
   "metadata": {},
   "outputs": [],
   "source": [
    "sdr_mean = results[0]\n",
    "sdr_min_max = results[2]\n",
    "\n",
    "plot_sdr_results(sdr_mean, sdr_min_max, name=\"sdr_results_oracle_predictor\")"
   ]
  },
  {
   "cell_type": "markdown",
   "metadata": {},
   "source": [
    "## Remixing with previous-step-extracted-stem"
   ]
  },
  {
   "cell_type": "code",
   "execution_count": null,
   "metadata": {},
   "outputs": [],
   "source": [
    "# use the function to evaluate SDR across all the dataset using progressive inference\n",
    "results_2 = sdr_across_dataset(\n",
    "    dataset_dict,\n",
    "    model,\n",
    "    sample_rate,\n",
    "    device,\n",
    "    overlap=0.0,\n",
    "    target_stem=\"vocals\",\n",
    "    steps=10,\n",
    "    mixture_update_mode=\"add sources\",\n",
    "    initial_gains={\"bass\": 1, \"drums\": 1, \"vocals\": 1, \"other\": 1},\n",
    "    schedule_type=\"linear\",\n",
    ")"
   ]
  },
  {
   "cell_type": "code",
   "execution_count": null,
   "metadata": {},
   "outputs": [],
   "source": [
    "sdr_mean = results_2[0]\n",
    "sdr_min_max = results_2[2]\n",
    "\n",
    "plot_sdr_results(sdr_mean, sdr_min_max)"
   ]
  },
  {
   "cell_type": "markdown",
   "metadata": {},
   "source": [
    "## Remixing adding the resulting target stem to the original mixture"
   ]
  },
  {
   "cell_type": "markdown",
   "metadata": {},
   "source": [
    "### Vocals"
   ]
  },
  {
   "cell_type": "code",
   "execution_count": null,
   "metadata": {},
   "outputs": [],
   "source": [
    "# use the function to evaluate SDR across all the dataset using progressive inference\n",
    "results_3 = sdr_across_dataset(\n",
    "    dataset_dict,\n",
    "    model,\n",
    "    sample_rate,\n",
    "    device,\n",
    "    overlap=0.0,\n",
    "    target_stem=\"vocals\",\n",
    "    steps = 10,\n",
    "    mixture_update_mode=\"add to mixture\",\n",
    "    # display_first_output=True,  # Display output for the first track only\n",
    ")"
   ]
  },
  {
   "cell_type": "code",
   "execution_count": null,
   "metadata": {},
   "outputs": [],
   "source": [
    "sdr_mean = results_3[0]\n",
    "sdr_min_max = results_3[2]\n",
    "\n",
    "plot_sdr_results(sdr_mean, sdr_min_max, name=\"sdr_results_add_sources\")"
   ]
  },
  {
   "cell_type": "markdown",
   "metadata": {},
   "source": [
    "### Drums"
   ]
  },
  {
   "cell_type": "code",
   "execution_count": null,
   "metadata": {},
   "outputs": [],
   "source": [
    "results_4 = sdr_across_dataset(\n",
    "    dataset_dict,\n",
    "    model,\n",
    "    sample_rate,\n",
    "    device,\n",
    "    overlap=0.0,\n",
    "    target_stem=\"drums\",\n",
    "    steps = 10,\n",
    "    mixture_update_mode=\"add to mixture\",\n",
    ")"
   ]
  },
  {
   "cell_type": "code",
   "execution_count": null,
   "metadata": {},
   "outputs": [],
   "source": [
    "sdr_mean = results_4[0]\n",
    "sdr_min_max = results_4[2]\n",
    "\n",
    "plot_sdr_results(sdr_mean, sdr_min_max)"
   ]
  },
  {
   "cell_type": "markdown",
   "metadata": {},
   "source": [
    "### Bass"
   ]
  },
  {
   "cell_type": "code",
   "execution_count": null,
   "metadata": {},
   "outputs": [],
   "source": [
    "results_5 = sdr_across_dataset(\n",
    "    dataset_dict,\n",
    "    model,\n",
    "    sample_rate,\n",
    "    device,\n",
    "    overlap=0.0,\n",
    "    target_stem=\"bass\",\n",
    "    steps = 10,\n",
    "    mixture_update_mode=\"add to mixture\",\n",
    ")"
   ]
  },
  {
   "cell_type": "code",
   "execution_count": null,
   "metadata": {},
   "outputs": [],
   "source": [
    "sdr_mean = results_5[0]\n",
    "sdr_min_max = results_5[2]\n",
    "\n",
    "plot_sdr_results(sdr_mean, sdr_min_max)"
   ]
  },
  {
   "cell_type": "markdown",
   "metadata": {},
   "source": [
    "### Other"
   ]
  },
  {
   "cell_type": "code",
   "execution_count": null,
   "metadata": {},
   "outputs": [],
   "source": [
    "results_6 = sdr_across_dataset(\n",
    "    dataset_dict,\n",
    "    model,\n",
    "    sample_rate,\n",
    "    device,\n",
    "    overlap=0.0,\n",
    "    target_stem=\"other\",\n",
    "    steps = 10,\n",
    "    mixture_update_mode=\"add to mixture\",\n",
    ")"
   ]
  },
  {
   "cell_type": "code",
   "execution_count": null,
   "metadata": {},
   "outputs": [],
   "source": [
    "sdr_mean = results_6[0]\n",
    "sdr_min_max = results_6[2]\n",
    "\n",
    "plot_sdr_results(sdr_mean, sdr_min_max)"
   ]
  },
  {
   "cell_type": "markdown",
   "metadata": {},
   "source": [
    "## Data Driven Approach\n",
    "##### Finds the optimal betas for the iterative shedule\n",
    "\n",
    "<b> `save_stems_to_disk` </b>\n",
    "This function saves separated audio stems to disk. It creates the specified directory (`save_dir`) if it does not exist, iterates through the `stems_dict` dictionary containing stem names and their corresponding waveforms, and saves each waveform as a `.wav` file using `torchaudio.save`.\n",
    "\n",
    "\n",
    "<b> `load_stems_from_disk` </b>\n",
    "This function loads separated audio stems from disk. It iterates through a predefined list of stem names (`drums`, `bass`, `other`, `vocals`) and attempts to load each stem's waveform from the specified `track_path`. If a file exists, it loads the waveform using `torchaudio.load` and moves it to the specified `device`. Missing files are logged as warnings.\n",
    "\n",
    "\n",
    "<b> `optimal_beta_schedule` </b>\n",
    "This function performs progressive inference to optimize the beta parameter for enhancing the separation of a target stem (`target_stem`). The procedure is as follows:\n",
    "1. **Initialization**: Generate a range of beta values (`beta_values`) and create directories for saving output tracks if `save_to_disk` is enabled.\n",
    "2. **Step 0**: Perform source separation on the original mixture (`new_mixture`) for all tracks in `dataset_dict`. Compute SDR values for each stem and save the separated stems to disk if required.\n",
    "3. **Steps 1 to N**:\n",
    "    - For each step, iterate through the beta values to find the optimal beta that maximizes the SDR for the target stem.\n",
    "    - For each beta, create a new mixture by blending the original mixture and the target stem using the beta value. Perform source separation on the new mixture and compute SDR values for the target stem.\n",
    "    - Track the best beta and corresponding separated sources for each track.\n",
    "    - Save the separated stems to disk and compute average SDR values for all stems.\n",
    "4. **Early Stopping**: Stop the process if the SDR for the target stem does not improve compared to the previous step.\n",
    "5. **Return Results**: Return the optimal beta values and stepwise SDR values.\n"
   ]
  },
  {
   "cell_type": "code",
   "execution_count": null,
   "metadata": {},
   "outputs": [],
   "source": [
    "def save_stems_to_disk(stems_dict, save_dir, sample_rate):\n",
    "    \"\"\"Save separated tracks to disk.\"\"\"\n",
    "    os.makedirs(save_dir, exist_ok=True)\n",
    "    for stem_name, waveform in stems_dict.items():\n",
    "        file_path = os.path.join(save_dir, f\"{stem_name}.wav\")\n",
    "        torchaudio.save(file_path, waveform.cpu(), sample_rate=sample_rate)\n",
    "\n",
    "def load_stems_from_disk(track_path, device):\n",
    "    \"\"\"Load separated tracks from disk.\"\"\"\n",
    "    stems_dict = {}\n",
    "    for stem_name in [\"drums\", \"bass\", \"other\", \"vocals\"]:\n",
    "        file_path = os.path.join(track_path, f\"{stem_name}.wav\")\n",
    "        if os.path.isfile(file_path):\n",
    "            waveform, _ = torchaudio.load(file_path)\n",
    "            stems_dict[stem_name] = waveform.to(device)\n",
    "        else:\n",
    "            print(f\"Warning: file not found {file_path}\")\n",
    "    return stems_dict\n",
    "\n",
    "def optimal_beta_schedule(\n",
    "        model,\n",
    "        dataset_dict,\n",
    "        sample_rate,\n",
    "        overlap,\n",
    "        device,\n",
    "        steps,\n",
    "        target_stem=\"vocals\",\n",
    "        precision=None,\n",
    "        normalize=True,\n",
    "        wiener_filter=False,\n",
    "        save_to_disk=True):\n",
    "\n",
    "    beta_values = np.linspace(0, 1, precision)[1:]\n",
    "    save_dir = \"output_tracks\"\n",
    "    if save_to_disk:\n",
    "        os.makedirs(save_dir, exist_ok=True)\n",
    "\n",
    "    optimal_betas = np.zeros(steps)\n",
    "    stepwise_sdrs = [torch.zeros(4) for _ in range(steps + 1)]\n",
    "\n",
    "    # Step 0\n",
    "    print(\"Step 0\")\n",
    "    sdr_collection = []\n",
    "    for track_name, stems_dict in tqdm(dataset_dict.items()):\n",
    "        if \"new_mixture\" not in stems_dict:\n",
    "            print(f\"Skipping track {track_name} as it does not contain a new mixture.\")\n",
    "            continue\n",
    "\n",
    "        mixture = stems_dict[\"new_mixture\"].to(device).unsqueeze(0)\n",
    "        separated_sources = separate_sources(model, mixture, sample_rate, overlap, device, normalize)\n",
    "        sdr_results = compute_sdrs(model, device, stems_dict, separated_sources)\n",
    "\n",
    "        stems_dict_out = {stem_name: separated_sources[0, i].cpu() for i, stem_name in enumerate(model.sources)}\n",
    "        if save_to_disk:\n",
    "            track_save_path = os.path.join(save_dir, \"step_0\", track_name)\n",
    "            save_stems_to_disk(stems_dict_out, track_save_path, sample_rate)\n",
    "\n",
    "        sdr_step0_tensor = torch.tensor([sdr_results[stem][0] for stem in model.sources])\n",
    "        sdr_collection.append(sdr_step0_tensor)\n",
    "\n",
    "    stepwise_sdrs[0] = torch.mean(torch.stack(sdr_collection), dim=0)\n",
    "    print(f\"Step 0 SDR mean value for {target_stem}: {stepwise_sdrs[0]}\")\n",
    "\n",
    "    # Steps 1 to N\n",
    "    for number_of_step in range(1, steps + 1):\n",
    "        print(f\"------------Step {number_of_step}------------\")\n",
    "        best_sdr_value = -np.inf\n",
    "        best_beta = None\n",
    "        best_estimates_all = {}\n",
    "        target_index = model.sources.index(target_stem)\n",
    "\n",
    "        for beta in beta_values:\n",
    "            sdr_values_list = []\n",
    "            current_estimates_all = {}\n",
    "\n",
    "            for track_name, stems_dict in tqdm(dataset_dict.items()):\n",
    "                if \"new_mixture\" not in stems_dict:\n",
    "                    print(f\"Skipping track {track_name} as it does not contain a new mixture.\")\n",
    "                    continue\n",
    "\n",
    "                if save_to_disk:\n",
    "                    track_path = os.path.join(save_dir, f\"step_{number_of_step - 1}\", track_name)\n",
    "                    prev_stems_dict = load_stems_from_disk(track_path, device)\n",
    "                    target_track = prev_stems_dict[target_stem].to(device)\n",
    "                else:\n",
    "                    target_track = stems_dict[target_stem].to(device)\n",
    "\n",
    "                mixture = stems_dict[\"new_mixture\"].to(device).unsqueeze(0)\n",
    "                new_mix = mixture * (1 - beta) + target_track * beta\n",
    "                new_mix = new_mix / new_mix.abs().max()\n",
    "\n",
    "                separated_sources = separate_sources(model, new_mix, sample_rate, overlap, device, normalize)\n",
    "                if wiener_filter:\n",
    "                    separated_sources[:, target_index] = wiener_filtering(separated_sources, new_mix, target_index)\n",
    "\n",
    "                predicted_stem = separated_sources[0, target_index].to(device)\n",
    "                original_stem = stems_dict[target_stem].to(device)\n",
    "                sdr_value_target_stem = evaluate_sdr(original_stem, predicted_stem, device=device)\n",
    "                sdr_values_list.append(sdr_value_target_stem)\n",
    "\n",
    "                current_estimates_all[track_name] = separated_sources\n",
    "\n",
    "            mean_sdr = torch.mean(torch.tensor(sdr_values_list))\n",
    "\n",
    "            if mean_sdr > best_sdr_value:\n",
    "                best_sdr_value = mean_sdr\n",
    "                best_beta = beta\n",
    "                best_estimates_all = current_estimates_all\n",
    "\n",
    "        print(f\"New best SDR value found at {number_of_step} with beta = {best_beta} is {best_sdr_value}\")\n",
    "        optimal_betas[number_of_step - 1] = best_beta\n",
    "\n",
    "        # Final calculation of averages using best_estimates_all\n",
    "        sdr_collection = []\n",
    "        for track_name, stems_dict in dataset_dict.items():\n",
    "            if \"new_mixture\" not in stems_dict or track_name not in best_estimates_all:\n",
    "                continue\n",
    "\n",
    "            separated_sources = best_estimates_all[track_name]\n",
    "            sdr_results = compute_sdrs(model, stems_dict, separated_sources, device)\n",
    "\n",
    "            if save_to_disk:\n",
    "                stems_dict_out = {stem_name: separated_sources[0, i].cpu() for i, stem_name in enumerate(model.sources)}\n",
    "                track_save_path = os.path.join(save_dir, f\"step_{number_of_step}\", track_name)\n",
    "                save_stems_to_disk(stems_dict_out, track_save_path, sample_rate)\n",
    "\n",
    "            sdr_collection.append(torch.tensor([sdr_results[stem][0] for stem in model.sources]))\n",
    "\n",
    "        if len(sdr_collection) > 0:\n",
    "            stepwise_sdrs[number_of_step] = torch.mean(torch.stack(sdr_collection), dim=0)\n",
    "            print(f\"Step {number_of_step} SDR mean values: {stepwise_sdrs[number_of_step]}\")\n",
    "\n",
    "        # Early stopping\n",
    "        if stepwise_sdrs[number_of_step][target_index] <= stepwise_sdrs[number_of_step - 1][target_index]:\n",
    "            print(f\"Stopping early at step {number_of_step} as SDR did not improve.\")\n",
    "            return optimal_betas, stepwise_sdrs\n",
    "\n",
    "    return optimal_betas, stepwise_sdrs"
   ]
  },
  {
   "cell_type": "code",
   "execution_count": null,
   "metadata": {},
   "outputs": [],
   "source": [
    "steps = 10 # number of iterations\n",
    "precision = 11 # precision of the beta values: in how many beta values we want to divide the range\n",
    "\n",
    "optimal_betas, stepwise_sdrs = optimal_beta_schedule(\n",
    "        model = model,\n",
    "        dataset_dict = dataset_dict,\n",
    "        target_stem = \"vocals\",\n",
    "        sample_rate = sample_rate,\n",
    "        overlap = 0.0,\n",
    "        device = device,\n",
    "        steps = steps,\n",
    "        precision=precision\n",
    "        )"
   ]
  },
  {
   "cell_type": "code",
   "execution_count": null,
   "metadata": {},
   "outputs": [],
   "source": [
    "def plot_stepwise_sdrs(stepwise_sdrs, stems):\n",
    "    \"\"\"\n",
    "    Plot the SDR values for each stem across steps.\n",
    "\n",
    "    Args:\n",
    "        stepwise_sdrs (list): List of tensors containing SDR values for each step.\n",
    "        stems (list): List of stem names.\n",
    "    \"\"\"\n",
    "    steps = np.arange(len(stepwise_sdrs))\n",
    "    sdr_values = torch.stack(stepwise_sdrs).cpu().numpy()\n",
    "\n",
    "    plt.figure(figsize=(10, 5))\n",
    "    for i, stem in enumerate(stems):\n",
    "        plt.plot(steps, sdr_values[:, i], label=stem)\n",
    "\n",
    "    plt.xlabel('Steps')\n",
    "    plt.ylabel('SDR (dB)')\n",
    "    plt.title('Stepwise SDR Values for Each Stem')\n",
    "    plt.legend()\n",
    "    plt.grid()\n",
    "    plt.show()\n",
    "\n",
    "# Define the stems based on the model sources\n",
    "stems = model.sources\n",
    "\n",
    "# Plot the stepwise SDR values\n",
    "plot_stepwise_sdrs(stepwise_sdrs, stems)"
   ]
  }
 ],
 "metadata": {
  "kernelspec": {
   "display_name": "MAECap",
   "language": "python",
   "name": "python3"
  },
  "language_info": {
   "codemirror_mode": {
    "name": "ipython",
    "version": 3
   },
   "file_extension": ".py",
   "mimetype": "text/x-python",
   "name": "python",
   "nbconvert_exporter": "python",
   "pygments_lexer": "ipython3",
   "version": "3.11.8"
  }
 },
 "nbformat": 4,
 "nbformat_minor": 2
}
